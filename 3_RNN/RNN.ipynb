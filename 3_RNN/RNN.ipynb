{
  "cells": [
    {
      "cell_type": "markdown",
      "metadata": {
        "id": "3oRzGvwrt9sq"
      },
      "source": [
        "# `Практикум по программированию на языке Python`\n",
        "\n",
        "## `Задание 03. Рекуррентные Нейронные Сети. Dropout. LM`\n",
        "\n",
        "#### Фамилия, имя: Булкин Антон\n",
        "\n",
        "Дата выдачи: <span style=\"color:red\">__18 марта 23:59__</span>.\n",
        "\n",
        "Мягкий дедлайн: <span style=\"color:red\">__31 марта 05:00__</span>.\n",
        "\n",
        "Стоимость: __10 баллов__ (основная часть заданий) + __7 баллов__ (дополнительные задания).\n",
        "\n",
        "<span style=\"color:red\">__В ноутбуке все клетки должны выполняться без ошибок при последовательном их выполнении.__</span>\n",
        "\n",
        "#### `Москва, 2025`"
      ]
    },
    {
      "cell_type": "markdown",
      "metadata": {
        "id": "LLVWUiXAt9st"
      },
      "source": [
        "Данное задание будет состоять из двух частей:\n",
        "1. Применение рекуррентной сети для решения задачи классификации текста. Более конкретно -- предсказания рейтинга отзыва фильма.\n",
        "2. Простейшая лингвистическая модель для генерации текста на основе LSTM."
      ]
    },
    {
      "cell_type": "markdown",
      "metadata": {
        "id": "CTZ5Rn8it9su"
      },
      "source": [
        "При выполнении задания вы обучите LSTM с разным уровнем \"коробочности\", а также познакомитесь с различными способами применения DropOut к рекуррентным архитектурам. В рекуррентных архитектурах вариантов, куда можно наложить бинарную маску шума, гораздо больше, чем в нейросетях прямого прохода.\n",
        "\n",
        "Во второй части вы попробуете реализовать простейший рекуррентный декодер для генерации текстов.\n",
        "\n",
        "Задание сделано так, чтобы его можно было выполнять на CPU, однако RNN - это ресурсоёмкая вещь, поэтому на GPU с ними работать приятнее. Можете попробовать использовать [https://colab.research.google.com](https://colab.research.google.com) - бесплатное облако с GPU."
      ]
    },
    {
      "cell_type": "markdown",
      "metadata": {
        "id": "U7zK6d78t9su"
      },
      "source": [
        "**Для корректного отображения картинок, вам может понадобится сделать ноутбук доверенным (Trusted) в правом верхнем углу**"
      ]
    },
    {
      "cell_type": "markdown",
      "metadata": {
        "id": "cnAFqNIqt9su"
      },
      "source": [
        "# `Часть 0. Загрузка и предобработка данных (1 балл)`"
      ]
    },
    {
      "cell_type": "markdown",
      "metadata": {
        "id": "oSIUM1GUt9sv"
      },
      "source": [
        "## `Рекомендуемые гиперпараметры`"
      ]
    },
    {
      "cell_type": "code",
      "execution_count": 1,
      "metadata": {
        "ExecuteTime": {
          "end_time": "2024-03-30T21:23:57.654183Z",
          "start_time": "2024-03-30T21:23:57.649242Z"
        },
        "id": "bDjqLiO8t9sv"
      },
      "outputs": [],
      "source": [
        "max_length = 200\n",
        "top_n_words = 5000\n",
        "\n",
        "hidden_dim = 128\n",
        "embedding_dim = 32\n",
        "\n",
        "num_epochs = 15\n",
        "batch_size = 64\n",
        "learning_rate = 1e-3"
      ]
    },
    {
      "cell_type": "markdown",
      "metadata": {
        "id": "QCst3pyot9sw"
      },
      "source": [
        "Первое, что нужно сделать — скачать, предобработать данные и организовать их таким образом, чтобы их можно было подавать в нейронную сеть.\n",
        "\n",
        "Для обеих частей задания мы будем использовать [**Large Movie Review Dataset**](https://ai.stanford.edu/~amaas/data/sentiment/)."
      ]
    },
    {
      "cell_type": "markdown",
      "metadata": {
        "id": "g4zkuAyPt9sw"
      },
      "source": [
        "## `Загрузка и предобработка данных`"
      ]
    },
    {
      "cell_type": "code",
      "execution_count": 2,
      "metadata": {
        "id": "1bn6Tz2Ct9sw"
      },
      "outputs": [],
      "source": [
        "import os"
      ]
    },
    {
      "cell_type": "markdown",
      "metadata": {
        "id": "0LE0xA-pt9sx"
      },
      "source": [
        "Загрузите данные по ссылке выше. (**tip**: используйте `wget`)"
      ]
    },
    {
      "cell_type": "code",
      "execution_count": 3,
      "metadata": {
        "ExecuteTime": {
          "end_time": "2024-03-30T21:24:30.812994Z",
          "start_time": "2024-03-30T21:23:57.655622Z"
        },
        "id": "SpWHpYNot9sx",
        "colab": {
          "base_uri": "https://localhost:8080/"
        },
        "outputId": "bc37f05b-2a32-4fa3-bd0e-8f9479b1536a"
      },
      "outputs": [
        {
          "output_type": "stream",
          "name": "stdout",
          "text": [
            "--2025-04-06 23:29:22--  http://ai.stanford.edu/~amaas/data/sentiment/aclImdb_v1.tar.gz\n",
            "Resolving ai.stanford.edu (ai.stanford.edu)... 171.64.68.10\n",
            "Connecting to ai.stanford.edu (ai.stanford.edu)|171.64.68.10|:80... connected.\n",
            "HTTP request sent, awaiting response... 200 OK\n",
            "Length: 84125825 (80M) [application/x-gzip]\n",
            "Saving to: ‘aclImdb_v1.tar.gz’\n",
            "\n",
            "aclImdb_v1.tar.gz   100%[===================>]  80.23M  37.7MB/s    in 2.1s    \n",
            "\n",
            "2025-04-06 23:29:24 (37.7 MB/s) - ‘aclImdb_v1.tar.gz’ saved [84125825/84125825]\n",
            "\n"
          ]
        }
      ],
      "source": [
        "if not os.path.exists('./aclImdb_v1.tar.gz'):\n",
        "    !wget http://ai.stanford.edu/~amaas/data/sentiment/aclImdb_v1.tar.gz"
      ]
    },
    {
      "cell_type": "markdown",
      "metadata": {
        "id": "0N-bl3wOt9sx"
      },
      "source": [
        "Распакуйте скачанные данные в папку `aclImdb` (**tip:** используйте `tar`)"
      ]
    },
    {
      "cell_type": "code",
      "execution_count": 4,
      "metadata": {
        "ExecuteTime": {
          "end_time": "2024-03-30T21:24:34.122786Z",
          "start_time": "2024-03-30T21:24:30.814849Z"
        },
        "id": "01JmPFv_t9sy"
      },
      "outputs": [],
      "source": [
        "if not os.path.exists('aclImdb'):\n",
        "    !tar -xzf aclImdb_v1.tar.gz"
      ]
    },
    {
      "cell_type": "markdown",
      "metadata": {
        "id": "sG6yk_FEt9sy"
      },
      "source": [
        "Посмотрите в файле `./aclImdb/README` как организованы данные:"
      ]
    },
    {
      "cell_type": "code",
      "execution_count": 5,
      "metadata": {
        "ExecuteTime": {
          "end_time": "2024-03-30T21:24:34.232726Z",
          "start_time": "2024-03-30T21:24:34.124249Z"
        },
        "colab": {
          "base_uri": "https://localhost:8080/"
        },
        "id": "4WpAk2Fct9sy",
        "outputId": "bf5246d9-9cb9-46d7-eec2-3ff6230e08e9"
      },
      "outputs": [
        {
          "output_type": "stream",
          "name": "stdout",
          "text": [
            "This is not the typical Mel Brooks film. It was much less slapstick than most of his movies and actually had a plot that was followable. Leslie Ann Warren made the movie, she is such a fantastic, under-rated actress. There were some moments that could have been fleshed out a bit more, and some scenes that could probably have been cut to make the room to do so, but all in all, this is worth the price to rent and see it. The acting was good overall, Brooks himself did a good job without his characteristic speaking to directly to the audience. Again, Warren was the best actor in the movie, but \"Fume\" and \"Sailor\" both played their parts well."
          ]
        }
      ],
      "source": [
        "! cat ./aclImdb/train/pos/10003_8.txt"
      ]
    },
    {
      "cell_type": "code",
      "execution_count": 6,
      "metadata": {
        "ExecuteTime": {
          "end_time": "2024-03-30T21:24:34.236779Z",
          "start_time": "2024-03-30T21:24:34.234575Z"
        },
        "id": "5V7NWZNXt9sz"
      },
      "outputs": [],
      "source": [
        "test_data_path = './aclImdb/test/'\n",
        "train_data_path = './aclImdb/train/'"
      ]
    },
    {
      "cell_type": "code",
      "execution_count": 7,
      "metadata": {
        "ExecuteTime": {
          "end_time": "2024-03-30T21:24:35.529898Z",
          "start_time": "2024-03-30T21:24:34.238134Z"
        },
        "colab": {
          "base_uri": "https://localhost:8080/"
        },
        "id": "-wXkPmvft9sz",
        "outputId": "6dce0112-c914-4316-9725-a5e1b47e1d17"
      },
      "outputs": [
        {
          "output_type": "stream",
          "name": "stderr",
          "text": [
            "[nltk_data] Downloading package stopwords to /root/nltk_data...\n",
            "[nltk_data]   Unzipping corpora/stopwords.zip.\n"
          ]
        }
      ],
      "source": [
        "import random\n",
        "from tqdm import tqdm\n",
        "from functools import partial\n",
        "from collections import defaultdict\n",
        "from typing import Optional, Tuple, Union, List\n",
        "\n",
        "from IPython.display import Markdown, display\n",
        "\n",
        "\n",
        "import nltk\n",
        "nltk.download('stopwords')\n",
        "\n",
        "import regex\n",
        "import numpy as np\n",
        "\n",
        "import torch\n",
        "from torch.utils.data import Dataset, DataLoader\n",
        "\n",
        "import tokenizers\n",
        "from tokenizers import Tokenizer, trainers, pre_tokenizers\n",
        "\n",
        "torch.backends.cudnn.benchmark = True\n",
        "torch.use_deterministic_algorithms(False)\n",
        "\n",
        "torch.autograd.profiler.profile(False)\n",
        "torch.autograd.profiler.emit_nvtx(False)\n",
        "torch.autograd.set_detect_anomaly(False)\n",
        "\n",
        "torch.set_float32_matmul_precision('high')\n",
        "torch.backends.cuda.matmul.allow_tf32 = True\n",
        "\n",
        "os.environ[\"TOKENIZERS_PARALLELISM\"] = \"false\"\n",
        "\n",
        "import warnings\n",
        "warnings.filterwarnings(\n",
        "    \"ignore\",\n",
        "    message=\"This DataLoader will create\",\n",
        "    category=UserWarning,\n",
        "    module=\"torch.utils.data.dataloader\"\n",
        ")\n"
      ]
    },
    {
      "cell_type": "code",
      "execution_count": 8,
      "metadata": {
        "id": "iavPbKKPt9s0"
      },
      "outputs": [],
      "source": [
        "def set_global_seed(seed: int) -> None:\n",
        "    \"\"\"Set global seed for reproducibility.\n",
        "    :param int seed: Seed to be set\n",
        "    \"\"\"\n",
        "    random.seed(seed)\n",
        "    np.random.seed(seed)\n",
        "\n",
        "    torch.manual_seed(seed)\n",
        "    torch.cuda.manual_seed(seed)\n",
        "    torch.cuda.manual_seed_all(seed)\n",
        "\n",
        "def check_numel(module: torch.nn.Module, params_numel: int, buffers_numel: Optional[int] = None) -> None:\n",
        "    \"\"\"Check whether module has correct number of parameters and buffers\n",
        "    :param torch.nn.Module module: Target model\n",
        "    :param int params_numel: Target number of parameters\n",
        "    :param Optional[int] buffers_numel: Target number of buffers\n",
        "    :rtype:\n",
        "    \"\"\"\n",
        "    numel = sum(param.numel() for param in module.parameters())\n",
        "    assert numel == params_numel, f'For params numel != correct numel: {numel} vs {params_numel}'\n",
        "\n",
        "    if buffers_numel is not None:\n",
        "        numel = sum(param.numel() for param in module.buffers())\n",
        "        assert numel == buffers_numel, f'For buffers numel != correct numel: {numel} vs {buffers_numel}'\n"
      ]
    },
    {
      "cell_type": "code",
      "execution_count": 9,
      "metadata": {
        "id": "lZL10PNst9s0"
      },
      "outputs": [],
      "source": [
        "set_global_seed(42)"
      ]
    },
    {
      "cell_type": "markdown",
      "metadata": {
        "id": "Ic7054iXt9s0"
      },
      "source": [
        "Стандартной предобработкой данных является токенизация текстов. Полученные токены можно будет закодировать и затем подавать на вход нейронной сети. Ключевым моментом, который влияет на скорость работы нейросети и её размер в памяти — размер словаря, используемого при токенизации. Для задачи классификации мы можем убрать часть слов (стоп слова, редкие слова), ускорив обучение без потери в качестве."
      ]
    },
    {
      "cell_type": "code",
      "execution_count": 10,
      "metadata": {
        "ExecuteTime": {
          "end_time": "2024-03-30T21:24:35.534374Z",
          "start_time": "2024-03-30T21:24:35.531641Z"
        },
        "id": "f6Whf9ayt9s0"
      },
      "outputs": [],
      "source": [
        "STOPWORDS = nltk.corpus.stopwords.words('english')"
      ]
    },
    {
      "cell_type": "markdown",
      "metadata": {
        "id": "YLJram3ot9s1"
      },
      "source": [
        "Реализуйте функцию для токенизации текста. Выполнять токенизацию можно по-разному, но в данном задании предлагается это делать следующим образом:\n",
        "1. Привести текст к нижнему регистру\n",
        "2. Убрать html разметку из текстов (`<br />`, ...)\n",
        "3. Убрать все символы кроме латинских букв\n",
        "4. Разбить строку по пробелам\n",
        "5. Убрать стоп слова"
      ]
    },
    {
      "cell_type": "code",
      "execution_count": 11,
      "metadata": {
        "ExecuteTime": {
          "end_time": "2024-03-30T21:24:35.544159Z",
          "start_time": "2024-03-30T21:24:35.535637Z"
        },
        "id": "6neznhbSt9s1"
      },
      "outputs": [],
      "source": [
        "def tokenize(text):\n",
        "    \"\"\"\n",
        "    :param str text: Input text\n",
        "    :return List[str]: List of words\n",
        "    \"\"\"\n",
        "    # YOUR CODE HERE\n",
        "    text = text.lower()\n",
        "    text = regex.sub(r'<[^>]+>', ' ', text)\n",
        "    text = regex.sub(r'[^a-z\\s]', ' ', text)\n",
        "    tokens = text.split()\n",
        "    tokens = [token for token in tokens if token not in STOPWORDS]\n",
        "    return tokens"
      ]
    },
    {
      "cell_type": "code",
      "execution_count": 12,
      "metadata": {
        "ExecuteTime": {
          "end_time": "2024-03-30T21:24:35.555455Z",
          "start_time": "2024-03-30T21:24:35.545516Z"
        },
        "colab": {
          "base_uri": "https://localhost:8080/"
        },
        "id": "31Vk7_ADt9s1",
        "outputId": "4ac19a9f-d3b9-41dd-c5c7-de6953112412"
      },
      "outputs": [
        {
          "output_type": "execute_result",
          "data": {
            "text/plain": [
              "['hello', 'words', 'program']"
            ]
          },
          "metadata": {},
          "execution_count": 12
        }
      ],
      "source": [
        "tokenize('1. Hello <br />  words!!   I am program!  <br />')"
      ]
    },
    {
      "cell_type": "markdown",
      "metadata": {
        "id": "KTCtxKMHt9s2"
      },
      "source": [
        "Теперь мы можем создать словарь, с помощью которого мы будем кодировать токены из текста в числа и наоборот. Для этого мы воспользуемся библиотекой [tokenizers](https://huggingface.co/docs/tokenizers/index)\n",
        "\n",
        "Токенезация происходит через класс `tokenizer`. Для того чтобы получить `tokenizer` его надо сначала **обучить**, для этого нам необходимо использовать `tokenizers.trainers`. Так как мы будем работать на уровне слов, то выберем `tokenizers.trainers.WordLevelTrainer`.\n",
        "\n",
        "Для работы с текстами нам необходимо зарезервировать два специальных токена:\n",
        "1. `<pad>` для токена означающего паддинг\n",
        "2. `<unk>` для токенов, которые отсутствуют в словаре\n",
        "3. `<sos>` для токенов, которые обозначают начало последовательности (потребуется во второй части задания)\n",
        "4. `<eos>` для токенов, которые обозначают конец последовательности (потребуется во второй части задания)"
      ]
    },
    {
      "cell_type": "markdown",
      "metadata": {
        "id": "sZcPCSmht9s2"
      },
      "source": [
        "Для начала мы будем разбивать предложение по словам, для этого воспользуемся `trainers.WordLevelTrainer`. Будем рассматривать словарь размером `top_n_words` слов. Подробнее про различных `trainers` можно почитать в [документации](https://huggingface.co/docs/tokenizers/api/trainers), например, из коробки можно использовать BPE."
      ]
    },
    {
      "cell_type": "markdown",
      "metadata": {
        "id": "-XbzkFzot9s2"
      },
      "source": [
        "```python\n",
        "trainers.WordLevelTrainer(self, /, *args, **kwargs)\n",
        "Docstring:     \n",
        "Trainer capable of training a WorldLevel model\n",
        "\n",
        "Args:\n",
        "    vocab_size (:obj:`int`, `optional`):\n",
        "        The size of the final vocabulary, including all tokens and alphabet.\n",
        "\n",
        "    min_frequency (:obj:`int`, `optional`):\n",
        "        The minimum frequency a pair should have in order to be merged.\n",
        "\n",
        "    show_progress (:obj:`bool`, `optional`):\n",
        "        Whether to show progress bars while training.\n",
        "\n",
        "    special_tokens (:obj:`List[Union[str, AddedToken]]`):\n",
        "        A list of special tokens the model should know of.\n",
        "```"
      ]
    },
    {
      "cell_type": "markdown",
      "metadata": {
        "id": "QR9EnpWBt9s3"
      },
      "source": [
        "Не забудьте добавить специальные токены. В первой части это токены, отвечающие за паддинг и слова, которых нет в словаре."
      ]
    },
    {
      "cell_type": "code",
      "execution_count": 13,
      "metadata": {
        "id": "6gMoJUeUt9s3"
      },
      "outputs": [],
      "source": [
        "trainer = trainers.WordLevelTrainer(\n",
        "    vocab_size=top_n_words,\n",
        "    special_tokens=[\"<pad>\", \"<unk>\"]\n",
        ")\n",
        "\n",
        "tokenizer = tokenizers.Tokenizer(\n",
        "    model = tokenizers.models.WordLevel(unk_token=\"<unk>\")\n",
        ")"
      ]
    },
    {
      "cell_type": "markdown",
      "metadata": {
        "id": "kaZX96yct9s3"
      },
      "source": [
        "Обучить `tokenizers.Tokenizer` можно **двумя способами**:\n",
        "\n",
        "- [указать список файлов и обучиться на них](https://huggingface.co/docs/tokenizers/pipeline), бывает полезно, когда датасет нельзя поместить в оперативную память;\n",
        "\n",
        "- [обучиться из памяти](https://huggingface.co/docs/tokenizers/training_from_memory), то есть хранить датасет в оперативной памяти, бывает полезно при маленьких датасетах как наш.\n",
        "\n",
        "\n",
        "Чтобы обучиться из файлов нам необходимо задать `tokenizers.normalizers.Normalizer` для нормализации строк (удаление лишних слов и символов), после чего необходимо задать `tokenizers.pre_tokenizers.PreTokenizer` для разделение строки на слова. Подробнее можно посмотреть [в этом примере](https://github.com/huggingface/tokenizers/blob/4383a25787cf366f5e8eaf12643b64f0ba548dc2/bindings/python/examples/custom_components.py). Такая сложность обусловленна тем, что `tokenizers` крайне много использует особенности ООП (объектно-ориентированного программирования).\n",
        "\n",
        "Мы будем обучаться из памяти, поэтому нам необходимо сделать итератор, который пройдет по всем файлам и токенизирует текст в них их. Подробнее можно почитать [в официальной документации](https://huggingface.co/docs/tokenizers/training_from_memory).\n"
      ]
    },
    {
      "cell_type": "code",
      "execution_count": 14,
      "metadata": {
        "id": "MGaBTnMtt9s3"
      },
      "outputs": [],
      "source": [
        "def get_data_iterator():\n",
        "    for path in ['./aclImdb/test/neg', './aclImdb/test/pos', './aclImdb/train/neg', './aclImdb/train/pos']:\n",
        "        paths = sorted(list(os.listdir(path)))\n",
        "\n",
        "        # YOUR CODE HERE\n",
        "        for file_path in paths:\n",
        "            text = open(os.path.join(path, file_path), 'r', encoding='utf-8', errors='ignore').read().strip()\n",
        "            yield tokenize(text)"
      ]
    },
    {
      "cell_type": "code",
      "execution_count": 15,
      "metadata": {
        "colab": {
          "base_uri": "https://localhost:8080/"
        },
        "id": "0TqKqKYQt9s4",
        "outputId": "fba732be-541a-4d2c-f1f2-62c1ffbc1a19"
      },
      "outputs": [
        {
          "output_type": "stream",
          "name": "stderr",
          "text": [
            "100%|██████████| 50000/50000 [00:36<00:00, 1375.50it/s]\n"
          ]
        }
      ],
      "source": [
        "tokenizer.train_from_iterator(tqdm(get_data_iterator(), total=50_000), trainer=trainer)"
      ]
    },
    {
      "cell_type": "markdown",
      "metadata": {
        "id": "dioQHerTt9s4"
      },
      "source": [
        "Посмотрим на токены с наименьшим *id*. Обратим внимание, что специальные токены имеют наименьшие *id* по-умолчанию."
      ]
    },
    {
      "cell_type": "code",
      "execution_count": 16,
      "metadata": {
        "colab": {
          "base_uri": "https://localhost:8080/"
        },
        "id": "og-7jgASt9s4",
        "outputId": "a8da2d99-ac8d-4d6b-bda7-850afb3a3da4"
      },
      "outputs": [
        {
          "output_type": "stream",
          "name": "stdout",
          "text": [
            "ID = 0, token = <pad>\n",
            "ID = 1, token = <unk>\n",
            "ID = 2, token = movie\n",
            "ID = 3, token = film\n",
            "ID = 4, token = one\n",
            "ID = 5, token = like\n",
            "ID = 6, token = good\n",
            "ID = 7, token = time\n",
            "ID = 8, token = even\n",
            "ID = 9, token = would\n"
          ]
        }
      ],
      "source": [
        "for i in range(10):\n",
        "    token = tokenizer.id_to_token(i)\n",
        "    print(f\"ID = {i}, token = {token}\")\n"
      ]
    },
    {
      "cell_type": "code",
      "execution_count": 17,
      "metadata": {
        "id": "-SJ1X1tjt9s5"
      },
      "outputs": [],
      "source": [
        "assert tokenizer.get_vocab_size() == top_n_words\n",
        "\n",
        "assert tokenizer.id_to_token(464) == 'complete', f\"token = {tokenizer.id_to_token(464)}\"\n",
        "assert tokenizer.id_to_token(646) == 'typical',  f\"token = {tokenizer.id_to_token(646)}\"\n",
        "assert tokenizer.id_to_token(573) == 'fast',     f\"token = {tokenizer.id_to_token(573)}\""
      ]
    },
    {
      "cell_type": "markdown",
      "metadata": {
        "id": "Joi2RMWit9s5"
      },
      "source": [
        "**Важно:** При создании итератора мы сортировали файлы, поэтому результат при корретной реализации должен быть детерминированный."
      ]
    },
    {
      "cell_type": "markdown",
      "metadata": {
        "id": "0Tc6cxc9t9s5"
      },
      "source": [
        "Для кодирования предложений используется метод `encode`, так как мы самостоятельно описали функцию `tokenize`, то установим `is_pretokenized=True`."
      ]
    },
    {
      "cell_type": "code",
      "execution_count": 18,
      "metadata": {
        "colab": {
          "base_uri": "https://localhost:8080/"
        },
        "id": "-ee_PEuUt9s5",
        "outputId": "93e0d0ac-9268-497b-a4ac-92aabfab8135"
      },
      "outputs": [
        {
          "output_type": "stream",
          "name": "stdout",
          "text": [
            "Encoding(num_tokens=2, attributes=[ids, type_ids, tokens, offsets, attention_mask, special_tokens_mask, overflowing])\n",
            "Tokens ids:  [4775, 537]\n"
          ]
        }
      ],
      "source": [
        "result = tokenizer.encode(\n",
        "    sequence        = tokenize('1. Hello <br /> words!! <br />'),\n",
        "    is_pretokenized = True\n",
        ")\n",
        "\n",
        "print(result)\n",
        "print(\"Tokens ids: \", result.ids)"
      ]
    },
    {
      "cell_type": "markdown",
      "metadata": {
        "id": "ASM43buCt9tE"
      },
      "source": [
        "Для декодирования, следует использовать метод `decode`, по умолчанию все специальные токены будут пропущены, то есть все токены `<unk>` будут пропущены."
      ]
    },
    {
      "cell_type": "code",
      "execution_count": 19,
      "metadata": {
        "colab": {
          "base_uri": "https://localhost:8080/"
        },
        "id": "m8hLuA5Nt9tE",
        "outputId": "bd6d6acf-fc2f-4262-87b6-ab20d3e408fe"
      },
      "outputs": [
        {
          "output_type": "stream",
          "name": "stdout",
          "text": [
            "Decode result: hello words\n"
          ]
        }
      ],
      "source": [
        "decode_res = tokenizer.decode(\n",
        "    ids                 = result.ids,\n",
        "    skip_special_tokens = True\n",
        ")\n",
        "print(f\"Decode result: {decode_res}\")"
      ]
    },
    {
      "cell_type": "markdown",
      "metadata": {
        "id": "7PHlCnjKt9tF"
      },
      "source": [
        "Теперь мы готовы создать обёртку-датасет для наших данных.\n",
        "\n",
        "Необходимо добавить несколько опций, которые понадобятся во второй части задания:\n",
        "1. Ограничение на максимальную длину текста в токенах. Если текст оказывается длиннее, то последние токены отбрасываются. Иметь ограничение на максимальную длину бывает полезно, так вы имеете гарантии, что во время обучения не засэмплируется очень большой батч, после которого упадет обучение с ошибкой **CUDA error: out of memory**. Кроме того, вы гарантированно знаете на контекстах какой длины обучалась модель, то есть если на валидации вам подасться текст большей длины, то он гарантировано будет отличаться от обучащей выборки.\n",
        "2. Возможность добавить в специальные токены `<sos>`, `<eos>` в начало и конец токенизированного текста\n",
        "    \n",
        "**tips:**\n",
        "1. В исходных данных рейтинг закодирован в названии файла в виде числа от $1$ до $10$. Для удобства, вычтите $1$, чтобы рейтинг был от $0$ до $9$"
      ]
    },
    {
      "cell_type": "code",
      "source": [
        "import re"
      ],
      "metadata": {
        "id": "Tk2okDOj1ey9"
      },
      "execution_count": 20,
      "outputs": []
    },
    {
      "cell_type": "code",
      "execution_count": 21,
      "metadata": {
        "ExecuteTime": {
          "end_time": "2024-03-30T21:24:48.821229Z",
          "start_time": "2024-03-30T21:24:48.813451Z"
        },
        "id": "b79LzxRdt9tF"
      },
      "outputs": [],
      "source": [
        "class LargeMovieReviewDataset(Dataset):\n",
        "    def __init__(self, data_path, tokenizer, max_len, pad_sos=False, pad_eos=False):\n",
        "        \"\"\"\n",
        "        :param str data_path: Path to folder with one of the data splits (train or test)\n",
        "        :param tokenizers.tokenizer: tokenizer with lookup_indices method\n",
        "        :param int max_len: Maximum length of tokenized text\n",
        "        :param bool pad_sos: If True pad sequence at the beginning with <sos>\n",
        "        :param bool pad_eos: If True pad sequence at the end with <eos>\n",
        "        \"\"\"\n",
        "        super().__init__()\n",
        "\n",
        "        self.pad_sos = pad_sos\n",
        "        if self.pad_sos:\n",
        "            self.sos_id = tokenizer.token_to_id('<sos>')\n",
        "        self.pad_eos = pad_eos\n",
        "        if self.pad_eos:\n",
        "            self.eos_id = tokenizer.token_to_id('<eos>')\n",
        "\n",
        "        self.tokenizer = tokenizer\n",
        "        self.max_len   = max_len\n",
        "        self.data_path = data_path\n",
        "        self.negative_path = os.path.join(data_path, 'neg')\n",
        "        self.positive_path = os.path.join(data_path, 'pos')\n",
        "\n",
        "        self.negative_paths = []\n",
        "        self.positive_paths = []\n",
        "\n",
        "        for file_path in os.listdir(self.negative_path):\n",
        "            self.negative_paths.append(os.path.join(self.negative_path, file_path))\n",
        "\n",
        "        for file_path in os.listdir(self.positive_path):\n",
        "            self.positive_paths.append(os.path.join(self.positive_path, file_path))\n",
        "\n",
        "        self.negative_paths = sorted(self.negative_paths)\n",
        "        self.positive_paths = sorted(self.positive_paths)\n",
        "\n",
        "        self.texts = []\n",
        "        self.tokens = []\n",
        "        self.ratings = []\n",
        "        self.labels = [0] * len(self.negative_paths) + [1] * len(self.positive_paths)\n",
        "\n",
        "        # Read each file in data_path, tokenize it, get tokens ids, its rating and store\n",
        "        for path in self.negative_paths + self.positive_paths:\n",
        "            with open(path, 'r', encoding='utf-8', errors='ignore') as f:\n",
        "                text = f.read().strip()\n",
        "            self.texts.append(text)\n",
        "            encoded = tokenizer.encode(sequence=tokenize(text), is_pretokenized=True)\n",
        "            ids = encoded.ids[:max_len]\n",
        "            self.tokens.append(ids)\n",
        "            m = re.search(r'_(\\d+)\\.txt$', os.path.basename(path))\n",
        "            if m:\n",
        "                rating = int(m.group(1)) - 1\n",
        "            else:\n",
        "                rating = 0\n",
        "            self.ratings.append(rating)\n",
        "\n",
        "    def __getitem__(self, idx):\n",
        "        \"\"\"\n",
        "        :param int idx: index of object in dataset\n",
        "        :return dict: Dictionary with all useful object data\n",
        "            {\n",
        "                'text' str: unprocessed text,\n",
        "                'label' torch.Tensor(dtype=torch.long): sentiment of the text (0 for negative, 1 for positive)\n",
        "                'rating' torch.Tensor(dtype=torch.long): rating of the text\n",
        "                'tokens' torch.Tensor(dtype=torch.long): tensor of tokens ids for the text\n",
        "                'tokens_len' torch.Tensor(dtype=torch.long): number of tokens\n",
        "            }\n",
        "        \"\"\"\n",
        "        # YOUR CODE HERE\n",
        "        # Do not forget to add <sos> and <eos> if needed!\n",
        "        tokens = self.tokens[idx]\n",
        "        if self.pad_sos:\n",
        "            tokens = [self.sos_id] + tokens\n",
        "        if self.pad_eos:\n",
        "            tokens = tokens[:self.max_len-1]\n",
        "            tokens = tokens + [self.eos_id]\n",
        "        tokens = tokens[:self.max_len]\n",
        "        tokens_len = len(tokens)\n",
        "\n",
        "        return {\n",
        "            'text': self.texts[idx],\n",
        "            'label': torch.tensor(self.labels[idx], dtype=torch.long),\n",
        "            'tokens': torch.tensor(tokens, dtype=torch.long),\n",
        "            'tokens_len': torch.tensor(tokens_len, dtype=torch.long),\n",
        "            'rating': torch.tensor(self.ratings[idx], dtype=torch.long)\n",
        "        }\n",
        "\n",
        "    def __len__(self):\n",
        "        \"\"\"\n",
        "        :return int: number of objects in dataset\n",
        "        \"\"\"\n",
        "        # YOUR CODE HERE\n",
        "        return len(self.texts)"
      ]
    },
    {
      "cell_type": "markdown",
      "metadata": {
        "id": "QW19l_Wht9tF"
      },
      "source": [
        "Создайте датасеты для тестовой и обучающей выборки.\n",
        "\n",
        "Обратите внимание, что для задачи классификации нам не потребуется дополнять текст с помощью `<sos>`, `<eos>`. Эти токены отвечают за обозначение начала последовательности (**start of sequence**) и её конца (**end of sequence**). При моделировании языка нам будет необходимо уметь понимать где начался и закончился текст. Например, предложения часто начинаются со слова **\"однажды\"** и крайне редко со слова **\"щекотать\"**, аналогично про конец предложения.\n",
        "\n",
        "Не забудьте обрезать длинные тексты, передав параметр `max_length`."
      ]
    },
    {
      "cell_type": "code",
      "execution_count": 22,
      "metadata": {
        "ExecuteTime": {
          "end_time": "2024-03-30T21:25:02.011587Z",
          "start_time": "2024-03-30T21:24:48.822597Z"
        },
        "id": "Nm9Gj8Ekt9tG"
      },
      "outputs": [],
      "source": [
        "# YOUR CODE HERE\n",
        "test_dataset = LargeMovieReviewDataset(test_data_path, tokenizer, max_length)\n",
        "train_dataset = LargeMovieReviewDataset(train_data_path, tokenizer, max_length)"
      ]
    },
    {
      "cell_type": "markdown",
      "metadata": {
        "id": "G7t0RbF6t9tG"
      },
      "source": [
        "Посмотрим, как выглядит объект в датасете:"
      ]
    },
    {
      "cell_type": "code",
      "execution_count": 23,
      "metadata": {
        "colab": {
          "base_uri": "https://localhost:8080/"
        },
        "id": "PasO-kedt9tG",
        "outputId": "fa7a822e-0adb-4829-9054-ba344ba0a52f"
      },
      "outputs": [
        {
          "output_type": "execute_result",
          "data": {
            "text/plain": [
              "{'text': \"This film lacked something I couldn't put my finger on at first: charisma on the part of the leading actress. This inevitably translated to lack of chemistry when she shared the screen with her leading man. Even the romantic scenes came across as being merely the actors at play. It could very well have been the director who miscalculated what he needed from the actors. I just don't know.<br /><br />But could it have been the screenplay? Just exactly who was the chef in love with? He seemed more enamored of his culinary skills and restaurant, and ultimately of himself and his youthful exploits, than of anybody or anything else. He never convinced me he was in love with the princess.<br /><br />I was disappointed in this movie. But, don't forget it was nominated for an Oscar, so judge for yourself.\",\n",
              " 'label': tensor(0),\n",
              " 'tokens': tensor([   3, 3099,   51,  158, 3536,   20, 3270,   74,  839,  400,    1,    1,\n",
              "          440, 1062,    1,  146,  839,   44,    8,  597,   50,  263,  483, 1421,\n",
              "           57,  173,   24,   13,   58,    1,  736,   57,   41,   24,  768,  488,\n",
              "            1,   34,  336,    1,    1, 1863, 3274, 1010,    1,    1, 1534,  125,\n",
              "          207,   36, 2501,   34, 2558,  541,    2,  687, 2102,  654, 1515]),\n",
              " 'tokens_len': tensor(59),\n",
              " 'rating': tensor(3)}"
            ]
          },
          "metadata": {},
          "execution_count": 23
        }
      ],
      "source": [
        "train_dataset[2]"
      ]
    },
    {
      "cell_type": "code",
      "execution_count": 24,
      "metadata": {
        "ExecuteTime": {
          "end_time": "2024-03-30T21:25:02.017429Z",
          "start_time": "2024-03-30T21:25:02.013091Z"
        },
        "colab": {
          "base_uri": "https://localhost:8080/"
        },
        "id": "cJNuOLVOt9tH",
        "outputId": "c17d5a9b-2d8e-42d7-cf84-19908b15e22e"
      },
      "outputs": [
        {
          "output_type": "execute_result",
          "data": {
            "text/plain": [
              "{'text': \"Once again Mr. Costner has dragged out a movie for far longer than necessary. Aside from the terrific sea rescue sequences, of which there are very few I just did not care about any of the characters. Most of us have ghosts in the closet, and Costner's character are realized early on, and then forgotten until much later, by which time I did not care. The character we should really care about is a very cocky, overconfident Ashton Kutcher. The problem is he comes off as kid who thinks he's better than anyone else around him and shows no signs of a cluttered closet. His only obstacle appears to be winning over Costner. Finally when we are well past the half way point of this stinker, Costner tells us all about Kutcher's ghosts. We are told why Kutcher is driven to be the best with no prior inkling or foreshadowing. No magic here, it was all I could do to keep from turning it off an hour in.\",\n",
              " 'label': tensor(0),\n",
              " 'tokens': tensor([ 315,    1, 3239,    2,  117,  996, 1569, 1033, 1176, 1468, 1999,  706,\n",
              "          332,   26,   77, 2845, 4040,    1,   29, 1520,  282, 1364,   14,  190,\n",
              "            7,  332,   29,   11,  332,    1,    1,    1,    1,  324,  159,  394,\n",
              "         1102,   45,  136,  207,   83,  163, 3655,    1, 4040,    1,  593, 1571,\n",
              "            1,  294,   13,  379,  188,   23,  112, 3736,    1,  577,   77,    1,\n",
              "         2845,  432,    1, 1960,   40, 2381,    1,    1, 1179,   24,  269, 1459,\n",
              "          397]),\n",
              " 'tokens_len': tensor(73),\n",
              " 'rating': tensor(1)}"
            ]
          },
          "metadata": {},
          "execution_count": 24
        }
      ],
      "source": [
        "test_dataset[0]"
      ]
    },
    {
      "cell_type": "markdown",
      "metadata": {
        "id": "S5kJ2Cs3t9tH"
      },
      "source": [
        "Теперь нам нужно создать `DataLoader` для наших данных. `DataLoader` умеет из коробки объединять список объектов из датасета в один батч, даже когда датасет возвращает словарь тензоров. Однако, это работает только в случае когда все эти тензоры имеют один и тот же размер во всех батчах. В нашем случае, это не так, так как разные тексты могут иметь разную длину.\n",
        "\n",
        "Чтобы обойти эту проблему у `DataLoader` есть параметр `collate_fn`, который позволяет задать функцию для объединения списка объектов в один батч.\n",
        "\n",
        "**tips**\n",
        "1. Обратите свое внимание на функцию `torch.stack`, она позволяет \"застакать\" элементы списка в тензор"
      ]
    },
    {
      "cell_type": "markdown",
      "metadata": {
        "id": "bnX6VCGpt9tI"
      },
      "source": [
        "Чтобы объединить несколько тензоров разной длины в один можно использовать функцию `torch.nn.utils.rnn.pad_sequence`. Такой формат позволит удобно передавать данные в rnn модель.\n",
        "\n",
        "Обратите внимание на её аргументы:\n",
        "1. `batch_first` определяет по какой оси \"складывать\" тензоры. Предпочтительнее использовать `batch_first=False` так как это может упростить выполнение задания в дальнейшем\n",
        "2. `padding_value` — число, которое будет использоваться в качестве паддинга, чтобы сделать все тензоры одинаковой длины\n"
      ]
    },
    {
      "cell_type": "code",
      "execution_count": 25,
      "metadata": {
        "ExecuteTime": {
          "end_time": "2024-03-30T21:25:02.026862Z",
          "start_time": "2024-03-30T21:25:02.018970Z"
        },
        "colab": {
          "base_uri": "https://localhost:8080/"
        },
        "id": "jXJVDfHlt9tI",
        "outputId": "f6813b7f-b1fd-40a4-8e2f-7bb81e31930d"
      },
      "outputs": [
        {
          "output_type": "stream",
          "name": "stdout",
          "text": [
            "batch_first=False\n",
            "Shape = torch.Size([4, 3])\n",
            "tensor([[ 1,  4,  6],\n",
            "        [ 2,  5,  7],\n",
            "        [ 3, -1,  8],\n",
            "        [-1, -1,  9]])\n",
            "batch_first=True\n",
            "Shape = torch.Size([3, 4])\n",
            "tensor([[ 1,  2,  3, -1],\n",
            "        [ 4,  5, -1, -1],\n",
            "        [ 6,  7,  8,  9]])\n"
          ]
        }
      ],
      "source": [
        "elemets = [\n",
        "    torch.tensor([1, 2, 3]),\n",
        "    torch.tensor([4, 5]),\n",
        "    torch.tensor([6, 7, 8, 9])\n",
        "]\n",
        "\n",
        "out_nbf = torch.nn.utils.rnn.pad_sequence(\n",
        "    elemets,\n",
        "    batch_first   = False,\n",
        "    padding_value = -1\n",
        ")\n",
        "\n",
        "out_bf = torch.nn.utils.rnn.pad_sequence(\n",
        "    elemets,\n",
        "    batch_first   = True,\n",
        "    padding_value = -1\n",
        ")\n",
        "\n",
        "print(f\"batch_first=False\")\n",
        "print(f\"Shape = {out_nbf.shape}\")\n",
        "print(out_nbf)\n",
        "\n",
        "print(f\"batch_first=True\")\n",
        "print(f\"Shape = {out_bf.shape}\")\n",
        "print(out_bf)"
      ]
    },
    {
      "cell_type": "code",
      "execution_count": 26,
      "metadata": {
        "ExecuteTime": {
          "end_time": "2024-03-30T21:25:02.036500Z",
          "start_time": "2024-03-30T21:25:02.027955Z"
        },
        "id": "zQAMo2Wst9tI"
      },
      "outputs": [],
      "source": [
        "def collate_fn(batch, padding_value, batch_first=False):\n",
        "    \"\"\"\n",
        "    :param List[Dict] batch: List of objects from dataset\n",
        "    :param int padding_value: Value that will be used to pad tokens\n",
        "    :param bool batch_first: If True resulting tensor with tokens must have shape [B, T] otherwise [T, B]\n",
        "    :return dict: Dictionary with all data collated\n",
        "        {\n",
        "            'ratings' torch.Tensor(dtype=torch.long): rating of the text for each object in batch\n",
        "            'labels' torch.Tensor(dtype=torch.long): sentiment of the text for each object in batch\n",
        "\n",
        "            'texts' List[str]: All texts in one list\n",
        "            'tokens' torch.Tensor(dtype=torch.long): tensor of tokens ids padded with @padding_value\n",
        "            'tokens_lens' torch.Tensor(dtype=torch.long): number of tokens for each object in batch\n",
        "        }\n",
        "    \"\"\"\n",
        "    return {\n",
        "        'ratings': torch.tensor([item['rating'].item() for item in batch], dtype=torch.long),\n",
        "        'labels': torch.tensor([item['label'].item() for item in batch], dtype=torch.long),\n",
        "        'texts': [item['text'] for item in batch],\n",
        "        'tokens': torch.nn.utils.rnn.pad_sequence([item['tokens'] for item in batch], batch_first=batch_first, padding_value=padding_value),\n",
        "        'tokens_lens': torch.tensor([item['tokens_len'].item() for item in batch], dtype=torch.long)\n",
        "    }"
      ]
    },
    {
      "cell_type": "markdown",
      "metadata": {
        "id": "39EZA03ct9tJ"
      },
      "source": [
        "Создайте даталоадеры с использованием `collate_fn`.\n",
        "\n",
        "**tips**:\n",
        "1. Передать в `collate_fn` правильное значение паддинга можно, например, с помощью `functools.partial`\n",
        "2. Если вы работаете в Google Colab, то, возможно, вам будет необходимо установить `num_workers=0` во избежание падения ноутбука.\n",
        "3. Для определения индекса `<pad>` надо использовать `tokenizer.token_to_id('<pad>')`, а не магическую константу 0."
      ]
    },
    {
      "cell_type": "code",
      "execution_count": 27,
      "metadata": {
        "ExecuteTime": {
          "end_time": "2024-03-30T21:25:02.047505Z",
          "start_time": "2024-03-30T21:25:02.037806Z"
        },
        "id": "p_be0EoVt9tJ"
      },
      "outputs": [],
      "source": [
        "# YOUR CODE HERE\n",
        "collate_fn = partial(collate_fn, padding_value=tokenizer.token_to_id('<pad>'), batch_first=False)\n",
        "test_dataloader = DataLoader(test_dataset, batch_size=batch_size, shuffle=True, collate_fn=collate_fn, num_workers=3)\n",
        "train_dataloader = DataLoader(train_dataset, batch_size=batch_size, shuffle=True, collate_fn=collate_fn, num_workers=3)"
      ]
    },
    {
      "cell_type": "markdown",
      "metadata": {
        "id": "G2pU-3rkt9tK"
      },
      "source": [
        "Посмотрим на какой-нибудь батч:"
      ]
    },
    {
      "cell_type": "code",
      "execution_count": 28,
      "metadata": {
        "ExecuteTime": {
          "end_time": "2024-03-30T21:25:02.506858Z",
          "start_time": "2024-03-30T21:25:02.048584Z"
        },
        "colab": {
          "base_uri": "https://localhost:8080/"
        },
        "id": "FtYyc4dTt9tK",
        "outputId": "256cfcd1-51f6-4b14-93d1-59ab03333a6f"
      },
      "outputs": [
        {
          "output_type": "execute_result",
          "data": {
            "text/plain": [
              "(dict_keys(['ratings', 'labels', 'texts', 'tokens', 'tokens_lens']),\n",
              " tensor([1, 0, 1, 1, 1, 0, 1, 0, 1, 0, 0, 0, 1, 1, 0, 1, 1, 0, 0, 0, 1, 0, 0, 0,\n",
              "         1, 0, 0, 0, 1, 0, 1, 1, 0, 0, 0, 1, 0, 1, 1, 0, 1, 0, 1, 0, 0, 1, 1, 1,\n",
              "         0, 1, 1, 1, 0, 1, 0, 0, 0, 0, 0, 1, 0, 0, 0, 0]),\n",
              " tensor([7, 3, 9, 9, 7, 0, 7, 3, 8, 1, 2, 2, 8, 9, 1, 9, 7, 0, 3, 3, 6, 2, 0, 1,\n",
              "         9, 0, 0, 3, 6, 3, 7, 9, 1, 0, 2, 9, 1, 9, 8, 3, 6, 3, 8, 3, 0, 9, 6, 8,\n",
              "         0, 7, 9, 8, 1, 9, 2, 2, 2, 0, 0, 7, 0, 3, 0, 3]),\n",
              " tensor([[   2,    1,  291,  ...,   20, 1168,  522],\n",
              "         [2639,    1, 1150,  ...,   49,   41,  198],\n",
              "         [ 508,  651,  762,  ..., 1144, 2093, 4464],\n",
              "         ...,\n",
              "         [   0,    0,    0,  ..., 1570,    1,    0],\n",
              "         [   0,    0,    0,  ..., 2206,  157,    0],\n",
              "         [   0,    0,    0,  ...,  585,  104,    0]]),\n",
              " tensor([ 35,  89, 111,  29,  60,  49, 188, 166, 125, 127, 200,  84, 200,  58,\n",
              "          67,  71,  74,  82,  54,  51,  48,  88,  92, 115, 134,  81, 200,  95,\n",
              "          61, 200, 200, 152, 135, 147, 186,  78,  75, 106, 107, 174,  73,  74,\n",
              "          76, 200, 136,  24,  98, 101,  47,  30,  22,  76, 117,  73,  78, 139,\n",
              "         200,  59,  86,  68,  86, 200, 200, 117]))"
            ]
          },
          "metadata": {},
          "execution_count": 28
        }
      ],
      "source": [
        "batch = next(iter(test_dataloader))\n",
        "batch.keys(), batch['labels'], batch['ratings'], batch['tokens'], batch['tokens_lens']"
      ]
    },
    {
      "cell_type": "markdown",
      "metadata": {
        "id": "ZgmeSdp3t9tK"
      },
      "source": [
        "# `Часть 1. Классификация текстов (4 балла)`"
      ]
    },
    {
      "cell_type": "markdown",
      "metadata": {
        "id": "Xupet7KQt9tL"
      },
      "source": [
        "В этой части вы обучите классификатор текстов на основе рекуррентной нейронной сети. Выше мы уже создали удобные класс-обёртки для работы с данными. Теперь мы соберем модель для решения задачи классификации. Вам предлагается решить задачу предсказания **рейтинга фильма** (классы 0 до 9), то есть мы решаем задачу многоклассовой классификации."
      ]
    },
    {
      "cell_type": "markdown",
      "metadata": {
        "id": "UKjQguagt9tL"
      },
      "source": [
        "## `Сборка и обучение RNN в pytorch (1 балл)`"
      ]
    },
    {
      "cell_type": "markdown",
      "metadata": {
        "id": "lGQRnZMBt9tM"
      },
      "source": [
        "Создадим переменные для device-agnostic кода:"
      ]
    },
    {
      "cell_type": "code",
      "execution_count": 29,
      "metadata": {
        "ExecuteTime": {
          "end_time": "2024-03-30T21:25:02.686316Z",
          "start_time": "2024-03-30T21:25:02.508620Z"
        },
        "colab": {
          "base_uri": "https://localhost:8080/"
        },
        "id": "1gCwxuXyt9tM",
        "outputId": "55d39148-7791-44bf-a41c-0f8ae508be05"
      },
      "outputs": [
        {
          "output_type": "stream",
          "name": "stdout",
          "text": [
            "Using device: cuda:0, dtype: torch.float32\n"
          ]
        }
      ],
      "source": [
        "dtype, device, cuda_device_id = torch.float32, None, 0\n",
        "os.environ[\"CUDA_VISIBLE_DEVICES\"] = '{0}'.format(str(cuda_device_id) if cuda_device_id is not None else '')\n",
        "if cuda_device_id is not None and torch.cuda.is_available():\n",
        "    device = 'cuda:{0:d}'.format(0)\n",
        "else:\n",
        "    device = torch.device('cpu')\n",
        "print(f'Using device: {device}, dtype: {dtype}')"
      ]
    },
    {
      "cell_type": "markdown",
      "metadata": {
        "id": "D7z55U94t9tM"
      },
      "source": [
        "Наша нейросеть будет обрабатывать входную последовательность по словам (word level). Мы будем использовать простую и стандартную рекуррентную архитектуру для классификации:\n",
        "1. Слой представлений, превращающий id токена в вектор-эмбеддинг этого слова\n",
        "2. Слой LSTM\n",
        "3. Полносвязный слой, предсказывающий выход по последнему скрытому состоянию\n",
        "\n",
        "Ниже дан код для сборки и обучения нашей нейросети."
      ]
    },
    {
      "cell_type": "markdown",
      "metadata": {
        "id": "YuOW80pmt9tN"
      },
      "source": [
        "Допишите класс-обёртку над LSTM для задачи классификации.\n",
        "**Не используйте циклы.**"
      ]
    },
    {
      "cell_type": "markdown",
      "metadata": {
        "ExecuteTime": {
          "end_time": "2021-04-01T20:59:16.467178Z",
          "start_time": "2021-04-01T20:59:16.441112Z"
        },
        "id": "AA9p20ESt9tN"
      },
      "source": [
        "**Для каждого тензора в функции `forward` подпишите в комментарии его размеры**"
      ]
    },
    {
      "cell_type": "code",
      "execution_count": 30,
      "metadata": {
        "ExecuteTime": {
          "end_time": "2024-03-30T21:25:02.698015Z",
          "start_time": "2024-03-30T21:25:02.687965Z"
        },
        "id": "Ay7VRK__t9tO"
      },
      "outputs": [],
      "source": [
        "class RNNClassifier(torch.nn.Module):\n",
        "    def __init__(\n",
        "        self, embedding_dim, hidden_dim, output_size, tokenizer,\n",
        "        rec_layer=torch.nn.LSTM, dropout=None, **kwargs\n",
        "    ):\n",
        "        super().__init__()\n",
        "\n",
        "        self.dropout = dropout\n",
        "\n",
        "        self.tokenizer = tokenizer\n",
        "        self.hidden_dim = hidden_dim\n",
        "        self.output_size = output_size\n",
        "        self.embedding_dim = embedding_dim\n",
        "\n",
        "        # Create a simple lookup table that stores embeddings of a fixed dictionary and size.\n",
        "        #    Use torch.nn.Embedding. Do not forget specify padding_idx!\n",
        "        # YOUR CODE HERE\n",
        "        self.word_embeddings = torch.nn.Embedding(tokenizer.get_vocab_size(), embedding_dim, tokenizer.token_to_id('<pad>'))\n",
        "\n",
        "        # Add **kwargs in rec_layer constructor\n",
        "        if dropout is not None:\n",
        "            self.rnn = rec_layer(embedding_dim, hidden_dim, dropout=dropout, **kwargs)\n",
        "        else:\n",
        "            self.rnn = rec_layer(embedding_dim, hidden_dim, **kwargs)\n",
        "\n",
        "        # Create linear layer for classification\n",
        "        # YOUR CODE HERE\n",
        "        self.output = torch.nn.Linear(hidden_dim, output_size)\n",
        "\n",
        "    def forward(self, tokens, tokens_lens):\n",
        "        \"\"\"\n",
        "        :param torch.Tensor(dtype=torch.long) tokens: Batch of texts represented with tokens.\n",
        "        :param torch.Tensor(dtype=torch.long) tokens_lens: Number of non-padding tokens for each object in batch.\n",
        "        :return torch.Tensor(dtype=torch.long): Vector representation for each sequence in batch\n",
        "        \"\"\"\n",
        "        # Evaluate embeddings\n",
        "        # YOUR CODE HERE\n",
        "        tokens = self.word_embeddings(tokens)\n",
        "\n",
        "        # Make forward pass through recurrent network\n",
        "        # YOUR CODE HERE\n",
        "        output, (h_n, c_n) = self.rnn(tokens)\n",
        "\n",
        "        # Pass output from rnn to linear layer\n",
        "        # Note: each object in batch has its own length\n",
        "        #     so we must take rnn hidden state after the last token for each text in batch\n",
        "        # YOUR CODE HERE\n",
        "        return self.output(output[tokens_lens - 1, np.arange(len(tokens_lens)), :])\n"
      ]
    },
    {
      "cell_type": "markdown",
      "metadata": {
        "id": "UDTbqdK4t9tP"
      },
      "source": [
        "[Исходный код LSTM](http://pytorch.org/docs/master/_modules/torch/nn/modules/rnn.html#LSTM)"
      ]
    },
    {
      "cell_type": "markdown",
      "metadata": {
        "id": "E4CpvfH2t9tP"
      },
      "source": [
        "Допишите функции для обучения и оценки модели:\n",
        "\n",
        "**tip:**\n",
        "1. В функции `evaluate` при подсчёте метрик учитывайте, что батчи могут иметь разный размер. (в частности последний батч)\n",
        "\n",
        "**Важно:** Мы предсказываем `rating`, не `label`."
      ]
    },
    {
      "cell_type": "code",
      "execution_count": 31,
      "metadata": {
        "ExecuteTime": {
          "end_time": "2024-03-30T21:25:02.709854Z",
          "start_time": "2024-03-30T21:25:02.699539Z"
        },
        "id": "k8Tmq361t9tP"
      },
      "outputs": [],
      "source": [
        "def train_epoch(dataloader, model, loss_fn, optimizer, device):\n",
        "    model.train()\n",
        "    for idx, data in enumerate(dataloader):\n",
        "        # 1. Take data from batch\n",
        "        # 2. Perform forward pass\n",
        "        # 3. Evaluate loss\n",
        "        # 4. Make optimizer step\n",
        "        # YOUR CODE HERE\n",
        "        targets = data['ratings'].to(device)\n",
        "        logits = model(data['tokens'].to(device), data['tokens_lens'].to(device))\n",
        "        loss = loss_fn(logits, targets)\n",
        "        optimizer.zero_grad()\n",
        "        loss.backward()\n",
        "        optimizer.step()\n",
        "\n",
        "def evaluate(dataloader, model, loss_fn, device):\n",
        "    model.eval()\n",
        "\n",
        "    total_loss = 0.0\n",
        "    total_accuracy = 0\n",
        "    with torch.no_grad():\n",
        "        for idx, data in enumerate(dataloader):\n",
        "            # 1. Take data from batch\n",
        "            # 2. Perform forward pass\n",
        "            # 3. Evaluate loss\n",
        "            # 4. Evaluate accuracy\n",
        "            # YOUR CODE HERE\n",
        "            targets = data['ratings'].to(device)\n",
        "            logits = model(data['tokens'].to(device), data['tokens_lens'].to(device))\n",
        "            loss = loss_fn(logits, targets)\n",
        "            batch_size = targets.size(0)\n",
        "            total_loss += loss.item() * batch_size\n",
        "            total_accuracy += (logits.argmax(dim=1) == targets).sum().item()\n",
        "\n",
        "    return total_loss / len(dataloader.dataset), total_accuracy / len(dataloader.dataset)\n",
        "\n",
        "\n",
        "def train(\n",
        "    train_loader, test_loader, model, loss_fn, optimizer, device, num_epochs\n",
        "):\n",
        "    test_losses = []\n",
        "    train_losses = []\n",
        "    test_accuracies = []\n",
        "    train_accuracies = []\n",
        "    for epoch in range(num_epochs):\n",
        "        train_epoch(train_loader, model, loss_fn, optimizer, device)\n",
        "\n",
        "        train_loss, train_acc = evaluate(train_loader, model, loss_fn, device)\n",
        "        train_accuracies.append(train_acc)\n",
        "        train_losses.append(train_loss)\n",
        "\n",
        "        test_loss, test_acc = evaluate(test_loader, model, loss_fn, device)\n",
        "        test_accuracies.append(test_acc)\n",
        "        test_losses.append(test_loss)\n",
        "\n",
        "        print(\n",
        "            'Epoch: {0:d}/{1:d}. Loss (Train/Test): {2:.3f}/{3:.3f}. Accuracy (Train/Test): {4:.3f}/{5:.3f}'.format(\n",
        "                epoch + 1, num_epochs, train_losses[-1], test_losses[-1], train_accuracies[-1], test_accuracies[-1]\n",
        "            )\n",
        "        )\n",
        "    return train_losses, train_accuracies, test_losses, test_accuracies"
      ]
    },
    {
      "cell_type": "markdown",
      "metadata": {
        "id": "8GWNgH8tt9tQ"
      },
      "source": [
        "Создадим модель:"
      ]
    },
    {
      "cell_type": "code",
      "execution_count": 32,
      "metadata": {
        "ExecuteTime": {
          "end_time": "2024-03-30T21:25:03.029866Z",
          "start_time": "2024-03-30T21:25:02.711287Z"
        },
        "id": "y72EBnlGt9tQ"
      },
      "outputs": [],
      "source": [
        "set_global_seed(42)\n",
        "\n",
        "model = RNNClassifier(\n",
        "    embedding_dim=embedding_dim, hidden_dim=hidden_dim, output_size=10, tokenizer=tokenizer,\n",
        "    rec_layer=torch.nn.LSTM, dropout=None\n",
        ").to(device)\n",
        "\n",
        "check_numel(model, 244234, 0)"
      ]
    },
    {
      "cell_type": "markdown",
      "metadata": {
        "id": "RsZUDI6yt9tR"
      },
      "source": [
        "Создадим класс для подсчёта функции потерь и оптимизатор:"
      ]
    },
    {
      "cell_type": "code",
      "execution_count": 33,
      "metadata": {
        "ExecuteTime": {
          "end_time": "2024-03-30T21:25:03.541742Z",
          "start_time": "2024-03-30T21:25:03.031367Z"
        },
        "id": "bObvuKaJt9tS"
      },
      "outputs": [],
      "source": [
        "loss_fn = torch.nn.CrossEntropyLoss(reduction='mean')\n",
        "optimizer = torch.optim.Adam(model.parameters(), lr=learning_rate)"
      ]
    },
    {
      "cell_type": "markdown",
      "metadata": {
        "id": "dhtGBNMpt9tS"
      },
      "source": [
        "Попробуем обучить модель:"
      ]
    },
    {
      "cell_type": "markdown",
      "metadata": {
        "id": "lAE3gOXot9tS"
      },
      "source": [
        "**Сохраните все метрики и время работы модели. Это потребуется в конце первой части для построения графиков обучения и сравнения времени работы для всех моделей в этой секции**\n",
        "\n",
        "**Возможно стоит сохранить результаты в виде файлов и скачать их**\n",
        "\n",
        "**Обратите внимание, что надо сохранить и время**"
      ]
    },
    {
      "cell_type": "code",
      "execution_count": 34,
      "metadata": {
        "id": "XMTC2Gwbt9tT",
        "colab": {
          "base_uri": "https://localhost:8080/"
        },
        "outputId": "b667cda7-d5a7-405b-ada1-0035f6c241a1"
      },
      "outputs": [
        {
          "output_type": "stream",
          "name": "stdout",
          "text": [
            "Epoch: 1/15. Loss (Train/Test): 1.942/1.949. Accuracy (Train/Test): 0.278/0.278\n",
            "Epoch: 2/15. Loss (Train/Test): 1.641/1.687. Accuracy (Train/Test): 0.371/0.359\n",
            "Epoch: 3/15. Loss (Train/Test): 1.532/1.604. Accuracy (Train/Test): 0.405/0.382\n",
            "Epoch: 4/15. Loss (Train/Test): 1.460/1.577. Accuracy (Train/Test): 0.429/0.391\n",
            "Epoch: 5/15. Loss (Train/Test): 1.396/1.558. Accuracy (Train/Test): 0.451/0.391\n",
            "Epoch: 6/15. Loss (Train/Test): 1.339/1.552. Accuracy (Train/Test): 0.468/0.400\n",
            "Epoch: 7/15. Loss (Train/Test): 1.284/1.588. Accuracy (Train/Test): 0.490/0.396\n",
            "Epoch: 8/15. Loss (Train/Test): 1.239/1.598. Accuracy (Train/Test): 0.510/0.387\n",
            "Epoch: 9/15. Loss (Train/Test): 1.161/1.625. Accuracy (Train/Test): 0.547/0.390\n",
            "Epoch: 10/15. Loss (Train/Test): 1.117/1.687. Accuracy (Train/Test): 0.559/0.374\n",
            "Epoch: 11/15. Loss (Train/Test): 1.028/1.741. Accuracy (Train/Test): 0.605/0.374\n",
            "Epoch: 12/15. Loss (Train/Test): 0.949/1.789. Accuracy (Train/Test): 0.639/0.376\n",
            "Epoch: 13/15. Loss (Train/Test): 0.871/1.886. Accuracy (Train/Test): 0.675/0.369\n",
            "Epoch: 14/15. Loss (Train/Test): 0.792/1.958. Accuracy (Train/Test): 0.717/0.362\n",
            "Epoch: 15/15. Loss (Train/Test): 0.696/2.129. Accuracy (Train/Test): 0.750/0.361\n"
          ]
        }
      ],
      "source": [
        "import time\n",
        "timings = []\n",
        "start_time = time.time()\n",
        "train_losses_pure, train_accuracies_pure, test_losses_pure, test_accuracies_pure = train(\n",
        "    train_dataloader, test_dataloader, model, loss_fn, optimizer, device, num_epochs\n",
        ")\n",
        "end_time = time.time()\n",
        "timings.append(end_time - start_time)"
      ]
    },
    {
      "cell_type": "markdown",
      "metadata": {
        "id": "abNN5AdQt9tT"
      },
      "source": [
        "Нерегуляризованные LSTM часто быстро переобучаются (и мы это видим по точности на контроле). Чтобы с этим бороться, часто используют *L2-регуляризацию* и *дропаут*.\n",
        "Однако способов накладывать дропаут на рекуррентный слой достаточно много, и далеко не все хорошо работают. По [ссылке](https://medium.com/@bingobee01/a-review-of-dropout-as-applied-to-rnns-72e79ecd5b7b) доступен хороший обзор дропаутов для RNN.\n",
        "\n",
        "Мы реализуем два варианта DropOut для RNN (и третий дополнительно). Заодно увидим, что для реализации различных усовершенствований рекуррентной архитектуры приходится \"вскрывать\" слой до различной \"глубины\"."
      ]
    },
    {
      "cell_type": "markdown",
      "metadata": {
        "id": "XReZGFDut9tT"
      },
      "source": [
        "## `Реализация дропаута по статье Гала и Гарамани. Variational Dropout (1 балл)`"
      ]
    },
    {
      "cell_type": "markdown",
      "metadata": {
        "id": "ULpQ9I0Ct9tU"
      },
      "source": [
        "Начнем с дропаута, описанного в [статье Гала и Гарамани](https://arxiv.org/abs/1512.05287).\n",
        "Для этого нам потребуется перейти от использования слоя `torch.nn.LSTM`, полностью скрывающего от нас рекуррентную логику, к использованию слоя `torch.nn.LSTMCell`, обрабатывающего лишь один временной шаг нашей последовательности (а всю логику вокруг придется реализовать самостоятельно).\n",
        "\n",
        "Для начала напишем функцию, которая позволит нам получать $h_0$ и $c_0$, которые мы будем использовать в качестве инициализаций.\n",
        "\n",
        "**tips:**\n",
        "\n",
        "1. Используйте some_existing_tensor, как тензор в котором содержится информация о типе данных, девайсе целевого тензора. Обратите внимание на функцию [new_ones](https://pytorch.org/docs/stable/generated/torch.Tensor.new_ones.html)."
      ]
    },
    {
      "cell_type": "code",
      "execution_count": 35,
      "metadata": {
        "id": "wE9wBUq6t9tU"
      },
      "outputs": [],
      "source": [
        "def init_h0_c0(num_objects, hidden_size, some_existing_tensor):\n",
        "    \"\"\"\n",
        "    return h0 and c0, use some_existing_tensor.new_zeros() to gen them\n",
        "    h0 shape: num_objects x hidden_size\n",
        "    c0 shape: num_objects x hidden_size\n",
        "    \"\"\"\n",
        "    # YOUR CODE HERE\n",
        "    h0 = some_existing_tensor.new_zeros(num_objects, hidden_size)\n",
        "    c0 = some_existing_tensor.new_zeros(num_objects, hidden_size)\n",
        "    return h0, c0"
      ]
    },
    {
      "cell_type": "markdown",
      "metadata": {
        "id": "udfqdtSzt9tU"
      },
      "source": [
        "Допишите класс `RNNLayer`. При `dropout=0` ваш класс должен работать как обычный слой LSTM, а при `dropout > 0` накладывать бинарную маску на входной и скрытый вектор на каждом временном шаге, причем эта маска должна быть одинаковой во все моменты времени.\n",
        "\n",
        "Дропаут Гала и Гарамани в виде формул (m обозначает маску дропаута):\n",
        "\n",
        "$$\n",
        "h_{t-1} = h_{t-1}*m_h, \\, x_t = x_t * m_x\n",
        "$$\n",
        "\n",
        "Далее обычный шаг рекуррентной архитектуры, например, LSTM:\n",
        "\n",
        "$$\n",
        "i = \\sigma(h_{t-1}W^i + x_t U^i+b_i) \\quad\n",
        "o = \\sigma(h_{t-1}W^o + x_t U^o+b_o)\n",
        "$$\n",
        "$$\n",
        "f = \\sigma(h_{t-1}W^f + x_t U^f+b_f) \\quad\n",
        "g = tanh(h_{t-1} W^g + x_t U^g+b_g)\n",
        "$$\n",
        "$$\n",
        "c_t = f \\odot c_{t-1} +  i \\odot  g \\quad\n",
        "h_t =  o \\odot tanh(c_t)\n",
        "$$\n",
        "\n",
        "**Важно**: Мы считаем, что объекты в батче независимы, то есть маски для них должны быть разные.\n",
        "\n",
        "**tips:**\n",
        "\n",
        "1. Для получения бернулливской случайной величины достаточно вызвать `.bernoulli()` от массива содержащего вероятности.\n"
      ]
    },
    {
      "cell_type": "code",
      "execution_count": 36,
      "metadata": {
        "ExecuteTime": {
          "end_time": "2024-03-30T21:26:14.063117Z",
          "start_time": "2024-03-30T21:26:14.052307Z"
        },
        "id": "TxakDSNgt9tV"
      },
      "outputs": [],
      "source": [
        "def gen_dropout_mask(input_size, hidden_size, is_training, p, some_existing_tensor):\n",
        "    \"\"\"\n",
        "    is_training: if True, gen masks from Bernoulli\n",
        "                 if False, gen masks consisting of (1-p)\n",
        "\n",
        "    return dropout masks of size input_size, hidden_size if p is not None\n",
        "    return one masks if p is None\n",
        "    \"\"\"\n",
        "    # YOUR CODE HERE\n",
        "    if p is None:\n",
        "        return some_existing_tensor.new_ones(input_size, hidden_size)\n",
        "    if is_training:\n",
        "        mask = some_existing_tensor.new_empty(input_size, hidden_size).bernoulli_(1-p)\n",
        "        return mask\n",
        "    else:\n",
        "        return some_existing_tensor.new_full((input_size, hidden_size), 1-p)"
      ]
    },
    {
      "cell_type": "code",
      "execution_count": 37,
      "metadata": {
        "colab": {
          "base_uri": "https://localhost:8080/"
        },
        "id": "QaMOADCIt9tV",
        "outputId": "dd43e6b6-95b9-434e-ac41-4c4e279f5507"
      },
      "outputs": [
        {
          "output_type": "stream",
          "name": "stdout",
          "text": [
            "m.mean(): 0.8825\n"
          ]
        }
      ],
      "source": [
        "set_global_seed(42)\n",
        "p = 0.12\n",
        "m = gen_dropout_mask(100, 120, is_training=True, p=p, some_existing_tensor=torch.tensor(1.))\n",
        "\n",
        "\n",
        "print(f'm.mean(): {m.mean():0.4f}')\n",
        "assert m.shape == (100, 120)\n",
        "assert (1 - p) - 0.005 <= m.mean() <= (1 - p) + 0.005"
      ]
    },
    {
      "cell_type": "markdown",
      "metadata": {
        "ExecuteTime": {
          "end_time": "2021-04-01T21:09:12.282613Z",
          "start_time": "2021-04-01T21:09:12.256019Z"
        },
        "id": "KjvZ9d5bt9tW"
      },
      "source": [
        "Допишите класс-обёртку над `LSTMCell` для реализации Variational Dropout. **Используйте только цикл по времени**"
      ]
    },
    {
      "cell_type": "markdown",
      "metadata": {
        "id": "c14_CRm0t9tW"
      },
      "source": [
        "**Для каждого тензора в функции `forward` подпишите в комментарии его размеры**"
      ]
    },
    {
      "cell_type": "code",
      "execution_count": 38,
      "metadata": {
        "ExecuteTime": {
          "end_time": "2024-03-30T21:26:14.072540Z",
          "start_time": "2024-03-30T21:26:14.064809Z"
        },
        "id": "jGVjbRmEt9tX"
      },
      "outputs": [],
      "source": [
        "class RNNLayer(torch.nn.Module):\n",
        "    def __init__(self, input_size, hidden_size, dropout=None):\n",
        "        super().__init__()\n",
        "\n",
        "        self.dropout = dropout\n",
        "        self.input_size = input_size\n",
        "        self.hidden_size = hidden_size\n",
        "\n",
        "        self.rnn_cell = torch.nn.LSTMCell(self.input_size, self.hidden_size)\n",
        "\n",
        "    def forward(self, x):\n",
        "        # Initialize h_0, c_0\n",
        "        # YOUR CODE HERE\n",
        "        h, c = init_h0_c0(x.shape[1], self.hidden_size, x)\n",
        "\n",
        "        # Gen masks for input and hidden state\n",
        "        # YOUR CODE HERE\n",
        "        if self.dropout is not None and self.dropout > 0:\n",
        "            if self.training:\n",
        "                input_mask = x.new_empty(x.shape[1], self.input_size).bernoulli_(1 - self.dropout) / (1 - self.dropout)\n",
        "                hidden_mask = x.new_empty(x.shape[1], self.hidden_size).bernoulli_(1 - self.dropout) / (1 - self.dropout)\n",
        "            else:\n",
        "                input_mask = x.new_ones(x.shape[1], self.input_size)\n",
        "                hidden_mask = x.new_ones(x.shape[1], self.hidden_size)\n",
        "        else:\n",
        "            input_mask = x.new_ones(x.shape[1], self.input_size)\n",
        "            hidden_mask = x.new_ones(x.shape[1], self.hidden_size)\n",
        "\n",
        "        # Implement recurrent logic and return what nn.LSTM returns\n",
        "        # Do not forget to apply generated dropout masks!\n",
        "        # YOUR CODE HERE\n",
        "        outputs = []\n",
        "        for t in range(x.shape[0]):\n",
        "            x_t = x[t] * input_mask\n",
        "            h = h * hidden_mask\n",
        "            h, c = self.rnn_cell(x_t, (h, c))\n",
        "            outputs.append(h)\n",
        "        return torch.stack(outputs, dim=0), (h, c)"
      ]
    },
    {
      "cell_type": "code",
      "execution_count": 39,
      "metadata": {
        "id": "nj57Upsat9tX"
      },
      "outputs": [],
      "source": [
        "layer = RNNLayer(32, 64, dropout=None)\n",
        "dummy_input = torch.ones((10, 16, 32))\n",
        "\n",
        "out = layer(dummy_input)\n",
        "\n",
        "assert out[0].shape == (10, 16, 64)\n",
        "assert out[1][0].shape == (16, 64)\n",
        "assert out[1][1].shape == (16, 64)"
      ]
    },
    {
      "cell_type": "markdown",
      "metadata": {
        "id": "e09jHGtGt9tY"
      },
      "source": [
        "Протестируйте реализованную модель с выключенным дропаутом (слой `RNNLayer` надо передать в `RNNClassifier` в качестве `rec_layer`). Замерьте время обучения. Сильно ли оно увеличилось по сравнению с `torch.nn.LSTM` (LSTM \"из коробки\")?"
      ]
    },
    {
      "cell_type": "markdown",
      "metadata": {
        "id": "1eSnm_e8t9tY"
      },
      "source": [
        "**Сохраните все метрики и время работы модели. Это потребуется в конце первой части для построения графиков обучения и сравнения времени работы для всех моделей в этой секции**\n",
        "\n",
        "**Возможно стоит сохранить результаты в виде файлов и скачать их**"
      ]
    },
    {
      "cell_type": "code",
      "execution_count": 40,
      "metadata": {
        "ExecuteTime": {
          "end_time": "2024-03-30T21:37:48.546191Z",
          "start_time": "2024-03-30T21:26:14.073988Z"
        },
        "colab": {
          "base_uri": "https://localhost:8080/"
        },
        "id": "xzkY8JPDt9tY",
        "outputId": "7e41a510-71b2-4549-a9d1-a7ab69951b54"
      },
      "outputs": [
        {
          "output_type": "stream",
          "name": "stdout",
          "text": [
            "Epoch: 1/15. Loss (Train/Test): 1.981/1.989. Accuracy (Train/Test): 0.233/0.230\n",
            "Epoch: 2/15. Loss (Train/Test): 1.673/1.710. Accuracy (Train/Test): 0.363/0.354\n",
            "Epoch: 3/15. Loss (Train/Test): 1.576/1.640. Accuracy (Train/Test): 0.389/0.368\n",
            "Epoch: 4/15. Loss (Train/Test): 1.475/1.581. Accuracy (Train/Test): 0.424/0.388\n",
            "Epoch: 5/15. Loss (Train/Test): 1.412/1.562. Accuracy (Train/Test): 0.450/0.388\n",
            "Epoch: 6/15. Loss (Train/Test): 1.360/1.562. Accuracy (Train/Test): 0.460/0.400\n",
            "Epoch: 7/15. Loss (Train/Test): 1.296/1.578. Accuracy (Train/Test): 0.486/0.398\n",
            "Epoch: 8/15. Loss (Train/Test): 1.248/1.591. Accuracy (Train/Test): 0.507/0.392\n",
            "Epoch: 9/15. Loss (Train/Test): 1.178/1.607. Accuracy (Train/Test): 0.541/0.390\n",
            "Epoch: 10/15. Loss (Train/Test): 1.152/1.697. Accuracy (Train/Test): 0.545/0.368\n",
            "Epoch: 11/15. Loss (Train/Test): 1.047/1.703. Accuracy (Train/Test): 0.600/0.375\n",
            "Epoch: 12/15. Loss (Train/Test): 0.969/1.774. Accuracy (Train/Test): 0.626/0.381\n",
            "Epoch: 13/15. Loss (Train/Test): 0.888/1.858. Accuracy (Train/Test): 0.672/0.372\n",
            "Epoch: 14/15. Loss (Train/Test): 0.813/1.915. Accuracy (Train/Test): 0.707/0.372\n",
            "Epoch: 15/15. Loss (Train/Test): 0.716/2.084. Accuracy (Train/Test): 0.746/0.362\n"
          ]
        }
      ],
      "source": [
        "set_global_seed(42)\n",
        "\n",
        "model = RNNClassifier(\n",
        "    embedding_dim=embedding_dim, hidden_dim=hidden_dim, output_size=10, tokenizer=tokenizer,\n",
        "    rec_layer=RNNLayer, dropout=None\n",
        ").to(device)\n",
        "\n",
        "loss_fn = torch.nn.CrossEntropyLoss(reduction='mean')\n",
        "optimizer = torch.optim.Adam(model.parameters(), lr=learning_rate)\n",
        "start_time = time.time()\n",
        "train_losses_pure_layer, train_accuracies_pure_layer, test_losses_pure_layer, test_accuracies_pure_layer = train(\n",
        "    train_dataloader, test_dataloader, model, loss_fn, optimizer, device, num_epochs\n",
        ")\n",
        "end_time = time.time()\n",
        "timings.append(end_time - start_time)"
      ]
    },
    {
      "cell_type": "markdown",
      "metadata": {
        "id": "epD21-hUt9tY"
      },
      "source": [
        "Протестируйте полученную модель с `dropout=0.25`, вновь замерив время обучения. Получилось ли побороть переобучение? Сильно ли дольше обучается данная модель по сравнению с предыдущей? (доп. время тратится на генерацию масок дропаута)."
      ]
    },
    {
      "cell_type": "code",
      "source": [
        "set_global_seed(42)\n",
        "\n",
        "model = RNNClassifier(\n",
        "    embedding_dim=embedding_dim, hidden_dim=hidden_dim, output_size=10, tokenizer=tokenizer,\n",
        "    rec_layer=RNNLayer, dropout=0.25\n",
        ").to(device)\n",
        "\n",
        "loss_fn = torch.nn.CrossEntropyLoss(reduction='mean')\n",
        "optimizer = torch.optim.Adam(model.parameters(), lr=learning_rate)\n",
        "start_time = time.time()\n",
        "train_losses_pure_25, train_accuracies_pure_25, test_losses_pure_25, test_accuracies_pure_25 = train(\n",
        "    train_dataloader, test_dataloader, model, loss_fn, optimizer, device, num_epochs\n",
        ")\n",
        "end_time = time.time()\n",
        "timings.append(end_time - start_time)"
      ],
      "metadata": {
        "id": "_B-sN0luUbN1",
        "colab": {
          "base_uri": "https://localhost:8080/"
        },
        "outputId": "ada69f00-233a-4b7f-ce9c-dc22ff2cabd2"
      },
      "execution_count": 41,
      "outputs": [
        {
          "output_type": "stream",
          "name": "stdout",
          "text": [
            "Epoch: 1/15. Loss (Train/Test): 2.007/2.010. Accuracy (Train/Test): 0.233/0.235\n",
            "Epoch: 2/15. Loss (Train/Test): 1.759/1.776. Accuracy (Train/Test): 0.339/0.336\n",
            "Epoch: 3/15. Loss (Train/Test): 1.624/1.655. Accuracy (Train/Test): 0.378/0.372\n",
            "Epoch: 4/15. Loss (Train/Test): 1.544/1.598. Accuracy (Train/Test): 0.400/0.382\n",
            "Epoch: 5/15. Loss (Train/Test): 1.490/1.562. Accuracy (Train/Test): 0.416/0.394\n",
            "Epoch: 6/15. Loss (Train/Test): 1.447/1.541. Accuracy (Train/Test): 0.428/0.403\n",
            "Epoch: 7/15. Loss (Train/Test): 1.423/1.533. Accuracy (Train/Test): 0.440/0.405\n",
            "Epoch: 8/15. Loss (Train/Test): 1.395/1.522. Accuracy (Train/Test): 0.448/0.407\n",
            "Epoch: 9/15. Loss (Train/Test): 1.367/1.514. Accuracy (Train/Test): 0.458/0.408\n",
            "Epoch: 10/15. Loss (Train/Test): 1.354/1.514. Accuracy (Train/Test): 0.468/0.406\n",
            "Epoch: 11/15. Loss (Train/Test): 1.317/1.506. Accuracy (Train/Test): 0.481/0.410\n",
            "Epoch: 12/15. Loss (Train/Test): 1.288/1.511. Accuracy (Train/Test): 0.492/0.415\n",
            "Epoch: 13/15. Loss (Train/Test): 1.278/1.519. Accuracy (Train/Test): 0.503/0.402\n",
            "Epoch: 14/15. Loss (Train/Test): 1.245/1.519. Accuracy (Train/Test): 0.508/0.410\n",
            "Epoch: 15/15. Loss (Train/Test): 1.219/1.514. Accuracy (Train/Test): 0.522/0.409\n"
          ]
        }
      ]
    },
    {
      "cell_type": "markdown",
      "metadata": {
        "id": "nBvitlz6t9tZ"
      },
      "source": [
        "## `Реализация дропаута по статье Гала и Гарамани. Дубль 2 (1 балл)`"
      ]
    },
    {
      "cell_type": "markdown",
      "metadata": {
        "id": "Teu3lyhDt9tZ"
      },
      "source": [
        "<начало взлома pytorch>"
      ]
    },
    {
      "cell_type": "markdown",
      "metadata": {
        "id": "fw2gzNnNt9ta"
      },
      "source": [
        "При разворачивании цикла по времени средствами python обучение рекуррентной нейросети сильно замедляется. Однако для реализации дропаута Гала и Гарамани необязательно явно задавать в коде умножение нейронов на маски. Можно схитрить и обойтись использованием слоя `torch.nn.LSTM`: перед вызовом `forward` слоя `torch.nn.LSTM` подменять его веса на веса, домноженные **по строкам** на маски. А обучаемые веса хранить отдельно. Именно так этот дропаут реализован в библиотеке `fastai`, код из которой использован в ячейке ниже.\n",
        "\n",
        "Благодаря такому подходу мы используем быстрый код слоя `torch.nn.LSTM`, который гарантировано написан хорошо и правильно, но подменяем веса так, чтобы получить необходимый эффект.\n",
        "\n",
        "Для начала посмотрим на стандартный слой `nn.LSTM` и вспомним дропаут Гала и Гарамани (m обозначает маску дропаута):\n",
        "\n",
        "$$\n",
        "h_{t-1} = h_{t-1}*m_h, \\, x_t = x_t * m_x\n",
        "$$\n",
        "\n",
        "Далее обычный шаг рекуррентной архитектуры, например, LSTM:\n",
        "\n",
        "$$\n",
        "i = \\sigma(h_{t-1}W^i + x_t U^i+b_i) \\quad\n",
        "o = \\sigma(h_{t-1}W^o + x_t U^o+b_o)\n",
        "$$\n",
        "$$\n",
        "f = \\sigma(h_{t-1}W^f + x_t U^f+b_f) \\quad\n",
        "g = tanh(h_{t-1} W^g + x_t U^g+b_g)\n",
        "$$\n",
        "$$\n",
        "c_t = f \\odot c_{t-1} +  i \\odot  g \\quad\n",
        "h_t =  o \\odot tanh(c_t)\n",
        "$$"
      ]
    },
    {
      "cell_type": "markdown",
      "metadata": {
        "id": "99_tUDkWt9ta"
      },
      "source": [
        "Сначал посмотрим на параметры слоя `nn.LSTM`."
      ]
    },
    {
      "cell_type": "code",
      "execution_count": 42,
      "metadata": {
        "id": "Y34NAbmst9ta",
        "colab": {
          "base_uri": "https://localhost:8080/"
        },
        "outputId": "f09929d6-04fc-496c-97ab-a778f3fe7cc5"
      },
      "outputs": [
        {
          "output_type": "stream",
          "name": "stdout",
          "text": [
            "weight_ih_l0: torch.Size([512, 32])\n",
            "weight_hh_l0: torch.Size([512, 128])\n",
            "bias_ih_l0  : torch.Size([512])\n",
            "bias_hh_l0  : torch.Size([512])\n",
            "weight_ih_l1: torch.Size([512, 128])\n",
            "weight_hh_l1: torch.Size([512, 128])\n",
            "bias_ih_l1  : torch.Size([512])\n",
            "bias_hh_l1  : torch.Size([512])\n"
          ]
        }
      ],
      "source": [
        "lstm = torch.nn.LSTM(embedding_dim, hidden_dim, num_layers=2)\n",
        "\n",
        "for tag, p in lstm.named_parameters():\n",
        "    print(f\"{tag:<12}: {p.shape}\")"
      ]
    },
    {
      "cell_type": "markdown",
      "metadata": {
        "id": "p-zDhuKat9ta"
      },
      "source": [
        "Подробнее про каждый отдельный модуль можно почитать на [официальной странице](https://pytorch.org/docs/stable/generated/torch.nn.LSTM.html), важно, что умножая каждую строку весов **weight\\_\\*\\*\\_\\*\\*** на маску, мы получим те же вычисления, что и при умножении $h_{t-1}$ и $x_t$ на маску. Для проверки этого факта рассмотрим игрушечный пример:"
      ]
    },
    {
      "cell_type": "code",
      "execution_count": 43,
      "metadata": {
        "id": "x8MNQjDqt9tb",
        "colab": {
          "base_uri": "https://localhost:8080/"
        },
        "outputId": "a28d6bca-6afb-44f2-ad36-32a46a10e933"
      },
      "outputs": [
        {
          "output_type": "execute_result",
          "data": {
            "text/plain": [
              "tensor(True)"
            ]
          },
          "metadata": {},
          "execution_count": 43
        }
      ],
      "source": [
        "set_global_seed(42)\n",
        "\n",
        "W = torch.randn((hidden_dim * 4, hidden_dim))\n",
        "x = torch.arange(hidden_dim).float()\n",
        "mask = (torch.arange(hidden_dim) % 2 == 0).long()\n",
        "\n",
        "res1 = W @ (x * mask)\n",
        "\n",
        "res2 = (W * mask[None, :]) @ x\n",
        "\n",
        "torch.isclose(res1, res2).all()"
      ]
    },
    {
      "cell_type": "markdown",
      "metadata": {
        "id": "8AZ9K9cFt9tb"
      },
      "source": [
        "Реализуйте слой, который с помощью подмены весов реализует  дропаут Гала и Гарамани, в виде обертки над `torch.nn.LSTM`. Допишите класс:"
      ]
    },
    {
      "cell_type": "code",
      "execution_count": 44,
      "metadata": {
        "ExecuteTime": {
          "end_time": "2024-03-30T21:50:53.808422Z",
          "start_time": "2024-03-30T21:50:53.806289Z"
        },
        "id": "S3SMAz5mt9tb"
      },
      "outputs": [],
      "source": [
        "import warnings"
      ]
    },
    {
      "cell_type": "code",
      "execution_count": 45,
      "metadata": {
        "ExecuteTime": {
          "end_time": "2024-03-30T21:50:53.819063Z",
          "start_time": "2024-03-30T21:50:53.810046Z"
        },
        "id": "eEiOuQUVt9tc"
      },
      "outputs": [],
      "source": [
        "class FastRNNLayer(torch.nn.Module):\n",
        "    def __init__(self, input_size, hidden_size, dropout=0.0, layers_dropout=0.0, num_layers=1):\n",
        "        super().__init__()\n",
        "\n",
        "        self.input_size = input_size\n",
        "        self.hidden_size = hidden_size\n",
        "\n",
        "        self.num_layers = num_layers\n",
        "\n",
        "        self.dropout = dropout\n",
        "        self.layers_dropout = layers_dropout\n",
        "        self.module = torch.nn.LSTM(input_size, hidden_size, dropout=layers_dropout, num_layers=num_layers)\n",
        "\n",
        "        self.layer_names = []\n",
        "        for layer_n in range(self.num_layers):\n",
        "            self.layer_names += [f'weight_hh_l{layer_n}', f'weight_ih_l{layer_n}']\n",
        "\n",
        "        for layer in self.layer_names:\n",
        "            # Get torch.nn.Parameter with weights from torch.nn.LSTM instance\n",
        "            w = getattr(self.module, layer)\n",
        "\n",
        "            # Remove it from model\n",
        "            delattr(self.module, layer)\n",
        "\n",
        "            # And create new torch.nn.Parameter with the same data but different name\n",
        "            self.register_parameter(f'{layer}_raw', torch.nn.Parameter(w.data))\n",
        "\n",
        "            # Note. In torch.nn.LSTM.forward parameter with name `layer` will be used\n",
        "            #     so we must initialize it using `layer_raw` before forward pass\n",
        "\n",
        "    def _setweights(self, x):\n",
        "        \"\"\"\n",
        "            Apply dropout to the raw weights.\n",
        "        \"\"\"\n",
        "        for layer in self.layer_names:\n",
        "            # Get torch.nn.Parameter with weights\n",
        "            raw_w = getattr(self, f'{layer}_raw')\n",
        "\n",
        "            # Generate mask (use function gen_dropout_mask)\n",
        "            # YOUR CODE HERE\n",
        "            mask = gen_dropout_mask(1, raw_w.shape[1], self.module.training, self.dropout, raw_w)\n",
        "\n",
        "            # Apply dropout mask\n",
        "            # YOUR CODE HERE\n",
        "            masked_raw_w = raw_w * mask\n",
        "\n",
        "            # Set modified weights in its place\n",
        "            setattr(self.module, layer, masked_raw_w)\n",
        "\n",
        "    def forward(self, x, h_c=None):\n",
        "        \"\"\"\n",
        "        :param x: tensor containing the features of the input sequence.\n",
        "        :param Optional[Tuple[torch.Tensor, torch.Tensor]] h_c: initial hidden state and initial cell state\n",
        "        \"\"\"\n",
        "        with warnings.catch_warnings():\n",
        "            # To avoid the warning that comes because the weights aren't flattened.\n",
        "            warnings.simplefilter(\"ignore\")\n",
        "\n",
        "            # Set new weights of self.module and call its forward\n",
        "            # Pass h_c with x if it is not None. Otherwise pass only x\n",
        "            # YOUR CODE HERE\n",
        "            self._setweights(x)\n",
        "            if h_c is not None:\n",
        "                return self.module(x, h_c)\n",
        "            else:\n",
        "                return self.module(x)\n",
        "\n",
        "    def reset(self):\n",
        "        if hasattr(self.module, 'reset'):\n",
        "            self.module.reset()"
      ]
    },
    {
      "cell_type": "code",
      "execution_count": 46,
      "metadata": {
        "id": "p4lnAqYFt9tc"
      },
      "outputs": [],
      "source": [
        "layer = FastRNNLayer(32, 64, dropout=None)\n",
        "dummy_input = torch.ones((10, 16, 32))\n",
        "\n",
        "out = layer(dummy_input)\n",
        "\n",
        "assert out[0].shape == (10, 16, 64)\n",
        "assert out[1][0].shape == (1, 16, 64)\n",
        "assert out[1][1].shape == (1, 16, 64)"
      ]
    },
    {
      "cell_type": "markdown",
      "metadata": {
        "id": "ER_lI7RJt9tc"
      },
      "source": [
        "Протестируйте реализованную модель с выключенным дропаутом (слой `FastRNNLayer` надо передать в `RNNClassifier` в качестве `rec_layer`). Замерьте время обучения. Убедитесь, что модель выдаёт такое же качество, как и оригинальная реализация LSTM."
      ]
    },
    {
      "cell_type": "markdown",
      "metadata": {
        "id": "c7qcdogPt9td"
      },
      "source": [
        "**Сохраните все метрики и время работы модели. Это потребуется в конце первой части для построения графиков обучения и сравнения времени работы для всех моделей в этой секции**\n",
        "\n",
        "**Возможно стоит сохранить результаты в виде файлов и скачать их**"
      ]
    },
    {
      "cell_type": "code",
      "execution_count": 47,
      "metadata": {
        "id": "BQYhqhpAt9td",
        "colab": {
          "base_uri": "https://localhost:8080/"
        },
        "outputId": "1182ae2d-b82f-4832-e5e1-cce0fe9548d6"
      },
      "outputs": [
        {
          "output_type": "stream",
          "name": "stdout",
          "text": [
            "Epoch: 1/15. Loss (Train/Test): 1.942/1.949. Accuracy (Train/Test): 0.278/0.278\n",
            "Epoch: 2/15. Loss (Train/Test): 1.641/1.687. Accuracy (Train/Test): 0.371/0.359\n",
            "Epoch: 3/15. Loss (Train/Test): 1.532/1.604. Accuracy (Train/Test): 0.405/0.382\n",
            "Epoch: 4/15. Loss (Train/Test): 1.460/1.577. Accuracy (Train/Test): 0.429/0.391\n",
            "Epoch: 5/15. Loss (Train/Test): 1.396/1.558. Accuracy (Train/Test): 0.451/0.391\n",
            "Epoch: 6/15. Loss (Train/Test): 1.339/1.552. Accuracy (Train/Test): 0.468/0.400\n",
            "Epoch: 7/15. Loss (Train/Test): 1.284/1.588. Accuracy (Train/Test): 0.490/0.396\n",
            "Epoch: 8/15. Loss (Train/Test): 1.239/1.598. Accuracy (Train/Test): 0.510/0.387\n",
            "Epoch: 9/15. Loss (Train/Test): 1.161/1.625. Accuracy (Train/Test): 0.547/0.390\n",
            "Epoch: 10/15. Loss (Train/Test): 1.117/1.687. Accuracy (Train/Test): 0.559/0.374\n",
            "Epoch: 11/15. Loss (Train/Test): 1.028/1.741. Accuracy (Train/Test): 0.605/0.374\n",
            "Epoch: 12/15. Loss (Train/Test): 0.949/1.789. Accuracy (Train/Test): 0.639/0.376\n",
            "Epoch: 13/15. Loss (Train/Test): 0.871/1.886. Accuracy (Train/Test): 0.675/0.369\n",
            "Epoch: 14/15. Loss (Train/Test): 0.792/1.958. Accuracy (Train/Test): 0.717/0.362\n",
            "Epoch: 15/15. Loss (Train/Test): 0.696/2.129. Accuracy (Train/Test): 0.750/0.361\n"
          ]
        }
      ],
      "source": [
        "set_global_seed(42)\n",
        "\n",
        "model = RNNClassifier(\n",
        "    embedding_dim=embedding_dim, hidden_dim=hidden_dim, output_size=10, tokenizer=tokenizer,\n",
        "    rec_layer=FastRNNLayer, dropout=0\n",
        ").to(device)\n",
        "\n",
        "loss_fn = torch.nn.CrossEntropyLoss(reduction='mean')\n",
        "optimizer = torch.optim.Adam(model.parameters(), lr=learning_rate)\n",
        "start_time = time.time()\n",
        "train_losses_pure_fast, train_accuracies_pure_fast, test_losses_pure_fast, test_accuracies_pure_fast = train(\n",
        "    train_dataloader, test_dataloader, model, loss_fn, optimizer, device, num_epochs\n",
        ")\n",
        "end_time = time.time()\n",
        "timings.append(end_time - start_time)"
      ]
    },
    {
      "cell_type": "markdown",
      "metadata": {
        "id": "HAimU0oYt9td"
      },
      "source": [
        "Протестируйте полученный слой (вновь подставив его в `RNNClassifier` в качестве `rec_layer`) с `dropout=0.25`. Сравните время обучения с предыдущими моделями. Проследите, чтобы качество получилось такое же, как при первой реализации этого дропаута."
      ]
    },
    {
      "cell_type": "code",
      "execution_count": 48,
      "metadata": {
        "id": "pZ14J222t9te",
        "colab": {
          "base_uri": "https://localhost:8080/"
        },
        "outputId": "4cd51ac2-0e28-4fea-c0b6-1fff15650a53"
      },
      "outputs": [
        {
          "output_type": "stream",
          "name": "stdout",
          "text": [
            "Epoch: 1/15. Loss (Train/Test): 2.013/2.014. Accuracy (Train/Test): 0.227/0.231\n",
            "Epoch: 2/15. Loss (Train/Test): 1.914/1.929. Accuracy (Train/Test): 0.287/0.282\n",
            "Epoch: 3/15. Loss (Train/Test): 1.704/1.734. Accuracy (Train/Test): 0.354/0.350\n",
            "Epoch: 4/15. Loss (Train/Test): 1.652/1.685. Accuracy (Train/Test): 0.369/0.362\n",
            "Epoch: 5/15. Loss (Train/Test): 1.563/1.617. Accuracy (Train/Test): 0.398/0.380\n",
            "Epoch: 6/15. Loss (Train/Test): 1.523/1.589. Accuracy (Train/Test): 0.405/0.386\n",
            "Epoch: 7/15. Loss (Train/Test): 1.480/1.562. Accuracy (Train/Test): 0.421/0.393\n",
            "Epoch: 8/15. Loss (Train/Test): 1.457/1.549. Accuracy (Train/Test): 0.427/0.398\n",
            "Epoch: 9/15. Loss (Train/Test): 1.425/1.534. Accuracy (Train/Test): 0.436/0.402\n",
            "Epoch: 10/15. Loss (Train/Test): 1.396/1.521. Accuracy (Train/Test): 0.450/0.402\n",
            "Epoch: 11/15. Loss (Train/Test): 1.378/1.516. Accuracy (Train/Test): 0.455/0.405\n",
            "Epoch: 12/15. Loss (Train/Test): 1.346/1.510. Accuracy (Train/Test): 0.468/0.410\n",
            "Epoch: 13/15. Loss (Train/Test): 1.346/1.519. Accuracy (Train/Test): 0.476/0.401\n",
            "Epoch: 14/15. Loss (Train/Test): 1.305/1.512. Accuracy (Train/Test): 0.483/0.411\n",
            "Epoch: 15/15. Loss (Train/Test): 1.287/1.508. Accuracy (Train/Test): 0.495/0.407\n"
          ]
        }
      ],
      "source": [
        "set_global_seed(42)\n",
        "\n",
        "model = RNNClassifier(\n",
        "    embedding_dim=embedding_dim, hidden_dim=hidden_dim, output_size=10, tokenizer=tokenizer,\n",
        "    rec_layer=FastRNNLayer, dropout=0.25\n",
        ").to(device)\n",
        "\n",
        "loss_fn = torch.nn.CrossEntropyLoss(reduction='mean')\n",
        "optimizer = torch.optim.Adam(model.parameters(), lr=learning_rate)\n",
        "start_time = time.time()\n",
        "train_losses_pure_fast_25, train_accuracies_pure_fast_25, test_losses_pure_fast_25, test_accuracies_pure_fast_25 = train(\n",
        "    train_dataloader, test_dataloader, model, loss_fn, optimizer, device, num_epochs\n",
        ")\n",
        "end_time = time.time()\n",
        "timings.append(end_time - start_time)"
      ]
    },
    {
      "cell_type": "markdown",
      "metadata": {
        "id": "RVwJ8PiCt9te"
      },
      "source": [
        "</конец взлома pytorch>"
      ]
    },
    {
      "cell_type": "markdown",
      "metadata": {
        "id": "bg1DceSht9te"
      },
      "source": [
        "## `Реализация дропаута по статье Семениуты и др. (1 балл)`"
      ]
    },
    {
      "cell_type": "markdown",
      "metadata": {
        "id": "B4n6qv56t9tf"
      },
      "source": [
        "Перейдем к реализации дропаута для LSTM по статье [Semeniuta et al](http://www.aclweb.org/anthology/C16-1165).\n",
        "\n",
        "Этот метод применения дропаута не менее популярен, чем предыдущий. Его особенность состоит в том, что он придуман специально для гейтовых архитектур. В контексте LSTM этот дропаут накладывается только на информационный поток ($m_h$ — маска дропаута):\n",
        "$$\n",
        "i = \\sigma(h_{t-1}W^i + x_t U^i+b_i) \\quad\n",
        "o = \\sigma(h_{t-1}W^o + x_t U^o+b_o)\n",
        "$$\n",
        "$$\n",
        "f = \\sigma(h_{t-1}W^f + x_t U^f+b_f) \\quad\n",
        "g = tanh(h_{t-1} W^g + x_t U^g+b_g)\n",
        "$$\n",
        "$$\n",
        "c_t = f \\odot c_{t-1} +  i \\odot g \\odot {\\bf m_h} \\quad\n",
        "h_t =  o \\odot tanh(c_t)\n",
        "$$\n",
        "**На входы $x_t$ маска накладывается как в предыдущем дропауте.** Впрочем, на входы маску можно наложить вообще до вызова рекуррентного слоя.\n",
        "\n",
        "Согласно статье, маска дропаута может быть как одинаковая, так и разная для всех моментов времени. Мы сделаем одинаковую для всех моментов времени.\n",
        "\n",
        "Для реализации этого дропаута можно:\n",
        "1. самостоятельно реализовать LSTM (интерфейса LSTMCell не хватит)\n",
        "2. снова воспользоваться трюком с установкой весов (но тут мы опираемся на свойство $tanh(0)=0$, к тому же, трюк в данном случае выглядит менее тривиально, чем с дропаутом Гала).\n",
        "\n",
        "**Внимание:** Раньше мы реализовывали через LSTMCell и модель работала долго, теперь при рукописном варианте будет работать еще дольше!\n",
        "\n",
        "Предлагается реализовать дропаут по сценарию 1. Допишите класс:"
      ]
    },
    {
      "cell_type": "markdown",
      "metadata": {
        "id": "36Pji5xqt9tf"
      },
      "source": [
        "**Для каждого тензора в функции `forward` подпишите в комментарии его размеры**"
      ]
    },
    {
      "cell_type": "code",
      "execution_count": 49,
      "metadata": {
        "ExecuteTime": {
          "end_time": "2024-03-30T21:53:49.270179Z",
          "start_time": "2024-03-30T21:53:49.265063Z"
        },
        "id": "ogjalq5It9tf"
      },
      "outputs": [],
      "source": [
        "class HandmadeLSTM(torch.nn.Module):\n",
        "    def __init__(self, input_size, hidden_size, dropout=0.0):\n",
        "        super().__init__()\n",
        "\n",
        "        self.dropout = dropout\n",
        "        self.input_size = input_size\n",
        "        self.hidden_size = hidden_size\n",
        "\n",
        "        self.input_weights = torch.nn.Linear(input_size, 4 * hidden_size)\n",
        "        self.hidden_weights = torch.nn.Linear(hidden_size, 4 * hidden_size)\n",
        "\n",
        "        self.reset_params()\n",
        "\n",
        "    def reset_params(self):\n",
        "        \"\"\"\n",
        "        Initialization as in Pytorch.\n",
        "        Do not forget to call this method!\n",
        "        https://pytorch.org/docs/stable/_modules/torch/nn/modules/rnn.html#LSTM\n",
        "        \"\"\"\n",
        "        stdv = 1.0 / np.sqrt(self.hidden_size)\n",
        "        for weight in self.parameters():\n",
        "            torch.nn.init.uniform_(weight, -stdv, stdv)\n",
        "\n",
        "    def forward(self, x):\n",
        "        # Use functions init_h0_c0 and gen_dropout_masks defined above\n",
        "        # YOUR CODE HERE\n",
        "        h, c = init_h0_c0(x.shape[1], self.hidden_size, x)\n",
        "        mask = gen_dropout_mask(x.shape[1], self.hidden_size, self.training, self.dropout, x)\n",
        "\n",
        "        # Implement recurrent logic to mimic torch.nn.LSTM\n",
        "        # Do not forget to apply dropout mask\n",
        "        # YOUR CODE HERE\n",
        "        outputs = []\n",
        "        for t in x:\n",
        "            m = self.input_weights(t) + self.hidden_weights(h)\n",
        "            i, f, g, o = m.chunk(4, dim=-1)\n",
        "            i = torch.sigmoid(i)\n",
        "            f = torch.sigmoid(f)\n",
        "            o = torch.sigmoid(o)\n",
        "            g = torch.tanh(g)\n",
        "            c = f * c + i * g * mask\n",
        "            h = o * torch.tanh(c)\n",
        "            outputs.append(h)\n",
        "        return torch.stack(outputs), (h, c)"
      ]
    },
    {
      "cell_type": "code",
      "execution_count": 50,
      "metadata": {
        "id": "K0WWujpHt9tg"
      },
      "outputs": [],
      "source": [
        "layer = HandmadeLSTM(32, 64, dropout=None)\n",
        "dummy_input = torch.ones((10, 16, 32))\n",
        "\n",
        "out = layer(dummy_input)\n",
        "\n",
        "assert out[0].shape == (10, 16, 64)\n",
        "assert out[1][0].shape == (16, 64)\n",
        "assert out[1][1].shape == (16, 64)"
      ]
    },
    {
      "cell_type": "markdown",
      "metadata": {
        "id": "0z5f6MZUt9tg"
      },
      "source": [
        "Протестируйте вашу реализацию без дропаута (проконтролируйте качество и сравните время обучения с временем обучения `torch.nn.LSTM` и `RNNLayer`), а также с `dropout=0.25`. Сравните качество модели с таким дропаутом с качеством модели с дропаутом Гала и Гарамани."
      ]
    },
    {
      "cell_type": "markdown",
      "metadata": {
        "id": "m2CBEhGgt9tg"
      },
      "source": [
        "**Сохраните все метрики и время работы модели. Это потребуется в конце первой части для построения графиков обучения и сравнения времени работы для всех моделей в этой секции**\n",
        "\n",
        "**Возможно стоит сохранить результаты в виде файлов и скачать их**"
      ]
    },
    {
      "cell_type": "code",
      "execution_count": 51,
      "metadata": {
        "id": "6wmBllVFt9tg",
        "colab": {
          "base_uri": "https://localhost:8080/"
        },
        "outputId": "e79e90ad-4de1-4fa6-f0bb-45c675109f5a"
      },
      "outputs": [
        {
          "output_type": "stream",
          "name": "stdout",
          "text": [
            "Epoch: 1/15. Loss (Train/Test): 1.915/1.920. Accuracy (Train/Test): 0.286/0.289\n",
            "Epoch: 2/15. Loss (Train/Test): 1.697/1.730. Accuracy (Train/Test): 0.353/0.350\n",
            "Epoch: 3/15. Loss (Train/Test): 1.600/1.667. Accuracy (Train/Test): 0.379/0.361\n",
            "Epoch: 4/15. Loss (Train/Test): 1.498/1.593. Accuracy (Train/Test): 0.408/0.384\n",
            "Epoch: 5/15. Loss (Train/Test): 1.455/1.590. Accuracy (Train/Test): 0.424/0.377\n",
            "Epoch: 6/15. Loss (Train/Test): 1.373/1.561. Accuracy (Train/Test): 0.455/0.394\n",
            "Epoch: 7/15. Loss (Train/Test): 1.328/1.561. Accuracy (Train/Test): 0.473/0.394\n",
            "Epoch: 8/15. Loss (Train/Test): 1.292/1.573. Accuracy (Train/Test): 0.492/0.388\n",
            "Epoch: 9/15. Loss (Train/Test): 1.236/1.614. Accuracy (Train/Test): 0.515/0.381\n",
            "Epoch: 10/15. Loss (Train/Test): 1.156/1.628. Accuracy (Train/Test): 0.550/0.383\n",
            "Epoch: 11/15. Loss (Train/Test): 1.090/1.684. Accuracy (Train/Test): 0.582/0.376\n",
            "Epoch: 12/15. Loss (Train/Test): 1.029/1.730. Accuracy (Train/Test): 0.609/0.368\n",
            "Epoch: 13/15. Loss (Train/Test): 0.970/1.786. Accuracy (Train/Test): 0.632/0.371\n",
            "Epoch: 14/15. Loss (Train/Test): 0.850/1.888. Accuracy (Train/Test): 0.693/0.359\n",
            "Epoch: 15/15. Loss (Train/Test): 0.773/1.982. Accuracy (Train/Test): 0.726/0.366\n"
          ]
        }
      ],
      "source": [
        "set_global_seed(42)\n",
        "\n",
        "model = RNNClassifier(\n",
        "    embedding_dim=embedding_dim, hidden_dim=hidden_dim, output_size=10, tokenizer=tokenizer,\n",
        "    rec_layer=HandmadeLSTM, dropout=0\n",
        ").to(device)\n",
        "\n",
        "loss_fn = torch.nn.CrossEntropyLoss(reduction='mean')\n",
        "optimizer = torch.optim.Adam(model.parameters(), lr=learning_rate)\n",
        "start_time = time.time()\n",
        "train_losses_hand, train_accuracies_hand, test_losses_hand, test_accuracies_hand = train(\n",
        "    train_dataloader, test_dataloader, model, loss_fn, optimizer, device, num_epochs\n",
        ")\n",
        "end_time = time.time()\n",
        "timings.append(end_time - start_time)"
      ]
    },
    {
      "cell_type": "code",
      "execution_count": 52,
      "metadata": {
        "id": "-83N-0s-t9th",
        "colab": {
          "base_uri": "https://localhost:8080/"
        },
        "outputId": "6f8b4251-8f93-4296-eac0-3abb844fcad9"
      },
      "outputs": [
        {
          "output_type": "stream",
          "name": "stdout",
          "text": [
            "Epoch: 1/15. Loss (Train/Test): 2.076/2.082. Accuracy (Train/Test): 0.240/0.234\n",
            "Epoch: 2/15. Loss (Train/Test): 1.707/1.744. Accuracy (Train/Test): 0.353/0.345\n",
            "Epoch: 3/15. Loss (Train/Test): 1.612/1.666. Accuracy (Train/Test): 0.379/0.366\n",
            "Epoch: 4/15. Loss (Train/Test): 1.562/1.645. Accuracy (Train/Test): 0.392/0.380\n",
            "Epoch: 5/15. Loss (Train/Test): 1.483/1.598. Accuracy (Train/Test): 0.418/0.384\n",
            "Epoch: 6/15. Loss (Train/Test): 1.423/1.566. Accuracy (Train/Test): 0.439/0.394\n",
            "Epoch: 7/15. Loss (Train/Test): 1.393/1.567. Accuracy (Train/Test): 0.449/0.401\n",
            "Epoch: 8/15. Loss (Train/Test): 1.361/1.563. Accuracy (Train/Test): 0.459/0.399\n",
            "Epoch: 9/15. Loss (Train/Test): 1.335/1.572. Accuracy (Train/Test): 0.472/0.401\n",
            "Epoch: 10/15. Loss (Train/Test): 1.295/1.568. Accuracy (Train/Test): 0.487/0.404\n",
            "Epoch: 11/15. Loss (Train/Test): 1.262/1.579. Accuracy (Train/Test): 0.496/0.403\n",
            "Epoch: 12/15. Loss (Train/Test): 1.246/1.603. Accuracy (Train/Test): 0.506/0.402\n",
            "Epoch: 13/15. Loss (Train/Test): 1.203/1.594. Accuracy (Train/Test): 0.524/0.404\n",
            "Epoch: 14/15. Loss (Train/Test): 1.171/1.634. Accuracy (Train/Test): 0.538/0.397\n",
            "Epoch: 15/15. Loss (Train/Test): 1.144/1.643. Accuracy (Train/Test): 0.545/0.400\n"
          ]
        }
      ],
      "source": [
        "set_global_seed(42)\n",
        "\n",
        "model = RNNClassifier(\n",
        "    embedding_dim=embedding_dim, hidden_dim=hidden_dim, output_size=10, tokenizer=tokenizer,\n",
        "    rec_layer=HandmadeLSTM, dropout=0.25\n",
        ").to(device)\n",
        "\n",
        "loss_fn = torch.nn.CrossEntropyLoss(reduction='mean')\n",
        "optimizer = torch.optim.Adam(model.parameters(), lr=learning_rate)\n",
        "start_time = time.time()\n",
        "train_losses_hand_25, train_accuracies_hand_25, test_losses_hand_25, test_accuracies_hand_25 = train(\n",
        "    train_dataloader, test_dataloader, model, loss_fn, optimizer, device, num_epochs\n",
        ")\n",
        "end_time = time.time()\n",
        "timings.append(end_time - start_time)"
      ]
    },
    {
      "cell_type": "markdown",
      "metadata": {
        "ExecuteTime": {
          "end_time": "2021-04-01T23:33:28.831346Z",
          "start_time": "2021-04-01T23:33:28.810453Z"
        },
        "id": "qZ0HVIrft9th"
      },
      "source": [
        "## `Сравнение всех предложенных моделей (1 балл)`"
      ]
    },
    {
      "cell_type": "markdown",
      "metadata": {
        "ExecuteTime": {
          "end_time": "2021-04-01T23:48:05.361634Z",
          "start_time": "2021-04-01T23:48:05.333901Z"
        },
        "id": "Y2gC7CcKt9ti"
      },
      "source": [
        "Используя замеры времени заполните табличку с временем работы четырёх реализованных моделей в следующей ячейке:"
      ]
    },
    {
      "cell_type": "code",
      "source": [
        "np.array(timings) / 60"
      ],
      "metadata": {
        "id": "aDJ4d4gcjAn7",
        "colab": {
          "base_uri": "https://localhost:8080/"
        },
        "outputId": "74d56321-44c8-44d2-869b-07a494deae93"
      },
      "execution_count": 53,
      "outputs": [
        {
          "output_type": "execute_result",
          "data": {
            "text/plain": [
              "array([ 3.0027933 , 17.81597364, 17.06019954,  3.06857608,  2.95139612,\n",
              "       26.25151342, 26.30507007])"
            ]
          },
          "metadata": {},
          "execution_count": 53
        }
      ]
    },
    {
      "cell_type": "markdown",
      "metadata": {
        "id": "V8mgRzUOt9ti"
      },
      "source": [
        "| torch.nn.LSTM | RNNLayer | RNNLayer + dropout | FastRNNLayer | FastRNNLayer with dropout  | HandmadeLSTM | HandmadeLSTM with dropout |\n",
        "|---------------|----------|--------------------|--------------|---------------------------|--------------|---------------------------|\n",
        "| 3m 00s        | 17m 57s  |       17m 07s      | 3m 04s       |      2m 58s                     | 26m 15s      |          26m 18s"
      ]
    },
    {
      "cell_type": "code",
      "execution_count": 54,
      "metadata": {
        "ExecuteTime": {
          "end_time": "2024-03-30T22:43:31.566217Z",
          "start_time": "2024-03-30T22:43:31.389958Z"
        },
        "id": "myAokGCVt9ti"
      },
      "outputs": [],
      "source": [
        "import matplotlib.pyplot as plt"
      ]
    },
    {
      "cell_type": "markdown",
      "metadata": {
        "id": "FZ1XOz6ut9ti"
      },
      "source": [
        "Крайне желательно рисовать графики в векторном формате.\n",
        "\n",
        "Если по каким-то причинам, отрисовка не будет работать, закомментируйте следующую ячейку."
      ]
    },
    {
      "cell_type": "code",
      "execution_count": 55,
      "metadata": {
        "ExecuteTime": {
          "end_time": "2024-03-30T22:43:31.573342Z",
          "start_time": "2024-03-30T22:43:31.567690Z"
        },
        "id": "0Ul323IEt9tj"
      },
      "outputs": [],
      "source": [
        "%matplotlib inline\n",
        "\n",
        "import matplotlib_inline\n",
        "from IPython.display import set_matplotlib_formats\n",
        "\n",
        "matplotlib_inline.backend_inline.set_matplotlib_formats('pdf', 'svg')"
      ]
    },
    {
      "cell_type": "markdown",
      "metadata": {
        "id": "F3Ii1loCt9tj"
      },
      "source": [
        "Нарисуйте два графика — функция потерь и качество на обучающей и тестовой выборке для всех 7 моделей обученных выше."
      ]
    },
    {
      "cell_type": "code",
      "source": [],
      "metadata": {
        "id": "oVGkOosvzrTp"
      },
      "execution_count": 55,
      "outputs": []
    },
    {
      "cell_type": "code",
      "execution_count": 56,
      "metadata": {
        "ExecuteTime": {
          "end_time": "2024-03-30T22:43:32.290598Z",
          "start_time": "2024-03-30T22:43:31.575031Z"
        },
        "id": "_ZDsRM3Wt9tj",
        "colab": {
          "base_uri": "https://localhost:8080/",
          "height": 969
        },
        "outputId": "1f676113-da93-44a3-bb9a-6996bc44b205"
      },
      "outputs": [
        {
          "output_type": "display_data",
          "data": {
            "text/plain": [
              "<Figure size 1000x1000 with 2 Axes>"
            ],
            "image/svg+xml": "<?xml version=\"1.0\" encoding=\"utf-8\" standalone=\"no\"?>\n<!DOCTYPE svg PUBLIC \"-//W3C//DTD SVG 1.1//EN\"\n  \"http://www.w3.org/Graphics/SVG/1.1/DTD/svg11.dtd\">\n<svg xmlns:xlink=\"http://www.w3.org/1999/xlink\" width=\"712.773125pt\" height=\"711.034375pt\" viewBox=\"0 0 712.773125 711.034375\" xmlns=\"http://www.w3.org/2000/svg\" version=\"1.1\">\n <metadata>\n  <rdf:RDF xmlns:dc=\"http://purl.org/dc/elements/1.1/\" xmlns:cc=\"http://creativecommons.org/ns#\" xmlns:rdf=\"http://www.w3.org/1999/02/22-rdf-syntax-ns#\">\n   <cc:Work>\n    <dc:type rdf:resource=\"http://purl.org/dc/dcmitype/StillImage\"/>\n    <dc:date>2025-04-07T01:08:04.596767</dc:date>\n    <dc:format>image/svg+xml</dc:format>\n    <dc:creator>\n     <cc:Agent>\n      <dc:title>Matplotlib v3.10.0, https://matplotlib.org/</dc:title>\n     </cc:Agent>\n    </dc:creator>\n   </cc:Work>\n  </rdf:RDF>\n </metadata>\n <defs>\n  <style type=\"text/css\">*{stroke-linejoin: round; stroke-linecap: butt}</style>\n </defs>\n <g id=\"figure_1\">\n  <g id=\"patch_1\">\n   <path d=\"M 0 711.034375 \nL 712.773125 711.034375 \nL 712.773125 0 \nL 0 0 \nz\n\" style=\"fill: #ffffff\"/>\n  </g>\n  <g id=\"axes_1\">\n   <g id=\"patch_2\">\n    <path d=\"M 30.103125 318.878125 \nL 705.573125 318.878125 \nL 705.573125 22.318125 \nL 30.103125 22.318125 \nz\n\" style=\"fill: #ffffff\"/>\n   </g>\n   <g id=\"matplotlib.axis_1\">\n    <g id=\"xtick_1\">\n     <g id=\"line2d_1\">\n      <path d=\"M 104.667995 318.878125 \nL 104.667995 22.318125 \n\" clip-path=\"url(#p2c3517f703)\" style=\"fill: none; stroke: #b0b0b0; stroke-width: 0.8; stroke-linecap: square\"/>\n     </g>\n     <g id=\"line2d_2\">\n      <defs>\n       <path id=\"m6e5976e74a\" d=\"M 0 0 \nL 0 3.5 \n\" style=\"stroke: #000000; stroke-width: 0.8\"/>\n      </defs>\n      <g>\n       <use xlink:href=\"#m6e5976e74a\" x=\"104.667995\" y=\"318.878125\" style=\"stroke: #000000; stroke-width: 0.8\"/>\n      </g>\n     </g>\n     <g id=\"text_1\">\n      <!-- 2 -->\n      <g transform=\"translate(101.486745 333.476562) scale(0.1 -0.1)\">\n       <defs>\n        <path id=\"DejaVuSans-32\" d=\"M 1228 531 \nL 3431 531 \nL 3431 0 \nL 469 0 \nL 469 531 \nQ 828 903 1448 1529 \nQ 2069 2156 2228 2338 \nQ 2531 2678 2651 2914 \nQ 2772 3150 2772 3378 \nQ 2772 3750 2511 3984 \nQ 2250 4219 1831 4219 \nQ 1534 4219 1204 4116 \nQ 875 4013 500 3803 \nL 500 4441 \nQ 881 4594 1212 4672 \nQ 1544 4750 1819 4750 \nQ 2544 4750 2975 4387 \nQ 3406 4025 3406 3419 \nQ 3406 3131 3298 2873 \nQ 3191 2616 2906 2266 \nQ 2828 2175 2409 1742 \nQ 1991 1309 1228 531 \nz\n\" transform=\"scale(0.015625)\"/>\n       </defs>\n       <use xlink:href=\"#DejaVuSans-32\"/>\n      </g>\n     </g>\n    </g>\n    <g id=\"xtick_2\">\n     <g id=\"line2d_3\">\n      <path d=\"M 192.391372 318.878125 \nL 192.391372 22.318125 \n\" clip-path=\"url(#p2c3517f703)\" style=\"fill: none; stroke: #b0b0b0; stroke-width: 0.8; stroke-linecap: square\"/>\n     </g>\n     <g id=\"line2d_4\">\n      <g>\n       <use xlink:href=\"#m6e5976e74a\" x=\"192.391372\" y=\"318.878125\" style=\"stroke: #000000; stroke-width: 0.8\"/>\n      </g>\n     </g>\n     <g id=\"text_2\">\n      <!-- 4 -->\n      <g transform=\"translate(189.210122 333.476562) scale(0.1 -0.1)\">\n       <defs>\n        <path id=\"DejaVuSans-34\" d=\"M 2419 4116 \nL 825 1625 \nL 2419 1625 \nL 2419 4116 \nz\nM 2253 4666 \nL 3047 4666 \nL 3047 1625 \nL 3713 1625 \nL 3713 1100 \nL 3047 1100 \nL 3047 0 \nL 2419 0 \nL 2419 1100 \nL 313 1100 \nL 313 1709 \nL 2253 4666 \nz\n\" transform=\"scale(0.015625)\"/>\n       </defs>\n       <use xlink:href=\"#DejaVuSans-34\"/>\n      </g>\n     </g>\n    </g>\n    <g id=\"xtick_3\">\n     <g id=\"line2d_5\">\n      <path d=\"M 280.114748 318.878125 \nL 280.114748 22.318125 \n\" clip-path=\"url(#p2c3517f703)\" style=\"fill: none; stroke: #b0b0b0; stroke-width: 0.8; stroke-linecap: square\"/>\n     </g>\n     <g id=\"line2d_6\">\n      <g>\n       <use xlink:href=\"#m6e5976e74a\" x=\"280.114748\" y=\"318.878125\" style=\"stroke: #000000; stroke-width: 0.8\"/>\n      </g>\n     </g>\n     <g id=\"text_3\">\n      <!-- 6 -->\n      <g transform=\"translate(276.933498 333.476562) scale(0.1 -0.1)\">\n       <defs>\n        <path id=\"DejaVuSans-36\" d=\"M 2113 2584 \nQ 1688 2584 1439 2293 \nQ 1191 2003 1191 1497 \nQ 1191 994 1439 701 \nQ 1688 409 2113 409 \nQ 2538 409 2786 701 \nQ 3034 994 3034 1497 \nQ 3034 2003 2786 2293 \nQ 2538 2584 2113 2584 \nz\nM 3366 4563 \nL 3366 3988 \nQ 3128 4100 2886 4159 \nQ 2644 4219 2406 4219 \nQ 1781 4219 1451 3797 \nQ 1122 3375 1075 2522 \nQ 1259 2794 1537 2939 \nQ 1816 3084 2150 3084 \nQ 2853 3084 3261 2657 \nQ 3669 2231 3669 1497 \nQ 3669 778 3244 343 \nQ 2819 -91 2113 -91 \nQ 1303 -91 875 529 \nQ 447 1150 447 2328 \nQ 447 3434 972 4092 \nQ 1497 4750 2381 4750 \nQ 2619 4750 2861 4703 \nQ 3103 4656 3366 4563 \nz\n\" transform=\"scale(0.015625)\"/>\n       </defs>\n       <use xlink:href=\"#DejaVuSans-36\"/>\n      </g>\n     </g>\n    </g>\n    <g id=\"xtick_4\">\n     <g id=\"line2d_7\">\n      <path d=\"M 367.838125 318.878125 \nL 367.838125 22.318125 \n\" clip-path=\"url(#p2c3517f703)\" style=\"fill: none; stroke: #b0b0b0; stroke-width: 0.8; stroke-linecap: square\"/>\n     </g>\n     <g id=\"line2d_8\">\n      <g>\n       <use xlink:href=\"#m6e5976e74a\" x=\"367.838125\" y=\"318.878125\" style=\"stroke: #000000; stroke-width: 0.8\"/>\n      </g>\n     </g>\n     <g id=\"text_4\">\n      <!-- 8 -->\n      <g transform=\"translate(364.656875 333.476562) scale(0.1 -0.1)\">\n       <defs>\n        <path id=\"DejaVuSans-38\" d=\"M 2034 2216 \nQ 1584 2216 1326 1975 \nQ 1069 1734 1069 1313 \nQ 1069 891 1326 650 \nQ 1584 409 2034 409 \nQ 2484 409 2743 651 \nQ 3003 894 3003 1313 \nQ 3003 1734 2745 1975 \nQ 2488 2216 2034 2216 \nz\nM 1403 2484 \nQ 997 2584 770 2862 \nQ 544 3141 544 3541 \nQ 544 4100 942 4425 \nQ 1341 4750 2034 4750 \nQ 2731 4750 3128 4425 \nQ 3525 4100 3525 3541 \nQ 3525 3141 3298 2862 \nQ 3072 2584 2669 2484 \nQ 3125 2378 3379 2068 \nQ 3634 1759 3634 1313 \nQ 3634 634 3220 271 \nQ 2806 -91 2034 -91 \nQ 1263 -91 848 271 \nQ 434 634 434 1313 \nQ 434 1759 690 2068 \nQ 947 2378 1403 2484 \nz\nM 1172 3481 \nQ 1172 3119 1398 2916 \nQ 1625 2713 2034 2713 \nQ 2441 2713 2670 2916 \nQ 2900 3119 2900 3481 \nQ 2900 3844 2670 4047 \nQ 2441 4250 2034 4250 \nQ 1625 4250 1398 4047 \nQ 1172 3844 1172 3481 \nz\n\" transform=\"scale(0.015625)\"/>\n       </defs>\n       <use xlink:href=\"#DejaVuSans-38\"/>\n      </g>\n     </g>\n    </g>\n    <g id=\"xtick_5\">\n     <g id=\"line2d_9\">\n      <path d=\"M 455.561502 318.878125 \nL 455.561502 22.318125 \n\" clip-path=\"url(#p2c3517f703)\" style=\"fill: none; stroke: #b0b0b0; stroke-width: 0.8; stroke-linecap: square\"/>\n     </g>\n     <g id=\"line2d_10\">\n      <g>\n       <use xlink:href=\"#m6e5976e74a\" x=\"455.561502\" y=\"318.878125\" style=\"stroke: #000000; stroke-width: 0.8\"/>\n      </g>\n     </g>\n     <g id=\"text_5\">\n      <!-- 10 -->\n      <g transform=\"translate(449.199002 333.476562) scale(0.1 -0.1)\">\n       <defs>\n        <path id=\"DejaVuSans-31\" d=\"M 794 531 \nL 1825 531 \nL 1825 4091 \nL 703 3866 \nL 703 4441 \nL 1819 4666 \nL 2450 4666 \nL 2450 531 \nL 3481 531 \nL 3481 0 \nL 794 0 \nL 794 531 \nz\n\" transform=\"scale(0.015625)\"/>\n        <path id=\"DejaVuSans-30\" d=\"M 2034 4250 \nQ 1547 4250 1301 3770 \nQ 1056 3291 1056 2328 \nQ 1056 1369 1301 889 \nQ 1547 409 2034 409 \nQ 2525 409 2770 889 \nQ 3016 1369 3016 2328 \nQ 3016 3291 2770 3770 \nQ 2525 4250 2034 4250 \nz\nM 2034 4750 \nQ 2819 4750 3233 4129 \nQ 3647 3509 3647 2328 \nQ 3647 1150 3233 529 \nQ 2819 -91 2034 -91 \nQ 1250 -91 836 529 \nQ 422 1150 422 2328 \nQ 422 3509 836 4129 \nQ 1250 4750 2034 4750 \nz\n\" transform=\"scale(0.015625)\"/>\n       </defs>\n       <use xlink:href=\"#DejaVuSans-31\"/>\n       <use xlink:href=\"#DejaVuSans-30\" transform=\"translate(63.623047 0)\"/>\n      </g>\n     </g>\n    </g>\n    <g id=\"xtick_6\">\n     <g id=\"line2d_11\">\n      <path d=\"M 543.284878 318.878125 \nL 543.284878 22.318125 \n\" clip-path=\"url(#p2c3517f703)\" style=\"fill: none; stroke: #b0b0b0; stroke-width: 0.8; stroke-linecap: square\"/>\n     </g>\n     <g id=\"line2d_12\">\n      <g>\n       <use xlink:href=\"#m6e5976e74a\" x=\"543.284878\" y=\"318.878125\" style=\"stroke: #000000; stroke-width: 0.8\"/>\n      </g>\n     </g>\n     <g id=\"text_6\">\n      <!-- 12 -->\n      <g transform=\"translate(536.922378 333.476562) scale(0.1 -0.1)\">\n       <use xlink:href=\"#DejaVuSans-31\"/>\n       <use xlink:href=\"#DejaVuSans-32\" transform=\"translate(63.623047 0)\"/>\n      </g>\n     </g>\n    </g>\n    <g id=\"xtick_7\">\n     <g id=\"line2d_13\">\n      <path d=\"M 631.008255 318.878125 \nL 631.008255 22.318125 \n\" clip-path=\"url(#p2c3517f703)\" style=\"fill: none; stroke: #b0b0b0; stroke-width: 0.8; stroke-linecap: square\"/>\n     </g>\n     <g id=\"line2d_14\">\n      <g>\n       <use xlink:href=\"#m6e5976e74a\" x=\"631.008255\" y=\"318.878125\" style=\"stroke: #000000; stroke-width: 0.8\"/>\n      </g>\n     </g>\n     <g id=\"text_7\">\n      <!-- 14 -->\n      <g transform=\"translate(624.645755 333.476562) scale(0.1 -0.1)\">\n       <use xlink:href=\"#DejaVuSans-31\"/>\n       <use xlink:href=\"#DejaVuSans-34\" transform=\"translate(63.623047 0)\"/>\n      </g>\n     </g>\n    </g>\n    <g id=\"text_8\">\n     <!-- Epoch -->\n     <g transform=\"translate(352.527187 347.154687) scale(0.1 -0.1)\">\n      <defs>\n       <path id=\"DejaVuSans-45\" d=\"M 628 4666 \nL 3578 4666 \nL 3578 4134 \nL 1259 4134 \nL 1259 2753 \nL 3481 2753 \nL 3481 2222 \nL 1259 2222 \nL 1259 531 \nL 3634 531 \nL 3634 0 \nL 628 0 \nL 628 4666 \nz\n\" transform=\"scale(0.015625)\"/>\n       <path id=\"DejaVuSans-70\" d=\"M 1159 525 \nL 1159 -1331 \nL 581 -1331 \nL 581 3500 \nL 1159 3500 \nL 1159 2969 \nQ 1341 3281 1617 3432 \nQ 1894 3584 2278 3584 \nQ 2916 3584 3314 3078 \nQ 3713 2572 3713 1747 \nQ 3713 922 3314 415 \nQ 2916 -91 2278 -91 \nQ 1894 -91 1617 61 \nQ 1341 213 1159 525 \nz\nM 3116 1747 \nQ 3116 2381 2855 2742 \nQ 2594 3103 2138 3103 \nQ 1681 3103 1420 2742 \nQ 1159 2381 1159 1747 \nQ 1159 1113 1420 752 \nQ 1681 391 2138 391 \nQ 2594 391 2855 752 \nQ 3116 1113 3116 1747 \nz\n\" transform=\"scale(0.015625)\"/>\n       <path id=\"DejaVuSans-6f\" d=\"M 1959 3097 \nQ 1497 3097 1228 2736 \nQ 959 2375 959 1747 \nQ 959 1119 1226 758 \nQ 1494 397 1959 397 \nQ 2419 397 2687 759 \nQ 2956 1122 2956 1747 \nQ 2956 2369 2687 2733 \nQ 2419 3097 1959 3097 \nz\nM 1959 3584 \nQ 2709 3584 3137 3096 \nQ 3566 2609 3566 1747 \nQ 3566 888 3137 398 \nQ 2709 -91 1959 -91 \nQ 1206 -91 779 398 \nQ 353 888 353 1747 \nQ 353 2609 779 3096 \nQ 1206 3584 1959 3584 \nz\n\" transform=\"scale(0.015625)\"/>\n       <path id=\"DejaVuSans-63\" d=\"M 3122 3366 \nL 3122 2828 \nQ 2878 2963 2633 3030 \nQ 2388 3097 2138 3097 \nQ 1578 3097 1268 2742 \nQ 959 2388 959 1747 \nQ 959 1106 1268 751 \nQ 1578 397 2138 397 \nQ 2388 397 2633 464 \nQ 2878 531 3122 666 \nL 3122 134 \nQ 2881 22 2623 -34 \nQ 2366 -91 2075 -91 \nQ 1284 -91 818 406 \nQ 353 903 353 1747 \nQ 353 2603 823 3093 \nQ 1294 3584 2113 3584 \nQ 2378 3584 2631 3529 \nQ 2884 3475 3122 3366 \nz\n\" transform=\"scale(0.015625)\"/>\n       <path id=\"DejaVuSans-68\" d=\"M 3513 2113 \nL 3513 0 \nL 2938 0 \nL 2938 2094 \nQ 2938 2591 2744 2837 \nQ 2550 3084 2163 3084 \nQ 1697 3084 1428 2787 \nQ 1159 2491 1159 1978 \nL 1159 0 \nL 581 0 \nL 581 4863 \nL 1159 4863 \nL 1159 2956 \nQ 1366 3272 1645 3428 \nQ 1925 3584 2291 3584 \nQ 2894 3584 3203 3211 \nQ 3513 2838 3513 2113 \nz\n\" transform=\"scale(0.015625)\"/>\n      </defs>\n      <use xlink:href=\"#DejaVuSans-45\"/>\n      <use xlink:href=\"#DejaVuSans-70\" transform=\"translate(63.183594 0)\"/>\n      <use xlink:href=\"#DejaVuSans-6f\" transform=\"translate(126.660156 0)\"/>\n      <use xlink:href=\"#DejaVuSans-63\" transform=\"translate(187.841797 0)\"/>\n      <use xlink:href=\"#DejaVuSans-68\" transform=\"translate(242.822266 0)\"/>\n     </g>\n    </g>\n   </g>\n   <g id=\"matplotlib.axis_2\">\n    <g id=\"ytick_1\">\n     <g id=\"line2d_15\">\n      <path d=\"M 30.103125 285.160064 \nL 705.573125 285.160064 \n\" clip-path=\"url(#p2c3517f703)\" style=\"fill: none; stroke: #b0b0b0; stroke-width: 0.8; stroke-linecap: square\"/>\n     </g>\n     <g id=\"line2d_16\">\n      <defs>\n       <path id=\"mc3fee80c84\" d=\"M 0 0 \nL -3.5 0 \n\" style=\"stroke: #000000; stroke-width: 0.8\"/>\n      </defs>\n      <g>\n       <use xlink:href=\"#mc3fee80c84\" x=\"30.103125\" y=\"285.160064\" style=\"stroke: #000000; stroke-width: 0.8\"/>\n      </g>\n     </g>\n     <g id=\"text_9\">\n      <!-- 0.8 -->\n      <g transform=\"translate(7.2 288.959283) scale(0.1 -0.1)\">\n       <defs>\n        <path id=\"DejaVuSans-2e\" d=\"M 684 794 \nL 1344 794 \nL 1344 0 \nL 684 0 \nL 684 794 \nz\n\" transform=\"scale(0.015625)\"/>\n       </defs>\n       <use xlink:href=\"#DejaVuSans-30\"/>\n       <use xlink:href=\"#DejaVuSans-2e\" transform=\"translate(63.623047 0)\"/>\n       <use xlink:href=\"#DejaVuSans-38\" transform=\"translate(95.410156 0)\"/>\n      </g>\n     </g>\n    </g>\n    <g id=\"ytick_2\">\n     <g id=\"line2d_17\">\n      <path d=\"M 30.103125 246.068279 \nL 705.573125 246.068279 \n\" clip-path=\"url(#p2c3517f703)\" style=\"fill: none; stroke: #b0b0b0; stroke-width: 0.8; stroke-linecap: square\"/>\n     </g>\n     <g id=\"line2d_18\">\n      <g>\n       <use xlink:href=\"#mc3fee80c84\" x=\"30.103125\" y=\"246.068279\" style=\"stroke: #000000; stroke-width: 0.8\"/>\n      </g>\n     </g>\n     <g id=\"text_10\">\n      <!-- 1.0 -->\n      <g transform=\"translate(7.2 249.867498) scale(0.1 -0.1)\">\n       <use xlink:href=\"#DejaVuSans-31\"/>\n       <use xlink:href=\"#DejaVuSans-2e\" transform=\"translate(63.623047 0)\"/>\n       <use xlink:href=\"#DejaVuSans-30\" transform=\"translate(95.410156 0)\"/>\n      </g>\n     </g>\n    </g>\n    <g id=\"ytick_3\">\n     <g id=\"line2d_19\">\n      <path d=\"M 30.103125 206.976494 \nL 705.573125 206.976494 \n\" clip-path=\"url(#p2c3517f703)\" style=\"fill: none; stroke: #b0b0b0; stroke-width: 0.8; stroke-linecap: square\"/>\n     </g>\n     <g id=\"line2d_20\">\n      <g>\n       <use xlink:href=\"#mc3fee80c84\" x=\"30.103125\" y=\"206.976494\" style=\"stroke: #000000; stroke-width: 0.8\"/>\n      </g>\n     </g>\n     <g id=\"text_11\">\n      <!-- 1.2 -->\n      <g transform=\"translate(7.2 210.775713) scale(0.1 -0.1)\">\n       <use xlink:href=\"#DejaVuSans-31\"/>\n       <use xlink:href=\"#DejaVuSans-2e\" transform=\"translate(63.623047 0)\"/>\n       <use xlink:href=\"#DejaVuSans-32\" transform=\"translate(95.410156 0)\"/>\n      </g>\n     </g>\n    </g>\n    <g id=\"ytick_4\">\n     <g id=\"line2d_21\">\n      <path d=\"M 30.103125 167.884709 \nL 705.573125 167.884709 \n\" clip-path=\"url(#p2c3517f703)\" style=\"fill: none; stroke: #b0b0b0; stroke-width: 0.8; stroke-linecap: square\"/>\n     </g>\n     <g id=\"line2d_22\">\n      <g>\n       <use xlink:href=\"#mc3fee80c84\" x=\"30.103125\" y=\"167.884709\" style=\"stroke: #000000; stroke-width: 0.8\"/>\n      </g>\n     </g>\n     <g id=\"text_12\">\n      <!-- 1.4 -->\n      <g transform=\"translate(7.2 171.683927) scale(0.1 -0.1)\">\n       <use xlink:href=\"#DejaVuSans-31\"/>\n       <use xlink:href=\"#DejaVuSans-2e\" transform=\"translate(63.623047 0)\"/>\n       <use xlink:href=\"#DejaVuSans-34\" transform=\"translate(95.410156 0)\"/>\n      </g>\n     </g>\n    </g>\n    <g id=\"ytick_5\">\n     <g id=\"line2d_23\">\n      <path d=\"M 30.103125 128.792923 \nL 705.573125 128.792923 \n\" clip-path=\"url(#p2c3517f703)\" style=\"fill: none; stroke: #b0b0b0; stroke-width: 0.8; stroke-linecap: square\"/>\n     </g>\n     <g id=\"line2d_24\">\n      <g>\n       <use xlink:href=\"#mc3fee80c84\" x=\"30.103125\" y=\"128.792923\" style=\"stroke: #000000; stroke-width: 0.8\"/>\n      </g>\n     </g>\n     <g id=\"text_13\">\n      <!-- 1.6 -->\n      <g transform=\"translate(7.2 132.592142) scale(0.1 -0.1)\">\n       <use xlink:href=\"#DejaVuSans-31\"/>\n       <use xlink:href=\"#DejaVuSans-2e\" transform=\"translate(63.623047 0)\"/>\n       <use xlink:href=\"#DejaVuSans-36\" transform=\"translate(95.410156 0)\"/>\n      </g>\n     </g>\n    </g>\n    <g id=\"ytick_6\">\n     <g id=\"line2d_25\">\n      <path d=\"M 30.103125 89.701138 \nL 705.573125 89.701138 \n\" clip-path=\"url(#p2c3517f703)\" style=\"fill: none; stroke: #b0b0b0; stroke-width: 0.8; stroke-linecap: square\"/>\n     </g>\n     <g id=\"line2d_26\">\n      <g>\n       <use xlink:href=\"#mc3fee80c84\" x=\"30.103125\" y=\"89.701138\" style=\"stroke: #000000; stroke-width: 0.8\"/>\n      </g>\n     </g>\n     <g id=\"text_14\">\n      <!-- 1.8 -->\n      <g transform=\"translate(7.2 93.500357) scale(0.1 -0.1)\">\n       <use xlink:href=\"#DejaVuSans-31\"/>\n       <use xlink:href=\"#DejaVuSans-2e\" transform=\"translate(63.623047 0)\"/>\n       <use xlink:href=\"#DejaVuSans-38\" transform=\"translate(95.410156 0)\"/>\n      </g>\n     </g>\n    </g>\n    <g id=\"ytick_7\">\n     <g id=\"line2d_27\">\n      <path d=\"M 30.103125 50.609353 \nL 705.573125 50.609353 \n\" clip-path=\"url(#p2c3517f703)\" style=\"fill: none; stroke: #b0b0b0; stroke-width: 0.8; stroke-linecap: square\"/>\n     </g>\n     <g id=\"line2d_28\">\n      <g>\n       <use xlink:href=\"#mc3fee80c84\" x=\"30.103125\" y=\"50.609353\" style=\"stroke: #000000; stroke-width: 0.8\"/>\n      </g>\n     </g>\n     <g id=\"text_15\">\n      <!-- 2.0 -->\n      <g transform=\"translate(7.2 54.408571) scale(0.1 -0.1)\">\n       <use xlink:href=\"#DejaVuSans-32\"/>\n       <use xlink:href=\"#DejaVuSans-2e\" transform=\"translate(63.623047 0)\"/>\n       <use xlink:href=\"#DejaVuSans-30\" transform=\"translate(95.410156 0)\"/>\n      </g>\n     </g>\n    </g>\n   </g>\n   <g id=\"line2d_29\">\n    <path d=\"M 60.806307 61.988895 \nL 104.667995 120.871441 \nL 148.529683 142.009139 \nL 192.391372 156.236516 \nL 236.25306 168.603768 \nL 280.114748 179.849078 \nL 323.976437 190.548345 \nL 367.838125 199.409442 \nL 411.699813 214.623317 \nL 455.561502 223.13907 \nL 499.42319 240.623142 \nL 543.284878 255.998876 \nL 587.146567 271.190239 \nL 631.008255 286.800951 \nL 674.869943 305.398125 \n\" clip-path=\"url(#p2c3517f703)\" style=\"fill: none; stroke: #000000; stroke-width: 1.5; stroke-linecap: square\"/>\n   </g>\n   <g id=\"line2d_30\">\n    <path d=\"M 60.806307 54.332516 \nL 104.667995 114.473879 \nL 148.529683 133.572015 \nL 192.391372 153.304838 \nL 236.25306 165.489665 \nL 280.114748 175.692453 \nL 323.976437 188.276255 \nL 367.838125 197.658081 \nL 411.699813 211.336463 \nL 455.561502 216.328016 \nL 499.42319 236.919106 \nL 543.284878 252.146327 \nL 587.146567 268.02489 \nL 631.008255 282.658558 \nL 674.869943 301.664256 \n\" clip-path=\"url(#p2c3517f703)\" style=\"fill: none; stroke: #ff0000; stroke-width: 1.5; stroke-linecap: square\"/>\n   </g>\n   <g id=\"line2d_31\">\n    <path d=\"M 60.806307 49.224913 \nL 104.667995 97.653353 \nL 148.529683 124.010536 \nL 192.391372 139.760708 \nL 236.25306 150.316479 \nL 280.114748 158.657432 \nL 323.976437 163.338381 \nL 367.838125 168.907127 \nL 411.699813 174.259327 \nL 455.561502 176.884356 \nL 499.42319 184.049412 \nL 543.284878 189.770989 \nL 587.146567 191.767584 \nL 631.008255 198.096881 \nL 674.869943 203.174364 \n\" clip-path=\"url(#p2c3517f703)\" style=\"fill: none; stroke: #0000ff; stroke-width: 1.5; stroke-linecap: square\"/>\n   </g>\n   <g id=\"line2d_32\">\n    <path d=\"M 60.806307 61.988895 \nL 104.667995 120.871441 \nL 148.529683 142.009139 \nL 192.391372 156.236516 \nL 236.25306 168.603768 \nL 280.114748 179.849078 \nL 323.976437 190.548345 \nL 367.838125 199.409442 \nL 411.699813 214.623317 \nL 455.561502 223.13907 \nL 499.42319 240.623142 \nL 543.284878 255.998876 \nL 587.146567 271.190239 \nL 631.008255 286.800951 \nL 674.869943 305.398125 \n\" clip-path=\"url(#p2c3517f703)\" style=\"fill: none; stroke: #008000; stroke-width: 1.5; stroke-linecap: square\"/>\n   </g>\n   <g id=\"line2d_33\">\n    <path d=\"M 60.806307 48.138614 \nL 104.667995 67.490868 \nL 148.529683 108.394377 \nL 192.391372 118.581908 \nL 236.25306 136.021099 \nL 280.114748 143.887479 \nL 323.976437 152.211784 \nL 367.838125 156.838769 \nL 411.699813 162.931154 \nL 455.561502 168.737395 \nL 499.42319 172.207139 \nL 543.284878 178.465556 \nL 587.146567 178.491944 \nL 631.008255 186.370458 \nL 674.869943 189.954058 \n\" clip-path=\"url(#p2c3517f703)\" style=\"fill: none; stroke: #ffa500; stroke-width: 1.5; stroke-linecap: square\"/>\n   </g>\n   <g id=\"line2d_34\">\n    <path d=\"M 60.806307 67.184894 \nL 104.667995 109.777591 \nL 148.529683 128.737953 \nL 192.391372 148.701371 \nL 236.25306 157.143354 \nL 280.114748 173.073702 \nL 323.976437 181.972167 \nL 367.838125 189.036459 \nL 411.699813 199.899886 \nL 455.561502 215.480161 \nL 499.42319 228.450964 \nL 543.284878 240.346189 \nL 587.146567 251.945838 \nL 631.008255 275.303786 \nL 674.869943 290.342389 \n\" clip-path=\"url(#p2c3517f703)\" style=\"fill: none; stroke: #800080; stroke-width: 1.5; stroke-linecap: square\"/>\n   </g>\n   <g id=\"line2d_35\">\n    <path d=\"M 60.806307 35.798125 \nL 104.667995 107.797224 \nL 148.529683 126.40172 \nL 192.391372 136.307493 \nL 236.25306 151.690268 \nL 280.114748 163.323398 \nL 323.976437 169.264418 \nL 367.838125 175.439085 \nL 411.699813 180.550744 \nL 455.561502 188.399035 \nL 499.42319 194.907939 \nL 543.284878 198.066861 \nL 587.146567 206.417502 \nL 631.008255 212.657104 \nL 674.869943 217.976539 \n\" clip-path=\"url(#p2c3517f703)\" style=\"fill: none; stroke: #00ffff; stroke-width: 1.5; stroke-linecap: square\"/>\n   </g>\n   <g id=\"patch_3\">\n    <path d=\"M 30.103125 318.878125 \nL 30.103125 22.318125 \n\" style=\"fill: none; stroke: #000000; stroke-width: 0.8; stroke-linejoin: miter; stroke-linecap: square\"/>\n   </g>\n   <g id=\"patch_4\">\n    <path d=\"M 705.573125 318.878125 \nL 705.573125 22.318125 \n\" style=\"fill: none; stroke: #000000; stroke-width: 0.8; stroke-linejoin: miter; stroke-linecap: square\"/>\n   </g>\n   <g id=\"patch_5\">\n    <path d=\"M 30.103125 318.878125 \nL 705.573125 318.878125 \n\" style=\"fill: none; stroke: #000000; stroke-width: 0.8; stroke-linejoin: miter; stroke-linecap: square\"/>\n   </g>\n   <g id=\"patch_6\">\n    <path d=\"M 30.103125 22.318125 \nL 705.573125 22.318125 \n\" style=\"fill: none; stroke: #000000; stroke-width: 0.8; stroke-linejoin: miter; stroke-linecap: square\"/>\n   </g>\n   <g id=\"text_16\">\n    <!-- Train CrossEntropy Loss -->\n    <g transform=\"translate(296.718437 16.318125) scale(0.12 -0.12)\">\n     <defs>\n      <path id=\"DejaVuSans-54\" d=\"M -19 4666 \nL 3928 4666 \nL 3928 4134 \nL 2272 4134 \nL 2272 0 \nL 1638 0 \nL 1638 4134 \nL -19 4134 \nL -19 4666 \nz\n\" transform=\"scale(0.015625)\"/>\n      <path id=\"DejaVuSans-72\" d=\"M 2631 2963 \nQ 2534 3019 2420 3045 \nQ 2306 3072 2169 3072 \nQ 1681 3072 1420 2755 \nQ 1159 2438 1159 1844 \nL 1159 0 \nL 581 0 \nL 581 3500 \nL 1159 3500 \nL 1159 2956 \nQ 1341 3275 1631 3429 \nQ 1922 3584 2338 3584 \nQ 2397 3584 2469 3576 \nQ 2541 3569 2628 3553 \nL 2631 2963 \nz\n\" transform=\"scale(0.015625)\"/>\n      <path id=\"DejaVuSans-61\" d=\"M 2194 1759 \nQ 1497 1759 1228 1600 \nQ 959 1441 959 1056 \nQ 959 750 1161 570 \nQ 1363 391 1709 391 \nQ 2188 391 2477 730 \nQ 2766 1069 2766 1631 \nL 2766 1759 \nL 2194 1759 \nz\nM 3341 1997 \nL 3341 0 \nL 2766 0 \nL 2766 531 \nQ 2569 213 2275 61 \nQ 1981 -91 1556 -91 \nQ 1019 -91 701 211 \nQ 384 513 384 1019 \nQ 384 1609 779 1909 \nQ 1175 2209 1959 2209 \nL 2766 2209 \nL 2766 2266 \nQ 2766 2663 2505 2880 \nQ 2244 3097 1772 3097 \nQ 1472 3097 1187 3025 \nQ 903 2953 641 2809 \nL 641 3341 \nQ 956 3463 1253 3523 \nQ 1550 3584 1831 3584 \nQ 2591 3584 2966 3190 \nQ 3341 2797 3341 1997 \nz\n\" transform=\"scale(0.015625)\"/>\n      <path id=\"DejaVuSans-69\" d=\"M 603 3500 \nL 1178 3500 \nL 1178 0 \nL 603 0 \nL 603 3500 \nz\nM 603 4863 \nL 1178 4863 \nL 1178 4134 \nL 603 4134 \nL 603 4863 \nz\n\" transform=\"scale(0.015625)\"/>\n      <path id=\"DejaVuSans-6e\" d=\"M 3513 2113 \nL 3513 0 \nL 2938 0 \nL 2938 2094 \nQ 2938 2591 2744 2837 \nQ 2550 3084 2163 3084 \nQ 1697 3084 1428 2787 \nQ 1159 2491 1159 1978 \nL 1159 0 \nL 581 0 \nL 581 3500 \nL 1159 3500 \nL 1159 2956 \nQ 1366 3272 1645 3428 \nQ 1925 3584 2291 3584 \nQ 2894 3584 3203 3211 \nQ 3513 2838 3513 2113 \nz\n\" transform=\"scale(0.015625)\"/>\n      <path id=\"DejaVuSans-20\" transform=\"scale(0.015625)\"/>\n      <path id=\"DejaVuSans-43\" d=\"M 4122 4306 \nL 4122 3641 \nQ 3803 3938 3442 4084 \nQ 3081 4231 2675 4231 \nQ 1875 4231 1450 3742 \nQ 1025 3253 1025 2328 \nQ 1025 1406 1450 917 \nQ 1875 428 2675 428 \nQ 3081 428 3442 575 \nQ 3803 722 4122 1019 \nL 4122 359 \nQ 3791 134 3420 21 \nQ 3050 -91 2638 -91 \nQ 1578 -91 968 557 \nQ 359 1206 359 2328 \nQ 359 3453 968 4101 \nQ 1578 4750 2638 4750 \nQ 3056 4750 3426 4639 \nQ 3797 4528 4122 4306 \nz\n\" transform=\"scale(0.015625)\"/>\n      <path id=\"DejaVuSans-73\" d=\"M 2834 3397 \nL 2834 2853 \nQ 2591 2978 2328 3040 \nQ 2066 3103 1784 3103 \nQ 1356 3103 1142 2972 \nQ 928 2841 928 2578 \nQ 928 2378 1081 2264 \nQ 1234 2150 1697 2047 \nL 1894 2003 \nQ 2506 1872 2764 1633 \nQ 3022 1394 3022 966 \nQ 3022 478 2636 193 \nQ 2250 -91 1575 -91 \nQ 1294 -91 989 -36 \nQ 684 19 347 128 \nL 347 722 \nQ 666 556 975 473 \nQ 1284 391 1588 391 \nQ 1994 391 2212 530 \nQ 2431 669 2431 922 \nQ 2431 1156 2273 1281 \nQ 2116 1406 1581 1522 \nL 1381 1569 \nQ 847 1681 609 1914 \nQ 372 2147 372 2553 \nQ 372 3047 722 3315 \nQ 1072 3584 1716 3584 \nQ 2034 3584 2315 3537 \nQ 2597 3491 2834 3397 \nz\n\" transform=\"scale(0.015625)\"/>\n      <path id=\"DejaVuSans-74\" d=\"M 1172 4494 \nL 1172 3500 \nL 2356 3500 \nL 2356 3053 \nL 1172 3053 \nL 1172 1153 \nQ 1172 725 1289 603 \nQ 1406 481 1766 481 \nL 2356 481 \nL 2356 0 \nL 1766 0 \nQ 1100 0 847 248 \nQ 594 497 594 1153 \nL 594 3053 \nL 172 3053 \nL 172 3500 \nL 594 3500 \nL 594 4494 \nL 1172 4494 \nz\n\" transform=\"scale(0.015625)\"/>\n      <path id=\"DejaVuSans-79\" d=\"M 2059 -325 \nQ 1816 -950 1584 -1140 \nQ 1353 -1331 966 -1331 \nL 506 -1331 \nL 506 -850 \nL 844 -850 \nQ 1081 -850 1212 -737 \nQ 1344 -625 1503 -206 \nL 1606 56 \nL 191 3500 \nL 800 3500 \nL 1894 763 \nL 2988 3500 \nL 3597 3500 \nL 2059 -325 \nz\n\" transform=\"scale(0.015625)\"/>\n      <path id=\"DejaVuSans-4c\" d=\"M 628 4666 \nL 1259 4666 \nL 1259 531 \nL 3531 531 \nL 3531 0 \nL 628 0 \nL 628 4666 \nz\n\" transform=\"scale(0.015625)\"/>\n     </defs>\n     <use xlink:href=\"#DejaVuSans-54\"/>\n     <use xlink:href=\"#DejaVuSans-72\" transform=\"translate(46.333984 0)\"/>\n     <use xlink:href=\"#DejaVuSans-61\" transform=\"translate(87.447266 0)\"/>\n     <use xlink:href=\"#DejaVuSans-69\" transform=\"translate(148.726562 0)\"/>\n     <use xlink:href=\"#DejaVuSans-6e\" transform=\"translate(176.509766 0)\"/>\n     <use xlink:href=\"#DejaVuSans-20\" transform=\"translate(239.888672 0)\"/>\n     <use xlink:href=\"#DejaVuSans-43\" transform=\"translate(271.675781 0)\"/>\n     <use xlink:href=\"#DejaVuSans-72\" transform=\"translate(341.5 0)\"/>\n     <use xlink:href=\"#DejaVuSans-6f\" transform=\"translate(380.363281 0)\"/>\n     <use xlink:href=\"#DejaVuSans-73\" transform=\"translate(441.544922 0)\"/>\n     <use xlink:href=\"#DejaVuSans-73\" transform=\"translate(493.644531 0)\"/>\n     <use xlink:href=\"#DejaVuSans-45\" transform=\"translate(545.744141 0)\"/>\n     <use xlink:href=\"#DejaVuSans-6e\" transform=\"translate(608.927734 0)\"/>\n     <use xlink:href=\"#DejaVuSans-74\" transform=\"translate(672.306641 0)\"/>\n     <use xlink:href=\"#DejaVuSans-72\" transform=\"translate(711.515625 0)\"/>\n     <use xlink:href=\"#DejaVuSans-6f\" transform=\"translate(750.378906 0)\"/>\n     <use xlink:href=\"#DejaVuSans-70\" transform=\"translate(811.560547 0)\"/>\n     <use xlink:href=\"#DejaVuSans-79\" transform=\"translate(875.037109 0)\"/>\n     <use xlink:href=\"#DejaVuSans-20\" transform=\"translate(934.216797 0)\"/>\n     <use xlink:href=\"#DejaVuSans-4c\" transform=\"translate(966.003906 0)\"/>\n     <use xlink:href=\"#DejaVuSans-6f\" transform=\"translate(1019.966797 0)\"/>\n     <use xlink:href=\"#DejaVuSans-73\" transform=\"translate(1081.148438 0)\"/>\n     <use xlink:href=\"#DejaVuSans-73\" transform=\"translate(1133.248047 0)\"/>\n    </g>\n   </g>\n   <g id=\"legend_1\">\n    <g id=\"patch_7\">\n     <path d=\"M 531.398125 133.065 \nL 698.573125 133.065 \nQ 700.573125 133.065 700.573125 131.065 \nL 700.573125 29.318125 \nQ 700.573125 27.318125 698.573125 27.318125 \nL 531.398125 27.318125 \nQ 529.398125 27.318125 529.398125 29.318125 \nL 529.398125 131.065 \nQ 529.398125 133.065 531.398125 133.065 \nz\n\" style=\"fill: #ffffff; opacity: 0.8; stroke: #cccccc; stroke-linejoin: miter\"/>\n    </g>\n    <g id=\"line2d_36\">\n     <path d=\"M 533.398125 35.416562 \nL 543.398125 35.416562 \nL 553.398125 35.416562 \n\" style=\"fill: none; stroke: #000000; stroke-width: 1.5; stroke-linecap: square\"/>\n    </g>\n    <g id=\"text_17\">\n     <!-- LSTM -->\n     <g transform=\"translate(561.398125 38.916562) scale(0.1 -0.1)\">\n      <defs>\n       <path id=\"DejaVuSans-53\" d=\"M 3425 4513 \nL 3425 3897 \nQ 3066 4069 2747 4153 \nQ 2428 4238 2131 4238 \nQ 1616 4238 1336 4038 \nQ 1056 3838 1056 3469 \nQ 1056 3159 1242 3001 \nQ 1428 2844 1947 2747 \nL 2328 2669 \nQ 3034 2534 3370 2195 \nQ 3706 1856 3706 1288 \nQ 3706 609 3251 259 \nQ 2797 -91 1919 -91 \nQ 1588 -91 1214 -16 \nQ 841 59 441 206 \nL 441 856 \nQ 825 641 1194 531 \nQ 1563 422 1919 422 \nQ 2459 422 2753 634 \nQ 3047 847 3047 1241 \nQ 3047 1584 2836 1778 \nQ 2625 1972 2144 2069 \nL 1759 2144 \nQ 1053 2284 737 2584 \nQ 422 2884 422 3419 \nQ 422 4038 858 4394 \nQ 1294 4750 2059 4750 \nQ 2388 4750 2728 4690 \nQ 3069 4631 3425 4513 \nz\n\" transform=\"scale(0.015625)\"/>\n       <path id=\"DejaVuSans-4d\" d=\"M 628 4666 \nL 1569 4666 \nL 2759 1491 \nL 3956 4666 \nL 4897 4666 \nL 4897 0 \nL 4281 0 \nL 4281 4097 \nL 3078 897 \nL 2444 897 \nL 1241 4097 \nL 1241 0 \nL 628 0 \nL 628 4666 \nz\n\" transform=\"scale(0.015625)\"/>\n      </defs>\n      <use xlink:href=\"#DejaVuSans-4c\"/>\n      <use xlink:href=\"#DejaVuSans-53\" transform=\"translate(55.712891 0)\"/>\n      <use xlink:href=\"#DejaVuSans-54\" transform=\"translate(119.189453 0)\"/>\n      <use xlink:href=\"#DejaVuSans-4d\" transform=\"translate(180.273438 0)\"/>\n     </g>\n    </g>\n    <g id=\"line2d_37\">\n     <path d=\"M 533.398125 50.094687 \nL 543.398125 50.094687 \nL 553.398125 50.094687 \n\" style=\"fill: none; stroke: #ff0000; stroke-width: 1.5; stroke-linecap: square\"/>\n    </g>\n    <g id=\"text_18\">\n     <!-- RNNLayer -->\n     <g transform=\"translate(561.398125 53.594687) scale(0.1 -0.1)\">\n      <defs>\n       <path id=\"DejaVuSans-52\" d=\"M 2841 2188 \nQ 3044 2119 3236 1894 \nQ 3428 1669 3622 1275 \nL 4263 0 \nL 3584 0 \nL 2988 1197 \nQ 2756 1666 2539 1819 \nQ 2322 1972 1947 1972 \nL 1259 1972 \nL 1259 0 \nL 628 0 \nL 628 4666 \nL 2053 4666 \nQ 2853 4666 3247 4331 \nQ 3641 3997 3641 3322 \nQ 3641 2881 3436 2590 \nQ 3231 2300 2841 2188 \nz\nM 1259 4147 \nL 1259 2491 \nL 2053 2491 \nQ 2509 2491 2742 2702 \nQ 2975 2913 2975 3322 \nQ 2975 3731 2742 3939 \nQ 2509 4147 2053 4147 \nL 1259 4147 \nz\n\" transform=\"scale(0.015625)\"/>\n       <path id=\"DejaVuSans-4e\" d=\"M 628 4666 \nL 1478 4666 \nL 3547 763 \nL 3547 4666 \nL 4159 4666 \nL 4159 0 \nL 3309 0 \nL 1241 3903 \nL 1241 0 \nL 628 0 \nL 628 4666 \nz\n\" transform=\"scale(0.015625)\"/>\n       <path id=\"DejaVuSans-65\" d=\"M 3597 1894 \nL 3597 1613 \nL 953 1613 \nQ 991 1019 1311 708 \nQ 1631 397 2203 397 \nQ 2534 397 2845 478 \nQ 3156 559 3463 722 \nL 3463 178 \nQ 3153 47 2828 -22 \nQ 2503 -91 2169 -91 \nQ 1331 -91 842 396 \nQ 353 884 353 1716 \nQ 353 2575 817 3079 \nQ 1281 3584 2069 3584 \nQ 2775 3584 3186 3129 \nQ 3597 2675 3597 1894 \nz\nM 3022 2063 \nQ 3016 2534 2758 2815 \nQ 2500 3097 2075 3097 \nQ 1594 3097 1305 2825 \nQ 1016 2553 972 2059 \nL 3022 2063 \nz\n\" transform=\"scale(0.015625)\"/>\n      </defs>\n      <use xlink:href=\"#DejaVuSans-52\"/>\n      <use xlink:href=\"#DejaVuSans-4e\" transform=\"translate(69.482422 0)\"/>\n      <use xlink:href=\"#DejaVuSans-4e\" transform=\"translate(144.287109 0)\"/>\n      <use xlink:href=\"#DejaVuSans-4c\" transform=\"translate(219.091797 0)\"/>\n      <use xlink:href=\"#DejaVuSans-61\" transform=\"translate(274.804688 0)\"/>\n      <use xlink:href=\"#DejaVuSans-79\" transform=\"translate(336.083984 0)\"/>\n      <use xlink:href=\"#DejaVuSans-65\" transform=\"translate(395.263672 0)\"/>\n      <use xlink:href=\"#DejaVuSans-72\" transform=\"translate(456.787109 0)\"/>\n     </g>\n    </g>\n    <g id=\"line2d_38\">\n     <path d=\"M 533.398125 64.772812 \nL 543.398125 64.772812 \nL 553.398125 64.772812 \n\" style=\"fill: none; stroke: #0000ff; stroke-width: 1.5; stroke-linecap: square\"/>\n    </g>\n    <g id=\"text_19\">\n     <!-- RNNLayer + dropout -->\n     <g transform=\"translate(561.398125 68.272812) scale(0.1 -0.1)\">\n      <defs>\n       <path id=\"DejaVuSans-2b\" d=\"M 2944 4013 \nL 2944 2272 \nL 4684 2272 \nL 4684 1741 \nL 2944 1741 \nL 2944 0 \nL 2419 0 \nL 2419 1741 \nL 678 1741 \nL 678 2272 \nL 2419 2272 \nL 2419 4013 \nL 2944 4013 \nz\n\" transform=\"scale(0.015625)\"/>\n       <path id=\"DejaVuSans-64\" d=\"M 2906 2969 \nL 2906 4863 \nL 3481 4863 \nL 3481 0 \nL 2906 0 \nL 2906 525 \nQ 2725 213 2448 61 \nQ 2172 -91 1784 -91 \nQ 1150 -91 751 415 \nQ 353 922 353 1747 \nQ 353 2572 751 3078 \nQ 1150 3584 1784 3584 \nQ 2172 3584 2448 3432 \nQ 2725 3281 2906 2969 \nz\nM 947 1747 \nQ 947 1113 1208 752 \nQ 1469 391 1925 391 \nQ 2381 391 2643 752 \nQ 2906 1113 2906 1747 \nQ 2906 2381 2643 2742 \nQ 2381 3103 1925 3103 \nQ 1469 3103 1208 2742 \nQ 947 2381 947 1747 \nz\n\" transform=\"scale(0.015625)\"/>\n       <path id=\"DejaVuSans-75\" d=\"M 544 1381 \nL 544 3500 \nL 1119 3500 \nL 1119 1403 \nQ 1119 906 1312 657 \nQ 1506 409 1894 409 \nQ 2359 409 2629 706 \nQ 2900 1003 2900 1516 \nL 2900 3500 \nL 3475 3500 \nL 3475 0 \nL 2900 0 \nL 2900 538 \nQ 2691 219 2414 64 \nQ 2138 -91 1772 -91 \nQ 1169 -91 856 284 \nQ 544 659 544 1381 \nz\nM 1991 3584 \nL 1991 3584 \nz\n\" transform=\"scale(0.015625)\"/>\n      </defs>\n      <use xlink:href=\"#DejaVuSans-52\"/>\n      <use xlink:href=\"#DejaVuSans-4e\" transform=\"translate(69.482422 0)\"/>\n      <use xlink:href=\"#DejaVuSans-4e\" transform=\"translate(144.287109 0)\"/>\n      <use xlink:href=\"#DejaVuSans-4c\" transform=\"translate(219.091797 0)\"/>\n      <use xlink:href=\"#DejaVuSans-61\" transform=\"translate(274.804688 0)\"/>\n      <use xlink:href=\"#DejaVuSans-79\" transform=\"translate(336.083984 0)\"/>\n      <use xlink:href=\"#DejaVuSans-65\" transform=\"translate(395.263672 0)\"/>\n      <use xlink:href=\"#DejaVuSans-72\" transform=\"translate(456.787109 0)\"/>\n      <use xlink:href=\"#DejaVuSans-20\" transform=\"translate(497.900391 0)\"/>\n      <use xlink:href=\"#DejaVuSans-2b\" transform=\"translate(529.6875 0)\"/>\n      <use xlink:href=\"#DejaVuSans-20\" transform=\"translate(613.476562 0)\"/>\n      <use xlink:href=\"#DejaVuSans-64\" transform=\"translate(645.263672 0)\"/>\n      <use xlink:href=\"#DejaVuSans-72\" transform=\"translate(708.740234 0)\"/>\n      <use xlink:href=\"#DejaVuSans-6f\" transform=\"translate(747.603516 0)\"/>\n      <use xlink:href=\"#DejaVuSans-70\" transform=\"translate(808.785156 0)\"/>\n      <use xlink:href=\"#DejaVuSans-6f\" transform=\"translate(872.261719 0)\"/>\n      <use xlink:href=\"#DejaVuSans-75\" transform=\"translate(933.443359 0)\"/>\n      <use xlink:href=\"#DejaVuSans-74\" transform=\"translate(996.822266 0)\"/>\n     </g>\n    </g>\n    <g id=\"line2d_39\">\n     <path d=\"M 533.398125 79.450937 \nL 543.398125 79.450937 \nL 553.398125 79.450937 \n\" style=\"fill: none; stroke: #008000; stroke-width: 1.5; stroke-linecap: square\"/>\n    </g>\n    <g id=\"text_20\">\n     <!-- FastRNNLayer -->\n     <g transform=\"translate(561.398125 82.950937) scale(0.1 -0.1)\">\n      <defs>\n       <path id=\"DejaVuSans-46\" d=\"M 628 4666 \nL 3309 4666 \nL 3309 4134 \nL 1259 4134 \nL 1259 2759 \nL 3109 2759 \nL 3109 2228 \nL 1259 2228 \nL 1259 0 \nL 628 0 \nL 628 4666 \nz\n\" transform=\"scale(0.015625)\"/>\n      </defs>\n      <use xlink:href=\"#DejaVuSans-46\"/>\n      <use xlink:href=\"#DejaVuSans-61\" transform=\"translate(48.394531 0)\"/>\n      <use xlink:href=\"#DejaVuSans-73\" transform=\"translate(109.673828 0)\"/>\n      <use xlink:href=\"#DejaVuSans-74\" transform=\"translate(161.773438 0)\"/>\n      <use xlink:href=\"#DejaVuSans-52\" transform=\"translate(200.982422 0)\"/>\n      <use xlink:href=\"#DejaVuSans-4e\" transform=\"translate(270.464844 0)\"/>\n      <use xlink:href=\"#DejaVuSans-4e\" transform=\"translate(345.269531 0)\"/>\n      <use xlink:href=\"#DejaVuSans-4c\" transform=\"translate(420.074219 0)\"/>\n      <use xlink:href=\"#DejaVuSans-61\" transform=\"translate(475.787109 0)\"/>\n      <use xlink:href=\"#DejaVuSans-79\" transform=\"translate(537.066406 0)\"/>\n      <use xlink:href=\"#DejaVuSans-65\" transform=\"translate(596.246094 0)\"/>\n      <use xlink:href=\"#DejaVuSans-72\" transform=\"translate(657.769531 0)\"/>\n     </g>\n    </g>\n    <g id=\"line2d_40\">\n     <path d=\"M 533.398125 94.129062 \nL 543.398125 94.129062 \nL 553.398125 94.129062 \n\" style=\"fill: none; stroke: #ffa500; stroke-width: 1.5; stroke-linecap: square\"/>\n    </g>\n    <g id=\"text_21\">\n     <!-- FastRNNLayer + dropout -->\n     <g transform=\"translate(561.398125 97.629062) scale(0.1 -0.1)\">\n      <use xlink:href=\"#DejaVuSans-46\"/>\n      <use xlink:href=\"#DejaVuSans-61\" transform=\"translate(48.394531 0)\"/>\n      <use xlink:href=\"#DejaVuSans-73\" transform=\"translate(109.673828 0)\"/>\n      <use xlink:href=\"#DejaVuSans-74\" transform=\"translate(161.773438 0)\"/>\n      <use xlink:href=\"#DejaVuSans-52\" transform=\"translate(200.982422 0)\"/>\n      <use xlink:href=\"#DejaVuSans-4e\" transform=\"translate(270.464844 0)\"/>\n      <use xlink:href=\"#DejaVuSans-4e\" transform=\"translate(345.269531 0)\"/>\n      <use xlink:href=\"#DejaVuSans-4c\" transform=\"translate(420.074219 0)\"/>\n      <use xlink:href=\"#DejaVuSans-61\" transform=\"translate(475.787109 0)\"/>\n      <use xlink:href=\"#DejaVuSans-79\" transform=\"translate(537.066406 0)\"/>\n      <use xlink:href=\"#DejaVuSans-65\" transform=\"translate(596.246094 0)\"/>\n      <use xlink:href=\"#DejaVuSans-72\" transform=\"translate(657.769531 0)\"/>\n      <use xlink:href=\"#DejaVuSans-20\" transform=\"translate(698.882812 0)\"/>\n      <use xlink:href=\"#DejaVuSans-2b\" transform=\"translate(730.669922 0)\"/>\n      <use xlink:href=\"#DejaVuSans-20\" transform=\"translate(814.458984 0)\"/>\n      <use xlink:href=\"#DejaVuSans-64\" transform=\"translate(846.246094 0)\"/>\n      <use xlink:href=\"#DejaVuSans-72\" transform=\"translate(909.722656 0)\"/>\n      <use xlink:href=\"#DejaVuSans-6f\" transform=\"translate(948.585938 0)\"/>\n      <use xlink:href=\"#DejaVuSans-70\" transform=\"translate(1009.767578 0)\"/>\n      <use xlink:href=\"#DejaVuSans-6f\" transform=\"translate(1073.244141 0)\"/>\n      <use xlink:href=\"#DejaVuSans-75\" transform=\"translate(1134.425781 0)\"/>\n      <use xlink:href=\"#DejaVuSans-74\" transform=\"translate(1197.804688 0)\"/>\n     </g>\n    </g>\n    <g id=\"line2d_41\">\n     <path d=\"M 533.398125 108.807187 \nL 543.398125 108.807187 \nL 553.398125 108.807187 \n\" style=\"fill: none; stroke: #800080; stroke-width: 1.5; stroke-linecap: square\"/>\n    </g>\n    <g id=\"text_22\">\n     <!-- HandmadeLSTM -->\n     <g transform=\"translate(561.398125 112.307187) scale(0.1 -0.1)\">\n      <defs>\n       <path id=\"DejaVuSans-48\" d=\"M 628 4666 \nL 1259 4666 \nL 1259 2753 \nL 3553 2753 \nL 3553 4666 \nL 4184 4666 \nL 4184 0 \nL 3553 0 \nL 3553 2222 \nL 1259 2222 \nL 1259 0 \nL 628 0 \nL 628 4666 \nz\n\" transform=\"scale(0.015625)\"/>\n       <path id=\"DejaVuSans-6d\" d=\"M 3328 2828 \nQ 3544 3216 3844 3400 \nQ 4144 3584 4550 3584 \nQ 5097 3584 5394 3201 \nQ 5691 2819 5691 2113 \nL 5691 0 \nL 5113 0 \nL 5113 2094 \nQ 5113 2597 4934 2840 \nQ 4756 3084 4391 3084 \nQ 3944 3084 3684 2787 \nQ 3425 2491 3425 1978 \nL 3425 0 \nL 2847 0 \nL 2847 2094 \nQ 2847 2600 2669 2842 \nQ 2491 3084 2119 3084 \nQ 1678 3084 1418 2786 \nQ 1159 2488 1159 1978 \nL 1159 0 \nL 581 0 \nL 581 3500 \nL 1159 3500 \nL 1159 2956 \nQ 1356 3278 1631 3431 \nQ 1906 3584 2284 3584 \nQ 2666 3584 2933 3390 \nQ 3200 3197 3328 2828 \nz\n\" transform=\"scale(0.015625)\"/>\n      </defs>\n      <use xlink:href=\"#DejaVuSans-48\"/>\n      <use xlink:href=\"#DejaVuSans-61\" transform=\"translate(75.195312 0)\"/>\n      <use xlink:href=\"#DejaVuSans-6e\" transform=\"translate(136.474609 0)\"/>\n      <use xlink:href=\"#DejaVuSans-64\" transform=\"translate(199.853516 0)\"/>\n      <use xlink:href=\"#DejaVuSans-6d\" transform=\"translate(263.330078 0)\"/>\n      <use xlink:href=\"#DejaVuSans-61\" transform=\"translate(360.742188 0)\"/>\n      <use xlink:href=\"#DejaVuSans-64\" transform=\"translate(422.021484 0)\"/>\n      <use xlink:href=\"#DejaVuSans-65\" transform=\"translate(485.498047 0)\"/>\n      <use xlink:href=\"#DejaVuSans-4c\" transform=\"translate(547.021484 0)\"/>\n      <use xlink:href=\"#DejaVuSans-53\" transform=\"translate(602.734375 0)\"/>\n      <use xlink:href=\"#DejaVuSans-54\" transform=\"translate(666.210938 0)\"/>\n      <use xlink:href=\"#DejaVuSans-4d\" transform=\"translate(727.294922 0)\"/>\n     </g>\n    </g>\n    <g id=\"line2d_42\">\n     <path d=\"M 533.398125 123.485312 \nL 543.398125 123.485312 \nL 553.398125 123.485312 \n\" style=\"fill: none; stroke: #00ffff; stroke-width: 1.5; stroke-linecap: square\"/>\n    </g>\n    <g id=\"text_23\">\n     <!-- HandmadeLSTM + dropout -->\n     <g transform=\"translate(561.398125 126.985312) scale(0.1 -0.1)\">\n      <use xlink:href=\"#DejaVuSans-48\"/>\n      <use xlink:href=\"#DejaVuSans-61\" transform=\"translate(75.195312 0)\"/>\n      <use xlink:href=\"#DejaVuSans-6e\" transform=\"translate(136.474609 0)\"/>\n      <use xlink:href=\"#DejaVuSans-64\" transform=\"translate(199.853516 0)\"/>\n      <use xlink:href=\"#DejaVuSans-6d\" transform=\"translate(263.330078 0)\"/>\n      <use xlink:href=\"#DejaVuSans-61\" transform=\"translate(360.742188 0)\"/>\n      <use xlink:href=\"#DejaVuSans-64\" transform=\"translate(422.021484 0)\"/>\n      <use xlink:href=\"#DejaVuSans-65\" transform=\"translate(485.498047 0)\"/>\n      <use xlink:href=\"#DejaVuSans-4c\" transform=\"translate(547.021484 0)\"/>\n      <use xlink:href=\"#DejaVuSans-53\" transform=\"translate(602.734375 0)\"/>\n      <use xlink:href=\"#DejaVuSans-54\" transform=\"translate(666.210938 0)\"/>\n      <use xlink:href=\"#DejaVuSans-4d\" transform=\"translate(727.294922 0)\"/>\n      <use xlink:href=\"#DejaVuSans-20\" transform=\"translate(813.574219 0)\"/>\n      <use xlink:href=\"#DejaVuSans-2b\" transform=\"translate(845.361328 0)\"/>\n      <use xlink:href=\"#DejaVuSans-20\" transform=\"translate(929.150391 0)\"/>\n      <use xlink:href=\"#DejaVuSans-64\" transform=\"translate(960.9375 0)\"/>\n      <use xlink:href=\"#DejaVuSans-72\" transform=\"translate(1024.414062 0)\"/>\n      <use xlink:href=\"#DejaVuSans-6f\" transform=\"translate(1063.277344 0)\"/>\n      <use xlink:href=\"#DejaVuSans-70\" transform=\"translate(1124.458984 0)\"/>\n      <use xlink:href=\"#DejaVuSans-6f\" transform=\"translate(1187.935547 0)\"/>\n      <use xlink:href=\"#DejaVuSans-75\" transform=\"translate(1249.117188 0)\"/>\n      <use xlink:href=\"#DejaVuSans-74\" transform=\"translate(1312.496094 0)\"/>\n     </g>\n    </g>\n   </g>\n  </g>\n  <g id=\"axes_2\">\n   <g id=\"patch_8\">\n    <path d=\"M 30.103125 673.478125 \nL 705.573125 673.478125 \nL 705.573125 376.918125 \nL 30.103125 376.918125 \nz\n\" style=\"fill: #ffffff\"/>\n   </g>\n   <g id=\"matplotlib.axis_3\">\n    <g id=\"xtick_8\">\n     <g id=\"line2d_43\">\n      <path d=\"M 104.667995 673.478125 \nL 104.667995 376.918125 \n\" clip-path=\"url(#p26993cdfbd)\" style=\"fill: none; stroke: #b0b0b0; stroke-width: 0.8; stroke-linecap: square\"/>\n     </g>\n     <g id=\"line2d_44\">\n      <g>\n       <use xlink:href=\"#m6e5976e74a\" x=\"104.667995\" y=\"673.478125\" style=\"stroke: #000000; stroke-width: 0.8\"/>\n      </g>\n     </g>\n     <g id=\"text_24\">\n      <!-- 2 -->\n      <g transform=\"translate(101.486745 688.076562) scale(0.1 -0.1)\">\n       <use xlink:href=\"#DejaVuSans-32\"/>\n      </g>\n     </g>\n    </g>\n    <g id=\"xtick_9\">\n     <g id=\"line2d_45\">\n      <path d=\"M 192.391372 673.478125 \nL 192.391372 376.918125 \n\" clip-path=\"url(#p26993cdfbd)\" style=\"fill: none; stroke: #b0b0b0; stroke-width: 0.8; stroke-linecap: square\"/>\n     </g>\n     <g id=\"line2d_46\">\n      <g>\n       <use xlink:href=\"#m6e5976e74a\" x=\"192.391372\" y=\"673.478125\" style=\"stroke: #000000; stroke-width: 0.8\"/>\n      </g>\n     </g>\n     <g id=\"text_25\">\n      <!-- 4 -->\n      <g transform=\"translate(189.210122 688.076562) scale(0.1 -0.1)\">\n       <use xlink:href=\"#DejaVuSans-34\"/>\n      </g>\n     </g>\n    </g>\n    <g id=\"xtick_10\">\n     <g id=\"line2d_47\">\n      <path d=\"M 280.114748 673.478125 \nL 280.114748 376.918125 \n\" clip-path=\"url(#p26993cdfbd)\" style=\"fill: none; stroke: #b0b0b0; stroke-width: 0.8; stroke-linecap: square\"/>\n     </g>\n     <g id=\"line2d_48\">\n      <g>\n       <use xlink:href=\"#m6e5976e74a\" x=\"280.114748\" y=\"673.478125\" style=\"stroke: #000000; stroke-width: 0.8\"/>\n      </g>\n     </g>\n     <g id=\"text_26\">\n      <!-- 6 -->\n      <g transform=\"translate(276.933498 688.076562) scale(0.1 -0.1)\">\n       <use xlink:href=\"#DejaVuSans-36\"/>\n      </g>\n     </g>\n    </g>\n    <g id=\"xtick_11\">\n     <g id=\"line2d_49\">\n      <path d=\"M 367.838125 673.478125 \nL 367.838125 376.918125 \n\" clip-path=\"url(#p26993cdfbd)\" style=\"fill: none; stroke: #b0b0b0; stroke-width: 0.8; stroke-linecap: square\"/>\n     </g>\n     <g id=\"line2d_50\">\n      <g>\n       <use xlink:href=\"#m6e5976e74a\" x=\"367.838125\" y=\"673.478125\" style=\"stroke: #000000; stroke-width: 0.8\"/>\n      </g>\n     </g>\n     <g id=\"text_27\">\n      <!-- 8 -->\n      <g transform=\"translate(364.656875 688.076562) scale(0.1 -0.1)\">\n       <use xlink:href=\"#DejaVuSans-38\"/>\n      </g>\n     </g>\n    </g>\n    <g id=\"xtick_12\">\n     <g id=\"line2d_51\">\n      <path d=\"M 455.561502 673.478125 \nL 455.561502 376.918125 \n\" clip-path=\"url(#p26993cdfbd)\" style=\"fill: none; stroke: #b0b0b0; stroke-width: 0.8; stroke-linecap: square\"/>\n     </g>\n     <g id=\"line2d_52\">\n      <g>\n       <use xlink:href=\"#m6e5976e74a\" x=\"455.561502\" y=\"673.478125\" style=\"stroke: #000000; stroke-width: 0.8\"/>\n      </g>\n     </g>\n     <g id=\"text_28\">\n      <!-- 10 -->\n      <g transform=\"translate(449.199002 688.076562) scale(0.1 -0.1)\">\n       <use xlink:href=\"#DejaVuSans-31\"/>\n       <use xlink:href=\"#DejaVuSans-30\" transform=\"translate(63.623047 0)\"/>\n      </g>\n     </g>\n    </g>\n    <g id=\"xtick_13\">\n     <g id=\"line2d_53\">\n      <path d=\"M 543.284878 673.478125 \nL 543.284878 376.918125 \n\" clip-path=\"url(#p26993cdfbd)\" style=\"fill: none; stroke: #b0b0b0; stroke-width: 0.8; stroke-linecap: square\"/>\n     </g>\n     <g id=\"line2d_54\">\n      <g>\n       <use xlink:href=\"#m6e5976e74a\" x=\"543.284878\" y=\"673.478125\" style=\"stroke: #000000; stroke-width: 0.8\"/>\n      </g>\n     </g>\n     <g id=\"text_29\">\n      <!-- 12 -->\n      <g transform=\"translate(536.922378 688.076562) scale(0.1 -0.1)\">\n       <use xlink:href=\"#DejaVuSans-31\"/>\n       <use xlink:href=\"#DejaVuSans-32\" transform=\"translate(63.623047 0)\"/>\n      </g>\n     </g>\n    </g>\n    <g id=\"xtick_14\">\n     <g id=\"line2d_55\">\n      <path d=\"M 631.008255 673.478125 \nL 631.008255 376.918125 \n\" clip-path=\"url(#p26993cdfbd)\" style=\"fill: none; stroke: #b0b0b0; stroke-width: 0.8; stroke-linecap: square\"/>\n     </g>\n     <g id=\"line2d_56\">\n      <g>\n       <use xlink:href=\"#m6e5976e74a\" x=\"631.008255\" y=\"673.478125\" style=\"stroke: #000000; stroke-width: 0.8\"/>\n      </g>\n     </g>\n     <g id=\"text_30\">\n      <!-- 14 -->\n      <g transform=\"translate(624.645755 688.076562) scale(0.1 -0.1)\">\n       <use xlink:href=\"#DejaVuSans-31\"/>\n       <use xlink:href=\"#DejaVuSans-34\" transform=\"translate(63.623047 0)\"/>\n      </g>\n     </g>\n    </g>\n    <g id=\"text_31\">\n     <!-- Epoch -->\n     <g transform=\"translate(352.527187 701.754687) scale(0.1 -0.1)\">\n      <use xlink:href=\"#DejaVuSans-45\"/>\n      <use xlink:href=\"#DejaVuSans-70\" transform=\"translate(63.183594 0)\"/>\n      <use xlink:href=\"#DejaVuSans-6f\" transform=\"translate(126.660156 0)\"/>\n      <use xlink:href=\"#DejaVuSans-63\" transform=\"translate(187.841797 0)\"/>\n      <use xlink:href=\"#DejaVuSans-68\" transform=\"translate(242.822266 0)\"/>\n     </g>\n    </g>\n   </g>\n   <g id=\"matplotlib.axis_4\">\n    <g id=\"ytick_8\">\n     <g id=\"line2d_57\">\n      <path d=\"M 30.103125 622.343573 \nL 705.573125 622.343573 \n\" clip-path=\"url(#p26993cdfbd)\" style=\"fill: none; stroke: #b0b0b0; stroke-width: 0.8; stroke-linecap: square\"/>\n     </g>\n     <g id=\"line2d_58\">\n      <g>\n       <use xlink:href=\"#mc3fee80c84\" x=\"30.103125\" y=\"622.343573\" style=\"stroke: #000000; stroke-width: 0.8\"/>\n      </g>\n     </g>\n     <g id=\"text_32\">\n      <!-- 0.3 -->\n      <g transform=\"translate(7.2 626.142791) scale(0.1 -0.1)\">\n       <defs>\n        <path id=\"DejaVuSans-33\" d=\"M 2597 2516 \nQ 3050 2419 3304 2112 \nQ 3559 1806 3559 1356 \nQ 3559 666 3084 287 \nQ 2609 -91 1734 -91 \nQ 1441 -91 1130 -33 \nQ 819 25 488 141 \nL 488 750 \nQ 750 597 1062 519 \nQ 1375 441 1716 441 \nQ 2309 441 2620 675 \nQ 2931 909 2931 1356 \nQ 2931 1769 2642 2001 \nQ 2353 2234 1838 2234 \nL 1294 2234 \nL 1294 2753 \nL 1863 2753 \nQ 2328 2753 2575 2939 \nQ 2822 3125 2822 3475 \nQ 2822 3834 2567 4026 \nQ 2313 4219 1838 4219 \nQ 1578 4219 1281 4162 \nQ 984 4106 628 3988 \nL 628 4550 \nQ 988 4650 1302 4700 \nQ 1616 4750 1894 4750 \nQ 2613 4750 3031 4423 \nQ 3450 4097 3450 3541 \nQ 3450 3153 3228 2886 \nQ 3006 2619 2597 2516 \nz\n\" transform=\"scale(0.015625)\"/>\n       </defs>\n       <use xlink:href=\"#DejaVuSans-30\"/>\n       <use xlink:href=\"#DejaVuSans-2e\" transform=\"translate(63.623047 0)\"/>\n       <use xlink:href=\"#DejaVuSans-33\" transform=\"translate(95.410156 0)\"/>\n      </g>\n     </g>\n    </g>\n    <g id=\"ytick_9\">\n     <g id=\"line2d_59\">\n      <path d=\"M 30.103125 570.81846 \nL 705.573125 570.81846 \n\" clip-path=\"url(#p26993cdfbd)\" style=\"fill: none; stroke: #b0b0b0; stroke-width: 0.8; stroke-linecap: square\"/>\n     </g>\n     <g id=\"line2d_60\">\n      <g>\n       <use xlink:href=\"#mc3fee80c84\" x=\"30.103125\" y=\"570.81846\" style=\"stroke: #000000; stroke-width: 0.8\"/>\n      </g>\n     </g>\n     <g id=\"text_33\">\n      <!-- 0.4 -->\n      <g transform=\"translate(7.2 574.617679) scale(0.1 -0.1)\">\n       <use xlink:href=\"#DejaVuSans-30\"/>\n       <use xlink:href=\"#DejaVuSans-2e\" transform=\"translate(63.623047 0)\"/>\n       <use xlink:href=\"#DejaVuSans-34\" transform=\"translate(95.410156 0)\"/>\n      </g>\n     </g>\n    </g>\n    <g id=\"ytick_10\">\n     <g id=\"line2d_61\">\n      <path d=\"M 30.103125 519.293347 \nL 705.573125 519.293347 \n\" clip-path=\"url(#p26993cdfbd)\" style=\"fill: none; stroke: #b0b0b0; stroke-width: 0.8; stroke-linecap: square\"/>\n     </g>\n     <g id=\"line2d_62\">\n      <g>\n       <use xlink:href=\"#mc3fee80c84\" x=\"30.103125\" y=\"519.293347\" style=\"stroke: #000000; stroke-width: 0.8\"/>\n      </g>\n     </g>\n     <g id=\"text_34\">\n      <!-- 0.5 -->\n      <g transform=\"translate(7.2 523.092566) scale(0.1 -0.1)\">\n       <defs>\n        <path id=\"DejaVuSans-35\" d=\"M 691 4666 \nL 3169 4666 \nL 3169 4134 \nL 1269 4134 \nL 1269 2991 \nQ 1406 3038 1543 3061 \nQ 1681 3084 1819 3084 \nQ 2600 3084 3056 2656 \nQ 3513 2228 3513 1497 \nQ 3513 744 3044 326 \nQ 2575 -91 1722 -91 \nQ 1428 -91 1123 -41 \nQ 819 9 494 109 \nL 494 744 \nQ 775 591 1075 516 \nQ 1375 441 1709 441 \nQ 2250 441 2565 725 \nQ 2881 1009 2881 1497 \nQ 2881 1984 2565 2268 \nQ 2250 2553 1709 2553 \nQ 1456 2553 1204 2497 \nQ 953 2441 691 2322 \nL 691 4666 \nz\n\" transform=\"scale(0.015625)\"/>\n       </defs>\n       <use xlink:href=\"#DejaVuSans-30\"/>\n       <use xlink:href=\"#DejaVuSans-2e\" transform=\"translate(63.623047 0)\"/>\n       <use xlink:href=\"#DejaVuSans-35\" transform=\"translate(95.410156 0)\"/>\n      </g>\n     </g>\n    </g>\n    <g id=\"ytick_11\">\n     <g id=\"line2d_63\">\n      <path d=\"M 30.103125 467.768234 \nL 705.573125 467.768234 \n\" clip-path=\"url(#p26993cdfbd)\" style=\"fill: none; stroke: #b0b0b0; stroke-width: 0.8; stroke-linecap: square\"/>\n     </g>\n     <g id=\"line2d_64\">\n      <g>\n       <use xlink:href=\"#mc3fee80c84\" x=\"30.103125\" y=\"467.768234\" style=\"stroke: #000000; stroke-width: 0.8\"/>\n      </g>\n     </g>\n     <g id=\"text_35\">\n      <!-- 0.6 -->\n      <g transform=\"translate(7.2 471.567453) scale(0.1 -0.1)\">\n       <use xlink:href=\"#DejaVuSans-30\"/>\n       <use xlink:href=\"#DejaVuSans-2e\" transform=\"translate(63.623047 0)\"/>\n       <use xlink:href=\"#DejaVuSans-36\" transform=\"translate(95.410156 0)\"/>\n      </g>\n     </g>\n    </g>\n    <g id=\"ytick_12\">\n     <g id=\"line2d_65\">\n      <path d=\"M 30.103125 416.243122 \nL 705.573125 416.243122 \n\" clip-path=\"url(#p26993cdfbd)\" style=\"fill: none; stroke: #b0b0b0; stroke-width: 0.8; stroke-linecap: square\"/>\n     </g>\n     <g id=\"line2d_66\">\n      <g>\n       <use xlink:href=\"#mc3fee80c84\" x=\"30.103125\" y=\"416.243122\" style=\"stroke: #000000; stroke-width: 0.8\"/>\n      </g>\n     </g>\n     <g id=\"text_36\">\n      <!-- 0.7 -->\n      <g transform=\"translate(7.2 420.04234) scale(0.1 -0.1)\">\n       <defs>\n        <path id=\"DejaVuSans-37\" d=\"M 525 4666 \nL 3525 4666 \nL 3525 4397 \nL 1831 0 \nL 1172 0 \nL 2766 4134 \nL 525 4134 \nL 525 4666 \nz\n\" transform=\"scale(0.015625)\"/>\n       </defs>\n       <use xlink:href=\"#DejaVuSans-30\"/>\n       <use xlink:href=\"#DejaVuSans-2e\" transform=\"translate(63.623047 0)\"/>\n       <use xlink:href=\"#DejaVuSans-37\" transform=\"translate(95.410156 0)\"/>\n      </g>\n     </g>\n    </g>\n   </g>\n   <g id=\"line2d_67\">\n    <path d=\"M 60.806307 633.740928 \nL 104.667995 585.843183 \nL 148.529683 568.200984 \nL 192.391372 555.752517 \nL 236.25306 544.313942 \nL 280.114748 535.781383 \nL 323.976437 524.631349 \nL 367.838125 514.058396 \nL 411.699813 495.323865 \nL 455.561502 488.72865 \nL 499.42319 465.439299 \nL 543.284878 447.900151 \nL 587.146567 428.897689 \nL 631.008255 407.277752 \nL 674.869943 390.398125 \n\" clip-path=\"url(#p26993cdfbd)\" style=\"fill: none; stroke: #000000; stroke-width: 1.5; stroke-linecap: square\"/>\n   </g>\n   <g id=\"line2d_68\">\n    <path d=\"M 60.806307 657.092109 \nL 104.667995 589.717871 \nL 148.529683 576.712933 \nL 192.391372 558.473043 \nL 236.25306 545.282614 \nL 280.114748 540.068273 \nL 323.976437 526.548083 \nL 367.838125 515.789639 \nL 411.699813 498.188661 \nL 455.561502 496.127656 \nL 499.42319 467.685794 \nL 543.284878 454.392315 \nL 587.146567 430.814423 \nL 631.008255 412.677584 \nL 674.869943 392.314859 \n\" clip-path=\"url(#p26993cdfbd)\" style=\"fill: none; stroke: #ff0000; stroke-width: 1.5; stroke-linecap: square\"/>\n   </g>\n   <g id=\"line2d_69\">\n    <path d=\"M 60.806307 657.030279 \nL 104.667995 602.434269 \nL 148.529683 582.380695 \nL 192.391372 570.591749 \nL 236.25306 562.574442 \nL 280.114748 556.618139 \nL 323.976437 550.022924 \nL 367.838125 546.168846 \nL 411.699813 541.078165 \nL 455.561502 536.008094 \nL 499.42319 528.835798 \nL 543.284878 523.621457 \nL 587.146567 517.809424 \nL 631.008255 514.965238 \nL 674.869943 507.957822 \n\" clip-path=\"url(#p26993cdfbd)\" style=\"fill: none; stroke: #0000ff; stroke-width: 1.5; stroke-linecap: square\"/>\n   </g>\n   <g id=\"line2d_70\">\n    <path d=\"M 60.806307 633.740928 \nL 104.667995 585.843183 \nL 148.529683 568.200984 \nL 192.391372 555.752517 \nL 236.25306 544.313942 \nL 280.114748 535.781383 \nL 323.976437 524.631349 \nL 367.838125 514.058396 \nL 411.699813 495.323865 \nL 455.561502 488.72865 \nL 499.42319 465.439299 \nL 543.284878 447.900151 \nL 587.146567 428.897689 \nL 631.008255 407.277752 \nL 674.869943 390.398125 \n\" clip-path=\"url(#p26993cdfbd)\" style=\"fill: none; stroke: #008000; stroke-width: 1.5; stroke-linecap: square\"/>\n   </g>\n   <g id=\"line2d_71\">\n    <path d=\"M 60.806307 659.998125 \nL 104.667995 629.289158 \nL 148.529683 594.705502 \nL 192.391372 586.811855 \nL 236.25306 571.601642 \nL 280.114748 568.304034 \nL 323.976437 559.874526 \nL 367.838125 556.886069 \nL 411.699813 552.290029 \nL 455.561502 544.808583 \nL 499.42319 542.314767 \nL 543.284878 535.534063 \nL 587.146567 531.783034 \nL 631.008255 528.258717 \nL 674.869943 521.704722 \n\" clip-path=\"url(#p26993cdfbd)\" style=\"fill: none; stroke: #ffa500; stroke-width: 1.5; stroke-linecap: square\"/>\n   </g>\n   <g id=\"line2d_72\">\n    <path d=\"M 60.806307 629.660139 \nL 104.667995 595.014653 \nL 148.529683 581.762394 \nL 192.391372 566.572791 \nL 236.25306 558.411213 \nL 280.114748 542.397208 \nL 323.976437 533.411228 \nL 367.838125 523.374136 \nL 411.699813 511.66763 \nL 455.561502 493.38652 \nL 499.42319 476.919094 \nL 543.284878 462.904264 \nL 587.146567 451.177148 \nL 631.008255 419.99415 \nL 674.869943 403.093913 \n\" clip-path=\"url(#p26993cdfbd)\" style=\"fill: none; stroke: #800080; stroke-width: 1.5; stroke-linecap: square\"/>\n   </g>\n   <g id=\"line2d_73\">\n    <path d=\"M 60.806307 653.505961 \nL 104.667995 594.890993 \nL 148.529683 581.638734 \nL 192.391372 575.002299 \nL 236.25306 561.502719 \nL 280.114748 550.723666 \nL 323.976437 545.509324 \nL 367.838125 540.459863 \nL 411.699813 533.679159 \nL 455.561502 525.744291 \nL 499.42319 521.230691 \nL 543.284878 516.05757 \nL 587.146567 506.86549 \nL 631.008255 499.548924 \nL 674.869943 496.230707 \n\" clip-path=\"url(#p26993cdfbd)\" style=\"fill: none; stroke: #00ffff; stroke-width: 1.5; stroke-linecap: square\"/>\n   </g>\n   <g id=\"patch_9\">\n    <path d=\"M 30.103125 673.478125 \nL 30.103125 376.918125 \n\" style=\"fill: none; stroke: #000000; stroke-width: 0.8; stroke-linejoin: miter; stroke-linecap: square\"/>\n   </g>\n   <g id=\"patch_10\">\n    <path d=\"M 705.573125 673.478125 \nL 705.573125 376.918125 \n\" style=\"fill: none; stroke: #000000; stroke-width: 0.8; stroke-linejoin: miter; stroke-linecap: square\"/>\n   </g>\n   <g id=\"patch_11\">\n    <path d=\"M 30.103125 673.478125 \nL 705.573125 673.478125 \n\" style=\"fill: none; stroke: #000000; stroke-width: 0.8; stroke-linejoin: miter; stroke-linecap: square\"/>\n   </g>\n   <g id=\"patch_12\">\n    <path d=\"M 30.103125 376.918125 \nL 705.573125 376.918125 \n\" style=\"fill: none; stroke: #000000; stroke-width: 0.8; stroke-linejoin: miter; stroke-linecap: square\"/>\n   </g>\n   <g id=\"text_37\">\n    <!-- Train accuracy -->\n    <g transform=\"translate(324.4675 370.918125) scale(0.12 -0.12)\">\n     <use xlink:href=\"#DejaVuSans-54\"/>\n     <use xlink:href=\"#DejaVuSans-72\" transform=\"translate(46.333984 0)\"/>\n     <use xlink:href=\"#DejaVuSans-61\" transform=\"translate(87.447266 0)\"/>\n     <use xlink:href=\"#DejaVuSans-69\" transform=\"translate(148.726562 0)\"/>\n     <use xlink:href=\"#DejaVuSans-6e\" transform=\"translate(176.509766 0)\"/>\n     <use xlink:href=\"#DejaVuSans-20\" transform=\"translate(239.888672 0)\"/>\n     <use xlink:href=\"#DejaVuSans-61\" transform=\"translate(271.675781 0)\"/>\n     <use xlink:href=\"#DejaVuSans-63\" transform=\"translate(332.955078 0)\"/>\n     <use xlink:href=\"#DejaVuSans-63\" transform=\"translate(387.935547 0)\"/>\n     <use xlink:href=\"#DejaVuSans-75\" transform=\"translate(442.916016 0)\"/>\n     <use xlink:href=\"#DejaVuSans-72\" transform=\"translate(506.294922 0)\"/>\n     <use xlink:href=\"#DejaVuSans-61\" transform=\"translate(547.408203 0)\"/>\n     <use xlink:href=\"#DejaVuSans-63\" transform=\"translate(608.6875 0)\"/>\n     <use xlink:href=\"#DejaVuSans-79\" transform=\"translate(663.667969 0)\"/>\n    </g>\n   </g>\n   <g id=\"legend_2\">\n    <g id=\"patch_13\">\n     <path d=\"M 37.103125 487.665 \nL 204.278125 487.665 \nQ 206.278125 487.665 206.278125 485.665 \nL 206.278125 383.918125 \nQ 206.278125 381.918125 204.278125 381.918125 \nL 37.103125 381.918125 \nQ 35.103125 381.918125 35.103125 383.918125 \nL 35.103125 485.665 \nQ 35.103125 487.665 37.103125 487.665 \nz\n\" style=\"fill: #ffffff; opacity: 0.8; stroke: #cccccc; stroke-linejoin: miter\"/>\n    </g>\n    <g id=\"line2d_74\">\n     <path d=\"M 39.103125 390.016562 \nL 49.103125 390.016562 \nL 59.103125 390.016562 \n\" style=\"fill: none; stroke: #000000; stroke-width: 1.5; stroke-linecap: square\"/>\n    </g>\n    <g id=\"text_38\">\n     <!-- LSTM -->\n     <g transform=\"translate(67.103125 393.516562) scale(0.1 -0.1)\">\n      <use xlink:href=\"#DejaVuSans-4c\"/>\n      <use xlink:href=\"#DejaVuSans-53\" transform=\"translate(55.712891 0)\"/>\n      <use xlink:href=\"#DejaVuSans-54\" transform=\"translate(119.189453 0)\"/>\n      <use xlink:href=\"#DejaVuSans-4d\" transform=\"translate(180.273438 0)\"/>\n     </g>\n    </g>\n    <g id=\"line2d_75\">\n     <path d=\"M 39.103125 404.694687 \nL 49.103125 404.694687 \nL 59.103125 404.694687 \n\" style=\"fill: none; stroke: #ff0000; stroke-width: 1.5; stroke-linecap: square\"/>\n    </g>\n    <g id=\"text_39\">\n     <!-- RNNLayer -->\n     <g transform=\"translate(67.103125 408.194687) scale(0.1 -0.1)\">\n      <use xlink:href=\"#DejaVuSans-52\"/>\n      <use xlink:href=\"#DejaVuSans-4e\" transform=\"translate(69.482422 0)\"/>\n      <use xlink:href=\"#DejaVuSans-4e\" transform=\"translate(144.287109 0)\"/>\n      <use xlink:href=\"#DejaVuSans-4c\" transform=\"translate(219.091797 0)\"/>\n      <use xlink:href=\"#DejaVuSans-61\" transform=\"translate(274.804688 0)\"/>\n      <use xlink:href=\"#DejaVuSans-79\" transform=\"translate(336.083984 0)\"/>\n      <use xlink:href=\"#DejaVuSans-65\" transform=\"translate(395.263672 0)\"/>\n      <use xlink:href=\"#DejaVuSans-72\" transform=\"translate(456.787109 0)\"/>\n     </g>\n    </g>\n    <g id=\"line2d_76\">\n     <path d=\"M 39.103125 419.372812 \nL 49.103125 419.372812 \nL 59.103125 419.372812 \n\" style=\"fill: none; stroke: #0000ff; stroke-width: 1.5; stroke-linecap: square\"/>\n    </g>\n    <g id=\"text_40\">\n     <!-- RNNLayer + dropout -->\n     <g transform=\"translate(67.103125 422.872812) scale(0.1 -0.1)\">\n      <use xlink:href=\"#DejaVuSans-52\"/>\n      <use xlink:href=\"#DejaVuSans-4e\" transform=\"translate(69.482422 0)\"/>\n      <use xlink:href=\"#DejaVuSans-4e\" transform=\"translate(144.287109 0)\"/>\n      <use xlink:href=\"#DejaVuSans-4c\" transform=\"translate(219.091797 0)\"/>\n      <use xlink:href=\"#DejaVuSans-61\" transform=\"translate(274.804688 0)\"/>\n      <use xlink:href=\"#DejaVuSans-79\" transform=\"translate(336.083984 0)\"/>\n      <use xlink:href=\"#DejaVuSans-65\" transform=\"translate(395.263672 0)\"/>\n      <use xlink:href=\"#DejaVuSans-72\" transform=\"translate(456.787109 0)\"/>\n      <use xlink:href=\"#DejaVuSans-20\" transform=\"translate(497.900391 0)\"/>\n      <use xlink:href=\"#DejaVuSans-2b\" transform=\"translate(529.6875 0)\"/>\n      <use xlink:href=\"#DejaVuSans-20\" transform=\"translate(613.476562 0)\"/>\n      <use xlink:href=\"#DejaVuSans-64\" transform=\"translate(645.263672 0)\"/>\n      <use xlink:href=\"#DejaVuSans-72\" transform=\"translate(708.740234 0)\"/>\n      <use xlink:href=\"#DejaVuSans-6f\" transform=\"translate(747.603516 0)\"/>\n      <use xlink:href=\"#DejaVuSans-70\" transform=\"translate(808.785156 0)\"/>\n      <use xlink:href=\"#DejaVuSans-6f\" transform=\"translate(872.261719 0)\"/>\n      <use xlink:href=\"#DejaVuSans-75\" transform=\"translate(933.443359 0)\"/>\n      <use xlink:href=\"#DejaVuSans-74\" transform=\"translate(996.822266 0)\"/>\n     </g>\n    </g>\n    <g id=\"line2d_77\">\n     <path d=\"M 39.103125 434.050937 \nL 49.103125 434.050937 \nL 59.103125 434.050937 \n\" style=\"fill: none; stroke: #008000; stroke-width: 1.5; stroke-linecap: square\"/>\n    </g>\n    <g id=\"text_41\">\n     <!-- FastRNNLayer -->\n     <g transform=\"translate(67.103125 437.550937) scale(0.1 -0.1)\">\n      <use xlink:href=\"#DejaVuSans-46\"/>\n      <use xlink:href=\"#DejaVuSans-61\" transform=\"translate(48.394531 0)\"/>\n      <use xlink:href=\"#DejaVuSans-73\" transform=\"translate(109.673828 0)\"/>\n      <use xlink:href=\"#DejaVuSans-74\" transform=\"translate(161.773438 0)\"/>\n      <use xlink:href=\"#DejaVuSans-52\" transform=\"translate(200.982422 0)\"/>\n      <use xlink:href=\"#DejaVuSans-4e\" transform=\"translate(270.464844 0)\"/>\n      <use xlink:href=\"#DejaVuSans-4e\" transform=\"translate(345.269531 0)\"/>\n      <use xlink:href=\"#DejaVuSans-4c\" transform=\"translate(420.074219 0)\"/>\n      <use xlink:href=\"#DejaVuSans-61\" transform=\"translate(475.787109 0)\"/>\n      <use xlink:href=\"#DejaVuSans-79\" transform=\"translate(537.066406 0)\"/>\n      <use xlink:href=\"#DejaVuSans-65\" transform=\"translate(596.246094 0)\"/>\n      <use xlink:href=\"#DejaVuSans-72\" transform=\"translate(657.769531 0)\"/>\n     </g>\n    </g>\n    <g id=\"line2d_78\">\n     <path d=\"M 39.103125 448.729062 \nL 49.103125 448.729062 \nL 59.103125 448.729062 \n\" style=\"fill: none; stroke: #ffa500; stroke-width: 1.5; stroke-linecap: square\"/>\n    </g>\n    <g id=\"text_42\">\n     <!-- FastRNNLayer + dropout -->\n     <g transform=\"translate(67.103125 452.229062) scale(0.1 -0.1)\">\n      <use xlink:href=\"#DejaVuSans-46\"/>\n      <use xlink:href=\"#DejaVuSans-61\" transform=\"translate(48.394531 0)\"/>\n      <use xlink:href=\"#DejaVuSans-73\" transform=\"translate(109.673828 0)\"/>\n      <use xlink:href=\"#DejaVuSans-74\" transform=\"translate(161.773438 0)\"/>\n      <use xlink:href=\"#DejaVuSans-52\" transform=\"translate(200.982422 0)\"/>\n      <use xlink:href=\"#DejaVuSans-4e\" transform=\"translate(270.464844 0)\"/>\n      <use xlink:href=\"#DejaVuSans-4e\" transform=\"translate(345.269531 0)\"/>\n      <use xlink:href=\"#DejaVuSans-4c\" transform=\"translate(420.074219 0)\"/>\n      <use xlink:href=\"#DejaVuSans-61\" transform=\"translate(475.787109 0)\"/>\n      <use xlink:href=\"#DejaVuSans-79\" transform=\"translate(537.066406 0)\"/>\n      <use xlink:href=\"#DejaVuSans-65\" transform=\"translate(596.246094 0)\"/>\n      <use xlink:href=\"#DejaVuSans-72\" transform=\"translate(657.769531 0)\"/>\n      <use xlink:href=\"#DejaVuSans-20\" transform=\"translate(698.882812 0)\"/>\n      <use xlink:href=\"#DejaVuSans-2b\" transform=\"translate(730.669922 0)\"/>\n      <use xlink:href=\"#DejaVuSans-20\" transform=\"translate(814.458984 0)\"/>\n      <use xlink:href=\"#DejaVuSans-64\" transform=\"translate(846.246094 0)\"/>\n      <use xlink:href=\"#DejaVuSans-72\" transform=\"translate(909.722656 0)\"/>\n      <use xlink:href=\"#DejaVuSans-6f\" transform=\"translate(948.585938 0)\"/>\n      <use xlink:href=\"#DejaVuSans-70\" transform=\"translate(1009.767578 0)\"/>\n      <use xlink:href=\"#DejaVuSans-6f\" transform=\"translate(1073.244141 0)\"/>\n      <use xlink:href=\"#DejaVuSans-75\" transform=\"translate(1134.425781 0)\"/>\n      <use xlink:href=\"#DejaVuSans-74\" transform=\"translate(1197.804688 0)\"/>\n     </g>\n    </g>\n    <g id=\"line2d_79\">\n     <path d=\"M 39.103125 463.407187 \nL 49.103125 463.407187 \nL 59.103125 463.407187 \n\" style=\"fill: none; stroke: #800080; stroke-width: 1.5; stroke-linecap: square\"/>\n    </g>\n    <g id=\"text_43\">\n     <!-- HandmadeLSTM -->\n     <g transform=\"translate(67.103125 466.907187) scale(0.1 -0.1)\">\n      <use xlink:href=\"#DejaVuSans-48\"/>\n      <use xlink:href=\"#DejaVuSans-61\" transform=\"translate(75.195312 0)\"/>\n      <use xlink:href=\"#DejaVuSans-6e\" transform=\"translate(136.474609 0)\"/>\n      <use xlink:href=\"#DejaVuSans-64\" transform=\"translate(199.853516 0)\"/>\n      <use xlink:href=\"#DejaVuSans-6d\" transform=\"translate(263.330078 0)\"/>\n      <use xlink:href=\"#DejaVuSans-61\" transform=\"translate(360.742188 0)\"/>\n      <use xlink:href=\"#DejaVuSans-64\" transform=\"translate(422.021484 0)\"/>\n      <use xlink:href=\"#DejaVuSans-65\" transform=\"translate(485.498047 0)\"/>\n      <use xlink:href=\"#DejaVuSans-4c\" transform=\"translate(547.021484 0)\"/>\n      <use xlink:href=\"#DejaVuSans-53\" transform=\"translate(602.734375 0)\"/>\n      <use xlink:href=\"#DejaVuSans-54\" transform=\"translate(666.210938 0)\"/>\n      <use xlink:href=\"#DejaVuSans-4d\" transform=\"translate(727.294922 0)\"/>\n     </g>\n    </g>\n    <g id=\"line2d_80\">\n     <path d=\"M 39.103125 478.085312 \nL 49.103125 478.085312 \nL 59.103125 478.085312 \n\" style=\"fill: none; stroke: #00ffff; stroke-width: 1.5; stroke-linecap: square\"/>\n    </g>\n    <g id=\"text_44\">\n     <!-- HandmadeLSTM + dropout -->\n     <g transform=\"translate(67.103125 481.585312) scale(0.1 -0.1)\">\n      <use xlink:href=\"#DejaVuSans-48\"/>\n      <use xlink:href=\"#DejaVuSans-61\" transform=\"translate(75.195312 0)\"/>\n      <use xlink:href=\"#DejaVuSans-6e\" transform=\"translate(136.474609 0)\"/>\n      <use xlink:href=\"#DejaVuSans-64\" transform=\"translate(199.853516 0)\"/>\n      <use xlink:href=\"#DejaVuSans-6d\" transform=\"translate(263.330078 0)\"/>\n      <use xlink:href=\"#DejaVuSans-61\" transform=\"translate(360.742188 0)\"/>\n      <use xlink:href=\"#DejaVuSans-64\" transform=\"translate(422.021484 0)\"/>\n      <use xlink:href=\"#DejaVuSans-65\" transform=\"translate(485.498047 0)\"/>\n      <use xlink:href=\"#DejaVuSans-4c\" transform=\"translate(547.021484 0)\"/>\n      <use xlink:href=\"#DejaVuSans-53\" transform=\"translate(602.734375 0)\"/>\n      <use xlink:href=\"#DejaVuSans-54\" transform=\"translate(666.210938 0)\"/>\n      <use xlink:href=\"#DejaVuSans-4d\" transform=\"translate(727.294922 0)\"/>\n      <use xlink:href=\"#DejaVuSans-20\" transform=\"translate(813.574219 0)\"/>\n      <use xlink:href=\"#DejaVuSans-2b\" transform=\"translate(845.361328 0)\"/>\n      <use xlink:href=\"#DejaVuSans-20\" transform=\"translate(929.150391 0)\"/>\n      <use xlink:href=\"#DejaVuSans-64\" transform=\"translate(960.9375 0)\"/>\n      <use xlink:href=\"#DejaVuSans-72\" transform=\"translate(1024.414062 0)\"/>\n      <use xlink:href=\"#DejaVuSans-6f\" transform=\"translate(1063.277344 0)\"/>\n      <use xlink:href=\"#DejaVuSans-70\" transform=\"translate(1124.458984 0)\"/>\n      <use xlink:href=\"#DejaVuSans-6f\" transform=\"translate(1187.935547 0)\"/>\n      <use xlink:href=\"#DejaVuSans-75\" transform=\"translate(1249.117188 0)\"/>\n      <use xlink:href=\"#DejaVuSans-74\" transform=\"translate(1312.496094 0)\"/>\n     </g>\n    </g>\n   </g>\n  </g>\n </g>\n <defs>\n  <clipPath id=\"p2c3517f703\">\n   <rect x=\"30.103125\" y=\"22.318125\" width=\"675.47\" height=\"296.56\"/>\n  </clipPath>\n  <clipPath id=\"p26993cdfbd\">\n   <rect x=\"30.103125\" y=\"376.918125\" width=\"675.47\" height=\"296.56\"/>\n  </clipPath>\n </defs>\n</svg>\n",
            "application/pdf": "[encoded data removed]"
          },
          "metadata": {}
        }
      ],
      "source": [
        "fig, axes = plt.subplots(2, 1, figsize=(10, 10))\n",
        "colors = ['black', 'red', 'blue', 'green', 'orange', 'purple', 'cyan']\n",
        "\n",
        "epochs = range(1, num_epochs + 1)\n",
        "\n",
        "axes[0].plot(epochs, train_losses_pure, label='LSTM', color=colors[0])\n",
        "axes[0].plot(epochs, train_losses_pure_layer, label='RNNLayer', color=colors[1])\n",
        "axes[0].plot(epochs, train_losses_pure_25, label='RNNLayer + dropout', color=colors[2])\n",
        "axes[0].plot(epochs, train_losses_pure_fast, label='FastRNNLayer', color=colors[3])\n",
        "axes[0].plot(epochs, train_losses_pure_fast_25, label='FastRNNLayer + dropout', color=colors[4])\n",
        "axes[0].plot(epochs, train_losses_hand, label='HandmadeLSTM', color=colors[5])\n",
        "axes[0].plot(epochs, train_losses_hand_25, label='HandmadeLSTM + dropout', color=colors[6])\n",
        "\n",
        "axes[1].plot(epochs, train_accuracies_pure, label='LSTM', color=colors[0])\n",
        "axes[1].plot(epochs, train_accuracies_pure_layer, label='RNNLayer', color=colors[1])\n",
        "axes[1].plot(epochs, train_accuracies_pure_25, label='RNNLayer + dropout', color=colors[2])\n",
        "axes[1].plot(epochs, train_accuracies_pure_fast, label='FastRNNLayer', color=colors[3])\n",
        "axes[1].plot(epochs, train_accuracies_pure_fast_25, label='FastRNNLayer + dropout', color=colors[4])\n",
        "axes[1].plot(epochs, train_accuracies_hand, label='HandmadeLSTM', color=colors[5])\n",
        "axes[1].plot(epochs, train_accuracies_hand_25, label='HandmadeLSTM + dropout', color=colors[6])\n",
        "\n",
        "axes[0].legend()\n",
        "axes[0].grid(True)\n",
        "axes[0].set_xlabel('Epoch')\n",
        "axes[0].set_title('Train CrossEntropy Loss')\n",
        "\n",
        "axes[1].legend()\n",
        "axes[1].grid(True)\n",
        "axes[1].set_xlabel('Epoch')\n",
        "axes[1].set_title('Train accuracy')\n",
        "\n",
        "fig.tight_layout()\n",
        "plt.savefig(\"results_train.png\")\n",
        "plt.show()"
      ]
    },
    {
      "cell_type": "code",
      "source": [
        "fig, axes = plt.subplots(2, 1, figsize=(10, 10))\n",
        "colors = ['black', 'red', 'blue', 'green', 'orange', 'purple', 'cyan']\n",
        "\n",
        "epochs = range(1, num_epochs + 1)\n",
        "\n",
        "axes[0].plot(epochs, test_losses_pure, label='LSTM', color=colors[0])\n",
        "axes[0].plot(epochs, test_losses_pure_layer, label='RNNLayer', color=colors[1])\n",
        "axes[0].plot(epochs, test_losses_pure_25, label='RNNLayer + dropout', color=colors[2])\n",
        "axes[0].plot(epochs, test_losses_pure_fast, label='FastRNNLayer', color=colors[3])\n",
        "axes[0].plot(epochs, test_losses_pure_fast_25, label='FastRNNLayer + dropout', color=colors[4])\n",
        "axes[0].plot(epochs, test_losses_hand, label='HandmadeLSTM', color=colors[5])\n",
        "axes[0].plot(epochs, test_losses_hand_25, label='HandmadeLSTM + dropout', color=colors[6])\n",
        "\n",
        "axes[1].plot(epochs, test_accuracies_pure, label='LSTM', color=colors[0])\n",
        "axes[1].plot(epochs, test_accuracies_pure_layer, label='RNNLayer', color=colors[1])\n",
        "axes[1].plot(epochs, test_accuracies_pure_25, label='RNNLayer + dropout', color=colors[2])\n",
        "axes[1].plot(epochs, test_accuracies_pure_fast, label='FastRNNLayer', color=colors[3])\n",
        "axes[1].plot(epochs, test_accuracies_pure_fast_25, label='FastRNNLayer + dropout', color=colors[4])\n",
        "axes[1].plot(epochs, test_accuracies_hand, label='HandmadeLSTM', color=colors[5])\n",
        "axes[1].plot(epochs, test_accuracies_hand_25, label='HandmadeLSTM + dropout', color=colors[6])\n",
        "\n",
        "axes[0].legend()\n",
        "axes[0].grid(True)\n",
        "axes[0].set_xlabel('Epoch')\n",
        "axes[0].set_title('Test CrossEntropy Loss')\n",
        "\n",
        "axes[1].legend()\n",
        "axes[1].grid(True)\n",
        "axes[1].set_xlabel('Epoch')\n",
        "axes[1].set_title('Test accuracy')\n",
        "\n",
        "fig.tight_layout()\n",
        "plt.savefig(\"results_test.png\")\n",
        "plt.show()"
      ],
      "metadata": {
        "id": "btbMCZENz81p",
        "colab": {
          "base_uri": "https://localhost:8080/",
          "height": 969
        },
        "outputId": "fab7f03b-f8c5-4f8b-8f48-0e5cc846343b"
      },
      "execution_count": 57,
      "outputs": [
        {
          "output_type": "display_data",
          "data": {
            "text/plain": [
              "<Figure size 1000x1000 with 2 Axes>"
            ],
            "image/svg+xml": "<?xml version=\"1.0\" encoding=\"utf-8\" standalone=\"no\"?>\n<!DOCTYPE svg PUBLIC \"-//W3C//DTD SVG 1.1//EN\"\n  \"http://www.w3.org/Graphics/SVG/1.1/DTD/svg11.dtd\">\n<svg xmlns:xlink=\"http://www.w3.org/1999/xlink\" width=\"713.078125pt\" height=\"711.034375pt\" viewBox=\"0 0 713.078125 711.034375\" xmlns=\"http://www.w3.org/2000/svg\" version=\"1.1\">\n <metadata>\n  <rdf:RDF xmlns:dc=\"http://purl.org/dc/elements/1.1/\" xmlns:cc=\"http://creativecommons.org/ns#\" xmlns:rdf=\"http://www.w3.org/1999/02/22-rdf-syntax-ns#\">\n   <cc:Work>\n    <dc:type rdf:resource=\"http://purl.org/dc/dcmitype/StillImage\"/>\n    <dc:date>2025-04-07T01:08:06.372811</dc:date>\n    <dc:format>image/svg+xml</dc:format>\n    <dc:creator>\n     <cc:Agent>\n      <dc:title>Matplotlib v3.10.0, https://matplotlib.org/</dc:title>\n     </cc:Agent>\n    </dc:creator>\n   </cc:Work>\n  </rdf:RDF>\n </metadata>\n <defs>\n  <style type=\"text/css\">*{stroke-linejoin: round; stroke-linecap: butt}</style>\n </defs>\n <g id=\"figure_1\">\n  <g id=\"patch_1\">\n   <path d=\"M 0 711.034375 \nL 713.078125 711.034375 \nL 713.078125 0 \nL 0 0 \nz\n\" style=\"fill: #ffffff\"/>\n  </g>\n  <g id=\"axes_1\">\n   <g id=\"patch_2\">\n    <path d=\"M 42.828125 318.878125 \nL 705.878125 318.878125 \nL 705.878125 22.318125 \nL 42.828125 22.318125 \nz\n\" style=\"fill: #ffffff\"/>\n   </g>\n   <g id=\"matplotlib.axis_1\">\n    <g id=\"xtick_1\">\n     <g id=\"line2d_1\">\n      <path d=\"M 116.021956 318.878125 \nL 116.021956 22.318125 \n\" clip-path=\"url(#pfef0384edc)\" style=\"fill: none; stroke: #b0b0b0; stroke-width: 0.8; stroke-linecap: square\"/>\n     </g>\n     <g id=\"line2d_2\">\n      <defs>\n       <path id=\"mc328ea95d1\" d=\"M 0 0 \nL 0 3.5 \n\" style=\"stroke: #000000; stroke-width: 0.8\"/>\n      </defs>\n      <g>\n       <use xlink:href=\"#mc328ea95d1\" x=\"116.021956\" y=\"318.878125\" style=\"stroke: #000000; stroke-width: 0.8\"/>\n      </g>\n     </g>\n     <g id=\"text_1\">\n      <!-- 2 -->\n      <g transform=\"translate(112.840706 333.476562) scale(0.1 -0.1)\">\n       <defs>\n        <path id=\"DejaVuSans-32\" d=\"M 1228 531 \nL 3431 531 \nL 3431 0 \nL 469 0 \nL 469 531 \nQ 828 903 1448 1529 \nQ 2069 2156 2228 2338 \nQ 2531 2678 2651 2914 \nQ 2772 3150 2772 3378 \nQ 2772 3750 2511 3984 \nQ 2250 4219 1831 4219 \nQ 1534 4219 1204 4116 \nQ 875 4013 500 3803 \nL 500 4441 \nQ 881 4594 1212 4672 \nQ 1544 4750 1819 4750 \nQ 2544 4750 2975 4387 \nQ 3406 4025 3406 3419 \nQ 3406 3131 3298 2873 \nQ 3191 2616 2906 2266 \nQ 2828 2175 2409 1742 \nQ 1991 1309 1228 531 \nz\n\" transform=\"scale(0.015625)\"/>\n       </defs>\n       <use xlink:href=\"#DejaVuSans-32\"/>\n      </g>\n     </g>\n    </g>\n    <g id=\"xtick_2\">\n     <g id=\"line2d_3\">\n      <path d=\"M 202.132346 318.878125 \nL 202.132346 22.318125 \n\" clip-path=\"url(#pfef0384edc)\" style=\"fill: none; stroke: #b0b0b0; stroke-width: 0.8; stroke-linecap: square\"/>\n     </g>\n     <g id=\"line2d_4\">\n      <g>\n       <use xlink:href=\"#mc328ea95d1\" x=\"202.132346\" y=\"318.878125\" style=\"stroke: #000000; stroke-width: 0.8\"/>\n      </g>\n     </g>\n     <g id=\"text_2\">\n      <!-- 4 -->\n      <g transform=\"translate(198.951096 333.476562) scale(0.1 -0.1)\">\n       <defs>\n        <path id=\"DejaVuSans-34\" d=\"M 2419 4116 \nL 825 1625 \nL 2419 1625 \nL 2419 4116 \nz\nM 2253 4666 \nL 3047 4666 \nL 3047 1625 \nL 3713 1625 \nL 3713 1100 \nL 3047 1100 \nL 3047 0 \nL 2419 0 \nL 2419 1100 \nL 313 1100 \nL 313 1709 \nL 2253 4666 \nz\n\" transform=\"scale(0.015625)\"/>\n       </defs>\n       <use xlink:href=\"#DejaVuSans-34\"/>\n      </g>\n     </g>\n    </g>\n    <g id=\"xtick_3\">\n     <g id=\"line2d_5\">\n      <path d=\"M 288.242735 318.878125 \nL 288.242735 22.318125 \n\" clip-path=\"url(#pfef0384edc)\" style=\"fill: none; stroke: #b0b0b0; stroke-width: 0.8; stroke-linecap: square\"/>\n     </g>\n     <g id=\"line2d_6\">\n      <g>\n       <use xlink:href=\"#mc328ea95d1\" x=\"288.242735\" y=\"318.878125\" style=\"stroke: #000000; stroke-width: 0.8\"/>\n      </g>\n     </g>\n     <g id=\"text_3\">\n      <!-- 6 -->\n      <g transform=\"translate(285.061485 333.476562) scale(0.1 -0.1)\">\n       <defs>\n        <path id=\"DejaVuSans-36\" d=\"M 2113 2584 \nQ 1688 2584 1439 2293 \nQ 1191 2003 1191 1497 \nQ 1191 994 1439 701 \nQ 1688 409 2113 409 \nQ 2538 409 2786 701 \nQ 3034 994 3034 1497 \nQ 3034 2003 2786 2293 \nQ 2538 2584 2113 2584 \nz\nM 3366 4563 \nL 3366 3988 \nQ 3128 4100 2886 4159 \nQ 2644 4219 2406 4219 \nQ 1781 4219 1451 3797 \nQ 1122 3375 1075 2522 \nQ 1259 2794 1537 2939 \nQ 1816 3084 2150 3084 \nQ 2853 3084 3261 2657 \nQ 3669 2231 3669 1497 \nQ 3669 778 3244 343 \nQ 2819 -91 2113 -91 \nQ 1303 -91 875 529 \nQ 447 1150 447 2328 \nQ 447 3434 972 4092 \nQ 1497 4750 2381 4750 \nQ 2619 4750 2861 4703 \nQ 3103 4656 3366 4563 \nz\n\" transform=\"scale(0.015625)\"/>\n       </defs>\n       <use xlink:href=\"#DejaVuSans-36\"/>\n      </g>\n     </g>\n    </g>\n    <g id=\"xtick_4\">\n     <g id=\"line2d_7\">\n      <path d=\"M 374.353125 318.878125 \nL 374.353125 22.318125 \n\" clip-path=\"url(#pfef0384edc)\" style=\"fill: none; stroke: #b0b0b0; stroke-width: 0.8; stroke-linecap: square\"/>\n     </g>\n     <g id=\"line2d_8\">\n      <g>\n       <use xlink:href=\"#mc328ea95d1\" x=\"374.353125\" y=\"318.878125\" style=\"stroke: #000000; stroke-width: 0.8\"/>\n      </g>\n     </g>\n     <g id=\"text_4\">\n      <!-- 8 -->\n      <g transform=\"translate(371.171875 333.476562) scale(0.1 -0.1)\">\n       <defs>\n        <path id=\"DejaVuSans-38\" d=\"M 2034 2216 \nQ 1584 2216 1326 1975 \nQ 1069 1734 1069 1313 \nQ 1069 891 1326 650 \nQ 1584 409 2034 409 \nQ 2484 409 2743 651 \nQ 3003 894 3003 1313 \nQ 3003 1734 2745 1975 \nQ 2488 2216 2034 2216 \nz\nM 1403 2484 \nQ 997 2584 770 2862 \nQ 544 3141 544 3541 \nQ 544 4100 942 4425 \nQ 1341 4750 2034 4750 \nQ 2731 4750 3128 4425 \nQ 3525 4100 3525 3541 \nQ 3525 3141 3298 2862 \nQ 3072 2584 2669 2484 \nQ 3125 2378 3379 2068 \nQ 3634 1759 3634 1313 \nQ 3634 634 3220 271 \nQ 2806 -91 2034 -91 \nQ 1263 -91 848 271 \nQ 434 634 434 1313 \nQ 434 1759 690 2068 \nQ 947 2378 1403 2484 \nz\nM 1172 3481 \nQ 1172 3119 1398 2916 \nQ 1625 2713 2034 2713 \nQ 2441 2713 2670 2916 \nQ 2900 3119 2900 3481 \nQ 2900 3844 2670 4047 \nQ 2441 4250 2034 4250 \nQ 1625 4250 1398 4047 \nQ 1172 3844 1172 3481 \nz\n\" transform=\"scale(0.015625)\"/>\n       </defs>\n       <use xlink:href=\"#DejaVuSans-38\"/>\n      </g>\n     </g>\n    </g>\n    <g id=\"xtick_5\">\n     <g id=\"line2d_9\">\n      <path d=\"M 460.463515 318.878125 \nL 460.463515 22.318125 \n\" clip-path=\"url(#pfef0384edc)\" style=\"fill: none; stroke: #b0b0b0; stroke-width: 0.8; stroke-linecap: square\"/>\n     </g>\n     <g id=\"line2d_10\">\n      <g>\n       <use xlink:href=\"#mc328ea95d1\" x=\"460.463515\" y=\"318.878125\" style=\"stroke: #000000; stroke-width: 0.8\"/>\n      </g>\n     </g>\n     <g id=\"text_5\">\n      <!-- 10 -->\n      <g transform=\"translate(454.101015 333.476562) scale(0.1 -0.1)\">\n       <defs>\n        <path id=\"DejaVuSans-31\" d=\"M 794 531 \nL 1825 531 \nL 1825 4091 \nL 703 3866 \nL 703 4441 \nL 1819 4666 \nL 2450 4666 \nL 2450 531 \nL 3481 531 \nL 3481 0 \nL 794 0 \nL 794 531 \nz\n\" transform=\"scale(0.015625)\"/>\n        <path id=\"DejaVuSans-30\" d=\"M 2034 4250 \nQ 1547 4250 1301 3770 \nQ 1056 3291 1056 2328 \nQ 1056 1369 1301 889 \nQ 1547 409 2034 409 \nQ 2525 409 2770 889 \nQ 3016 1369 3016 2328 \nQ 3016 3291 2770 3770 \nQ 2525 4250 2034 4250 \nz\nM 2034 4750 \nQ 2819 4750 3233 4129 \nQ 3647 3509 3647 2328 \nQ 3647 1150 3233 529 \nQ 2819 -91 2034 -91 \nQ 1250 -91 836 529 \nQ 422 1150 422 2328 \nQ 422 3509 836 4129 \nQ 1250 4750 2034 4750 \nz\n\" transform=\"scale(0.015625)\"/>\n       </defs>\n       <use xlink:href=\"#DejaVuSans-31\"/>\n       <use xlink:href=\"#DejaVuSans-30\" transform=\"translate(63.623047 0)\"/>\n      </g>\n     </g>\n    </g>\n    <g id=\"xtick_6\">\n     <g id=\"line2d_11\">\n      <path d=\"M 546.573904 318.878125 \nL 546.573904 22.318125 \n\" clip-path=\"url(#pfef0384edc)\" style=\"fill: none; stroke: #b0b0b0; stroke-width: 0.8; stroke-linecap: square\"/>\n     </g>\n     <g id=\"line2d_12\">\n      <g>\n       <use xlink:href=\"#mc328ea95d1\" x=\"546.573904\" y=\"318.878125\" style=\"stroke: #000000; stroke-width: 0.8\"/>\n      </g>\n     </g>\n     <g id=\"text_6\">\n      <!-- 12 -->\n      <g transform=\"translate(540.211404 333.476562) scale(0.1 -0.1)\">\n       <use xlink:href=\"#DejaVuSans-31\"/>\n       <use xlink:href=\"#DejaVuSans-32\" transform=\"translate(63.623047 0)\"/>\n      </g>\n     </g>\n    </g>\n    <g id=\"xtick_7\">\n     <g id=\"line2d_13\">\n      <path d=\"M 632.684294 318.878125 \nL 632.684294 22.318125 \n\" clip-path=\"url(#pfef0384edc)\" style=\"fill: none; stroke: #b0b0b0; stroke-width: 0.8; stroke-linecap: square\"/>\n     </g>\n     <g id=\"line2d_14\">\n      <g>\n       <use xlink:href=\"#mc328ea95d1\" x=\"632.684294\" y=\"318.878125\" style=\"stroke: #000000; stroke-width: 0.8\"/>\n      </g>\n     </g>\n     <g id=\"text_7\">\n      <!-- 14 -->\n      <g transform=\"translate(626.321794 333.476562) scale(0.1 -0.1)\">\n       <use xlink:href=\"#DejaVuSans-31\"/>\n       <use xlink:href=\"#DejaVuSans-34\" transform=\"translate(63.623047 0)\"/>\n      </g>\n     </g>\n    </g>\n    <g id=\"text_8\">\n     <!-- Epoch -->\n     <g transform=\"translate(359.042187 347.154687) scale(0.1 -0.1)\">\n      <defs>\n       <path id=\"DejaVuSans-45\" d=\"M 628 4666 \nL 3578 4666 \nL 3578 4134 \nL 1259 4134 \nL 1259 2753 \nL 3481 2753 \nL 3481 2222 \nL 1259 2222 \nL 1259 531 \nL 3634 531 \nL 3634 0 \nL 628 0 \nL 628 4666 \nz\n\" transform=\"scale(0.015625)\"/>\n       <path id=\"DejaVuSans-70\" d=\"M 1159 525 \nL 1159 -1331 \nL 581 -1331 \nL 581 3500 \nL 1159 3500 \nL 1159 2969 \nQ 1341 3281 1617 3432 \nQ 1894 3584 2278 3584 \nQ 2916 3584 3314 3078 \nQ 3713 2572 3713 1747 \nQ 3713 922 3314 415 \nQ 2916 -91 2278 -91 \nQ 1894 -91 1617 61 \nQ 1341 213 1159 525 \nz\nM 3116 1747 \nQ 3116 2381 2855 2742 \nQ 2594 3103 2138 3103 \nQ 1681 3103 1420 2742 \nQ 1159 2381 1159 1747 \nQ 1159 1113 1420 752 \nQ 1681 391 2138 391 \nQ 2594 391 2855 752 \nQ 3116 1113 3116 1747 \nz\n\" transform=\"scale(0.015625)\"/>\n       <path id=\"DejaVuSans-6f\" d=\"M 1959 3097 \nQ 1497 3097 1228 2736 \nQ 959 2375 959 1747 \nQ 959 1119 1226 758 \nQ 1494 397 1959 397 \nQ 2419 397 2687 759 \nQ 2956 1122 2956 1747 \nQ 2956 2369 2687 2733 \nQ 2419 3097 1959 3097 \nz\nM 1959 3584 \nQ 2709 3584 3137 3096 \nQ 3566 2609 3566 1747 \nQ 3566 888 3137 398 \nQ 2709 -91 1959 -91 \nQ 1206 -91 779 398 \nQ 353 888 353 1747 \nQ 353 2609 779 3096 \nQ 1206 3584 1959 3584 \nz\n\" transform=\"scale(0.015625)\"/>\n       <path id=\"DejaVuSans-63\" d=\"M 3122 3366 \nL 3122 2828 \nQ 2878 2963 2633 3030 \nQ 2388 3097 2138 3097 \nQ 1578 3097 1268 2742 \nQ 959 2388 959 1747 \nQ 959 1106 1268 751 \nQ 1578 397 2138 397 \nQ 2388 397 2633 464 \nQ 2878 531 3122 666 \nL 3122 134 \nQ 2881 22 2623 -34 \nQ 2366 -91 2075 -91 \nQ 1284 -91 818 406 \nQ 353 903 353 1747 \nQ 353 2603 823 3093 \nQ 1294 3584 2113 3584 \nQ 2378 3584 2631 3529 \nQ 2884 3475 3122 3366 \nz\n\" transform=\"scale(0.015625)\"/>\n       <path id=\"DejaVuSans-68\" d=\"M 3513 2113 \nL 3513 0 \nL 2938 0 \nL 2938 2094 \nQ 2938 2591 2744 2837 \nQ 2550 3084 2163 3084 \nQ 1697 3084 1428 2787 \nQ 1159 2491 1159 1978 \nL 1159 0 \nL 581 0 \nL 581 4863 \nL 1159 4863 \nL 1159 2956 \nQ 1366 3272 1645 3428 \nQ 1925 3584 2291 3584 \nQ 2894 3584 3203 3211 \nQ 3513 2838 3513 2113 \nz\n\" transform=\"scale(0.015625)\"/>\n      </defs>\n      <use xlink:href=\"#DejaVuSans-45\"/>\n      <use xlink:href=\"#DejaVuSans-70\" transform=\"translate(63.183594 0)\"/>\n      <use xlink:href=\"#DejaVuSans-6f\" transform=\"translate(126.660156 0)\"/>\n      <use xlink:href=\"#DejaVuSans-63\" transform=\"translate(187.841797 0)\"/>\n      <use xlink:href=\"#DejaVuSans-68\" transform=\"translate(242.822266 0)\"/>\n     </g>\n    </g>\n   </g>\n   <g id=\"matplotlib.axis_2\">\n    <g id=\"ytick_1\">\n     <g id=\"line2d_15\">\n      <path d=\"M 42.828125 307.898819 \nL 705.878125 307.898819 \n\" clip-path=\"url(#pfef0384edc)\" style=\"fill: none; stroke: #b0b0b0; stroke-width: 0.8; stroke-linecap: square\"/>\n     </g>\n     <g id=\"line2d_16\">\n      <defs>\n       <path id=\"m71f77490d9\" d=\"M 0 0 \nL -3.5 0 \n\" style=\"stroke: #000000; stroke-width: 0.8\"/>\n      </defs>\n      <g>\n       <use xlink:href=\"#m71f77490d9\" x=\"42.828125\" y=\"307.898819\" style=\"stroke: #000000; stroke-width: 0.8\"/>\n      </g>\n     </g>\n     <g id=\"text_9\">\n      <!-- 1.5 -->\n      <g transform=\"translate(19.925 311.698037) scale(0.1 -0.1)\">\n       <defs>\n        <path id=\"DejaVuSans-2e\" d=\"M 684 794 \nL 1344 794 \nL 1344 0 \nL 684 0 \nL 684 794 \nz\n\" transform=\"scale(0.015625)\"/>\n        <path id=\"DejaVuSans-35\" d=\"M 691 4666 \nL 3169 4666 \nL 3169 4134 \nL 1269 4134 \nL 1269 2991 \nQ 1406 3038 1543 3061 \nQ 1681 3084 1819 3084 \nQ 2600 3084 3056 2656 \nQ 3513 2228 3513 1497 \nQ 3513 744 3044 326 \nQ 2575 -91 1722 -91 \nQ 1428 -91 1123 -41 \nQ 819 9 494 109 \nL 494 744 \nQ 775 591 1075 516 \nQ 1375 441 1709 441 \nQ 2250 441 2565 725 \nQ 2881 1009 2881 1497 \nQ 2881 1984 2565 2268 \nQ 2250 2553 1709 2553 \nQ 1456 2553 1204 2497 \nQ 953 2441 691 2322 \nL 691 4666 \nz\n\" transform=\"scale(0.015625)\"/>\n       </defs>\n       <use xlink:href=\"#DejaVuSans-31\"/>\n       <use xlink:href=\"#DejaVuSans-2e\" transform=\"translate(63.623047 0)\"/>\n       <use xlink:href=\"#DejaVuSans-35\" transform=\"translate(95.410156 0)\"/>\n      </g>\n     </g>\n    </g>\n    <g id=\"ytick_2\">\n     <g id=\"line2d_17\">\n      <path d=\"M 42.828125 264.620111 \nL 705.878125 264.620111 \n\" clip-path=\"url(#pfef0384edc)\" style=\"fill: none; stroke: #b0b0b0; stroke-width: 0.8; stroke-linecap: square\"/>\n     </g>\n     <g id=\"line2d_18\">\n      <g>\n       <use xlink:href=\"#m71f77490d9\" x=\"42.828125\" y=\"264.620111\" style=\"stroke: #000000; stroke-width: 0.8\"/>\n      </g>\n     </g>\n     <g id=\"text_10\">\n      <!-- 1.6 -->\n      <g transform=\"translate(19.925 268.41933) scale(0.1 -0.1)\">\n       <use xlink:href=\"#DejaVuSans-31\"/>\n       <use xlink:href=\"#DejaVuSans-2e\" transform=\"translate(63.623047 0)\"/>\n       <use xlink:href=\"#DejaVuSans-36\" transform=\"translate(95.410156 0)\"/>\n      </g>\n     </g>\n    </g>\n    <g id=\"ytick_3\">\n     <g id=\"line2d_19\">\n      <path d=\"M 42.828125 221.341404 \nL 705.878125 221.341404 \n\" clip-path=\"url(#pfef0384edc)\" style=\"fill: none; stroke: #b0b0b0; stroke-width: 0.8; stroke-linecap: square\"/>\n     </g>\n     <g id=\"line2d_20\">\n      <g>\n       <use xlink:href=\"#m71f77490d9\" x=\"42.828125\" y=\"221.341404\" style=\"stroke: #000000; stroke-width: 0.8\"/>\n      </g>\n     </g>\n     <g id=\"text_11\">\n      <!-- 1.7 -->\n      <g transform=\"translate(19.925 225.140623) scale(0.1 -0.1)\">\n       <defs>\n        <path id=\"DejaVuSans-37\" d=\"M 525 4666 \nL 3525 4666 \nL 3525 4397 \nL 1831 0 \nL 1172 0 \nL 2766 4134 \nL 525 4134 \nL 525 4666 \nz\n\" transform=\"scale(0.015625)\"/>\n       </defs>\n       <use xlink:href=\"#DejaVuSans-31\"/>\n       <use xlink:href=\"#DejaVuSans-2e\" transform=\"translate(63.623047 0)\"/>\n       <use xlink:href=\"#DejaVuSans-37\" transform=\"translate(95.410156 0)\"/>\n      </g>\n     </g>\n    </g>\n    <g id=\"ytick_4\">\n     <g id=\"line2d_21\">\n      <path d=\"M 42.828125 178.062696 \nL 705.878125 178.062696 \n\" clip-path=\"url(#pfef0384edc)\" style=\"fill: none; stroke: #b0b0b0; stroke-width: 0.8; stroke-linecap: square\"/>\n     </g>\n     <g id=\"line2d_22\">\n      <g>\n       <use xlink:href=\"#m71f77490d9\" x=\"42.828125\" y=\"178.062696\" style=\"stroke: #000000; stroke-width: 0.8\"/>\n      </g>\n     </g>\n     <g id=\"text_12\">\n      <!-- 1.8 -->\n      <g transform=\"translate(19.925 181.861915) scale(0.1 -0.1)\">\n       <use xlink:href=\"#DejaVuSans-31\"/>\n       <use xlink:href=\"#DejaVuSans-2e\" transform=\"translate(63.623047 0)\"/>\n       <use xlink:href=\"#DejaVuSans-38\" transform=\"translate(95.410156 0)\"/>\n      </g>\n     </g>\n    </g>\n    <g id=\"ytick_5\">\n     <g id=\"line2d_23\">\n      <path d=\"M 42.828125 134.783989 \nL 705.878125 134.783989 \n\" clip-path=\"url(#pfef0384edc)\" style=\"fill: none; stroke: #b0b0b0; stroke-width: 0.8; stroke-linecap: square\"/>\n     </g>\n     <g id=\"line2d_24\">\n      <g>\n       <use xlink:href=\"#m71f77490d9\" x=\"42.828125\" y=\"134.783989\" style=\"stroke: #000000; stroke-width: 0.8\"/>\n      </g>\n     </g>\n     <g id=\"text_13\">\n      <!-- 1.9 -->\n      <g transform=\"translate(19.925 138.583208) scale(0.1 -0.1)\">\n       <defs>\n        <path id=\"DejaVuSans-39\" d=\"M 703 97 \nL 703 672 \nQ 941 559 1184 500 \nQ 1428 441 1663 441 \nQ 2288 441 2617 861 \nQ 2947 1281 2994 2138 \nQ 2813 1869 2534 1725 \nQ 2256 1581 1919 1581 \nQ 1219 1581 811 2004 \nQ 403 2428 403 3163 \nQ 403 3881 828 4315 \nQ 1253 4750 1959 4750 \nQ 2769 4750 3195 4129 \nQ 3622 3509 3622 2328 \nQ 3622 1225 3098 567 \nQ 2575 -91 1691 -91 \nQ 1453 -91 1209 -44 \nQ 966 3 703 97 \nz\nM 1959 2075 \nQ 2384 2075 2632 2365 \nQ 2881 2656 2881 3163 \nQ 2881 3666 2632 3958 \nQ 2384 4250 1959 4250 \nQ 1534 4250 1286 3958 \nQ 1038 3666 1038 3163 \nQ 1038 2656 1286 2365 \nQ 1534 2075 1959 2075 \nz\n\" transform=\"scale(0.015625)\"/>\n       </defs>\n       <use xlink:href=\"#DejaVuSans-31\"/>\n       <use xlink:href=\"#DejaVuSans-2e\" transform=\"translate(63.623047 0)\"/>\n       <use xlink:href=\"#DejaVuSans-39\" transform=\"translate(95.410156 0)\"/>\n      </g>\n     </g>\n    </g>\n    <g id=\"ytick_6\">\n     <g id=\"line2d_25\">\n      <path d=\"M 42.828125 91.505282 \nL 705.878125 91.505282 \n\" clip-path=\"url(#pfef0384edc)\" style=\"fill: none; stroke: #b0b0b0; stroke-width: 0.8; stroke-linecap: square\"/>\n     </g>\n     <g id=\"line2d_26\">\n      <g>\n       <use xlink:href=\"#m71f77490d9\" x=\"42.828125\" y=\"91.505282\" style=\"stroke: #000000; stroke-width: 0.8\"/>\n      </g>\n     </g>\n     <g id=\"text_14\">\n      <!-- 2.0 -->\n      <g transform=\"translate(19.925 95.3045) scale(0.1 -0.1)\">\n       <use xlink:href=\"#DejaVuSans-32\"/>\n       <use xlink:href=\"#DejaVuSans-2e\" transform=\"translate(63.623047 0)\"/>\n       <use xlink:href=\"#DejaVuSans-30\" transform=\"translate(95.410156 0)\"/>\n      </g>\n     </g>\n    </g>\n    <g id=\"ytick_7\">\n     <g id=\"line2d_27\">\n      <path d=\"M 42.828125 48.226574 \nL 705.878125 48.226574 \n\" clip-path=\"url(#pfef0384edc)\" style=\"fill: none; stroke: #b0b0b0; stroke-width: 0.8; stroke-linecap: square\"/>\n     </g>\n     <g id=\"line2d_28\">\n      <g>\n       <use xlink:href=\"#m71f77490d9\" x=\"42.828125\" y=\"48.226574\" style=\"stroke: #000000; stroke-width: 0.8\"/>\n      </g>\n     </g>\n     <g id=\"text_15\">\n      <!-- 2.1 -->\n      <g transform=\"translate(19.925 52.025793) scale(0.1 -0.1)\">\n       <use xlink:href=\"#DejaVuSans-32\"/>\n       <use xlink:href=\"#DejaVuSans-2e\" transform=\"translate(63.623047 0)\"/>\n       <use xlink:href=\"#DejaVuSans-31\" transform=\"translate(95.410156 0)\"/>\n      </g>\n     </g>\n    </g>\n   </g>\n   <g id=\"line2d_29\">\n    <path d=\"M 72.966761 113.52609 \nL 116.021956 226.776987 \nL 159.077151 263.014465 \nL 202.132346 274.467786 \nL 245.187541 282.988157 \nL 288.242735 285.326756 \nL 331.29793 269.729554 \nL 374.353125 265.499656 \nL 417.40832 253.629323 \nL 460.463515 227.058452 \nL 503.518709 203.631148 \nL 546.573904 182.824419 \nL 589.629099 140.936067 \nL 632.684294 109.587236 \nL 675.739489 35.798125 \n\" clip-path=\"url(#pfef0384edc)\" style=\"fill: none; stroke: #000000; stroke-width: 1.5; stroke-linecap: square\"/>\n   </g>\n   <g id=\"line2d_30\">\n    <path d=\"M 72.966761 96.318379 \nL 116.021956 217.17515 \nL 159.077151 247.324747 \nL 202.132346 272.902753 \nL 245.187541 281.05454 \nL 288.242735 281.150217 \nL 331.29793 273.929967 \nL 374.353125 268.590391 \nL 417.40832 261.782249 \nL 460.463515 222.439057 \nL 503.518709 219.993305 \nL 546.573904 189.125598 \nL 589.629099 153.136009 \nL 632.684294 128.31142 \nL 675.739489 55.330868 \n\" clip-path=\"url(#pfef0384edc)\" style=\"fill: none; stroke: #ff0000; stroke-width: 1.5; stroke-linecap: square\"/>\n   </g>\n   <g id=\"line2d_31\">\n    <path d=\"M 72.966761 87.179722 \nL 116.021956 188.31596 \nL 159.077151 240.867246 \nL 202.132346 265.42384 \nL 245.187541 281.131912 \nL 288.242735 290.179414 \nL 331.29793 293.697337 \nL 374.353125 298.573901 \nL 417.40832 301.648485 \nL 460.463515 301.964022 \nL 503.518709 305.398125 \nL 546.573904 302.945614 \nL 589.629099 299.725176 \nL 632.684294 299.524751 \nL 675.739489 301.678656 \n\" clip-path=\"url(#pfef0384edc)\" style=\"fill: none; stroke: #0000ff; stroke-width: 1.5; stroke-linecap: square\"/>\n   </g>\n   <g id=\"line2d_32\">\n    <path d=\"M 72.966761 113.52609 \nL 116.021956 226.776987 \nL 159.077151 263.014465 \nL 202.132346 274.467786 \nL 245.187541 282.988157 \nL 288.242735 285.326756 \nL 331.29793 269.729554 \nL 374.353125 265.499656 \nL 417.40832 253.629323 \nL 460.463515 227.058452 \nL 503.518709 203.631148 \nL 546.573904 182.824419 \nL 589.629099 140.936067 \nL 632.684294 109.587236 \nL 675.739489 35.798125 \n\" clip-path=\"url(#pfef0384edc)\" style=\"fill: none; stroke: #008000; stroke-width: 1.5; stroke-linecap: square\"/>\n   </g>\n   <g id=\"line2d_33\">\n    <path d=\"M 72.966761 85.335373 \nL 116.021956 122.036928 \nL 159.077151 206.45657 \nL 202.132346 227.930922 \nL 245.187541 257.121246 \nL 288.242735 269.167569 \nL 331.29793 281.212224 \nL 374.353125 286.603993 \nL 417.40832 293.043123 \nL 460.463515 298.782701 \nL 503.518709 301.080937 \nL 546.573904 303.436538 \nL 589.629099 299.507596 \nL 632.684294 302.753245 \nL 675.739489 304.245161 \n\" clip-path=\"url(#pfef0384edc)\" style=\"fill: none; stroke: #ffa500; stroke-width: 1.5; stroke-linecap: square\"/>\n   </g>\n   <g id=\"line2d_34\">\n    <path d=\"M 72.966761 126.068464 \nL 116.021956 208.267555 \nL 159.077151 235.623454 \nL 202.132346 267.767111 \nL 245.187541 268.823777 \nL 288.242735 281.580207 \nL 331.29793 281.65214 \nL 374.353125 276.520741 \nL 417.40832 258.754459 \nL 460.463515 252.70782 \nL 503.518709 228.236765 \nL 546.573904 208.262432 \nL 589.629099 184.047182 \nL 632.684294 139.832605 \nL 675.739489 99.32307 \n\" clip-path=\"url(#pfef0384edc)\" style=\"fill: none; stroke: #800080; stroke-width: 1.5; stroke-linecap: square\"/>\n   </g>\n   <g id=\"line2d_35\">\n    <path d=\"M 72.966761 56.1242 \nL 116.021956 202.094605 \nL 159.077151 236.076748 \nL 202.132346 245.048538 \nL 245.187541 265.669627 \nL 288.242735 279.529431 \nL 331.29793 278.716851 \nL 374.353125 280.471172 \nL 417.40832 276.609607 \nL 460.463515 278.352649 \nL 503.518709 273.669259 \nL 546.573904 263.529961 \nL 589.629099 267.186311 \nL 632.684294 249.883237 \nL 675.739489 245.812833 \n\" clip-path=\"url(#pfef0384edc)\" style=\"fill: none; stroke: #00ffff; stroke-width: 1.5; stroke-linecap: square\"/>\n   </g>\n   <g id=\"patch_3\">\n    <path d=\"M 42.828125 318.878125 \nL 42.828125 22.318125 \n\" style=\"fill: none; stroke: #000000; stroke-width: 0.8; stroke-linejoin: miter; stroke-linecap: square\"/>\n   </g>\n   <g id=\"patch_4\">\n    <path d=\"M 705.878125 318.878125 \nL 705.878125 22.318125 \n\" style=\"fill: none; stroke: #000000; stroke-width: 0.8; stroke-linejoin: miter; stroke-linecap: square\"/>\n   </g>\n   <g id=\"patch_5\">\n    <path d=\"M 42.828125 318.878125 \nL 705.878125 318.878125 \n\" style=\"fill: none; stroke: #000000; stroke-width: 0.8; stroke-linejoin: miter; stroke-linecap: square\"/>\n   </g>\n   <g id=\"patch_6\">\n    <path d=\"M 42.828125 22.318125 \nL 705.878125 22.318125 \n\" style=\"fill: none; stroke: #000000; stroke-width: 0.8; stroke-linejoin: miter; stroke-linecap: square\"/>\n   </g>\n   <g id=\"text_16\">\n    <!-- Test CrossEntropy Loss -->\n    <g transform=\"translate(305.811562 16.318125) scale(0.12 -0.12)\">\n     <defs>\n      <path id=\"DejaVuSans-54\" d=\"M -19 4666 \nL 3928 4666 \nL 3928 4134 \nL 2272 4134 \nL 2272 0 \nL 1638 0 \nL 1638 4134 \nL -19 4134 \nL -19 4666 \nz\n\" transform=\"scale(0.015625)\"/>\n      <path id=\"DejaVuSans-65\" d=\"M 3597 1894 \nL 3597 1613 \nL 953 1613 \nQ 991 1019 1311 708 \nQ 1631 397 2203 397 \nQ 2534 397 2845 478 \nQ 3156 559 3463 722 \nL 3463 178 \nQ 3153 47 2828 -22 \nQ 2503 -91 2169 -91 \nQ 1331 -91 842 396 \nQ 353 884 353 1716 \nQ 353 2575 817 3079 \nQ 1281 3584 2069 3584 \nQ 2775 3584 3186 3129 \nQ 3597 2675 3597 1894 \nz\nM 3022 2063 \nQ 3016 2534 2758 2815 \nQ 2500 3097 2075 3097 \nQ 1594 3097 1305 2825 \nQ 1016 2553 972 2059 \nL 3022 2063 \nz\n\" transform=\"scale(0.015625)\"/>\n      <path id=\"DejaVuSans-73\" d=\"M 2834 3397 \nL 2834 2853 \nQ 2591 2978 2328 3040 \nQ 2066 3103 1784 3103 \nQ 1356 3103 1142 2972 \nQ 928 2841 928 2578 \nQ 928 2378 1081 2264 \nQ 1234 2150 1697 2047 \nL 1894 2003 \nQ 2506 1872 2764 1633 \nQ 3022 1394 3022 966 \nQ 3022 478 2636 193 \nQ 2250 -91 1575 -91 \nQ 1294 -91 989 -36 \nQ 684 19 347 128 \nL 347 722 \nQ 666 556 975 473 \nQ 1284 391 1588 391 \nQ 1994 391 2212 530 \nQ 2431 669 2431 922 \nQ 2431 1156 2273 1281 \nQ 2116 1406 1581 1522 \nL 1381 1569 \nQ 847 1681 609 1914 \nQ 372 2147 372 2553 \nQ 372 3047 722 3315 \nQ 1072 3584 1716 3584 \nQ 2034 3584 2315 3537 \nQ 2597 3491 2834 3397 \nz\n\" transform=\"scale(0.015625)\"/>\n      <path id=\"DejaVuSans-74\" d=\"M 1172 4494 \nL 1172 3500 \nL 2356 3500 \nL 2356 3053 \nL 1172 3053 \nL 1172 1153 \nQ 1172 725 1289 603 \nQ 1406 481 1766 481 \nL 2356 481 \nL 2356 0 \nL 1766 0 \nQ 1100 0 847 248 \nQ 594 497 594 1153 \nL 594 3053 \nL 172 3053 \nL 172 3500 \nL 594 3500 \nL 594 4494 \nL 1172 4494 \nz\n\" transform=\"scale(0.015625)\"/>\n      <path id=\"DejaVuSans-20\" transform=\"scale(0.015625)\"/>\n      <path id=\"DejaVuSans-43\" d=\"M 4122 4306 \nL 4122 3641 \nQ 3803 3938 3442 4084 \nQ 3081 4231 2675 4231 \nQ 1875 4231 1450 3742 \nQ 1025 3253 1025 2328 \nQ 1025 1406 1450 917 \nQ 1875 428 2675 428 \nQ 3081 428 3442 575 \nQ 3803 722 4122 1019 \nL 4122 359 \nQ 3791 134 3420 21 \nQ 3050 -91 2638 -91 \nQ 1578 -91 968 557 \nQ 359 1206 359 2328 \nQ 359 3453 968 4101 \nQ 1578 4750 2638 4750 \nQ 3056 4750 3426 4639 \nQ 3797 4528 4122 4306 \nz\n\" transform=\"scale(0.015625)\"/>\n      <path id=\"DejaVuSans-72\" d=\"M 2631 2963 \nQ 2534 3019 2420 3045 \nQ 2306 3072 2169 3072 \nQ 1681 3072 1420 2755 \nQ 1159 2438 1159 1844 \nL 1159 0 \nL 581 0 \nL 581 3500 \nL 1159 3500 \nL 1159 2956 \nQ 1341 3275 1631 3429 \nQ 1922 3584 2338 3584 \nQ 2397 3584 2469 3576 \nQ 2541 3569 2628 3553 \nL 2631 2963 \nz\n\" transform=\"scale(0.015625)\"/>\n      <path id=\"DejaVuSans-6e\" d=\"M 3513 2113 \nL 3513 0 \nL 2938 0 \nL 2938 2094 \nQ 2938 2591 2744 2837 \nQ 2550 3084 2163 3084 \nQ 1697 3084 1428 2787 \nQ 1159 2491 1159 1978 \nL 1159 0 \nL 581 0 \nL 581 3500 \nL 1159 3500 \nL 1159 2956 \nQ 1366 3272 1645 3428 \nQ 1925 3584 2291 3584 \nQ 2894 3584 3203 3211 \nQ 3513 2838 3513 2113 \nz\n\" transform=\"scale(0.015625)\"/>\n      <path id=\"DejaVuSans-79\" d=\"M 2059 -325 \nQ 1816 -950 1584 -1140 \nQ 1353 -1331 966 -1331 \nL 506 -1331 \nL 506 -850 \nL 844 -850 \nQ 1081 -850 1212 -737 \nQ 1344 -625 1503 -206 \nL 1606 56 \nL 191 3500 \nL 800 3500 \nL 1894 763 \nL 2988 3500 \nL 3597 3500 \nL 2059 -325 \nz\n\" transform=\"scale(0.015625)\"/>\n      <path id=\"DejaVuSans-4c\" d=\"M 628 4666 \nL 1259 4666 \nL 1259 531 \nL 3531 531 \nL 3531 0 \nL 628 0 \nL 628 4666 \nz\n\" transform=\"scale(0.015625)\"/>\n     </defs>\n     <use xlink:href=\"#DejaVuSans-54\"/>\n     <use xlink:href=\"#DejaVuSans-65\" transform=\"translate(44.083984 0)\"/>\n     <use xlink:href=\"#DejaVuSans-73\" transform=\"translate(105.607422 0)\"/>\n     <use xlink:href=\"#DejaVuSans-74\" transform=\"translate(157.707031 0)\"/>\n     <use xlink:href=\"#DejaVuSans-20\" transform=\"translate(196.916016 0)\"/>\n     <use xlink:href=\"#DejaVuSans-43\" transform=\"translate(228.703125 0)\"/>\n     <use xlink:href=\"#DejaVuSans-72\" transform=\"translate(298.527344 0)\"/>\n     <use xlink:href=\"#DejaVuSans-6f\" transform=\"translate(337.390625 0)\"/>\n     <use xlink:href=\"#DejaVuSans-73\" transform=\"translate(398.572266 0)\"/>\n     <use xlink:href=\"#DejaVuSans-73\" transform=\"translate(450.671875 0)\"/>\n     <use xlink:href=\"#DejaVuSans-45\" transform=\"translate(502.771484 0)\"/>\n     <use xlink:href=\"#DejaVuSans-6e\" transform=\"translate(565.955078 0)\"/>\n     <use xlink:href=\"#DejaVuSans-74\" transform=\"translate(629.333984 0)\"/>\n     <use xlink:href=\"#DejaVuSans-72\" transform=\"translate(668.542969 0)\"/>\n     <use xlink:href=\"#DejaVuSans-6f\" transform=\"translate(707.40625 0)\"/>\n     <use xlink:href=\"#DejaVuSans-70\" transform=\"translate(768.587891 0)\"/>\n     <use xlink:href=\"#DejaVuSans-79\" transform=\"translate(832.064453 0)\"/>\n     <use xlink:href=\"#DejaVuSans-20\" transform=\"translate(891.244141 0)\"/>\n     <use xlink:href=\"#DejaVuSans-4c\" transform=\"translate(923.03125 0)\"/>\n     <use xlink:href=\"#DejaVuSans-6f\" transform=\"translate(976.994141 0)\"/>\n     <use xlink:href=\"#DejaVuSans-73\" transform=\"translate(1038.175781 0)\"/>\n     <use xlink:href=\"#DejaVuSans-73\" transform=\"translate(1090.275391 0)\"/>\n    </g>\n   </g>\n   <g id=\"legend_1\">\n    <g id=\"patch_7\">\n     <path d=\"M 290.765625 133.065 \nL 457.940625 133.065 \nQ 459.940625 133.065 459.940625 131.065 \nL 459.940625 29.318125 \nQ 459.940625 27.318125 457.940625 27.318125 \nL 290.765625 27.318125 \nQ 288.765625 27.318125 288.765625 29.318125 \nL 288.765625 131.065 \nQ 288.765625 133.065 290.765625 133.065 \nz\n\" style=\"fill: #ffffff; opacity: 0.8; stroke: #cccccc; stroke-linejoin: miter\"/>\n    </g>\n    <g id=\"line2d_36\">\n     <path d=\"M 292.765625 35.416562 \nL 302.765625 35.416562 \nL 312.765625 35.416562 \n\" style=\"fill: none; stroke: #000000; stroke-width: 1.5; stroke-linecap: square\"/>\n    </g>\n    <g id=\"text_17\">\n     <!-- LSTM -->\n     <g transform=\"translate(320.765625 38.916562) scale(0.1 -0.1)\">\n      <defs>\n       <path id=\"DejaVuSans-53\" d=\"M 3425 4513 \nL 3425 3897 \nQ 3066 4069 2747 4153 \nQ 2428 4238 2131 4238 \nQ 1616 4238 1336 4038 \nQ 1056 3838 1056 3469 \nQ 1056 3159 1242 3001 \nQ 1428 2844 1947 2747 \nL 2328 2669 \nQ 3034 2534 3370 2195 \nQ 3706 1856 3706 1288 \nQ 3706 609 3251 259 \nQ 2797 -91 1919 -91 \nQ 1588 -91 1214 -16 \nQ 841 59 441 206 \nL 441 856 \nQ 825 641 1194 531 \nQ 1563 422 1919 422 \nQ 2459 422 2753 634 \nQ 3047 847 3047 1241 \nQ 3047 1584 2836 1778 \nQ 2625 1972 2144 2069 \nL 1759 2144 \nQ 1053 2284 737 2584 \nQ 422 2884 422 3419 \nQ 422 4038 858 4394 \nQ 1294 4750 2059 4750 \nQ 2388 4750 2728 4690 \nQ 3069 4631 3425 4513 \nz\n\" transform=\"scale(0.015625)\"/>\n       <path id=\"DejaVuSans-4d\" d=\"M 628 4666 \nL 1569 4666 \nL 2759 1491 \nL 3956 4666 \nL 4897 4666 \nL 4897 0 \nL 4281 0 \nL 4281 4097 \nL 3078 897 \nL 2444 897 \nL 1241 4097 \nL 1241 0 \nL 628 0 \nL 628 4666 \nz\n\" transform=\"scale(0.015625)\"/>\n      </defs>\n      <use xlink:href=\"#DejaVuSans-4c\"/>\n      <use xlink:href=\"#DejaVuSans-53\" transform=\"translate(55.712891 0)\"/>\n      <use xlink:href=\"#DejaVuSans-54\" transform=\"translate(119.189453 0)\"/>\n      <use xlink:href=\"#DejaVuSans-4d\" transform=\"translate(180.273438 0)\"/>\n     </g>\n    </g>\n    <g id=\"line2d_37\">\n     <path d=\"M 292.765625 50.094687 \nL 302.765625 50.094687 \nL 312.765625 50.094687 \n\" style=\"fill: none; stroke: #ff0000; stroke-width: 1.5; stroke-linecap: square\"/>\n    </g>\n    <g id=\"text_18\">\n     <!-- RNNLayer -->\n     <g transform=\"translate(320.765625 53.594687) scale(0.1 -0.1)\">\n      <defs>\n       <path id=\"DejaVuSans-52\" d=\"M 2841 2188 \nQ 3044 2119 3236 1894 \nQ 3428 1669 3622 1275 \nL 4263 0 \nL 3584 0 \nL 2988 1197 \nQ 2756 1666 2539 1819 \nQ 2322 1972 1947 1972 \nL 1259 1972 \nL 1259 0 \nL 628 0 \nL 628 4666 \nL 2053 4666 \nQ 2853 4666 3247 4331 \nQ 3641 3997 3641 3322 \nQ 3641 2881 3436 2590 \nQ 3231 2300 2841 2188 \nz\nM 1259 4147 \nL 1259 2491 \nL 2053 2491 \nQ 2509 2491 2742 2702 \nQ 2975 2913 2975 3322 \nQ 2975 3731 2742 3939 \nQ 2509 4147 2053 4147 \nL 1259 4147 \nz\n\" transform=\"scale(0.015625)\"/>\n       <path id=\"DejaVuSans-4e\" d=\"M 628 4666 \nL 1478 4666 \nL 3547 763 \nL 3547 4666 \nL 4159 4666 \nL 4159 0 \nL 3309 0 \nL 1241 3903 \nL 1241 0 \nL 628 0 \nL 628 4666 \nz\n\" transform=\"scale(0.015625)\"/>\n       <path id=\"DejaVuSans-61\" d=\"M 2194 1759 \nQ 1497 1759 1228 1600 \nQ 959 1441 959 1056 \nQ 959 750 1161 570 \nQ 1363 391 1709 391 \nQ 2188 391 2477 730 \nQ 2766 1069 2766 1631 \nL 2766 1759 \nL 2194 1759 \nz\nM 3341 1997 \nL 3341 0 \nL 2766 0 \nL 2766 531 \nQ 2569 213 2275 61 \nQ 1981 -91 1556 -91 \nQ 1019 -91 701 211 \nQ 384 513 384 1019 \nQ 384 1609 779 1909 \nQ 1175 2209 1959 2209 \nL 2766 2209 \nL 2766 2266 \nQ 2766 2663 2505 2880 \nQ 2244 3097 1772 3097 \nQ 1472 3097 1187 3025 \nQ 903 2953 641 2809 \nL 641 3341 \nQ 956 3463 1253 3523 \nQ 1550 3584 1831 3584 \nQ 2591 3584 2966 3190 \nQ 3341 2797 3341 1997 \nz\n\" transform=\"scale(0.015625)\"/>\n      </defs>\n      <use xlink:href=\"#DejaVuSans-52\"/>\n      <use xlink:href=\"#DejaVuSans-4e\" transform=\"translate(69.482422 0)\"/>\n      <use xlink:href=\"#DejaVuSans-4e\" transform=\"translate(144.287109 0)\"/>\n      <use xlink:href=\"#DejaVuSans-4c\" transform=\"translate(219.091797 0)\"/>\n      <use xlink:href=\"#DejaVuSans-61\" transform=\"translate(274.804688 0)\"/>\n      <use xlink:href=\"#DejaVuSans-79\" transform=\"translate(336.083984 0)\"/>\n      <use xlink:href=\"#DejaVuSans-65\" transform=\"translate(395.263672 0)\"/>\n      <use xlink:href=\"#DejaVuSans-72\" transform=\"translate(456.787109 0)\"/>\n     </g>\n    </g>\n    <g id=\"line2d_38\">\n     <path d=\"M 292.765625 64.772812 \nL 302.765625 64.772812 \nL 312.765625 64.772812 \n\" style=\"fill: none; stroke: #0000ff; stroke-width: 1.5; stroke-linecap: square\"/>\n    </g>\n    <g id=\"text_19\">\n     <!-- RNNLayer + dropout -->\n     <g transform=\"translate(320.765625 68.272812) scale(0.1 -0.1)\">\n      <defs>\n       <path id=\"DejaVuSans-2b\" d=\"M 2944 4013 \nL 2944 2272 \nL 4684 2272 \nL 4684 1741 \nL 2944 1741 \nL 2944 0 \nL 2419 0 \nL 2419 1741 \nL 678 1741 \nL 678 2272 \nL 2419 2272 \nL 2419 4013 \nL 2944 4013 \nz\n\" transform=\"scale(0.015625)\"/>\n       <path id=\"DejaVuSans-64\" d=\"M 2906 2969 \nL 2906 4863 \nL 3481 4863 \nL 3481 0 \nL 2906 0 \nL 2906 525 \nQ 2725 213 2448 61 \nQ 2172 -91 1784 -91 \nQ 1150 -91 751 415 \nQ 353 922 353 1747 \nQ 353 2572 751 3078 \nQ 1150 3584 1784 3584 \nQ 2172 3584 2448 3432 \nQ 2725 3281 2906 2969 \nz\nM 947 1747 \nQ 947 1113 1208 752 \nQ 1469 391 1925 391 \nQ 2381 391 2643 752 \nQ 2906 1113 2906 1747 \nQ 2906 2381 2643 2742 \nQ 2381 3103 1925 3103 \nQ 1469 3103 1208 2742 \nQ 947 2381 947 1747 \nz\n\" transform=\"scale(0.015625)\"/>\n       <path id=\"DejaVuSans-75\" d=\"M 544 1381 \nL 544 3500 \nL 1119 3500 \nL 1119 1403 \nQ 1119 906 1312 657 \nQ 1506 409 1894 409 \nQ 2359 409 2629 706 \nQ 2900 1003 2900 1516 \nL 2900 3500 \nL 3475 3500 \nL 3475 0 \nL 2900 0 \nL 2900 538 \nQ 2691 219 2414 64 \nQ 2138 -91 1772 -91 \nQ 1169 -91 856 284 \nQ 544 659 544 1381 \nz\nM 1991 3584 \nL 1991 3584 \nz\n\" transform=\"scale(0.015625)\"/>\n      </defs>\n      <use xlink:href=\"#DejaVuSans-52\"/>\n      <use xlink:href=\"#DejaVuSans-4e\" transform=\"translate(69.482422 0)\"/>\n      <use xlink:href=\"#DejaVuSans-4e\" transform=\"translate(144.287109 0)\"/>\n      <use xlink:href=\"#DejaVuSans-4c\" transform=\"translate(219.091797 0)\"/>\n      <use xlink:href=\"#DejaVuSans-61\" transform=\"translate(274.804688 0)\"/>\n      <use xlink:href=\"#DejaVuSans-79\" transform=\"translate(336.083984 0)\"/>\n      <use xlink:href=\"#DejaVuSans-65\" transform=\"translate(395.263672 0)\"/>\n      <use xlink:href=\"#DejaVuSans-72\" transform=\"translate(456.787109 0)\"/>\n      <use xlink:href=\"#DejaVuSans-20\" transform=\"translate(497.900391 0)\"/>\n      <use xlink:href=\"#DejaVuSans-2b\" transform=\"translate(529.6875 0)\"/>\n      <use xlink:href=\"#DejaVuSans-20\" transform=\"translate(613.476562 0)\"/>\n      <use xlink:href=\"#DejaVuSans-64\" transform=\"translate(645.263672 0)\"/>\n      <use xlink:href=\"#DejaVuSans-72\" transform=\"translate(708.740234 0)\"/>\n      <use xlink:href=\"#DejaVuSans-6f\" transform=\"translate(747.603516 0)\"/>\n      <use xlink:href=\"#DejaVuSans-70\" transform=\"translate(808.785156 0)\"/>\n      <use xlink:href=\"#DejaVuSans-6f\" transform=\"translate(872.261719 0)\"/>\n      <use xlink:href=\"#DejaVuSans-75\" transform=\"translate(933.443359 0)\"/>\n      <use xlink:href=\"#DejaVuSans-74\" transform=\"translate(996.822266 0)\"/>\n     </g>\n    </g>\n    <g id=\"line2d_39\">\n     <path d=\"M 292.765625 79.450937 \nL 302.765625 79.450937 \nL 312.765625 79.450937 \n\" style=\"fill: none; stroke: #008000; stroke-width: 1.5; stroke-linecap: square\"/>\n    </g>\n    <g id=\"text_20\">\n     <!-- FastRNNLayer -->\n     <g transform=\"translate(320.765625 82.950937) scale(0.1 -0.1)\">\n      <defs>\n       <path id=\"DejaVuSans-46\" d=\"M 628 4666 \nL 3309 4666 \nL 3309 4134 \nL 1259 4134 \nL 1259 2759 \nL 3109 2759 \nL 3109 2228 \nL 1259 2228 \nL 1259 0 \nL 628 0 \nL 628 4666 \nz\n\" transform=\"scale(0.015625)\"/>\n      </defs>\n      <use xlink:href=\"#DejaVuSans-46\"/>\n      <use xlink:href=\"#DejaVuSans-61\" transform=\"translate(48.394531 0)\"/>\n      <use xlink:href=\"#DejaVuSans-73\" transform=\"translate(109.673828 0)\"/>\n      <use xlink:href=\"#DejaVuSans-74\" transform=\"translate(161.773438 0)\"/>\n      <use xlink:href=\"#DejaVuSans-52\" transform=\"translate(200.982422 0)\"/>\n      <use xlink:href=\"#DejaVuSans-4e\" transform=\"translate(270.464844 0)\"/>\n      <use xlink:href=\"#DejaVuSans-4e\" transform=\"translate(345.269531 0)\"/>\n      <use xlink:href=\"#DejaVuSans-4c\" transform=\"translate(420.074219 0)\"/>\n      <use xlink:href=\"#DejaVuSans-61\" transform=\"translate(475.787109 0)\"/>\n      <use xlink:href=\"#DejaVuSans-79\" transform=\"translate(537.066406 0)\"/>\n      <use xlink:href=\"#DejaVuSans-65\" transform=\"translate(596.246094 0)\"/>\n      <use xlink:href=\"#DejaVuSans-72\" transform=\"translate(657.769531 0)\"/>\n     </g>\n    </g>\n    <g id=\"line2d_40\">\n     <path d=\"M 292.765625 94.129062 \nL 302.765625 94.129062 \nL 312.765625 94.129062 \n\" style=\"fill: none; stroke: #ffa500; stroke-width: 1.5; stroke-linecap: square\"/>\n    </g>\n    <g id=\"text_21\">\n     <!-- FastRNNLayer + dropout -->\n     <g transform=\"translate(320.765625 97.629062) scale(0.1 -0.1)\">\n      <use xlink:href=\"#DejaVuSans-46\"/>\n      <use xlink:href=\"#DejaVuSans-61\" transform=\"translate(48.394531 0)\"/>\n      <use xlink:href=\"#DejaVuSans-73\" transform=\"translate(109.673828 0)\"/>\n      <use xlink:href=\"#DejaVuSans-74\" transform=\"translate(161.773438 0)\"/>\n      <use xlink:href=\"#DejaVuSans-52\" transform=\"translate(200.982422 0)\"/>\n      <use xlink:href=\"#DejaVuSans-4e\" transform=\"translate(270.464844 0)\"/>\n      <use xlink:href=\"#DejaVuSans-4e\" transform=\"translate(345.269531 0)\"/>\n      <use xlink:href=\"#DejaVuSans-4c\" transform=\"translate(420.074219 0)\"/>\n      <use xlink:href=\"#DejaVuSans-61\" transform=\"translate(475.787109 0)\"/>\n      <use xlink:href=\"#DejaVuSans-79\" transform=\"translate(537.066406 0)\"/>\n      <use xlink:href=\"#DejaVuSans-65\" transform=\"translate(596.246094 0)\"/>\n      <use xlink:href=\"#DejaVuSans-72\" transform=\"translate(657.769531 0)\"/>\n      <use xlink:href=\"#DejaVuSans-20\" transform=\"translate(698.882812 0)\"/>\n      <use xlink:href=\"#DejaVuSans-2b\" transform=\"translate(730.669922 0)\"/>\n      <use xlink:href=\"#DejaVuSans-20\" transform=\"translate(814.458984 0)\"/>\n      <use xlink:href=\"#DejaVuSans-64\" transform=\"translate(846.246094 0)\"/>\n      <use xlink:href=\"#DejaVuSans-72\" transform=\"translate(909.722656 0)\"/>\n      <use xlink:href=\"#DejaVuSans-6f\" transform=\"translate(948.585938 0)\"/>\n      <use xlink:href=\"#DejaVuSans-70\" transform=\"translate(1009.767578 0)\"/>\n      <use xlink:href=\"#DejaVuSans-6f\" transform=\"translate(1073.244141 0)\"/>\n      <use xlink:href=\"#DejaVuSans-75\" transform=\"translate(1134.425781 0)\"/>\n      <use xlink:href=\"#DejaVuSans-74\" transform=\"translate(1197.804688 0)\"/>\n     </g>\n    </g>\n    <g id=\"line2d_41\">\n     <path d=\"M 292.765625 108.807187 \nL 302.765625 108.807187 \nL 312.765625 108.807187 \n\" style=\"fill: none; stroke: #800080; stroke-width: 1.5; stroke-linecap: square\"/>\n    </g>\n    <g id=\"text_22\">\n     <!-- HandmadeLSTM -->\n     <g transform=\"translate(320.765625 112.307187) scale(0.1 -0.1)\">\n      <defs>\n       <path id=\"DejaVuSans-48\" d=\"M 628 4666 \nL 1259 4666 \nL 1259 2753 \nL 3553 2753 \nL 3553 4666 \nL 4184 4666 \nL 4184 0 \nL 3553 0 \nL 3553 2222 \nL 1259 2222 \nL 1259 0 \nL 628 0 \nL 628 4666 \nz\n\" transform=\"scale(0.015625)\"/>\n       <path id=\"DejaVuSans-6d\" d=\"M 3328 2828 \nQ 3544 3216 3844 3400 \nQ 4144 3584 4550 3584 \nQ 5097 3584 5394 3201 \nQ 5691 2819 5691 2113 \nL 5691 0 \nL 5113 0 \nL 5113 2094 \nQ 5113 2597 4934 2840 \nQ 4756 3084 4391 3084 \nQ 3944 3084 3684 2787 \nQ 3425 2491 3425 1978 \nL 3425 0 \nL 2847 0 \nL 2847 2094 \nQ 2847 2600 2669 2842 \nQ 2491 3084 2119 3084 \nQ 1678 3084 1418 2786 \nQ 1159 2488 1159 1978 \nL 1159 0 \nL 581 0 \nL 581 3500 \nL 1159 3500 \nL 1159 2956 \nQ 1356 3278 1631 3431 \nQ 1906 3584 2284 3584 \nQ 2666 3584 2933 3390 \nQ 3200 3197 3328 2828 \nz\n\" transform=\"scale(0.015625)\"/>\n      </defs>\n      <use xlink:href=\"#DejaVuSans-48\"/>\n      <use xlink:href=\"#DejaVuSans-61\" transform=\"translate(75.195312 0)\"/>\n      <use xlink:href=\"#DejaVuSans-6e\" transform=\"translate(136.474609 0)\"/>\n      <use xlink:href=\"#DejaVuSans-64\" transform=\"translate(199.853516 0)\"/>\n      <use xlink:href=\"#DejaVuSans-6d\" transform=\"translate(263.330078 0)\"/>\n      <use xlink:href=\"#DejaVuSans-61\" transform=\"translate(360.742188 0)\"/>\n      <use xlink:href=\"#DejaVuSans-64\" transform=\"translate(422.021484 0)\"/>\n      <use xlink:href=\"#DejaVuSans-65\" transform=\"translate(485.498047 0)\"/>\n      <use xlink:href=\"#DejaVuSans-4c\" transform=\"translate(547.021484 0)\"/>\n      <use xlink:href=\"#DejaVuSans-53\" transform=\"translate(602.734375 0)\"/>\n      <use xlink:href=\"#DejaVuSans-54\" transform=\"translate(666.210938 0)\"/>\n      <use xlink:href=\"#DejaVuSans-4d\" transform=\"translate(727.294922 0)\"/>\n     </g>\n    </g>\n    <g id=\"line2d_42\">\n     <path d=\"M 292.765625 123.485312 \nL 302.765625 123.485312 \nL 312.765625 123.485312 \n\" style=\"fill: none; stroke: #00ffff; stroke-width: 1.5; stroke-linecap: square\"/>\n    </g>\n    <g id=\"text_23\">\n     <!-- HandmadeLSTM + dropout -->\n     <g transform=\"translate(320.765625 126.985312) scale(0.1 -0.1)\">\n      <use xlink:href=\"#DejaVuSans-48\"/>\n      <use xlink:href=\"#DejaVuSans-61\" transform=\"translate(75.195312 0)\"/>\n      <use xlink:href=\"#DejaVuSans-6e\" transform=\"translate(136.474609 0)\"/>\n      <use xlink:href=\"#DejaVuSans-64\" transform=\"translate(199.853516 0)\"/>\n      <use xlink:href=\"#DejaVuSans-6d\" transform=\"translate(263.330078 0)\"/>\n      <use xlink:href=\"#DejaVuSans-61\" transform=\"translate(360.742188 0)\"/>\n      <use xlink:href=\"#DejaVuSans-64\" transform=\"translate(422.021484 0)\"/>\n      <use xlink:href=\"#DejaVuSans-65\" transform=\"translate(485.498047 0)\"/>\n      <use xlink:href=\"#DejaVuSans-4c\" transform=\"translate(547.021484 0)\"/>\n      <use xlink:href=\"#DejaVuSans-53\" transform=\"translate(602.734375 0)\"/>\n      <use xlink:href=\"#DejaVuSans-54\" transform=\"translate(666.210938 0)\"/>\n      <use xlink:href=\"#DejaVuSans-4d\" transform=\"translate(727.294922 0)\"/>\n      <use xlink:href=\"#DejaVuSans-20\" transform=\"translate(813.574219 0)\"/>\n      <use xlink:href=\"#DejaVuSans-2b\" transform=\"translate(845.361328 0)\"/>\n      <use xlink:href=\"#DejaVuSans-20\" transform=\"translate(929.150391 0)\"/>\n      <use xlink:href=\"#DejaVuSans-64\" transform=\"translate(960.9375 0)\"/>\n      <use xlink:href=\"#DejaVuSans-72\" transform=\"translate(1024.414062 0)\"/>\n      <use xlink:href=\"#DejaVuSans-6f\" transform=\"translate(1063.277344 0)\"/>\n      <use xlink:href=\"#DejaVuSans-70\" transform=\"translate(1124.458984 0)\"/>\n      <use xlink:href=\"#DejaVuSans-6f\" transform=\"translate(1187.935547 0)\"/>\n      <use xlink:href=\"#DejaVuSans-75\" transform=\"translate(1249.117188 0)\"/>\n      <use xlink:href=\"#DejaVuSans-74\" transform=\"translate(1312.496094 0)\"/>\n     </g>\n    </g>\n   </g>\n  </g>\n  <g id=\"axes_2\">\n   <g id=\"patch_8\">\n    <path d=\"M 42.828125 673.478125 \nL 705.878125 673.478125 \nL 705.878125 376.918125 \nL 42.828125 376.918125 \nz\n\" style=\"fill: #ffffff\"/>\n   </g>\n   <g id=\"matplotlib.axis_3\">\n    <g id=\"xtick_8\">\n     <g id=\"line2d_43\">\n      <path d=\"M 116.021956 673.478125 \nL 116.021956 376.918125 \n\" clip-path=\"url(#p13534ee6cc)\" style=\"fill: none; stroke: #b0b0b0; stroke-width: 0.8; stroke-linecap: square\"/>\n     </g>\n     <g id=\"line2d_44\">\n      <g>\n       <use xlink:href=\"#mc328ea95d1\" x=\"116.021956\" y=\"673.478125\" style=\"stroke: #000000; stroke-width: 0.8\"/>\n      </g>\n     </g>\n     <g id=\"text_24\">\n      <!-- 2 -->\n      <g transform=\"translate(112.840706 688.076562) scale(0.1 -0.1)\">\n       <use xlink:href=\"#DejaVuSans-32\"/>\n      </g>\n     </g>\n    </g>\n    <g id=\"xtick_9\">\n     <g id=\"line2d_45\">\n      <path d=\"M 202.132346 673.478125 \nL 202.132346 376.918125 \n\" clip-path=\"url(#p13534ee6cc)\" style=\"fill: none; stroke: #b0b0b0; stroke-width: 0.8; stroke-linecap: square\"/>\n     </g>\n     <g id=\"line2d_46\">\n      <g>\n       <use xlink:href=\"#mc328ea95d1\" x=\"202.132346\" y=\"673.478125\" style=\"stroke: #000000; stroke-width: 0.8\"/>\n      </g>\n     </g>\n     <g id=\"text_25\">\n      <!-- 4 -->\n      <g transform=\"translate(198.951096 688.076562) scale(0.1 -0.1)\">\n       <use xlink:href=\"#DejaVuSans-34\"/>\n      </g>\n     </g>\n    </g>\n    <g id=\"xtick_10\">\n     <g id=\"line2d_47\">\n      <path d=\"M 288.242735 673.478125 \nL 288.242735 376.918125 \n\" clip-path=\"url(#p13534ee6cc)\" style=\"fill: none; stroke: #b0b0b0; stroke-width: 0.8; stroke-linecap: square\"/>\n     </g>\n     <g id=\"line2d_48\">\n      <g>\n       <use xlink:href=\"#mc328ea95d1\" x=\"288.242735\" y=\"673.478125\" style=\"stroke: #000000; stroke-width: 0.8\"/>\n      </g>\n     </g>\n     <g id=\"text_26\">\n      <!-- 6 -->\n      <g transform=\"translate(285.061485 688.076562) scale(0.1 -0.1)\">\n       <use xlink:href=\"#DejaVuSans-36\"/>\n      </g>\n     </g>\n    </g>\n    <g id=\"xtick_11\">\n     <g id=\"line2d_49\">\n      <path d=\"M 374.353125 673.478125 \nL 374.353125 376.918125 \n\" clip-path=\"url(#p13534ee6cc)\" style=\"fill: none; stroke: #b0b0b0; stroke-width: 0.8; stroke-linecap: square\"/>\n     </g>\n     <g id=\"line2d_50\">\n      <g>\n       <use xlink:href=\"#mc328ea95d1\" x=\"374.353125\" y=\"673.478125\" style=\"stroke: #000000; stroke-width: 0.8\"/>\n      </g>\n     </g>\n     <g id=\"text_27\">\n      <!-- 8 -->\n      <g transform=\"translate(371.171875 688.076562) scale(0.1 -0.1)\">\n       <use xlink:href=\"#DejaVuSans-38\"/>\n      </g>\n     </g>\n    </g>\n    <g id=\"xtick_12\">\n     <g id=\"line2d_51\">\n      <path d=\"M 460.463515 673.478125 \nL 460.463515 376.918125 \n\" clip-path=\"url(#p13534ee6cc)\" style=\"fill: none; stroke: #b0b0b0; stroke-width: 0.8; stroke-linecap: square\"/>\n     </g>\n     <g id=\"line2d_52\">\n      <g>\n       <use xlink:href=\"#mc328ea95d1\" x=\"460.463515\" y=\"673.478125\" style=\"stroke: #000000; stroke-width: 0.8\"/>\n      </g>\n     </g>\n     <g id=\"text_28\">\n      <!-- 10 -->\n      <g transform=\"translate(454.101015 688.076562) scale(0.1 -0.1)\">\n       <use xlink:href=\"#DejaVuSans-31\"/>\n       <use xlink:href=\"#DejaVuSans-30\" transform=\"translate(63.623047 0)\"/>\n      </g>\n     </g>\n    </g>\n    <g id=\"xtick_13\">\n     <g id=\"line2d_53\">\n      <path d=\"M 546.573904 673.478125 \nL 546.573904 376.918125 \n\" clip-path=\"url(#p13534ee6cc)\" style=\"fill: none; stroke: #b0b0b0; stroke-width: 0.8; stroke-linecap: square\"/>\n     </g>\n     <g id=\"line2d_54\">\n      <g>\n       <use xlink:href=\"#mc328ea95d1\" x=\"546.573904\" y=\"673.478125\" style=\"stroke: #000000; stroke-width: 0.8\"/>\n      </g>\n     </g>\n     <g id=\"text_29\">\n      <!-- 12 -->\n      <g transform=\"translate(540.211404 688.076562) scale(0.1 -0.1)\">\n       <use xlink:href=\"#DejaVuSans-31\"/>\n       <use xlink:href=\"#DejaVuSans-32\" transform=\"translate(63.623047 0)\"/>\n      </g>\n     </g>\n    </g>\n    <g id=\"xtick_14\">\n     <g id=\"line2d_55\">\n      <path d=\"M 632.684294 673.478125 \nL 632.684294 376.918125 \n\" clip-path=\"url(#p13534ee6cc)\" style=\"fill: none; stroke: #b0b0b0; stroke-width: 0.8; stroke-linecap: square\"/>\n     </g>\n     <g id=\"line2d_56\">\n      <g>\n       <use xlink:href=\"#mc328ea95d1\" x=\"632.684294\" y=\"673.478125\" style=\"stroke: #000000; stroke-width: 0.8\"/>\n      </g>\n     </g>\n     <g id=\"text_30\">\n      <!-- 14 -->\n      <g transform=\"translate(626.321794 688.076562) scale(0.1 -0.1)\">\n       <use xlink:href=\"#DejaVuSans-31\"/>\n       <use xlink:href=\"#DejaVuSans-34\" transform=\"translate(63.623047 0)\"/>\n      </g>\n     </g>\n    </g>\n    <g id=\"text_31\">\n     <!-- Epoch -->\n     <g transform=\"translate(359.042187 701.754687) scale(0.1 -0.1)\">\n      <use xlink:href=\"#DejaVuSans-45\"/>\n      <use xlink:href=\"#DejaVuSans-70\" transform=\"translate(63.183594 0)\"/>\n      <use xlink:href=\"#DejaVuSans-6f\" transform=\"translate(126.660156 0)\"/>\n      <use xlink:href=\"#DejaVuSans-63\" transform=\"translate(187.841797 0)\"/>\n      <use xlink:href=\"#DejaVuSans-68\" transform=\"translate(242.822266 0)\"/>\n     </g>\n    </g>\n   </g>\n   <g id=\"matplotlib.axis_4\">\n    <g id=\"ytick_8\">\n     <g id=\"line2d_57\">\n      <path d=\"M 42.828125 667.216955 \nL 705.878125 667.216955 \n\" clip-path=\"url(#p13534ee6cc)\" style=\"fill: none; stroke: #b0b0b0; stroke-width: 0.8; stroke-linecap: square\"/>\n     </g>\n     <g id=\"line2d_58\">\n      <g>\n       <use xlink:href=\"#m71f77490d9\" x=\"42.828125\" y=\"667.216955\" style=\"stroke: #000000; stroke-width: 0.8\"/>\n      </g>\n     </g>\n     <g id=\"text_32\">\n      <!-- 0.225 -->\n      <g transform=\"translate(7.2 671.016173) scale(0.1 -0.1)\">\n       <use xlink:href=\"#DejaVuSans-30\"/>\n       <use xlink:href=\"#DejaVuSans-2e\" transform=\"translate(63.623047 0)\"/>\n       <use xlink:href=\"#DejaVuSans-32\" transform=\"translate(95.410156 0)\"/>\n       <use xlink:href=\"#DejaVuSans-32\" transform=\"translate(159.033203 0)\"/>\n       <use xlink:href=\"#DejaVuSans-35\" transform=\"translate(222.65625 0)\"/>\n      </g>\n     </g>\n    </g>\n    <g id=\"ytick_9\">\n     <g id=\"line2d_59\">\n      <path d=\"M 42.828125 630.831725 \nL 705.878125 630.831725 \n\" clip-path=\"url(#p13534ee6cc)\" style=\"fill: none; stroke: #b0b0b0; stroke-width: 0.8; stroke-linecap: square\"/>\n     </g>\n     <g id=\"line2d_60\">\n      <g>\n       <use xlink:href=\"#m71f77490d9\" x=\"42.828125\" y=\"630.831725\" style=\"stroke: #000000; stroke-width: 0.8\"/>\n      </g>\n     </g>\n     <g id=\"text_33\">\n      <!-- 0.250 -->\n      <g transform=\"translate(7.2 634.630943) scale(0.1 -0.1)\">\n       <use xlink:href=\"#DejaVuSans-30\"/>\n       <use xlink:href=\"#DejaVuSans-2e\" transform=\"translate(63.623047 0)\"/>\n       <use xlink:href=\"#DejaVuSans-32\" transform=\"translate(95.410156 0)\"/>\n       <use xlink:href=\"#DejaVuSans-35\" transform=\"translate(159.033203 0)\"/>\n       <use xlink:href=\"#DejaVuSans-30\" transform=\"translate(222.65625 0)\"/>\n      </g>\n     </g>\n    </g>\n    <g id=\"ytick_10\">\n     <g id=\"line2d_61\">\n      <path d=\"M 42.828125 594.446495 \nL 705.878125 594.446495 \n\" clip-path=\"url(#p13534ee6cc)\" style=\"fill: none; stroke: #b0b0b0; stroke-width: 0.8; stroke-linecap: square\"/>\n     </g>\n     <g id=\"line2d_62\">\n      <g>\n       <use xlink:href=\"#m71f77490d9\" x=\"42.828125\" y=\"594.446495\" style=\"stroke: #000000; stroke-width: 0.8\"/>\n      </g>\n     </g>\n     <g id=\"text_34\">\n      <!-- 0.275 -->\n      <g transform=\"translate(7.2 598.245713) scale(0.1 -0.1)\">\n       <use xlink:href=\"#DejaVuSans-30\"/>\n       <use xlink:href=\"#DejaVuSans-2e\" transform=\"translate(63.623047 0)\"/>\n       <use xlink:href=\"#DejaVuSans-32\" transform=\"translate(95.410156 0)\"/>\n       <use xlink:href=\"#DejaVuSans-37\" transform=\"translate(159.033203 0)\"/>\n       <use xlink:href=\"#DejaVuSans-35\" transform=\"translate(222.65625 0)\"/>\n      </g>\n     </g>\n    </g>\n    <g id=\"ytick_11\">\n     <g id=\"line2d_63\">\n      <path d=\"M 42.828125 558.061265 \nL 705.878125 558.061265 \n\" clip-path=\"url(#p13534ee6cc)\" style=\"fill: none; stroke: #b0b0b0; stroke-width: 0.8; stroke-linecap: square\"/>\n     </g>\n     <g id=\"line2d_64\">\n      <g>\n       <use xlink:href=\"#m71f77490d9\" x=\"42.828125\" y=\"558.061265\" style=\"stroke: #000000; stroke-width: 0.8\"/>\n      </g>\n     </g>\n     <g id=\"text_35\">\n      <!-- 0.300 -->\n      <g transform=\"translate(7.2 561.860483) scale(0.1 -0.1)\">\n       <defs>\n        <path id=\"DejaVuSans-33\" d=\"M 2597 2516 \nQ 3050 2419 3304 2112 \nQ 3559 1806 3559 1356 \nQ 3559 666 3084 287 \nQ 2609 -91 1734 -91 \nQ 1441 -91 1130 -33 \nQ 819 25 488 141 \nL 488 750 \nQ 750 597 1062 519 \nQ 1375 441 1716 441 \nQ 2309 441 2620 675 \nQ 2931 909 2931 1356 \nQ 2931 1769 2642 2001 \nQ 2353 2234 1838 2234 \nL 1294 2234 \nL 1294 2753 \nL 1863 2753 \nQ 2328 2753 2575 2939 \nQ 2822 3125 2822 3475 \nQ 2822 3834 2567 4026 \nQ 2313 4219 1838 4219 \nQ 1578 4219 1281 4162 \nQ 984 4106 628 3988 \nL 628 4550 \nQ 988 4650 1302 4700 \nQ 1616 4750 1894 4750 \nQ 2613 4750 3031 4423 \nQ 3450 4097 3450 3541 \nQ 3450 3153 3228 2886 \nQ 3006 2619 2597 2516 \nz\n\" transform=\"scale(0.015625)\"/>\n       </defs>\n       <use xlink:href=\"#DejaVuSans-30\"/>\n       <use xlink:href=\"#DejaVuSans-2e\" transform=\"translate(63.623047 0)\"/>\n       <use xlink:href=\"#DejaVuSans-33\" transform=\"translate(95.410156 0)\"/>\n       <use xlink:href=\"#DejaVuSans-30\" transform=\"translate(159.033203 0)\"/>\n       <use xlink:href=\"#DejaVuSans-30\" transform=\"translate(222.65625 0)\"/>\n      </g>\n     </g>\n    </g>\n    <g id=\"ytick_12\">\n     <g id=\"line2d_65\">\n      <path d=\"M 42.828125 521.676035 \nL 705.878125 521.676035 \n\" clip-path=\"url(#p13534ee6cc)\" style=\"fill: none; stroke: #b0b0b0; stroke-width: 0.8; stroke-linecap: square\"/>\n     </g>\n     <g id=\"line2d_66\">\n      <g>\n       <use xlink:href=\"#m71f77490d9\" x=\"42.828125\" y=\"521.676035\" style=\"stroke: #000000; stroke-width: 0.8\"/>\n      </g>\n     </g>\n     <g id=\"text_36\">\n      <!-- 0.325 -->\n      <g transform=\"translate(7.2 525.475253) scale(0.1 -0.1)\">\n       <use xlink:href=\"#DejaVuSans-30\"/>\n       <use xlink:href=\"#DejaVuSans-2e\" transform=\"translate(63.623047 0)\"/>\n       <use xlink:href=\"#DejaVuSans-33\" transform=\"translate(95.410156 0)\"/>\n       <use xlink:href=\"#DejaVuSans-32\" transform=\"translate(159.033203 0)\"/>\n       <use xlink:href=\"#DejaVuSans-35\" transform=\"translate(222.65625 0)\"/>\n      </g>\n     </g>\n    </g>\n    <g id=\"ytick_13\">\n     <g id=\"line2d_67\">\n      <path d=\"M 42.828125 485.290805 \nL 705.878125 485.290805 \n\" clip-path=\"url(#p13534ee6cc)\" style=\"fill: none; stroke: #b0b0b0; stroke-width: 0.8; stroke-linecap: square\"/>\n     </g>\n     <g id=\"line2d_68\">\n      <g>\n       <use xlink:href=\"#m71f77490d9\" x=\"42.828125\" y=\"485.290805\" style=\"stroke: #000000; stroke-width: 0.8\"/>\n      </g>\n     </g>\n     <g id=\"text_37\">\n      <!-- 0.350 -->\n      <g transform=\"translate(7.2 489.090024) scale(0.1 -0.1)\">\n       <use xlink:href=\"#DejaVuSans-30\"/>\n       <use xlink:href=\"#DejaVuSans-2e\" transform=\"translate(63.623047 0)\"/>\n       <use xlink:href=\"#DejaVuSans-33\" transform=\"translate(95.410156 0)\"/>\n       <use xlink:href=\"#DejaVuSans-35\" transform=\"translate(159.033203 0)\"/>\n       <use xlink:href=\"#DejaVuSans-30\" transform=\"translate(222.65625 0)\"/>\n      </g>\n     </g>\n    </g>\n    <g id=\"ytick_14\">\n     <g id=\"line2d_69\">\n      <path d=\"M 42.828125 448.905575 \nL 705.878125 448.905575 \n\" clip-path=\"url(#p13534ee6cc)\" style=\"fill: none; stroke: #b0b0b0; stroke-width: 0.8; stroke-linecap: square\"/>\n     </g>\n     <g id=\"line2d_70\">\n      <g>\n       <use xlink:href=\"#m71f77490d9\" x=\"42.828125\" y=\"448.905575\" style=\"stroke: #000000; stroke-width: 0.8\"/>\n      </g>\n     </g>\n     <g id=\"text_38\">\n      <!-- 0.375 -->\n      <g transform=\"translate(7.2 452.704794) scale(0.1 -0.1)\">\n       <use xlink:href=\"#DejaVuSans-30\"/>\n       <use xlink:href=\"#DejaVuSans-2e\" transform=\"translate(63.623047 0)\"/>\n       <use xlink:href=\"#DejaVuSans-33\" transform=\"translate(95.410156 0)\"/>\n       <use xlink:href=\"#DejaVuSans-37\" transform=\"translate(159.033203 0)\"/>\n       <use xlink:href=\"#DejaVuSans-35\" transform=\"translate(222.65625 0)\"/>\n      </g>\n     </g>\n    </g>\n    <g id=\"ytick_15\">\n     <g id=\"line2d_71\">\n      <path d=\"M 42.828125 412.520345 \nL 705.878125 412.520345 \n\" clip-path=\"url(#p13534ee6cc)\" style=\"fill: none; stroke: #b0b0b0; stroke-width: 0.8; stroke-linecap: square\"/>\n     </g>\n     <g id=\"line2d_72\">\n      <g>\n       <use xlink:href=\"#m71f77490d9\" x=\"42.828125\" y=\"412.520345\" style=\"stroke: #000000; stroke-width: 0.8\"/>\n      </g>\n     </g>\n     <g id=\"text_39\">\n      <!-- 0.400 -->\n      <g transform=\"translate(7.2 416.319564) scale(0.1 -0.1)\">\n       <use xlink:href=\"#DejaVuSans-30\"/>\n       <use xlink:href=\"#DejaVuSans-2e\" transform=\"translate(63.623047 0)\"/>\n       <use xlink:href=\"#DejaVuSans-34\" transform=\"translate(95.410156 0)\"/>\n       <use xlink:href=\"#DejaVuSans-30\" transform=\"translate(159.033203 0)\"/>\n       <use xlink:href=\"#DejaVuSans-30\" transform=\"translate(222.65625 0)\"/>\n      </g>\n     </g>\n    </g>\n   </g>\n   <g id=\"line2d_73\">\n    <path d=\"M 72.966761 589.439887 \nL 116.021956 472.308555 \nL 159.077151 439.067009 \nL 202.132346 425.851893 \nL 245.187541 425.560811 \nL 288.242735 412.520345 \nL 331.29793 419.040578 \nL 374.353125 431.615314 \nL 417.40832 426.608706 \nL 460.463515 450.826715 \nL 503.518709 449.895253 \nL 546.573904 446.984435 \nL 589.629099 457.346948 \nL 632.684294 467.651245 \nL 675.739489 468.815573 \n\" clip-path=\"url(#p13534ee6cc)\" style=\"fill: none; stroke: #000000; stroke-width: 1.5; stroke-linecap: square\"/>\n   </g>\n   <g id=\"line2d_74\">\n    <path d=\"M 72.966761 659.998125 \nL 116.021956 479.178086 \nL 159.077151 459.384521 \nL 202.132346 430.509203 \nL 245.187541 429.519524 \nL 288.242735 412.171047 \nL 331.29793 415.664029 \nL 374.353125 423.756104 \nL 417.40832 427.307302 \nL 460.463515 459.384521 \nL 503.518709 449.313089 \nL 546.573904 440.231336 \nL 589.629099 453.79575 \nL 632.684294 453.097153 \nL 675.739489 467.476596 \n\" clip-path=\"url(#p13534ee6cc)\" style=\"fill: none; stroke: #ff0000; stroke-width: 1.5; stroke-linecap: square\"/>\n   </g>\n   <g id=\"line2d_75\">\n    <path d=\"M 72.966761 652.488214 \nL 116.021956 505.08437 \nL 159.077151 453.621101 \nL 202.132346 438.834143 \nL 245.187541 421.369233 \nL 288.242735 408.561632 \nL 331.29793 405.010433 \nL 374.353125 402.157831 \nL 417.40832 401.226369 \nL 460.463515 404.42827 \nL 503.518709 397.384089 \nL 546.573904 390.398125 \nL 589.629099 408.91093 \nL 632.684294 397.558738 \nL 675.739489 399.305229 \n\" clip-path=\"url(#p13534ee6cc)\" style=\"fill: none; stroke: #0000ff; stroke-width: 1.5; stroke-linecap: square\"/>\n   </g>\n   <g id=\"line2d_76\">\n    <path d=\"M 72.966761 589.439887 \nL 116.021956 472.308555 \nL 159.077151 439.067009 \nL 202.132346 425.851893 \nL 245.187541 425.560811 \nL 288.242735 412.520345 \nL 331.29793 419.040578 \nL 374.353125 431.615314 \nL 417.40832 426.608706 \nL 460.463515 450.826715 \nL 503.518709 449.895253 \nL 546.573904 446.984435 \nL 589.629099 457.346948 \nL 632.684294 467.651245 \nL 675.739489 468.815573 \n\" clip-path=\"url(#p13534ee6cc)\" style=\"fill: none; stroke: #008000; stroke-width: 1.5; stroke-linecap: square\"/>\n   </g>\n   <g id=\"line2d_77\">\n    <path d=\"M 72.966761 659.008447 \nL 116.021956 584.491496 \nL 159.077151 485.174372 \nL 202.132346 467.534813 \nL 245.187541 441.628529 \nL 288.242735 433.303588 \nL 331.29793 423.232157 \nL 374.353125 415.896894 \nL 417.40832 409.085579 \nL 460.463515 409.958825 \nL 503.518709 405.010433 \nL 546.573904 398.082686 \nL 589.629099 411.763532 \nL 632.684294 396.860142 \nL 675.739489 402.33248 \n\" clip-path=\"url(#p13534ee6cc)\" style=\"fill: none; stroke: #ffa500; stroke-width: 1.5; stroke-linecap: square\"/>\n   </g>\n   <g id=\"line2d_78\">\n    <path d=\"M 72.966761 574.01255 \nL 116.021956 485.989401 \nL 159.077151 468.640924 \nL 202.132346 435.108296 \nL 245.187541 446.111189 \nL 288.242735 421.078151 \nL 331.29793 421.427449 \nL 374.353125 430.450986 \nL 417.40832 440.289552 \nL 460.463515 436.621921 \nL 503.518709 447.275516 \nL 546.573904 459.55917 \nL 589.629099 454.43613 \nL 632.684294 472.308555 \nL 675.739489 462.353556 \n\" clip-path=\"url(#p13534ee6cc)\" style=\"fill: none; stroke: #800080; stroke-width: 1.5; stroke-linecap: square\"/>\n   </g>\n   <g id=\"line2d_79\">\n    <path d=\"M 72.966761 653.594325 \nL 116.021956 492.800716 \nL 159.077151 461.48031 \nL 202.132346 441.803178 \nL 245.187541 435.108296 \nL 288.242735 420.554204 \nL 331.29793 411.181368 \nL 374.353125 413.451807 \nL 417.40832 410.715637 \nL 460.463515 406.174761 \nL 503.518709 408.619848 \nL 546.573904 410.017041 \nL 589.629099 406.873357 \nL 632.684294 417.41052 \nL 675.739489 412.345696 \n\" clip-path=\"url(#p13534ee6cc)\" style=\"fill: none; stroke: #00ffff; stroke-width: 1.5; stroke-linecap: square\"/>\n   </g>\n   <g id=\"patch_9\">\n    <path d=\"M 42.828125 673.478125 \nL 42.828125 376.918125 \n\" style=\"fill: none; stroke: #000000; stroke-width: 0.8; stroke-linejoin: miter; stroke-linecap: square\"/>\n   </g>\n   <g id=\"patch_10\">\n    <path d=\"M 705.878125 673.478125 \nL 705.878125 376.918125 \n\" style=\"fill: none; stroke: #000000; stroke-width: 0.8; stroke-linejoin: miter; stroke-linecap: square\"/>\n   </g>\n   <g id=\"patch_11\">\n    <path d=\"M 42.828125 673.478125 \nL 705.878125 673.478125 \n\" style=\"fill: none; stroke: #000000; stroke-width: 0.8; stroke-linejoin: miter; stroke-linecap: square\"/>\n   </g>\n   <g id=\"patch_12\">\n    <path d=\"M 42.828125 376.918125 \nL 705.878125 376.918125 \n\" style=\"fill: none; stroke: #000000; stroke-width: 0.8; stroke-linejoin: miter; stroke-linecap: square\"/>\n   </g>\n   <g id=\"text_40\">\n    <!-- Test accuracy -->\n    <g transform=\"translate(333.560625 370.918125) scale(0.12 -0.12)\">\n     <use xlink:href=\"#DejaVuSans-54\"/>\n     <use xlink:href=\"#DejaVuSans-65\" transform=\"translate(44.083984 0)\"/>\n     <use xlink:href=\"#DejaVuSans-73\" transform=\"translate(105.607422 0)\"/>\n     <use xlink:href=\"#DejaVuSans-74\" transform=\"translate(157.707031 0)\"/>\n     <use xlink:href=\"#DejaVuSans-20\" transform=\"translate(196.916016 0)\"/>\n     <use xlink:href=\"#DejaVuSans-61\" transform=\"translate(228.703125 0)\"/>\n     <use xlink:href=\"#DejaVuSans-63\" transform=\"translate(289.982422 0)\"/>\n     <use xlink:href=\"#DejaVuSans-63\" transform=\"translate(344.962891 0)\"/>\n     <use xlink:href=\"#DejaVuSans-75\" transform=\"translate(399.943359 0)\"/>\n     <use xlink:href=\"#DejaVuSans-72\" transform=\"translate(463.322266 0)\"/>\n     <use xlink:href=\"#DejaVuSans-61\" transform=\"translate(504.435547 0)\"/>\n     <use xlink:href=\"#DejaVuSans-63\" transform=\"translate(565.714844 0)\"/>\n     <use xlink:href=\"#DejaVuSans-79\" transform=\"translate(620.695312 0)\"/>\n    </g>\n   </g>\n   <g id=\"legend_2\">\n    <g id=\"patch_13\">\n     <path d=\"M 531.703125 668.478125 \nL 698.878125 668.478125 \nQ 700.878125 668.478125 700.878125 666.478125 \nL 700.878125 564.73125 \nQ 700.878125 562.73125 698.878125 562.73125 \nL 531.703125 562.73125 \nQ 529.703125 562.73125 529.703125 564.73125 \nL 529.703125 666.478125 \nQ 529.703125 668.478125 531.703125 668.478125 \nz\n\" style=\"fill: #ffffff; opacity: 0.8; stroke: #cccccc; stroke-linejoin: miter\"/>\n    </g>\n    <g id=\"line2d_80\">\n     <path d=\"M 533.703125 570.829687 \nL 543.703125 570.829687 \nL 553.703125 570.829687 \n\" style=\"fill: none; stroke: #000000; stroke-width: 1.5; stroke-linecap: square\"/>\n    </g>\n    <g id=\"text_41\">\n     <!-- LSTM -->\n     <g transform=\"translate(561.703125 574.329687) scale(0.1 -0.1)\">\n      <use xlink:href=\"#DejaVuSans-4c\"/>\n      <use xlink:href=\"#DejaVuSans-53\" transform=\"translate(55.712891 0)\"/>\n      <use xlink:href=\"#DejaVuSans-54\" transform=\"translate(119.189453 0)\"/>\n      <use xlink:href=\"#DejaVuSans-4d\" transform=\"translate(180.273438 0)\"/>\n     </g>\n    </g>\n    <g id=\"line2d_81\">\n     <path d=\"M 533.703125 585.507812 \nL 543.703125 585.507812 \nL 553.703125 585.507812 \n\" style=\"fill: none; stroke: #ff0000; stroke-width: 1.5; stroke-linecap: square\"/>\n    </g>\n    <g id=\"text_42\">\n     <!-- RNNLayer -->\n     <g transform=\"translate(561.703125 589.007812) scale(0.1 -0.1)\">\n      <use xlink:href=\"#DejaVuSans-52\"/>\n      <use xlink:href=\"#DejaVuSans-4e\" transform=\"translate(69.482422 0)\"/>\n      <use xlink:href=\"#DejaVuSans-4e\" transform=\"translate(144.287109 0)\"/>\n      <use xlink:href=\"#DejaVuSans-4c\" transform=\"translate(219.091797 0)\"/>\n      <use xlink:href=\"#DejaVuSans-61\" transform=\"translate(274.804688 0)\"/>\n      <use xlink:href=\"#DejaVuSans-79\" transform=\"translate(336.083984 0)\"/>\n      <use xlink:href=\"#DejaVuSans-65\" transform=\"translate(395.263672 0)\"/>\n      <use xlink:href=\"#DejaVuSans-72\" transform=\"translate(456.787109 0)\"/>\n     </g>\n    </g>\n    <g id=\"line2d_82\">\n     <path d=\"M 533.703125 600.185937 \nL 543.703125 600.185937 \nL 553.703125 600.185937 \n\" style=\"fill: none; stroke: #0000ff; stroke-width: 1.5; stroke-linecap: square\"/>\n    </g>\n    <g id=\"text_43\">\n     <!-- RNNLayer + dropout -->\n     <g transform=\"translate(561.703125 603.685937) scale(0.1 -0.1)\">\n      <use xlink:href=\"#DejaVuSans-52\"/>\n      <use xlink:href=\"#DejaVuSans-4e\" transform=\"translate(69.482422 0)\"/>\n      <use xlink:href=\"#DejaVuSans-4e\" transform=\"translate(144.287109 0)\"/>\n      <use xlink:href=\"#DejaVuSans-4c\" transform=\"translate(219.091797 0)\"/>\n      <use xlink:href=\"#DejaVuSans-61\" transform=\"translate(274.804688 0)\"/>\n      <use xlink:href=\"#DejaVuSans-79\" transform=\"translate(336.083984 0)\"/>\n      <use xlink:href=\"#DejaVuSans-65\" transform=\"translate(395.263672 0)\"/>\n      <use xlink:href=\"#DejaVuSans-72\" transform=\"translate(456.787109 0)\"/>\n      <use xlink:href=\"#DejaVuSans-20\" transform=\"translate(497.900391 0)\"/>\n      <use xlink:href=\"#DejaVuSans-2b\" transform=\"translate(529.6875 0)\"/>\n      <use xlink:href=\"#DejaVuSans-20\" transform=\"translate(613.476562 0)\"/>\n      <use xlink:href=\"#DejaVuSans-64\" transform=\"translate(645.263672 0)\"/>\n      <use xlink:href=\"#DejaVuSans-72\" transform=\"translate(708.740234 0)\"/>\n      <use xlink:href=\"#DejaVuSans-6f\" transform=\"translate(747.603516 0)\"/>\n      <use xlink:href=\"#DejaVuSans-70\" transform=\"translate(808.785156 0)\"/>\n      <use xlink:href=\"#DejaVuSans-6f\" transform=\"translate(872.261719 0)\"/>\n      <use xlink:href=\"#DejaVuSans-75\" transform=\"translate(933.443359 0)\"/>\n      <use xlink:href=\"#DejaVuSans-74\" transform=\"translate(996.822266 0)\"/>\n     </g>\n    </g>\n    <g id=\"line2d_83\">\n     <path d=\"M 533.703125 614.864062 \nL 543.703125 614.864062 \nL 553.703125 614.864062 \n\" style=\"fill: none; stroke: #008000; stroke-width: 1.5; stroke-linecap: square\"/>\n    </g>\n    <g id=\"text_44\">\n     <!-- FastRNNLayer -->\n     <g transform=\"translate(561.703125 618.364062) scale(0.1 -0.1)\">\n      <use xlink:href=\"#DejaVuSans-46\"/>\n      <use xlink:href=\"#DejaVuSans-61\" transform=\"translate(48.394531 0)\"/>\n      <use xlink:href=\"#DejaVuSans-73\" transform=\"translate(109.673828 0)\"/>\n      <use xlink:href=\"#DejaVuSans-74\" transform=\"translate(161.773438 0)\"/>\n      <use xlink:href=\"#DejaVuSans-52\" transform=\"translate(200.982422 0)\"/>\n      <use xlink:href=\"#DejaVuSans-4e\" transform=\"translate(270.464844 0)\"/>\n      <use xlink:href=\"#DejaVuSans-4e\" transform=\"translate(345.269531 0)\"/>\n      <use xlink:href=\"#DejaVuSans-4c\" transform=\"translate(420.074219 0)\"/>\n      <use xlink:href=\"#DejaVuSans-61\" transform=\"translate(475.787109 0)\"/>\n      <use xlink:href=\"#DejaVuSans-79\" transform=\"translate(537.066406 0)\"/>\n      <use xlink:href=\"#DejaVuSans-65\" transform=\"translate(596.246094 0)\"/>\n      <use xlink:href=\"#DejaVuSans-72\" transform=\"translate(657.769531 0)\"/>\n     </g>\n    </g>\n    <g id=\"line2d_84\">\n     <path d=\"M 533.703125 629.542187 \nL 543.703125 629.542187 \nL 553.703125 629.542187 \n\" style=\"fill: none; stroke: #ffa500; stroke-width: 1.5; stroke-linecap: square\"/>\n    </g>\n    <g id=\"text_45\">\n     <!-- FastRNNLayer + dropout -->\n     <g transform=\"translate(561.703125 633.042187) scale(0.1 -0.1)\">\n      <use xlink:href=\"#DejaVuSans-46\"/>\n      <use xlink:href=\"#DejaVuSans-61\" transform=\"translate(48.394531 0)\"/>\n      <use xlink:href=\"#DejaVuSans-73\" transform=\"translate(109.673828 0)\"/>\n      <use xlink:href=\"#DejaVuSans-74\" transform=\"translate(161.773438 0)\"/>\n      <use xlink:href=\"#DejaVuSans-52\" transform=\"translate(200.982422 0)\"/>\n      <use xlink:href=\"#DejaVuSans-4e\" transform=\"translate(270.464844 0)\"/>\n      <use xlink:href=\"#DejaVuSans-4e\" transform=\"translate(345.269531 0)\"/>\n      <use xlink:href=\"#DejaVuSans-4c\" transform=\"translate(420.074219 0)\"/>\n      <use xlink:href=\"#DejaVuSans-61\" transform=\"translate(475.787109 0)\"/>\n      <use xlink:href=\"#DejaVuSans-79\" transform=\"translate(537.066406 0)\"/>\n      <use xlink:href=\"#DejaVuSans-65\" transform=\"translate(596.246094 0)\"/>\n      <use xlink:href=\"#DejaVuSans-72\" transform=\"translate(657.769531 0)\"/>\n      <use xlink:href=\"#DejaVuSans-20\" transform=\"translate(698.882812 0)\"/>\n      <use xlink:href=\"#DejaVuSans-2b\" transform=\"translate(730.669922 0)\"/>\n      <use xlink:href=\"#DejaVuSans-20\" transform=\"translate(814.458984 0)\"/>\n      <use xlink:href=\"#DejaVuSans-64\" transform=\"translate(846.246094 0)\"/>\n      <use xlink:href=\"#DejaVuSans-72\" transform=\"translate(909.722656 0)\"/>\n      <use xlink:href=\"#DejaVuSans-6f\" transform=\"translate(948.585938 0)\"/>\n      <use xlink:href=\"#DejaVuSans-70\" transform=\"translate(1009.767578 0)\"/>\n      <use xlink:href=\"#DejaVuSans-6f\" transform=\"translate(1073.244141 0)\"/>\n      <use xlink:href=\"#DejaVuSans-75\" transform=\"translate(1134.425781 0)\"/>\n      <use xlink:href=\"#DejaVuSans-74\" transform=\"translate(1197.804688 0)\"/>\n     </g>\n    </g>\n    <g id=\"line2d_85\">\n     <path d=\"M 533.703125 644.220312 \nL 543.703125 644.220312 \nL 553.703125 644.220312 \n\" style=\"fill: none; stroke: #800080; stroke-width: 1.5; stroke-linecap: square\"/>\n    </g>\n    <g id=\"text_46\">\n     <!-- HandmadeLSTM -->\n     <g transform=\"translate(561.703125 647.720312) scale(0.1 -0.1)\">\n      <use xlink:href=\"#DejaVuSans-48\"/>\n      <use xlink:href=\"#DejaVuSans-61\" transform=\"translate(75.195312 0)\"/>\n      <use xlink:href=\"#DejaVuSans-6e\" transform=\"translate(136.474609 0)\"/>\n      <use xlink:href=\"#DejaVuSans-64\" transform=\"translate(199.853516 0)\"/>\n      <use xlink:href=\"#DejaVuSans-6d\" transform=\"translate(263.330078 0)\"/>\n      <use xlink:href=\"#DejaVuSans-61\" transform=\"translate(360.742188 0)\"/>\n      <use xlink:href=\"#DejaVuSans-64\" transform=\"translate(422.021484 0)\"/>\n      <use xlink:href=\"#DejaVuSans-65\" transform=\"translate(485.498047 0)\"/>\n      <use xlink:href=\"#DejaVuSans-4c\" transform=\"translate(547.021484 0)\"/>\n      <use xlink:href=\"#DejaVuSans-53\" transform=\"translate(602.734375 0)\"/>\n      <use xlink:href=\"#DejaVuSans-54\" transform=\"translate(666.210938 0)\"/>\n      <use xlink:href=\"#DejaVuSans-4d\" transform=\"translate(727.294922 0)\"/>\n     </g>\n    </g>\n    <g id=\"line2d_86\">\n     <path d=\"M 533.703125 658.898437 \nL 543.703125 658.898437 \nL 553.703125 658.898437 \n\" style=\"fill: none; stroke: #00ffff; stroke-width: 1.5; stroke-linecap: square\"/>\n    </g>\n    <g id=\"text_47\">\n     <!-- HandmadeLSTM + dropout -->\n     <g transform=\"translate(561.703125 662.398437) scale(0.1 -0.1)\">\n      <use xlink:href=\"#DejaVuSans-48\"/>\n      <use xlink:href=\"#DejaVuSans-61\" transform=\"translate(75.195312 0)\"/>\n      <use xlink:href=\"#DejaVuSans-6e\" transform=\"translate(136.474609 0)\"/>\n      <use xlink:href=\"#DejaVuSans-64\" transform=\"translate(199.853516 0)\"/>\n      <use xlink:href=\"#DejaVuSans-6d\" transform=\"translate(263.330078 0)\"/>\n      <use xlink:href=\"#DejaVuSans-61\" transform=\"translate(360.742188 0)\"/>\n      <use xlink:href=\"#DejaVuSans-64\" transform=\"translate(422.021484 0)\"/>\n      <use xlink:href=\"#DejaVuSans-65\" transform=\"translate(485.498047 0)\"/>\n      <use xlink:href=\"#DejaVuSans-4c\" transform=\"translate(547.021484 0)\"/>\n      <use xlink:href=\"#DejaVuSans-53\" transform=\"translate(602.734375 0)\"/>\n      <use xlink:href=\"#DejaVuSans-54\" transform=\"translate(666.210938 0)\"/>\n      <use xlink:href=\"#DejaVuSans-4d\" transform=\"translate(727.294922 0)\"/>\n      <use xlink:href=\"#DejaVuSans-20\" transform=\"translate(813.574219 0)\"/>\n      <use xlink:href=\"#DejaVuSans-2b\" transform=\"translate(845.361328 0)\"/>\n      <use xlink:href=\"#DejaVuSans-20\" transform=\"translate(929.150391 0)\"/>\n      <use xlink:href=\"#DejaVuSans-64\" transform=\"translate(960.9375 0)\"/>\n      <use xlink:href=\"#DejaVuSans-72\" transform=\"translate(1024.414062 0)\"/>\n      <use xlink:href=\"#DejaVuSans-6f\" transform=\"translate(1063.277344 0)\"/>\n      <use xlink:href=\"#DejaVuSans-70\" transform=\"translate(1124.458984 0)\"/>\n      <use xlink:href=\"#DejaVuSans-6f\" transform=\"translate(1187.935547 0)\"/>\n      <use xlink:href=\"#DejaVuSans-75\" transform=\"translate(1249.117188 0)\"/>\n      <use xlink:href=\"#DejaVuSans-74\" transform=\"translate(1312.496094 0)\"/>\n     </g>\n    </g>\n   </g>\n  </g>\n </g>\n <defs>\n  <clipPath id=\"pfef0384edc\">\n   <rect x=\"42.828125\" y=\"22.318125\" width=\"663.05\" height=\"296.56\"/>\n  </clipPath>\n  <clipPath id=\"p13534ee6cc\">\n   <rect x=\"42.828125\" y=\"376.918125\" width=\"663.05\" height=\"296.56\"/>\n  </clipPath>\n </defs>\n</svg>\n",
            "application/pdf": "[encoded data removed]"
          },
          "metadata": {}
        }
      ]
    },
    {
      "cell_type": "markdown",
      "metadata": {
        "id": "0kM2KPCCt9tk"
      },
      "source": [
        "Сделайте итоговые выводы о качестве работы моделей с разными реализациями DropOut:"
      ]
    },
    {
      "cell_type": "markdown",
      "metadata": {
        "id": "Yzwi76-1t9tk"
      },
      "source": [
        "**Ответ:** Модели без dropout: тренировочная точность с ростом эпох существенно возрастает с 0.27 до 0.75, при этом тестовая точность почти не растёт и уже к ~7–8-й эпохе остается в районе 0.4, а к последней эпохе достигает лишь 0.36.\n",
        "Модели с dropout не так сильно переобучаются и работают в среднем быстрее моделей без dropout."
      ]
    },
    {
      "cell_type": "markdown",
      "metadata": {
        "collapsed": true,
        "id": "3y4h0ZzHt9tl"
      },
      "source": [
        "## `Бонус. Zoneout (0.5 балла)`"
      ]
    },
    {
      "cell_type": "markdown",
      "metadata": {
        "collapsed": true,
        "id": "RQMzcbLAt9tl"
      },
      "source": [
        "Это еще одна модификация идеи дропаута применительно к рекуррентным нейросетям. В Zoneout на каждом временном шаге с вероятностью $p$ компонента скрытого состояния обновляется, а с вероятностью $1-p$ берется с предыдущего шага.\n",
        "В Виде формул ($m^t_h$ - бинарная маска):\n",
        "\n",
        "(сначала обычный рекуррентный переход, например LSTM)\n",
        "$$\n",
        "i = \\sigma(h_{t-1}W^i + x_t U^i+b_i) \\quad\n",
        "o = \\sigma(h_{t-1}W^o + x_t U^o+b_o)\n",
        "$$\n",
        "$$\n",
        "f = \\sigma(h_{t-1}W^f + x_t U^f+b_f) \\quad\n",
        "g = tanh(h_{t-1} W^g + x_t U^g+b_g)\n",
        "$$\n",
        "$$\n",
        "c_t = f \\odot c_{t-1} +  i \\odot  g \\quad\n",
        "h_t =  o \\odot tanh(c_t)\n",
        "$$\n",
        "Затем Zoneout:\n",
        "$$\n",
        "h_t = h_t * m_h^t + h_{t-1}*(1-m_h^t)\n",
        "$$\n",
        "В этом методе маска уже должна быть разная во все моменты времени (иначе метод упрощается до дропаута Гала и Гарамани). На входы $x_t$ вновь можно накладывать маску до начала работы рекуррентного слоя.  \n",
        "\n",
        "Если у вас осталось время, вы можете реализовать этот метод. Выберите основу из трех рассмотренных случаев самостоятельно.\n",
        "\n",
        "**Полный балл ставится только при наличии качественного и количественного сравнения с предыдущими моделями.**"
      ]
    },
    {
      "cell_type": "markdown",
      "metadata": {
        "ExecuteTime": {
          "end_time": "2021-03-31T16:05:00.702763Z",
          "start_time": "2021-03-31T16:05:00.674835Z"
        },
        "id": "-qf0JGhFt9tl"
      },
      "source": [
        "# `Часть 2. Language Modeling с помощью LSTM (5 баллов)`"
      ]
    },
    {
      "cell_type": "markdown",
      "metadata": {
        "id": "8tZSrGd2t9tm"
      },
      "source": [
        "Во второй части мы попробуем обучить модель для генерации отзывов по их началу."
      ]
    },
    {
      "cell_type": "markdown",
      "metadata": {
        "id": "OiOeoUSdt9tm"
      },
      "source": [
        "Концептуально модель будет выглядеть следующим образом:\n",
        "    \n",
        "![image info](https://www.researchgate.net/publication/350391597/figure/fig1/AS:1005416683167744@1616721425265/Structure-of-the-long-short-term-memory-language-model-LSTMLM.png)"
      ]
    },
    {
      "cell_type": "markdown",
      "metadata": {
        "id": "WCTV8PK6t9tm"
      },
      "source": [
        "В процессе обучения будем тренировать сеть предсказывать вероятность следующего символа при условии всех предыдущих. Эту вероятность можно моделировать с помощью скрытого состояния $h^{(t)}$ пропуская его через линейный слой с выходной размерностью равной размерности словаря:\n",
        "$$\n",
        "p(x^{t}|x^{t-1}, ..., x^{1}) = SoftMax(Linear(h^{(t)}))\n",
        "$$"
      ]
    },
    {
      "cell_type": "markdown",
      "metadata": {
        "id": "aBLWGMzyt9tm"
      },
      "source": [
        "Обратите внимание, что для вычисления $p(x^{t}|x^{t-1}, ..., x^{1})$ для всех моментов времени достаточно сделать один проход по RNN, а затем применить линейное преобразование ко всем скрытым состояниям."
      ]
    },
    {
      "cell_type": "markdown",
      "metadata": {
        "ExecuteTime": {
          "end_time": "2021-04-02T00:37:56.100520Z",
          "start_time": "2021-04-02T00:37:56.072747Z"
        },
        "id": "kZgdWr04t9tn"
      },
      "source": [
        "В качестве функции потерь необходимо использовать `CrossEntropy`."
      ]
    },
    {
      "cell_type": "markdown",
      "metadata": {
        "id": "1CzcaMfxt9tn"
      },
      "source": [
        "Рассмотрим другой важный момент. Для того, чтобы решить данную задачу, модель должна уметь определять момент начала генерации предложения и оповещать о завершении генерации — конце предложения. Для этого добавим в словарь вспомогательные токены `<sos>`, `<eos>`. Добавив `<sos>` в начало каждого предложения и `<eos>` в конец.\n",
        "\n",
        "Модель сможет начинать генерацию как только ей будет передан токен `<sos>` и заканчивать генерацию, как только на очередном месте самым вероятным токеном оказывается `<eos>`."
      ]
    },
    {
      "cell_type": "markdown",
      "metadata": {
        "id": "avsnxa7it9tn"
      },
      "source": [
        "Для решения этой задачи мы воспользуемся уже реализованной LSTM с дропаутом `FastRNNLayer` и классом `RNNClassifier`, то есть архитектура сети принципиально не поменяется."
      ]
    },
    {
      "cell_type": "markdown",
      "metadata": {
        "id": "IEzWZ1t7t9tn"
      },
      "source": [
        "## `Реализация модели и цикла обучения (2 балла)`"
      ]
    },
    {
      "cell_type": "markdown",
      "metadata": {
        "id": "7d1qcYdnt9to"
      },
      "source": [
        "**Не используйте циклы в `RNNLM`, `LMCrossEntropyLoss`, `LMAccuracy`**"
      ]
    },
    {
      "cell_type": "code",
      "execution_count": 58,
      "metadata": {
        "ExecuteTime": {
          "end_time": "2024-03-30T22:43:32.296358Z",
          "start_time": "2024-03-30T22:43:32.292787Z"
        },
        "id": "fn_pRQoYt9to"
      },
      "outputs": [],
      "source": [
        "class RNNLM(RNNClassifier):\n",
        "    def __init__(\n",
        "        self, embedding_dim, hidden_dim, tokenizer, dropout=0.5, layers_dropout=0.5, num_layers=1\n",
        "    ):\n",
        "        super().__init__(\n",
        "            embedding_dim=embedding_dim, hidden_dim=hidden_dim,\n",
        "            output_size=tokenizer.get_vocab_size(), tokenizer=tokenizer,\n",
        "            rec_layer=FastRNNLayer, dropout=dropout, layers_dropout=layers_dropout, num_layers=num_layers\n",
        "        )\n",
        "\n",
        "    def forward(self, tokens, tokens_lens):\n",
        "        \"\"\"\n",
        "        :param torch.Tensor(dtype=torch.long) tokens:\n",
        "            Batch of texts represented with tokens. Shape: [T, B]\n",
        "        :param torch.Tensor(dtype=torch.long) tokens_lens:\n",
        "            Number of non-padding tokens for each object in batch. Shape: [B]\n",
        "        :return torch.Tensor:\n",
        "            Distribution of next token for each time step. Shape: [T, B, V], V — size of vocabulary\n",
        "        \"\"\"\n",
        "        # Make embeddings for all tokens\n",
        "        # YOUR CODE HERE\n",
        "        embeddings = self.word_embeddings(tokens)\n",
        "\n",
        "        # Forward pass embeddings through network\n",
        "        # YOUR CODE HERE\n",
        "        out = self.rnn(embeddings)[0]\n",
        "\n",
        "        # Take all hidden states from the last layer of LSTM for each step and perform linear transformation\n",
        "        # YOUR CODE HERE\n",
        "        logits = self.output(out)\n",
        "        return logits"
      ]
    },
    {
      "cell_type": "markdown",
      "metadata": {
        "id": "6ETAhJjmt9to"
      },
      "source": [
        "Реализуем функцию потерь для данной задачи.\n",
        "\n",
        "Моменты на которые нужно обратить внимание:\n",
        "1. Распределение вероятности следующего токена для последнего токена в последовательности не участвует в подсчёте функции потерь.\n",
        "2. Необходимо учитывать, что в одном батче могут быть тексты разной длины."
      ]
    },
    {
      "cell_type": "markdown",
      "metadata": {
        "id": "2sUzNLZ3t9tp"
      },
      "source": [
        "Для решения второй проблемы можно воспользоваться функцией `torch.nn.utils.rnn.pack_padded_sequence`.\n",
        "\n",
        "Принимая на вход батч тензоров и длину каждого тензора без учёта паддинга эта функция позволяет получить все элементы в тензорах, которые не относятся к паддингу в виде плоского массива:"
      ]
    },
    {
      "cell_type": "code",
      "execution_count": 59,
      "metadata": {
        "ExecuteTime": {
          "end_time": "2024-03-30T22:43:32.679509Z",
          "start_time": "2024-03-30T22:43:32.676456Z"
        },
        "id": "u_wh25VBt9tp"
      },
      "outputs": [],
      "source": [
        "padded_tensors = torch.tensor([\n",
        "    [[1, 11, 111], [2, 22, 222], [3, 33, 333]],\n",
        "    [[4, 44, 444], [5, 55, 555], [6, 66, 666]],\n",
        "    [[7, 77, 777], [0, 0, 0], [8, 88, 888]],\n",
        "    [[9, 99, 999], [0, 0, 0], [0, 0, 0]]\n",
        "])\n",
        "tensors_lens = torch.tensor([4, 2, 3])"
      ]
    },
    {
      "cell_type": "markdown",
      "metadata": {
        "id": "acTO1erOt9tp"
      },
      "source": [
        "Обратите внимание, что `torch.nn.utils.rnn.pack_padded_sequence` автоматически переупорядочивает тензоры в батче по убыванию их длины."
      ]
    },
    {
      "cell_type": "code",
      "execution_count": 60,
      "metadata": {
        "ExecuteTime": {
          "end_time": "2024-03-30T22:43:32.986692Z",
          "start_time": "2024-03-30T22:43:32.982235Z"
        },
        "id": "Rp8IoJeZt9tq",
        "colab": {
          "base_uri": "https://localhost:8080/"
        },
        "outputId": "61cf816f-1f83-4989-e9c5-5ad50a436779"
      },
      "outputs": [
        {
          "output_type": "execute_result",
          "data": {
            "text/plain": [
              "PackedSequence(data=tensor([[  1,  11, 111],\n",
              "        [  3,  33, 333],\n",
              "        [  2,  22, 222],\n",
              "        [  4,  44, 444],\n",
              "        [  6,  66, 666],\n",
              "        [  5,  55, 555],\n",
              "        [  7,  77, 777],\n",
              "        [  8,  88, 888],\n",
              "        [  9,  99, 999]]), batch_sizes=tensor([3, 3, 2, 1]), sorted_indices=tensor([0, 2, 1]), unsorted_indices=tensor([0, 2, 1]))"
            ]
          },
          "metadata": {},
          "execution_count": 60
        }
      ],
      "source": [
        "torch.nn.utils.rnn.pack_padded_sequence(padded_tensors, tensors_lens, batch_first=False, enforce_sorted=False)"
      ]
    },
    {
      "cell_type": "code",
      "execution_count": 61,
      "metadata": {
        "ExecuteTime": {
          "end_time": "2024-03-30T22:43:33.678363Z",
          "start_time": "2024-03-30T22:43:33.675046Z"
        },
        "id": "CfsgO_Vxt9tq"
      },
      "outputs": [],
      "source": [
        "class LMCrossEntropyLoss(torch.nn.CrossEntropyLoss):\n",
        "    def __init__(self, *args, **kwargs):\n",
        "        super().__init__(*args, **kwargs)\n",
        "\n",
        "    def forward(self, outputs, tokens, tokens_lens):\n",
        "        \"\"\"\n",
        "        :param torch.Tensor outputs: Output from RNNLM.forward. Shape: [T, B, V]\n",
        "        :param torch.Tensor tokens: Batch of tokens. Shape: [T, B]\n",
        "        :param torch.Tensor tokens_lens: Length of each sequence in batch\n",
        "        :return torch.Tensor: CrossEntropyLoss between corresponding logits and tokens\n",
        "        \"\"\"\n",
        "        # Use torch.nn.utils.rnn.pack_padded_sequence().data to remove padding and flatten logits and tokens\n",
        "        # Do not forget specify enforce_sorted=False and correct value of batch_first\n",
        "        # YOUR CODE HERE\n",
        "        packed_outputs = torch.nn.utils.rnn.pack_padded_sequence(outputs[:-1], tokens_lens.cpu()-1, batch_first=False, enforce_sorted=False)\n",
        "        packed_tokens = torch.nn.utils.rnn.pack_padded_sequence(tokens[1:], tokens_lens.cpu()-1, batch_first=False, enforce_sorted=False)\n",
        "\n",
        "        # Use super().forward(..., ...) to compute CrossEntropyLoss\n",
        "        # YOUR CODE HERE\n",
        "        logits_flat = packed_outputs.data\n",
        "        tokens_flat = packed_tokens.data\n",
        "        return super().forward(logits_flat, tokens_flat)"
      ]
    },
    {
      "cell_type": "markdown",
      "metadata": {
        "id": "s47735ODt9tq"
      },
      "source": [
        "Проверим как работает класс `LMCrossEntropyLoss`. Важно помнить, что при языковом моделировании мы предсказываем следующий токен, то есть `tokens` и `outputs` смещены друг относительно друга."
      ]
    },
    {
      "cell_type": "code",
      "execution_count": 62,
      "metadata": {
        "id": "_L_lMpDBt9tr",
        "colab": {
          "base_uri": "https://localhost:8080/"
        },
        "outputId": "ee304e2d-c133-4148-cee4-55e762fe077f"
      },
      "outputs": [
        {
          "output_type": "execute_result",
          "data": {
            "text/plain": [
              "tensor([ 3.3636,  0.4519, 23.0000])"
            ]
          },
          "metadata": {},
          "execution_count": 62
        }
      ],
      "source": [
        "loss = LMCrossEntropyLoss(reduction='none')\n",
        "max_len_testing    = 3\n",
        "batch_size_testing = 2\n",
        "vocab_size_testing = 5\n",
        "\n",
        "logits = torch.zeros((max_len_testing, batch_size_testing, vocab_size_testing))\n",
        "tokens = torch.zeros((max_len_testing, batch_size_testing)).long()\n",
        "lens   = torch.tensor([2, 3])\n",
        "\n",
        "logits[:, 0, 0] = torch.tensor([1, -1, 0])\n",
        "logits[:, 0, 1] = torch.tensor([2, 3,  0])\n",
        "logits[:, 0, 2] = torch.tensor([3, 2,  0])\n",
        "logits[:, 0, 3] = torch.tensor([4, 2,  0])\n",
        "logits[:, 0, 4] = torch.tensor([5, 2,  0])\n",
        "\n",
        "\n",
        "logits[:, 1, 0] = torch.tensor([-1, 10, 2])\n",
        "logits[:, 1, 1] = torch.tensor([2, 30,  1])\n",
        "logits[:, 1, 2] = torch.tensor([4, 20,  1])\n",
        "logits[:, 1, 3] = torch.tensor([5, -10, 4])\n",
        "logits[:, 1, 4] = torch.tensor([1, 7,  13])\n",
        "\n",
        "tokens[:, 0]    = torch.tensor([1, 4, 0])\n",
        "tokens[:, 1]    = torch.tensor([3, 1, 4])\n",
        "\n",
        "\n",
        "loss(outputs=logits, tokens=tokens, tokens_lens=lens)"
      ]
    },
    {
      "cell_type": "markdown",
      "metadata": {
        "id": "WjgPEXuut9tr"
      },
      "source": [
        "Для оценки качества нам также необходимо вычислять долю правильно предсказанных токенов. Реализуйте класс для вычисления точности."
      ]
    },
    {
      "cell_type": "code",
      "execution_count": 63,
      "metadata": {
        "ExecuteTime": {
          "end_time": "2024-03-30T22:43:34.348345Z",
          "start_time": "2024-03-30T22:43:34.343850Z"
        },
        "id": "KGdYEkldt9tr"
      },
      "outputs": [],
      "source": [
        "class LMAccuracy(torch.nn.Module):\n",
        "    def __init__(self):\n",
        "        super().__init__()\n",
        "\n",
        "    def forward(self, outputs, tokens, tokens_lens):\n",
        "        \"\"\"\n",
        "        :param torch.Tensor outputs: Output from RNNLM.forward. Shape: [T, B, V]\n",
        "        :param torch.Tensor tokens: Batch of tokens. Shape: [T, B]\n",
        "        :param torch.Tensor tokens_lens: Length of each sequence in batch\n",
        "        :return torch.Tensor: Accuracy for given logits and tokens\n",
        "        \"\"\"\n",
        "        # Use torch.nn.utils.rnn.pack_padded_sequence().data to remove padding and flatten logits and tokens\n",
        "        # Do not forget specify enforce_sorted=False and correct value of batch_first\n",
        "        # YOUR CODE HERE\n",
        "        adjusted_lens = tokens_lens - 1\n",
        "        packed_outputs = torch.nn.utils.rnn.pack_padded_sequence(outputs[:-1], adjusted_lens.cpu(), batch_first=False, enforce_sorted=False)\n",
        "        packed_tokens = torch.nn.utils.rnn.pack_padded_sequence(tokens[1:], adjusted_lens.cpu(), batch_first=False, enforce_sorted=False)\n",
        "        predictions = torch.argmax(packed_outputs.data, dim=-1)\n",
        "        correct = (predictions == packed_tokens.data).float().sum()\n",
        "        total = packed_tokens.data.numel()\n",
        "        accuracy = correct / total\n",
        "        return accuracy"
      ]
    },
    {
      "cell_type": "markdown",
      "metadata": {
        "id": "ls5wjputt9ts"
      },
      "source": [
        "Проверим как работает класс `LMAccuracy`."
      ]
    },
    {
      "cell_type": "code",
      "execution_count": 64,
      "metadata": {
        "id": "Qwtugp8Gt9ts",
        "colab": {
          "base_uri": "https://localhost:8080/"
        },
        "outputId": "f619bc9e-2c73-4ddf-9710-46472ba0d366"
      },
      "outputs": [
        {
          "output_type": "execute_result",
          "data": {
            "text/plain": [
              "tensor(0.3333)"
            ]
          },
          "metadata": {},
          "execution_count": 64
        }
      ],
      "source": [
        "metric = LMAccuracy()\n",
        "max_len_testing    = 3\n",
        "batch_size_testing = 2\n",
        "vocab_size_testing = 5\n",
        "\n",
        "logits = torch.zeros((max_len_testing, batch_size_testing, vocab_size_testing))\n",
        "tokens = torch.zeros((max_len_testing, batch_size_testing)).long()\n",
        "lens   = torch.tensor([2, 3])\n",
        "\n",
        "logits[:, 0, 0] = torch.tensor([1, -1, 0])\n",
        "logits[:, 0, 1] = torch.tensor([2, 3,  0])\n",
        "logits[:, 0, 2] = torch.tensor([3, 2,  0])\n",
        "logits[:, 0, 3] = torch.tensor([4, 2,  0])\n",
        "logits[:, 0, 4] = torch.tensor([5, 2,  0])\n",
        "\n",
        "\n",
        "logits[:, 1, 0] = torch.tensor([-1, 10, 2])\n",
        "logits[:, 1, 1] = torch.tensor([2, 30,  1])\n",
        "logits[:, 1, 2] = torch.tensor([4, 20,  1])\n",
        "logits[:, 1, 3] = torch.tensor([5, -10, 4])\n",
        "logits[:, 1, 4] = torch.tensor([1, 7,  13])\n",
        "\n",
        "tokens[:, 0]    = torch.tensor([1, 4, 0])\n",
        "tokens[:, 1]    = torch.tensor([3, 1, 4])\n",
        "\n",
        "\n",
        "metric(outputs=logits, tokens=tokens, tokens_lens=lens)"
      ]
    },
    {
      "cell_type": "code",
      "execution_count": 65,
      "metadata": {
        "id": "75AfmsrWt9ts"
      },
      "outputs": [],
      "source": [
        "metric = LMAccuracy()\n",
        "max_len_testing    = 10\n",
        "batch_size_testing = 3\n",
        "vocab_size_testing = 200\n",
        "\n",
        "set_global_seed(42)\n",
        "logits = torch.randn((max_len_testing, batch_size_testing, vocab_size_testing))\n",
        "logits[:, :, 1] = 1000\n",
        "\n",
        "tokens = torch.randint(low=0, high=vocab_size_testing, size=(max_len_testing, batch_size_testing))\n",
        "tokens[:5, :] = 1\n",
        "lens   = torch.tensor([10, 4, 9])\n",
        "\n",
        "assert metric(outputs=logits, tokens=tokens, tokens_lens=lens) == (4 + 3 + 4) / (lens - 1).sum()"
      ]
    },
    {
      "cell_type": "markdown",
      "metadata": {
        "id": "mxIpqeXzt9ts"
      },
      "source": [
        "Модифицируйте функции `train_epoch`, `evaluate`, `train` для обучения LM.\n",
        "\n",
        "**При вычислении точности, обратите внимание на то, что мы не предсказываем первый токен в каждой последовательности и токены, относящиеся к паддингу.**"
      ]
    },
    {
      "cell_type": "code",
      "execution_count": 66,
      "metadata": {
        "ExecuteTime": {
          "end_time": "2024-03-30T22:43:35.025284Z",
          "start_time": "2024-03-30T22:43:35.019283Z"
        },
        "id": "Jz9rhM3Yt9tt"
      },
      "outputs": [],
      "source": [
        "def train_epoch_lm(dataloader, model, loss_fn, optimizer, device):\n",
        "    model.train()\n",
        "    for idx, data in enumerate(dataloader):\n",
        "        # 1. Take data from batch\n",
        "        # 2. Perform forward pass\n",
        "        # 3. Evaluate loss\n",
        "        # 4. Make optimizer step\n",
        "        # YOUR CODE HERE\n",
        "        tokens = data['tokens'].to(device)\n",
        "        tokens_lens = data['tokens_lens'].to(device)\n",
        "        outputs = model(tokens, tokens_lens)\n",
        "        loss = loss_fn(outputs, tokens, tokens_lens)\n",
        "        optimizer.zero_grad()\n",
        "        loss.backward()\n",
        "        optimizer.step()\n",
        "\n",
        "def evaluate_lm(dataloader, model, loss_fn, device):\n",
        "    model.eval()\n",
        "\n",
        "    total_tokens = 0\n",
        "    total_loss = 0.0\n",
        "    total_accuracy = 0.0\n",
        "\n",
        "    accuracy_fn = LMAccuracy()\n",
        "    with torch.no_grad():\n",
        "        for idx, data in enumerate(dataloader):\n",
        "            # 1. Take data from batch\n",
        "            # 2. Perform forward pass\n",
        "            # 3. Evaluate loss\n",
        "            # 4. Evaluate accuracy\n",
        "            # YOUR CODE HERE\n",
        "            tokens = data['tokens'].to(device)\n",
        "            tokens_lens = data['tokens_lens'].to(device)\n",
        "            outputs = model(tokens, tokens_lens)\n",
        "            loss = loss_fn(outputs, tokens, tokens_lens)\n",
        "            accuracy = accuracy_fn(outputs, tokens, tokens_lens)\n",
        "            num_tokens = (tokens_lens - 1).clamp_min(0).sum().item()\n",
        "\n",
        "            total_loss += loss.item() * num_tokens\n",
        "            total_accuracy += accuracy.item() * num_tokens\n",
        "            total_tokens += num_tokens\n",
        "\n",
        "    return total_loss / total_tokens, total_accuracy / total_tokens\n",
        "\n",
        "def train_lm(\n",
        "    train_loader, test_loader, model, loss_fn, optimizer, device, num_epochs\n",
        "):\n",
        "    test_losses = []\n",
        "    train_losses = []\n",
        "    test_accuracies = []\n",
        "    train_accuracies = []\n",
        "    for epoch in range(num_epochs):\n",
        "        train_epoch_lm(train_loader, model, loss_fn, optimizer, device)\n",
        "\n",
        "        train_loss, train_acc = evaluate_lm(train_loader, model, loss_fn, device)\n",
        "        train_accuracies.append(train_acc)\n",
        "        train_losses.append(train_loss)\n",
        "\n",
        "        test_loss, test_acc = evaluate_lm(test_loader, model, loss_fn, device)\n",
        "        test_accuracies.append(test_acc)\n",
        "        test_losses.append(test_loss)\n",
        "\n",
        "        print(\n",
        "            'Epoch: {0:d}/{1:d}. Loss (Train/Test): {2:.3f}/{3:.3f}. Accuracy (Train/Test): {4:.3f}/{5:.3f}'.format(\n",
        "                epoch + 1, num_epochs, train_losses[-1], test_losses[-1], train_accuracies[-1], test_accuracies[-1]\n",
        "            )\n",
        "        )\n",
        "    return train_losses, train_accuracies, test_losses, test_accuracies"
      ]
    },
    {
      "cell_type": "markdown",
      "metadata": {
        "id": "zaBlMpYPt9tt"
      },
      "source": [
        "Теперь у нас всё готово для обучения модели."
      ]
    },
    {
      "cell_type": "markdown",
      "metadata": {
        "ExecuteTime": {
          "end_time": "2021-04-02T01:06:12.736180Z",
          "start_time": "2021-04-02T01:06:12.708814Z"
        },
        "id": "m8p0baBSt9tt"
      },
      "source": [
        "Создадим токенизатор с `<sos>`, `<eos>` токенами.\n",
        "\n",
        "Обратите внимание, что в отличие от классификации текстов нам необходимо значительно увеличить размер словаря, чтобы доля `<unk>` токенов была не велика.\n",
        "\n",
        "Так же, так как задача генерации значительно сложнее задачи классификации текстов будем обучать модель только на префиксах рецензий длины $20$. Это позволяет значительно ускорить обучение."
      ]
    },
    {
      "cell_type": "code",
      "execution_count": 67,
      "metadata": {
        "id": "zJw01N-at9tt"
      },
      "outputs": [],
      "source": [
        "# min_freq=8 is approximately equivalent to max_size=30000.\n",
        "#   You can lower min_freq in order to make model vocabulary more diverse\n",
        "trainer = trainers.WordLevelTrainer(\n",
        "    min_frequency  = 8,\n",
        "    special_tokens = ['<pad>', '<unk>', '<sos>', '<eos>'],\n",
        ")\n",
        "\n",
        "tokenizer = tokenizers.Tokenizer(\n",
        "    model = tokenizers.models.WordLevel(unk_token=\"<unk>\")\n",
        ")"
      ]
    },
    {
      "cell_type": "code",
      "execution_count": 68,
      "metadata": {
        "id": "yiF-aBdlt9tu",
        "colab": {
          "base_uri": "https://localhost:8080/"
        },
        "outputId": "07a1a0bd-4801-4f65-ce26-a222a54a9a80"
      },
      "outputs": [
        {
          "output_type": "stream",
          "name": "stderr",
          "text": [
            "100%|██████████| 50000/50000 [00:38<00:00, 1299.19it/s]\n"
          ]
        }
      ],
      "source": [
        "tokenizer.train_from_iterator(tqdm(get_data_iterator(), total=50_000), trainer=trainer)"
      ]
    },
    {
      "cell_type": "code",
      "execution_count": 69,
      "metadata": {
        "id": "m_nD5ptKt9tu",
        "colab": {
          "base_uri": "https://localhost:8080/"
        },
        "outputId": "66a5b645-aa5d-4290-84bd-8cb6c70281bb"
      },
      "outputs": [
        {
          "output_type": "stream",
          "name": "stdout",
          "text": [
            "ID = 0, token = <pad>\n",
            "ID = 1, token = <unk>\n",
            "ID = 2, token = <sos>\n",
            "ID = 3, token = <eos>\n",
            "ID = 4, token = movie\n",
            "ID = 5, token = film\n",
            "ID = 6, token = one\n",
            "ID = 7, token = like\n",
            "ID = 8, token = good\n",
            "ID = 9, token = time\n"
          ]
        }
      ],
      "source": [
        "assert tokenizer.get_vocab_size() == 30000\n",
        "\n",
        "for i in range(10):\n",
        "    token = tokenizer.id_to_token(i)\n",
        "    print(f\"ID = {i}, token = {token}\")\n"
      ]
    },
    {
      "cell_type": "code",
      "execution_count": 70,
      "metadata": {
        "ExecuteTime": {
          "end_time": "2024-03-30T22:43:49.510042Z",
          "start_time": "2024-03-30T22:43:36.069005Z"
        },
        "id": "YK2ehcfVt9tu"
      },
      "outputs": [],
      "source": [
        "lm_test_dataset = LargeMovieReviewDataset(test_data_path, tokenizer, max_len=20, pad_sos=True, pad_eos=True)\n",
        "lm_train_dataset = LargeMovieReviewDataset(train_data_path, tokenizer, max_len=20, pad_sos=True, pad_eos=True)"
      ]
    },
    {
      "cell_type": "markdown",
      "metadata": {
        "id": "OxaTHIgCt9tu"
      },
      "source": [
        "Создадим даталоадеры для тестовой и обучающей выборок:"
      ]
    },
    {
      "cell_type": "code",
      "execution_count": 71,
      "metadata": {
        "ExecuteTime": {
          "end_time": "2024-03-30T22:43:49.514599Z",
          "start_time": "2024-03-30T22:43:49.511905Z"
        },
        "id": "gFbbOYYRt9tv"
      },
      "outputs": [],
      "source": [
        "lm_test_dataloader = DataLoader(\n",
        "    lm_test_dataset, batch_size=196, shuffle=False, num_workers=4,\n",
        "    collate_fn=partial(collate_fn, padding_value=tokenizer.token_to_id('<pad>'))\n",
        ")\n",
        "lm_train_dataloader = DataLoader(\n",
        "    lm_train_dataset, batch_size=196, shuffle=True, num_workers=4,\n",
        "    collate_fn=partial(collate_fn, padding_value=tokenizer.token_to_id('<pad>'))\n",
        ")"
      ]
    },
    {
      "cell_type": "markdown",
      "metadata": {
        "id": "lsIbe2Lgt9tv"
      },
      "source": [
        "Убедитесь, что все предложения имеют в начале `<sos>` токен, а в конце — `<eos>` токен."
      ]
    },
    {
      "cell_type": "code",
      "execution_count": 72,
      "metadata": {
        "ExecuteTime": {
          "end_time": "2024-03-30T22:43:49.750508Z",
          "start_time": "2024-03-30T22:43:49.516160Z"
        },
        "id": "6LML77fct9tv",
        "colab": {
          "base_uri": "https://localhost:8080/"
        },
        "outputId": "172e1a8d-2396-486a-eb56-be34a4166c14"
      },
      "outputs": [
        {
          "output_type": "execute_result",
          "data": {
            "text/plain": [
              "(tensor([[    2,     2,     2,  ...,     2,     2,     2],\n",
              "         [    5,     4,    44,  ...,   873,   106, 24601],\n",
              "         [   67,   221,   135,  ...,    63,     1, 16032],\n",
              "         ...,\n",
              "         [18332,  2180,  3206,  ...,  3388,  7180,  6161],\n",
              "         [  207,    12, 14703,  ...,   763,     6,   990],\n",
              "         [    3,     3,     3,  ...,     3,     3,     3]]),\n",
              " tensor([20, 20, 20, 20, 20, 20, 20, 20, 20, 20, 20, 20, 20, 20, 20, 20, 20, 20,\n",
              "         20, 20, 20, 20, 20, 20, 20, 20, 20, 20, 20, 20, 20, 20, 20, 20, 20, 20,\n",
              "         20, 20, 20, 20, 20, 20, 20, 20, 20, 20, 20, 20, 20, 20, 20, 20, 20, 20,\n",
              "         20, 20, 20, 20, 20, 20, 20, 20, 20, 20, 20, 20, 20, 20, 20, 20, 20, 20,\n",
              "         20, 20, 20, 20, 20, 20, 20, 20, 20, 20, 20, 20, 20, 20, 20, 20, 20, 20,\n",
              "         20, 20, 20, 20, 20, 20, 20, 20, 20, 20, 20, 20, 20, 20, 20, 20, 20, 20,\n",
              "         20, 20, 20, 20, 20, 20, 20, 20, 20, 20, 20, 20, 20, 20, 20, 20, 20, 20,\n",
              "         20, 20, 20, 20, 20, 20, 20, 20, 20, 20, 20, 20, 20, 20, 20, 20, 20, 20,\n",
              "         20, 20, 20, 20, 20, 20, 20, 20, 20, 20, 20, 20, 20, 20, 20, 20, 20, 20,\n",
              "         20, 20, 20, 20, 20, 20, 20, 20, 20, 20, 20, 20, 20, 20, 20, 20, 20, 20,\n",
              "         20, 20, 20, 20, 20, 20, 20, 20, 20, 20, 20, 20, 20, 20, 20, 20]))"
            ]
          },
          "metadata": {},
          "execution_count": 72
        }
      ],
      "source": [
        "batch = next(iter(lm_train_dataloader))\n",
        "batch['tokens'], batch['tokens_lens']"
      ]
    },
    {
      "cell_type": "markdown",
      "metadata": {
        "id": "3K56EIU4t9tw"
      },
      "source": [
        "Создадим модель, функцию потерь и оптимизатор:"
      ]
    },
    {
      "cell_type": "code",
      "execution_count": 73,
      "metadata": {
        "ExecuteTime": {
          "end_time": "2024-03-30T22:44:12.583751Z",
          "start_time": "2024-03-30T22:44:12.396308Z"
        },
        "id": "Fh5jDNeKt9tw"
      },
      "outputs": [],
      "source": [
        "set_global_seed(42)\n",
        "lm_model = RNNLM(\n",
        "    embedding_dim=512, hidden_dim=512, tokenizer=tokenizer, dropout=0.6, layers_dropout=0.6, num_layers=2\n",
        ").to(device=device)"
      ]
    },
    {
      "cell_type": "code",
      "execution_count": 74,
      "metadata": {
        "ExecuteTime": {
          "end_time": "2024-03-30T22:44:13.200355Z",
          "start_time": "2024-03-30T22:44:13.197422Z"
        },
        "id": "maVUda0Ft9tw"
      },
      "outputs": [],
      "source": [
        "lm_loss_fn = LMCrossEntropyLoss(reduction='mean')\n",
        "lm_optimizer = torch.optim.Adam(lm_model.parameters(), lr=0.005, weight_decay=1.2e-6)"
      ]
    },
    {
      "cell_type": "markdown",
      "metadata": {
        "id": "qagADEjmt9tx"
      },
      "source": [
        "Обучим модель:"
      ]
    },
    {
      "cell_type": "code",
      "execution_count": 75,
      "metadata": {
        "ExecuteTime": {
          "end_time": "2024-03-30T22:43:49.959423Z",
          "start_time": "2024-03-30T22:43:49.950621Z"
        },
        "id": "gzt8Dojat9tx",
        "colab": {
          "base_uri": "https://localhost:8080/"
        },
        "outputId": "58afc4ab-2219-496f-d513-1b1f7b1103d1"
      },
      "outputs": [
        {
          "output_type": "stream",
          "name": "stdout",
          "text": [
            "CPU times: user 2.84 s, sys: 189 ms, total: 3.03 s\n",
            "Wall time: 4.55 s\n"
          ]
        }
      ],
      "source": [
        "%%time\n",
        "lm_model = torch.compile(lm_model)"
      ]
    },
    {
      "cell_type": "code",
      "execution_count": 76,
      "metadata": {
        "ExecuteTime": {
          "end_time": "2024-03-30T22:45:24.729739Z",
          "start_time": "2024-03-30T22:44:15.095894Z"
        },
        "id": "T-iPj4Pat9ty",
        "colab": {
          "base_uri": "https://localhost:8080/"
        },
        "outputId": "1a559c8a-aea4-4a3d-85ac-1301b9637827"
      },
      "outputs": [
        {
          "output_type": "stream",
          "name": "stderr",
          "text": [
            "W0407 01:10:08.476000 1587 torch/_inductor/utils.py:1137] [4/0] Not enough SMs to use max_autotune_gemm mode\n"
          ]
        },
        {
          "output_type": "stream",
          "name": "stdout",
          "text": [
            "Epoch: 1/10. Loss (Train/Test): 7.597/7.722. Accuracy (Train/Test): 0.074/0.075\n",
            "Epoch: 2/10. Loss (Train/Test): 7.475/7.639. Accuracy (Train/Test): 0.081/0.081\n",
            "Epoch: 3/10. Loss (Train/Test): 7.307/7.537. Accuracy (Train/Test): 0.089/0.088\n",
            "Epoch: 4/10. Loss (Train/Test): 7.134/7.450. Accuracy (Train/Test): 0.092/0.091\n",
            "Epoch: 5/10. Loss (Train/Test): 6.967/7.387. Accuracy (Train/Test): 0.098/0.096\n",
            "Epoch: 6/10. Loss (Train/Test): 6.841/7.392. Accuracy (Train/Test): 0.098/0.095\n",
            "Epoch: 7/10. Loss (Train/Test): 6.639/7.336. Accuracy (Train/Test): 0.104/0.100\n",
            "Epoch: 8/10. Loss (Train/Test): 6.471/7.329. Accuracy (Train/Test): 0.108/0.102\n",
            "Epoch: 9/10. Loss (Train/Test): 6.307/7.345. Accuracy (Train/Test): 0.112/0.104\n",
            "Epoch: 10/10. Loss (Train/Test): 6.157/7.384. Accuracy (Train/Test): 0.118/0.105\n"
          ]
        }
      ],
      "source": [
        "set_global_seed(42)\n",
        "lm_train_losses, lm_train_accuracies, lm_test_losses, lm_test_accuracies = train_lm(\n",
        "    lm_train_dataloader, lm_test_dataloader, lm_model, lm_loss_fn, lm_optimizer, device, 10\n",
        ")"
      ]
    },
    {
      "cell_type": "markdown",
      "metadata": {
        "id": "PnH1M1SLt9ty"
      },
      "source": [
        "## `Реализация декодера (1 балл)`"
      ]
    },
    {
      "cell_type": "markdown",
      "metadata": {
        "id": "bKGlhAfGt9ty"
      },
      "source": [
        "Теперь, реализуем последнюю деталь — декодирование с использованием обученной модели.\n",
        "Есть несколько вариантов. Рассмотрим два самых простых:\n",
        "1. **Жадное декодирование.** На каждом шаге мы выбираем токен с максимальной вероятностью и используем его для обновления скрытого состояния RNN.\n",
        "2. **Top-k sampling.** На очередном шаге рассматриваются $k$ токенов с самыми большими вероятностями. Остальные токены игнорируются. Из выбранных токенов семплируется следующий токен пропорционально их вероятностям.\n",
        "\n",
        "Прочитать подробнее про разные варианты декодирования можно по ссылкам:\n",
        "1. [От huggingface](https://huggingface.co/blog/how-to-generate)\n",
        "2. [На towardsdatascience](https://towardsdatascience.com/decoding-strategies-that-you-need-to-know-for-response-generation-ba95ee0faadc)"
      ]
    },
    {
      "cell_type": "markdown",
      "metadata": {
        "id": "2uTpldcXt9ty"
      },
      "source": [
        "Существенным в процессе декодирования является критерий останова. Как только очередной самый вероятный символ оказался `<eos>`, то данная последовательность считается сгенерированной. Однако, может так оказаться, что `<eos>` никогда не будет выбран, тогда необходимо прекратить генерацию, как только длина последовательности перейдёт порог `max_generated_len`."
      ]
    },
    {
      "cell_type": "code",
      "execution_count": 101,
      "metadata": {
        "ExecuteTime": {
          "end_time": "2024-03-30T22:46:24.344570Z",
          "start_time": "2024-03-30T22:46:24.337751Z"
        },
        "id": "sG2L2T9ut9tz"
      },
      "outputs": [],
      "source": [
        "@torch.no_grad()\n",
        "def decode(\n",
        "    model, start_tokens, start_tokens_lens,\n",
        "    max_generated_len=20, top_k=None, eos_idx=tokenizer.token_to_id('<eos>')\n",
        "):\n",
        "    \"\"\"\n",
        "    :param RNNLM model: Model\n",
        "    :param torch.Tensor start_tokens: Batch of seed tokens. Shape: [T, B]\n",
        "    :param torch.Tensor start_tokens_lens: Length of each sequence in batch. Shape: [B]\n",
        "    :param int max_generated_len: Maximum lenght of generated samples\n",
        "    :param Optional[int] top_k: Number of tokens with the largest probability to sample from\n",
        "    :return Tuple[torch.Tensor, torch.Tensor].\n",
        "        Newly predicted tokens and length of generated part. Shape [T*, B], [B]\n",
        "    \"\"\"\n",
        "    # Get embedding for start_tokens\n",
        "    # YOUR CODE HERE\n",
        "    embedding = model.word_embeddings(start_tokens)\n",
        "    # Pass embedding through rnn and collect hidden states and cell states for each time moment\n",
        "    all_h, all_c = [], []\n",
        "    h = embedding.new_zeros([model.rnn.num_layers, start_tokens.shape[1], model.hidden_dim])\n",
        "    c = embedding.new_zeros([model.rnn.num_layers, start_tokens.shape[1], model.hidden_dim])\n",
        "    for time_step in range(start_tokens.shape[0]):\n",
        "        # YOUR CODE HERE\n",
        "        out, (h, c) = model.rnn(embedding[time_step].unsqueeze(0), (h, c))\n",
        "        all_h.append(h)\n",
        "        all_c.append(c)\n",
        "\n",
        "    all_h = torch.stack(all_h, dim=1)\n",
        "    all_c = torch.stack(all_c, dim=1)\n",
        "    # Take final hidden state and cell state for each start sequence in batch\n",
        "    # We will use them as h_0, c_0 for generation new tokens\n",
        "    h = all_h[:, start_tokens_lens - 1, torch.arange(start_tokens_lens.shape[0])]\n",
        "    c = all_c[:, start_tokens_lens - 1, torch.arange(start_tokens_lens.shape[0])]\n",
        "\n",
        "    # List of predicted tokens for each time step\n",
        "    predicted_tokens = []\n",
        "    # Length of generated part for each object in the batch\n",
        "    decoded_lens = torch.zeros_like(start_tokens_lens, dtype=torch.long)\n",
        "    # Boolean mask where we store if the sequence has already generated\n",
        "    # i.e. `<eos>` was selected on any step\n",
        "    is_finished_decoding = torch.zeros_like(start_tokens_lens, dtype=torch.bool)\n",
        "\n",
        "    # Stop when all sequences in the batch are finished\n",
        "    while not torch.all(is_finished_decoding) and torch.max(decoded_lens) < max_generated_len:\n",
        "        # Evaluate next token distribution using hidden state h.\n",
        "        # Note. Over first dimension h has hidden states for each layer of LSTM.\n",
        "        #     We must use hidden state from the last layer\n",
        "        # YOUR CODE HERE\n",
        "        logits = model.output(h[-1])\n",
        "        if top_k is not None:\n",
        "            # Top-k sampling. Use only top-k most probable logits to sample next token\n",
        "            indices_to_remove = logits < torch.topk(logits, top_k)[0][..., -1, None]\n",
        "            # Mask non top-k logits\n",
        "            logits[indices_to_remove] = -1e10\n",
        "            # Sample next_token.\n",
        "            # YOUR CODE HERE\n",
        "            next_token = torch.multinomial(torch.softmax(logits, dim=-1), num_samples=1).squeeze(1)\n",
        "        else:\n",
        "            # Select most probable token\n",
        "            # YOUR CODE HERE\n",
        "            next_token = torch.argmax(logits, dim=-1)\n",
        "        predicted_tokens.append(next_token)\n",
        "\n",
        "        decoded_lens += (~is_finished_decoding)\n",
        "        is_finished_decoding |= (next_token == torch.tensor(eos_idx))\n",
        "\n",
        "        # Compute embedding for next token\n",
        "        # YOUR CODE HERE\n",
        "        embedding = model.word_embeddings(next_token.unsqueeze(0))\n",
        "\n",
        "        # Update hidden and cell states\n",
        "        # YOUR CODE HERE\n",
        "        _, (h, c) = model.rnn(embedding, (h, c))\n",
        "\n",
        "    return torch.stack(predicted_tokens), decoded_lens"
      ]
    },
    {
      "cell_type": "markdown",
      "metadata": {
        "id": "APCJIB1ct9tz"
      },
      "source": [
        "Для тестирования создадим удобный класс `FakeLM`, который будет реализовывать весь необходимый функционал, а именно:\n",
        "\n",
        "- `word_embeddings` - по токенам возвращает их эмбеддинги;\n",
        "\n",
        "- `output` - по вектору контекста (h) возвращает вероятности следующих токенов;\n",
        "\n",
        "- `rnn` - обновляет контекст. Будем использовать класс `FakeRNN`.\n",
        "\n",
        "Для простоты будем считать, что эмбеддинг токена и есть сам токен, а процесс генерации является марковским, то есть все переходы можно описать матрицей.\n",
        "\n",
        "Такая постановка поможет нам удобно задать все переходы и нарисовать их на бумаге (если возникнет необходимость в отладке). Кроме того, мы можем не думать об обновлении контекста, так как контекст и есть текущее слово (его эмбеддинг)."
      ]
    },
    {
      "cell_type": "code",
      "execution_count": 102,
      "metadata": {
        "id": "Ol9-eJDet9tz"
      },
      "outputs": [],
      "source": [
        "class FakeRNN:\n",
        "\n",
        "    def __init__(self):\n",
        "\n",
        "        self.num_layers = 1\n",
        "\n",
        "    def __call__(self, embedding, h_c):\n",
        "        \"\"\"\n",
        "        :param torch.Tensor embedding: Batch of embedding. Shape: [T, B, E]\n",
        "        :param Optional[Tuple[torch.Tensor, torch.Tensor]] h_c: initial hidden state and initial cell state\n",
        "        \"\"\"\n",
        "\n",
        "        return None, (embedding, torch.zeros_like(embedding))\n",
        "\n",
        "\n",
        "class FakeLM:\n",
        "\n",
        "    def __init__(self, rnn, transition_matrix):\n",
        "        self.rnn = rnn\n",
        "        self.transition_matrix = transition_matrix\n",
        "        self.hidden_dim = 1\n",
        "\n",
        "    def word_embeddings(self, tokens):\n",
        "        \"\"\"\n",
        "        :param torch.Tensor tokens: Batch of seed tokens. Shape: [T, B] or [B]\n",
        "        :return torch.Tensor\n",
        "            Batch of tokens embeddings. Shape: [T, BS, E] or [B, E]\n",
        "        \"\"\"\n",
        "\n",
        "        return tokens[..., None].float()\n",
        "\n",
        "    def output(self, h):\n",
        "        \"\"\"\n",
        "        :param torch.Tensor h: Batch of seed tokens. Shape: [B, E]\n",
        "        :return torch.Tensor.\n",
        "            Batch of new_tokens logits. Shape: [B, V]\n",
        "        \"\"\"\n",
        "\n",
        "        idx  = h.long().ravel().cpu().numpy()\n",
        "        logits = list(self.transition_matrix[i] for i in idx)\n",
        "        logits = torch.stack(logits, dim=0).float()\n",
        "        return logits\n",
        "\n"
      ]
    },
    {
      "cell_type": "markdown",
      "metadata": {
        "id": "hUFCh25vt9t0"
      },
      "source": [
        "#### `Тест 1`\n",
        "\n",
        "Зададим переходную матрицу `transitions` так, чтобы после токена $i$ вероятней всего следовал токен $i + 1$ mod $V$, где $V$ размер словаря. Тогда мы ожидаем получить циклические последовательности."
      ]
    },
    {
      "cell_type": "code",
      "execution_count": 103,
      "metadata": {
        "id": "N_gqnIMUt9t0"
      },
      "outputs": [],
      "source": [
        "transitions = {\n",
        "    0: torch.tensor([4, 5, 0, 0, 0]),\n",
        "    1: torch.tensor([0, 4, 5, 0, 0]),\n",
        "    2: torch.tensor([0, 0, 4, 5, 0]),\n",
        "    3: torch.tensor([0, 0, 0, 4, 5]),\n",
        "    4: torch.tensor([5, 0, 0, 0, 4]),\n",
        "}\n",
        "\n",
        "fake_lm = FakeLM(FakeRNN(), transitions)"
      ]
    },
    {
      "cell_type": "code",
      "execution_count": 104,
      "metadata": {
        "id": "9ZuCt3DVt9t0"
      },
      "outputs": [],
      "source": [
        "decoded_tokens, decoded_lens = decode(\n",
        "    model             = fake_lm,\n",
        "    start_tokens      = torch.zeros((4, 3)),\n",
        "    start_tokens_lens = torch.tensor([1, 2, 3]),\n",
        "    eos_idx           = 10,\n",
        "    max_generated_len = 8\n",
        ")\n"
      ]
    },
    {
      "cell_type": "code",
      "execution_count": 105,
      "metadata": {
        "id": "zvrKzXWnt9t1"
      },
      "outputs": [],
      "source": [
        "assert decoded_tokens.shape == (8, 3), f\"Shape = {decoded_tokens.shape}\"\n",
        "assert (decoded_tokens[:, 0] == torch.tensor([1, 2, 3, 4, 0, 1, 2, 3])).all()\n",
        "assert (decoded_tokens[:, 1] == torch.tensor([1, 2, 3, 4, 0, 1, 2, 3])).all()\n",
        "assert (decoded_tokens[:, 2] == torch.tensor([1, 2, 3, 4, 0, 1, 2, 3])).all()"
      ]
    },
    {
      "cell_type": "markdown",
      "metadata": {
        "id": "8sYy7Kkwt9t1"
      },
      "source": [
        "#### `Тест 2`\n",
        "\n",
        "Усложним и зададим разные начальные токены."
      ]
    },
    {
      "cell_type": "code",
      "execution_count": 106,
      "metadata": {
        "id": "RVT4cW95t9t1"
      },
      "outputs": [],
      "source": [
        "start_tokens = torch.tensor(\n",
        "    [\n",
        "        [0, 0, 0],\n",
        "        [0, 1, 1],\n",
        "        [0, 0, 2],\n",
        "        [0, 0, 0]\n",
        "    ]\n",
        ")\n",
        "\n",
        "decoded_tokens, decoded_lens = decode(\n",
        "    model             = fake_lm,\n",
        "    start_tokens      = start_tokens,\n",
        "    start_tokens_lens = torch.tensor([1, 2, 3]),\n",
        "    eos_idx           = 10,\n",
        "    max_generated_len = 8\n",
        ")"
      ]
    },
    {
      "cell_type": "code",
      "execution_count": 107,
      "metadata": {
        "id": "qsIC0_TCt9t1"
      },
      "outputs": [],
      "source": [
        "assert decoded_tokens.shape == (8, 3), f\"Shape = {decoded_tokens.shape}\"\n",
        "assert (decoded_tokens[:, 0] == torch.tensor([1, 2, 3, 4, 0, 1, 2, 3])).all()\n",
        "assert (decoded_tokens[:, 1] == torch.tensor([2, 3, 4, 0, 1, 2, 3, 4])).all()\n",
        "assert (decoded_tokens[:, 2] == torch.tensor([3, 4, 0, 1, 2, 3, 4, 0])).all()"
      ]
    },
    {
      "cell_type": "code",
      "execution_count": 108,
      "metadata": {
        "id": "axiAVtDgt9t2"
      },
      "outputs": [],
      "source": [
        "decoded_tokens, decoded_lens = decode(\n",
        "    model             = fake_lm,\n",
        "    start_tokens      = start_tokens,\n",
        "    start_tokens_lens = torch.tensor([1, 2, 3]),\n",
        "    eos_idx           = 4,\n",
        "    max_generated_len = 8\n",
        ")\n",
        "assert (decoded_lens == torch.tensor([4, 3, 2])).all()\n",
        "\n",
        "assert (decoded_tokens[:, 0] == torch.tensor([1, 2, 3, 4])).all()\n",
        "assert (decoded_tokens[:, 1] == torch.tensor([2, 3, 4, 0])).all()\n",
        "assert (decoded_tokens[:, 2] == torch.tensor([3, 4, 0, 1])).all()"
      ]
    },
    {
      "cell_type": "markdown",
      "metadata": {
        "id": "ZklS8N3at9t2"
      },
      "source": [
        "#### `Тест 3`\n",
        "\n",
        "Перейдем к тестированию `top_k`. Благодаря этому параметру мы можем увеличить разнообразие текстов. Поскольку проверять недетерминированную генерацию достаточно трудно, мы проверим, что в среднем генерируются адекватные последовательности.\n",
        "\n",
        "При заданной нами переходной матрице мы ожидаем:\n",
        "\n",
        "- При `top_k = 1` получим детерминированную генерацию;\n",
        "\n",
        "- При `top_k = 2` получим последовательности, где в почти в половине случаев будем стоять на месте;\n",
        "\n",
        "- При `top_k > 2` получим похожее на `top_k = 2`."
      ]
    },
    {
      "cell_type": "code",
      "execution_count": 109,
      "metadata": {
        "id": "dy6g3hY6t9t2"
      },
      "outputs": [],
      "source": [
        "set_global_seed(42)\n",
        "\n",
        "decoded_tokens, decoded_lens = decode(\n",
        "    model             = fake_lm,\n",
        "    start_tokens      = torch.zeros((4, 3)),\n",
        "    start_tokens_lens = torch.tensor([1, 2, 3]),\n",
        "    eos_idx           = 10,\n",
        "    max_generated_len = 8,\n",
        "    top_k             = 1\n",
        ")"
      ]
    },
    {
      "cell_type": "code",
      "execution_count": 110,
      "metadata": {
        "id": "5UEsFgPht9t2"
      },
      "outputs": [],
      "source": [
        "assert decoded_tokens.shape == (8, 3), f\"Shape = {decoded_tokens.shape}\"\n",
        "assert (decoded_tokens[:, 0] == torch.tensor([1, 2, 3, 4, 0, 1, 2, 3])).all()\n",
        "assert (decoded_tokens[:, 1] == torch.tensor([1, 2, 3, 4, 0, 1, 2, 3])).all()\n",
        "assert (decoded_tokens[:, 2] == torch.tensor([1, 2, 3, 4, 0, 1, 2, 3])).all()"
      ]
    },
    {
      "cell_type": "code",
      "execution_count": 111,
      "metadata": {
        "id": "Ln5_TGGbt9t3",
        "colab": {
          "base_uri": "https://localhost:8080/"
        },
        "outputId": "12f5888c-8875-4c88-8e82-e65fe1324585"
      },
      "outputs": [
        {
          "output_type": "execute_result",
          "data": {
            "text/plain": [
              "tensor([[1, 1, 1],\n",
              "        [1, 2, 1],\n",
              "        [2, 3, 1],\n",
              "        [3, 4, 2],\n",
              "        [4, 0, 3],\n",
              "        [0, 0, 4],\n",
              "        [1, 1, 0],\n",
              "        [2, 2, 1]])"
            ]
          },
          "metadata": {},
          "execution_count": 111
        }
      ],
      "source": [
        "set_global_seed(42)\n",
        "\n",
        "decoded_tokens_k2, decoded_lens = decode(\n",
        "    model             = fake_lm,\n",
        "    start_tokens      = torch.zeros((4, 3)),\n",
        "    start_tokens_lens = torch.tensor([1, 2, 3]),\n",
        "    eos_idx           = 10,\n",
        "    max_generated_len = 8,\n",
        "    top_k             = 2\n",
        ")\n",
        "\n",
        "decoded_tokens_k2"
      ]
    },
    {
      "cell_type": "code",
      "execution_count": 112,
      "metadata": {
        "id": "LaJhMJsJt9t3"
      },
      "outputs": [],
      "source": [
        "set_global_seed(42)\n",
        "\n",
        "decoded_tokens_k3, decoded_lens = decode(\n",
        "    model             = fake_lm,\n",
        "    start_tokens      = torch.zeros((4, 3)),\n",
        "    start_tokens_lens = torch.tensor([1, 2, 3]),\n",
        "    eos_idx           = 10,\n",
        "    max_generated_len = 8,\n",
        "    top_k             = 3\n",
        ")"
      ]
    },
    {
      "cell_type": "code",
      "execution_count": 113,
      "metadata": {
        "id": "C-yBjcIXt9t3"
      },
      "outputs": [],
      "source": [
        "assert (decoded_tokens_k3 == decoded_tokens_k2).all()"
      ]
    },
    {
      "cell_type": "markdown",
      "metadata": {
        "ExecuteTime": {
          "end_time": "2021-04-02T01:38:06.232189Z",
          "start_time": "2021-04-02T01:38:06.205413Z"
        },
        "id": "hmFcZdrvt9t4"
      },
      "source": [
        "Попробуем сгенерировать продолжения для нескольких префиксов:"
      ]
    },
    {
      "cell_type": "code",
      "execution_count": 114,
      "metadata": {
        "ExecuteTime": {
          "end_time": "2024-03-30T22:46:25.138264Z",
          "start_time": "2024-03-30T22:46:25.135301Z"
        },
        "id": "PWH4adyCt9t4",
        "colab": {
          "base_uri": "https://localhost:8080/"
        },
        "outputId": "c81f8d9e-5cc1-4c08-c7d4-b5e36deaa861"
      },
      "outputs": [
        {
          "output_type": "execute_result",
          "data": {
            "text/plain": [
              "tensor([[  2,   2,   2,   2],\n",
              "        [  0,   1,   1,   1],\n",
              "        [  0, 392,  42, 140],\n",
              "        [  0,   4,   4,   4]])"
            ]
          },
          "metadata": {},
          "execution_count": 114
        }
      ],
      "source": [
        "start_tokens = torch.tensor([\n",
        "    lm_model.tokenizer.encode(['<sos>', '<pad>', '<pad>', '<pad>'], is_pretokenized=True).ids,\n",
        "    lm_model.tokenizer.encode(['<sos>', 'my', 'favorite', 'movie'], is_pretokenized=True).ids,\n",
        "    lm_model.tokenizer.encode(['<sos>', 'the', 'best', 'movie'],    is_pretokenized=True).ids,\n",
        "    lm_model.tokenizer.encode(['<sos>', 'the', 'worst', 'movie'],   is_pretokenized=True).ids,\n",
        "]).T\n",
        "\n",
        "start_tokens_lens = torch.tensor([1, 4, 4, 4])\n",
        "start_tokens"
      ]
    },
    {
      "cell_type": "code",
      "execution_count": 115,
      "metadata": {
        "ExecuteTime": {
          "end_time": "2024-03-30T22:46:25.775584Z",
          "start_time": "2024-03-30T22:46:25.524089Z"
        },
        "id": "N9owpeKkt9t4"
      },
      "outputs": [],
      "source": [
        "set_global_seed(42)\n",
        "\n",
        "lm_model = lm_model.cpu()\n",
        "lm_model.eval()\n",
        "decoded_tokens, decoded_lens = decode(lm_model, start_tokens, start_tokens_lens, max_generated_len=10, top_k=5)"
      ]
    },
    {
      "cell_type": "code",
      "execution_count": 116,
      "metadata": {
        "ExecuteTime": {
          "end_time": "2024-03-30T22:46:25.826630Z",
          "start_time": "2024-03-30T22:46:25.777128Z"
        },
        "id": "eypx4Mxpt9t5",
        "colab": {
          "base_uri": "https://localhost:8080/",
          "height": 86
        },
        "outputId": "8d20d835-8dec-4e7b-d885-9aeb22511696"
      },
      "outputs": [
        {
          "output_type": "display_data",
          "data": {
            "text/plain": [
              "<IPython.core.display.Markdown object>"
            ],
            "text/markdown": "<div class=\"alert alert-block alert-info\"> <b>&lt;sos&gt; movie great cast movie really good movie good actors actresses</b></div>"
          },
          "metadata": {}
        },
        {
          "output_type": "display_data",
          "data": {
            "text/plain": [
              "<IPython.core.display.Markdown object>"
            ],
            "text/markdown": "<div class=\"alert alert-block alert-info\"> <b>&lt;sos&gt; &lt;unk&gt; favorite movie &lt;unk&gt; one movies ever made life movie made one greatest</b></div>"
          },
          "metadata": {}
        },
        {
          "output_type": "display_data",
          "data": {
            "text/plain": [
              "<IPython.core.display.Markdown object>"
            ],
            "text/markdown": "<div class=\"alert alert-block alert-info\"> <b>&lt;sos&gt; &lt;unk&gt; best movie ever made one worst films ever ever made bad acting</b></div>"
          },
          "metadata": {}
        },
        {
          "output_type": "display_data",
          "data": {
            "text/plain": [
              "<IPython.core.display.Markdown object>"
            ],
            "text/markdown": "<div class=\"alert alert-block alert-info\"> <b>&lt;sos&gt; &lt;unk&gt; worst movie ever made life &lt;unk&gt; acting atrocious directing directing script bad</b></div>"
          },
          "metadata": {}
        }
      ],
      "source": [
        "for text_idx in range(start_tokens.shape[1]):\n",
        "    decoded_text_tokens = decoded_tokens[:decoded_lens[text_idx], text_idx]\n",
        "    tokens = start_tokens[:start_tokens_lens[text_idx], text_idx].tolist() + decoded_text_tokens.tolist()\n",
        "    words = lm_model.tokenizer.decode(tokens, skip_special_tokens=False).split(' ')\n",
        "\n",
        "    text = ' '.join(words).replace('<', '&lt;').replace('>', '&gt;')\n",
        "    display(Markdown(f'<div class=\"alert alert-block alert-info\"> <b>{text}</b></div>'))"
      ]
    },
    {
      "cell_type": "markdown",
      "metadata": {
        "id": "lA2icm9Pt9t5"
      },
      "source": [
        "Попробуйте выполнить семплирование для разных $k$. Сравните результаты top-k семплирования с жадным декодированием. Опишите ваши наблюдения."
      ]
    },
    {
      "cell_type": "code",
      "execution_count": 122,
      "metadata": {
        "ExecuteTime": {
          "end_time": "2024-03-30T22:46:28.556188Z",
          "start_time": "2024-03-30T22:46:28.553997Z"
        },
        "id": "h8qVfv4Bt9t5",
        "colab": {
          "base_uri": "https://localhost:8080/",
          "height": 542
        },
        "outputId": "2ee90bea-4099-4e83-b579-0017aaead68d"
      },
      "outputs": [
        {
          "output_type": "stream",
          "name": "stdout",
          "text": [
            "Top k = None\n"
          ]
        },
        {
          "output_type": "display_data",
          "data": {
            "text/plain": [
              "<IPython.core.display.Markdown object>"
            ],
            "text/markdown": "<div class=\"alert alert-block alert-info\"> <b>&lt;sos&gt; movie one worst movies ever seen life bad acting bad</b></div>"
          },
          "metadata": {}
        },
        {
          "output_type": "display_data",
          "data": {
            "text/plain": [
              "<IPython.core.display.Markdown object>"
            ],
            "text/markdown": "<div class=\"alert alert-block alert-info\"> <b>&lt;sos&gt; &lt;unk&gt; favorite movie ever made movie ever made movie ever made movie made</b></div>"
          },
          "metadata": {}
        },
        {
          "output_type": "display_data",
          "data": {
            "text/plain": [
              "<IPython.core.display.Markdown object>"
            ],
            "text/markdown": "<div class=\"alert alert-block alert-info\"> <b>&lt;sos&gt; &lt;unk&gt; best movie ever seen movie ever seen movie ever seen movie ever</b></div>"
          },
          "metadata": {}
        },
        {
          "output_type": "display_data",
          "data": {
            "text/plain": [
              "<IPython.core.display.Markdown object>"
            ],
            "text/markdown": "<div class=\"alert alert-block alert-info\"> <b>&lt;sos&gt; &lt;unk&gt; worst movie ever seen life movie ever seen movie ever made movie</b></div>"
          },
          "metadata": {}
        },
        {
          "output_type": "stream",
          "name": "stdout",
          "text": [
            "Top k = 10\n"
          ]
        },
        {
          "output_type": "display_data",
          "data": {
            "text/plain": [
              "<IPython.core.display.Markdown object>"
            ],
            "text/markdown": "<div class=\"alert alert-block alert-info\"> <b>&lt;sos&gt; movie one movies made one best comedians ever seen life</b></div>"
          },
          "metadata": {}
        },
        {
          "output_type": "display_data",
          "data": {
            "text/plain": [
              "<IPython.core.display.Markdown object>"
            ],
            "text/markdown": "<div class=\"alert alert-block alert-info\"> <b>&lt;sos&gt; &lt;unk&gt; favorite movie really good movie one favorites movie great plot good acting</b></div>"
          },
          "metadata": {}
        },
        {
          "output_type": "display_data",
          "data": {
            "text/plain": [
              "<IPython.core.display.Markdown object>"
            ],
            "text/markdown": "<div class=\"alert alert-block alert-info\"> <b>&lt;sos&gt; &lt;unk&gt; best movie ever seen life really bad movies seen movie ever seen</b></div>"
          },
          "metadata": {}
        },
        {
          "output_type": "display_data",
          "data": {
            "text/plain": [
              "<IPython.core.display.Markdown object>"
            ],
            "text/markdown": "<div class=\"alert alert-block alert-info\"> <b>&lt;sos&gt; &lt;unk&gt; worst movie ever seen life ever done one movies ever seen one</b></div>"
          },
          "metadata": {}
        },
        {
          "output_type": "stream",
          "name": "stdout",
          "text": [
            "Top k = 50\n"
          ]
        },
        {
          "output_type": "display_data",
          "data": {
            "text/plain": [
              "<IPython.core.display.Markdown object>"
            ],
            "text/markdown": "<div class=\"alert alert-block alert-info\"> <b>&lt;sos&gt; know one two stars movies great actors actresses come back</b></div>"
          },
          "metadata": {}
        },
        {
          "output_type": "display_data",
          "data": {
            "text/plain": [
              "<IPython.core.display.Markdown object>"
            ],
            "text/markdown": "<div class=\"alert alert-block alert-info\"> <b>&lt;sos&gt; &lt;unk&gt; favorite movie even though film one really deserves people see like film</b></div>"
          },
          "metadata": {}
        },
        {
          "output_type": "display_data",
          "data": {
            "text/plain": [
              "<IPython.core.display.Markdown object>"
            ],
            "text/markdown": "<div class=\"alert alert-block alert-info\"> <b>&lt;sos&gt; &lt;unk&gt; best movie ever seen anything see bad movie bad even worse movie</b></div>"
          },
          "metadata": {}
        },
        {
          "output_type": "display_data",
          "data": {
            "text/plain": [
              "<IPython.core.display.Markdown object>"
            ],
            "text/markdown": "<div class=\"alert alert-block alert-info\"> <b>&lt;sos&gt; &lt;unk&gt; worst movie ever made surpassing anything pretty good movie takes place story</b></div>"
          },
          "metadata": {}
        },
        {
          "output_type": "stream",
          "name": "stdout",
          "text": [
            "Top k = 100\n"
          ]
        },
        {
          "output_type": "display_data",
          "data": {
            "text/plain": [
              "<IPython.core.display.Markdown object>"
            ],
            "text/markdown": "<div class=\"alert alert-block alert-info\"> <b>&lt;sos&gt; saw movie theater early really nice story really bad film</b></div>"
          },
          "metadata": {}
        },
        {
          "output_type": "display_data",
          "data": {
            "text/plain": [
              "<IPython.core.display.Markdown object>"
            ],
            "text/markdown": "<div class=\"alert alert-block alert-info\"> <b>&lt;sos&gt; &lt;unk&gt; favorite movie made plot sucked movie first one bad one action scenes</b></div>"
          },
          "metadata": {}
        },
        {
          "output_type": "display_data",
          "data": {
            "text/plain": [
              "<IPython.core.display.Markdown object>"
            ],
            "text/markdown": "<div class=\"alert alert-block alert-info\"> <b>&lt;sos&gt; &lt;unk&gt; best movie history one finest mine ever made got watching first time</b></div>"
          },
          "metadata": {}
        },
        {
          "output_type": "display_data",
          "data": {
            "text/plain": [
              "<IPython.core.display.Markdown object>"
            ],
            "text/markdown": "<div class=\"alert alert-block alert-info\"> <b>&lt;sos&gt; &lt;unk&gt; worst movie ever really like movie movie watching bad bad acting lousy</b></div>"
          },
          "metadata": {}
        },
        {
          "output_type": "stream",
          "name": "stdout",
          "text": [
            "Top k = 150\n"
          ]
        },
        {
          "output_type": "display_data",
          "data": {
            "text/plain": [
              "<IPython.core.display.Markdown object>"
            ],
            "text/markdown": "<div class=\"alert alert-block alert-info\"> <b>&lt;sos&gt; loved movie dvd store maybe remembered think totally liked see</b></div>"
          },
          "metadata": {}
        },
        {
          "output_type": "display_data",
          "data": {
            "text/plain": [
              "<IPython.core.display.Markdown object>"
            ],
            "text/markdown": "<div class=\"alert alert-block alert-info\"> <b>&lt;sos&gt; &lt;unk&gt; favorite movie totally awful story makes sense however big budget movies seen</b></div>"
          },
          "metadata": {}
        },
        {
          "output_type": "display_data",
          "data": {
            "text/plain": [
              "<IPython.core.display.Markdown object>"
            ],
            "text/markdown": "<div class=\"alert alert-block alert-info\"> <b>&lt;sos&gt; &lt;unk&gt; best movie ever made sit would walk great name movie really starts</b></div>"
          },
          "metadata": {}
        },
        {
          "output_type": "display_data",
          "data": {
            "text/plain": [
              "<IPython.core.display.Markdown object>"
            ],
            "text/markdown": "<div class=\"alert alert-block alert-info\"> <b>&lt;sos&gt; &lt;unk&gt; worst movie ever seen especially years &lt;unk&gt; liked would never movie horrible</b></div>"
          },
          "metadata": {}
        },
        {
          "output_type": "stream",
          "name": "stdout",
          "text": [
            "Top k = 300\n"
          ]
        },
        {
          "output_type": "display_data",
          "data": {
            "text/plain": [
              "<IPython.core.display.Markdown object>"
            ],
            "text/markdown": "<div class=\"alert alert-block alert-info\"> <b>&lt;sos&gt; watched movie ago started end could please anything little movie</b></div>"
          },
          "metadata": {}
        },
        {
          "output_type": "display_data",
          "data": {
            "text/plain": [
              "<IPython.core.display.Markdown object>"
            ],
            "text/markdown": "<div class=\"alert alert-block alert-info\"> <b>&lt;sos&gt; &lt;unk&gt; favorite movie expected scary kind girl role act one worst piece vampires</b></div>"
          },
          "metadata": {}
        },
        {
          "output_type": "display_data",
          "data": {
            "text/plain": [
              "<IPython.core.display.Markdown object>"
            ],
            "text/markdown": "<div class=\"alert alert-block alert-info\"> <b>&lt;sos&gt; &lt;unk&gt; best movie ever seen say see last st expectations fan &lt;unk&gt; one</b></div>"
          },
          "metadata": {}
        },
        {
          "output_type": "display_data",
          "data": {
            "text/plain": [
              "<IPython.core.display.Markdown object>"
            ],
            "text/markdown": "<div class=\"alert alert-block alert-info\"> <b>&lt;sos&gt; &lt;unk&gt; worst movie ever seen avengers flimsy acting editing terrible scenes boring effects</b></div>"
          },
          "metadata": {}
        }
      ],
      "source": [
        "k_values = [None, 10, 50, 100, 150, 300]\n",
        "\n",
        "def display_generated_texts(model, start_tokens, start_tokens_lens, top_k, max_generated_len=10):\n",
        "    model.eval()\n",
        "    decoded_tokens, decoded_lens = decode(model, start_tokens, start_tokens_lens, max_generated_len=max_generated_len, top_k=top_k)\n",
        "    print(f\"Top k = {top_k}\")\n",
        "    for text_idx in range(start_tokens.shape[1]):\n",
        "        decoded_text_tokens = decoded_tokens[:decoded_lens[text_idx], text_idx]\n",
        "        tokens = start_tokens[:start_tokens_lens[text_idx], text_idx].tolist() + decoded_text_tokens.tolist()\n",
        "        words = lm_model.tokenizer.decode(tokens, skip_special_tokens=False).split(' ')\n",
        "\n",
        "        text = ' '.join(words).replace('<', '&lt;').replace('>', '&gt;')\n",
        "        display(Markdown(f'<div class=\"alert alert-block alert-info\"> <b>{text}</b></div>'))\n",
        "\n",
        "for k in k_values:\n",
        "    display_generated_texts(lm_model, start_tokens, start_tokens_lens, top_k=k)\n"
      ]
    },
    {
      "cell_type": "markdown",
      "metadata": {
        "id": "FYTb0bfst9t6"
      },
      "source": [
        "**Ответ:** Жадное декодирование (k=1) даёт вырожденные, повторяющиеся последовательности с множеством служебных токенов. При малых k заметно меньше ⟨\\unk⟩, но всё ещё встречаются повторы. Увеличение k до 50 и 100 повышает разнообразие текста и уменьшает количество повторов, делая генерацию ближе к связным фразам с незначительными логическими несостыковками. При ещё больших k (250 и выше) текст становится богаче, но повышается вероятность странных вставок. Итого: малый k даёт более консервативный и подверженный повторениям результат, а большой k — более разнообразный, но иногда нелогичный текст."
      ]
    },
    {
      "cell_type": "markdown",
      "metadata": {
        "id": "sb6kR4fzt9t7"
      },
      "source": [
        "## `Beam Search (2 балла)`"
      ]
    },
    {
      "cell_type": "markdown",
      "metadata": {
        "id": "7xpaO3bRt9t7"
      },
      "source": [
        "Рассмотрим более продвинутый алгоритм для декодирования. Реализуйте алгоритм Beam Search.\n",
        "\n",
        "Прочитать подробнее про Beam Search можно по ссылкам:\n",
        "1. [От huggingface](https://huggingface.co/blog/how-to-generate#beam-search)\n",
        "2. [На wiki](https://en.wikipedia.org/w/index.php?title=Beam_search&oldid=1248868876)"
      ]
    },
    {
      "cell_type": "markdown",
      "metadata": {
        "id": "wxhNRXCEt9t8"
      },
      "source": [
        "Несколько замечаний по имплементации:\n",
        "\n",
        "1. При больших размерах `beam_size` число гипотез ($B \\times \\text{beam\\_size}$) на очередном шаге может быть слишком большим. Поэтому может потребоваться разбить все гипотезы на отдельные батчи и делать forward-pass в несколько итераций. Используйте [`torch.split`](https://pytorch.org/docs/stable/generated/torch.split.html)\n",
        "2. Для выбора лучших гипотез используйте [`torch.topk`](https://pytorch.org/docs/stable/generated/torch.topk.html). Обратите внимание на индексы, которые возвращает эта функция (может пригодиться метод [`torch.remainder`](https://pytorch.org/docs/stable/generated/torch.remainder.html))\n",
        "3. Можно отслеживать, какие элементы в батче (или какие гипотезы) закончили генерацию. Делая forward-pass только для незавершённых гипотез, можно ускорить декодинг, однако, это усложнит реализацию"
      ]
    },
    {
      "cell_type": "markdown",
      "metadata": {
        "id": "5bjLSm_qt9t8"
      },
      "source": [
        "Будем реализовывать в 2 части:\n",
        "\n",
        "- Получение всей необходимой информации из `start_tokens` в функции `beam_search_encode_start`.\n",
        "\n",
        "- Генерация и декодирования в функции `decode_beam_search`."
      ]
    },
    {
      "cell_type": "code",
      "execution_count": 150,
      "metadata": {
        "id": "VGzborDIt9t8"
      },
      "outputs": [],
      "source": [
        "@torch.no_grad()\n",
        "def beam_search_encode_start(model, start_tokens, start_tokens_lens, beam_size):\n",
        "    \"\"\"\n",
        "    :param RNNLM model: Model\n",
        "    :param torch.Tensor start_tokens: Batch of seed tokens. Shape: [T, B]\n",
        "    :param torch.Tensor start_tokens_lens: Length of each sequence in batch. Shape: [B]\n",
        "    :param int beam_size: Size of beam\n",
        "    :return Tuple[torch.Tensor, torch.Tensor, torch.Tensor, torch.Tensor, torch.Tensor].\n",
        "        Initialization h and c for each hypotheses, New tokens,\n",
        "        Initialize log probabilities, Initialize hypothesis\n",
        "        Shape [L, B * BS, H], [L, B * BS, H], [B * BS], [B * BS], [1, B * BS]\n",
        "    \"\"\"\n",
        "    # L — number of RNN layers in the model, H — hidden size, BS — beam size\n",
        "    #\n",
        "    # 1. Make forward pass of start_tokens through the model.\n",
        "    #      Obtain the last cell and hidden state for each element in the batch\n",
        "    #          (i.e. tensors of shape [L, B, H])\n",
        "    #      Use those states as the initialization for each hypotheses in the beam\n",
        "    #          (i.e. tensors of shape [L, B * BS, H])\n",
        "    #      Initialize probabilities for each hypotheses in the beam with 1.0\n",
        "    #          (i.e. tensor of shape [B * BS])\n",
        "\n",
        "    # Get embeddings for the start tokens\n",
        "    # YOUR CODE HERE\n",
        "    embeddings = model.word_embeddings(start_tokens)\n",
        "    B = start_tokens.shape[1]\n",
        "    T = int(start_tokens_lens.max().item())\n",
        "    L = model.rnn.num_layers\n",
        "    H = model.hidden_dim\n",
        "    device = start_tokens.device\n",
        "\n",
        "    # Make forward pass through the RNN and\n",
        "    #   obtain the last cell and hidden state for each element in the batch\n",
        "    # YOUR CODE HERE\n",
        "    start_h = torch.zeros(L, B, H, device=device) # [L, B, H]\n",
        "    start_c = torch.zeros(L, B, H, device=device) # [L, B, H]\n",
        "    h_state = start_h\n",
        "    c_state = start_c\n",
        "    all_h = []\n",
        "    all_c = []\n",
        "    for t in range(T):\n",
        "        _, (h_state, c_state) = model.rnn(embeddings[t].unsqueeze(0), (h_state, c_state))\n",
        "        all_h.append(h_state)\n",
        "        all_c.append(c_state)\n",
        "    all_h = torch.stack(all_h, dim=1)\n",
        "    all_c = torch.stack(all_c, dim=1)\n",
        "    batch_indices = torch.arange(B, device=device)\n",
        "    final_h = all_h[:, start_tokens_lens - 1, batch_indices]\n",
        "    final_c = all_c[:, start_tokens_lens - 1, batch_indices]\n",
        "\n",
        "\n",
        "    # Use those states as the initialization for each hypotheses in the beam\n",
        "    # YOUR CODE HERE\n",
        "    h = final_h.repeat_interleave(beam_size, dim=1) # [L, B * BS, H]\n",
        "    c = final_c.repeat_interleave(beam_size, dim=1) # [L, B * BS, H]\n",
        "\n",
        "    # Select initial tokens for each hypotheses in the beam\n",
        "    #   Compute log probabilities and select top-beam_size tokens for each element\n",
        "    #   Use them to initialize beam search state\n",
        "    # YOUR CODE HERE\n",
        "    topk_log_probs, topk_indices = torch.topk(torch.log_softmax(model.output(final_h[-1]), dim=1), beam_size, dim=1)\n",
        "\n",
        "    new_tokens = topk_indices.view(-1) # [B * BS]\n",
        "    log_probas = topk_log_probs.view(-1) # [B * BS]\n",
        "    hypothesis = new_tokens.unsqueeze(0) # [1, B * BS]\n",
        "\n",
        "    return h, c, new_tokens, log_probas, hypothesis"
      ]
    },
    {
      "cell_type": "markdown",
      "metadata": {
        "id": "bym6eDfot9t9"
      },
      "source": [
        "Проверим функцию `beam_search_encode_start`. Ниже опишем матрицу перехода, в которой содержатся логиты вероятности перехода. `Beam size` отвечает за число гипотез, то есть сколько потенциально лучших токенов мы можем взять. Например, при `beam size = 4` и начальном токене $0$, мы будем рассматривать (создадим гипотезы) токены $[1, 0, 4, 3]$ (отсортированы в порядке убывания вероятности)."
      ]
    },
    {
      "cell_type": "code",
      "execution_count": 151,
      "metadata": {
        "id": "KAUFKntpt9t9"
      },
      "outputs": [],
      "source": [
        "transitions = {\n",
        "    0: torch.tensor([4, 5, 1, 2, 3]),\n",
        "    1: torch.tensor([3, 4, 5, 1, 2]),\n",
        "    2: torch.tensor([2, 3, 4, 5, 1]),\n",
        "    3: torch.tensor([1, 2, 3, 4, 5]),\n",
        "    4: torch.tensor([5, 1, 2, 3, 4]),\n",
        "}\n",
        "\n",
        "fake_lm = FakeLM(FakeRNN(), transitions)"
      ]
    },
    {
      "cell_type": "code",
      "execution_count": 152,
      "metadata": {
        "id": "UUZgBZAvt9t-"
      },
      "outputs": [],
      "source": [
        "start_tokens = torch.tensor(\n",
        "    [\n",
        "        [0, 0, 0],\n",
        "        [0, 1, 1],\n",
        "        [0, 0, 2],\n",
        "        [0, 0, 0]\n",
        "    ]\n",
        ")\n",
        "\n",
        "beam_size = 4\n",
        "h, c, new_tokens, log_probas, hypothesis = beam_search_encode_start(\n",
        "    model             = fake_lm,\n",
        "    start_tokens      = start_tokens,\n",
        "    start_tokens_lens = torch.tensor([1, 2, 3]),\n",
        "    beam_size         = beam_size\n",
        ")"
      ]
    },
    {
      "cell_type": "code",
      "execution_count": 153,
      "metadata": {
        "id": "6QESSsTbt9t-"
      },
      "outputs": [],
      "source": [
        "assert h.shape == (1, 3 * beam_size, 1)\n",
        "assert c.shape == (1, 3 * beam_size, 1)\n",
        "assert new_tokens.shape[0] == (3 * beam_size)\n",
        "assert log_probas.shape[0] == (3 * beam_size)\n",
        "assert hypothesis.shape     == (1, 3 * beam_size)"
      ]
    },
    {
      "cell_type": "code",
      "execution_count": 154,
      "metadata": {
        "id": "9LFTW_eHt9t-"
      },
      "outputs": [],
      "source": [
        "assert (h[0, :, 0] == torch.tensor([0] * beam_size + [1] * beam_size + [2] * beam_size)).all()\n",
        "assert (new_tokens == torch.tensor([1, 0, 4, 3, 2, 1, 0, 4, 3, 2, 1, 0])).all()\n",
        "assert torch.isclose(log_probas[:beam_size], torch.tensor([5, 4, 3, 2, 1]).float().log_softmax(0)[:-1]).all()\n",
        "assert (hypothesis[0] == new_tokens).all()"
      ]
    },
    {
      "cell_type": "code",
      "execution_count": 164,
      "metadata": {
        "ExecuteTime": {
          "end_time": "2024-03-30T22:46:29.834960Z",
          "start_time": "2024-03-30T22:46:29.824795Z"
        },
        "id": "by2fwSsgt9t_"
      },
      "outputs": [],
      "source": [
        "@torch.no_grad()\n",
        "def decode_beam_search(\n",
        "    model, start_tokens, start_tokens_lens,\n",
        "    max_generated_len=20, beam_size=5, eos_idx=tokenizer.token_to_id('<eos>')\n",
        "):\n",
        "    \"\"\"\n",
        "    :param RNNLM model: Model\n",
        "    :param torch.Tensor start_tokens: Batch of seed tokens. Shape: [T, B]\n",
        "    :param torch.Tensor start_tokens_lens: Length of each sequence in batch. Shape: [B]\n",
        "    :param int max_generated_len: Maximum length of generated samples\n",
        "    :param int beam_size: Size of beam\n",
        "    :return Tuple[torch.Tensor, torch.Tensor, torch.Tensor].\n",
        "        Newly predicted tokens, lengths of generated parts and log probabilities for each hypotheses\n",
        "        Shape [T*, B, beam_size], [T*, beam_size], [T*, beam_size]\n",
        "    \"\"\"\n",
        "\n",
        "    # L — number of RNN layers in the model, H — hidden size, BS — beam size\n",
        "    #\n",
        "    # 1. Make forward pass of start_tokens through the model.\n",
        "    #      Initialize vector that show whether hypothesis is finished\n",
        "    #          (i.e. tensor of shape [B * BS])\n",
        "    # 2. While all sequences do not end with <eos> and their length less than max_generated_len\n",
        "    #      1. Get probabilities for the next token for each hypothesis\n",
        "    #          (i.e. tensor of shape [B * BS, V])\n",
        "    #      2. Use those probabilities to compute probability for each extension of each hypothesis\n",
        "    #          (i.e. tensor of shape [B * BS, V])\n",
        "    #      3. For each element in the batch select new BS best hypotheses\n",
        "    #          Note, that some of the hypotheses on the previous step have been finished\n",
        "    #            so their probability should not change. So you have to select BS best hypotheses\n",
        "    #            among all extension of unfinished hypotheses and finished hypotheses\n",
        "    #          As a result you will have a new token for best extensions of unfinished hypotheses\n",
        "    #          For simplisity you can use <EOS> token if you select finished hypothesis in the beam\n",
        "    #            i.e. tensor of shape [B * BS] of indices for selected hypotheses and\n",
        "    #                 tensor of shape [B * BS] of extension tokens for each hypothesis\n",
        "    #      4. Update probabilities for each hypotheses and is_finished state for each hypothesis\n",
        "    #          Concat new tokens to the existing prefixes\n",
        "    #      5. Update hidden and cell state to correspond to the selected hypothesis\n",
        "\n",
        "    #  Make forward pass of start_tokens through the model.\n",
        "    h, c, new_tokens, log_probas, hypothesis = beam_search_encode_start(\n",
        "        model             = model,\n",
        "        start_tokens      = start_tokens,\n",
        "        start_tokens_lens = start_tokens_lens,\n",
        "        beam_size         = beam_size\n",
        "    )\n",
        "\n",
        "    # Initialize vector that show whether hypothesis is finished\n",
        "    is_finished = new_tokens == eos_idx # [B * BS]\n",
        "    decoded_lens = torch.ones_like(is_finished, dtype=torch.long) # [B * BS]\n",
        "\n",
        "    while not torch.all(is_finished) and hypothesis.shape[0] < max_generated_len:\n",
        "        # Get probabilities for the next token for each hypothesis\n",
        "        # YOUR CODE HERE\n",
        "        ...\n",
        "\n",
        "        next_token_log_probas = ... # [B * BS, V]\n",
        "        # Use those probabilities to compute probability for each extension of each hypothesis\n",
        "        # YOUR CODE HERE\n",
        "        ...\n",
        "        extension_log_probas = ... # [B * BS, V]\n",
        "\n",
        "        # For each element in the batch select new BS best hypotheses\n",
        "        #   You can use loop over different beams\n",
        "        # YOUR CODE HERE\n",
        "        ...\n",
        "\n",
        "        # Update probabilities for each hypotheses and is_finished state and decoded_lens for each hypothesis\n",
        "        # YOUR CODE HERE\n",
        "        ...\n",
        "\n",
        "        # Concat new tokens to the existing prefixes\n",
        "        # YOUR CODE HERE\n",
        "        ...\n",
        "\n",
        "        # Update hidden and cell state to correspond to the selected hypothesis\n",
        "        # YOUR CODE HERE\n",
        "        ...\n",
        "\n",
        "\n",
        "    return (\n",
        "        hypothesis.view(-1, start_tokens.shape[1], beam_size),\n",
        "        decoded_lens.view(start_tokens.shape[1], beam_size),\n",
        "        log_probas.view(start_tokens.shape[1], beam_size)\n",
        "    )"
      ]
    },
    {
      "cell_type": "markdown",
      "metadata": {
        "id": "I-UYYS1Lt9t_"
      },
      "source": [
        "Протестируем итоговую функцию `decode_beam_search`. Рассмотрим постановку, когда действовать жадно не выгодно для генерации."
      ]
    },
    {
      "cell_type": "code",
      "execution_count": 165,
      "metadata": {
        "id": "DZ04Bat6t9uA"
      },
      "outputs": [],
      "source": [
        "transitions = {\n",
        "    0: torch.tensor([-1e10, 1, -1e10, -1e10, 0.9]),\n",
        "    1: torch.tensor([-1e10, 1, 1.1, 0.9, -1e10]),\n",
        "    2: torch.tensor([-1e10, 0.9, 1, 1.1, -1e10]),\n",
        "    3: torch.tensor([-1e10, 1.1, 0.9, 1, -1e10]),\n",
        "    4: torch.tensor([-1e10, -1e10, -1e10, -1e10, 1]),\n",
        "}\n",
        "\n",
        "fake_lm = FakeLM(FakeRNN(), transitions)"
      ]
    },
    {
      "cell_type": "code",
      "source": [
        "for k, v in transitions.items():\n",
        "    p = v.softmax(0).cpu().numpy()\n",
        "    p = np.around(p, 3)\n",
        "    print(f\"log p(next_token | {k}) = {p}\")"
      ],
      "metadata": {
        "id": "yqYXpCSB8xdB"
      },
      "execution_count": null,
      "outputs": []
    },
    {
      "cell_type": "markdown",
      "metadata": {
        "id": "qy4H3s_bt9uA"
      },
      "source": [
        "Действуя жадно и начиная с токена $0$, мы перейдем в токен $1$, а дальше с вероятностью будем блуждать по цепочке $1 \\to 2 \\to 3 \\to 1$. Но при числе гипотез больше 2 мы рассмотрим возможность перехода в токен $4$, где зациклимся. В результате во втором случае у последовательности будет высокая итоговая вероятность, а у первого способа - низкая.\n",
        "\n",
        "Сначала проверим как работает `beam_size = 1`, так как этот случай проще отладить в случае ошибки.\n",
        "\n",
        "**Важно:** При `beam_size = 1` мы получаем жадное декодирование."
      ]
    },
    {
      "cell_type": "code",
      "source": [
        "set_global_seed(42)\n",
        "\n",
        "decoded_tokens, decoded_lens, log_probas = decode_beam_search(\n",
        "    model             = fake_lm,\n",
        "    start_tokens      = torch.zeros((1, 3)),\n",
        "    start_tokens_lens = torch.tensor([1, 1, 1]),\n",
        "    eos_idx           = 10,\n",
        "    max_generated_len = 8,\n",
        "    beam_size         = 1\n",
        ")\n",
        "\n",
        "p = transitions[1].log_softmax(0)[2] * 7 + transitions[0].log_softmax(0)[1]"
      ],
      "metadata": {
        "id": "R1FLQ45e8zUw"
      },
      "execution_count": null,
      "outputs": []
    },
    {
      "cell_type": "code",
      "execution_count": null,
      "metadata": {
        "id": "sdu4-iyct9uB"
      },
      "outputs": [],
      "source": [
        "assert decoded_tokens.shape == (8, 3, 1)\n",
        "assert decoded_lens.shape   == (3, 1)\n",
        "assert log_probas.shape     == (3, 1)"
      ]
    },
    {
      "cell_type": "code",
      "execution_count": null,
      "metadata": {
        "id": "fWmACXxGt9uB"
      },
      "outputs": [],
      "source": [
        "decoded_tokens[:, :, 0]"
      ]
    },
    {
      "cell_type": "code",
      "execution_count": null,
      "metadata": {
        "id": "4EEnOhdUt9uC"
      },
      "outputs": [],
      "source": [
        "assert torch.isclose(log_probas, p).all()"
      ]
    },
    {
      "cell_type": "code",
      "execution_count": null,
      "metadata": {
        "id": "TrdMJngCt9uC"
      },
      "outputs": [],
      "source": [
        "set_global_seed(42)\n",
        "\n",
        "decoded_tokens, decoded_lens, log_probas = decode_beam_search(\n",
        "    model             = fake_lm,\n",
        "    start_tokens      = torch.zeros((1, 3)),\n",
        "    start_tokens_lens = torch.tensor([1, 1, 1]),\n",
        "    eos_idx           = 10,\n",
        "    max_generated_len = 8,\n",
        "    beam_size         = 2\n",
        ")\n"
      ]
    },
    {
      "cell_type": "code",
      "execution_count": null,
      "metadata": {
        "id": "GRmDgX8dt9uC"
      },
      "outputs": [],
      "source": [
        "assert decoded_tokens.shape == (8, 3, 2)\n",
        "assert decoded_lens.shape   == (3, 2)\n",
        "assert log_probas.shape     == (3, 2)"
      ]
    },
    {
      "cell_type": "markdown",
      "metadata": {
        "id": "r3_9fUYBt9uC"
      },
      "source": [
        "Посмотрим на наиболее вероятную гипотезу для каждого батча:"
      ]
    },
    {
      "cell_type": "code",
      "execution_count": null,
      "metadata": {
        "id": "23Fca9lEt9uD"
      },
      "outputs": [],
      "source": [
        "decoded_tokens[:, :, 0]"
      ]
    },
    {
      "cell_type": "markdown",
      "metadata": {
        "id": "cgYPfPngt9uD"
      },
      "source": [
        "Посмотрим на вторую гипотезу для каждого батча:"
      ]
    },
    {
      "cell_type": "code",
      "execution_count": null,
      "metadata": {
        "id": "7aAbyMNdt9uD"
      },
      "outputs": [],
      "source": [
        "decoded_tokens[:, :, 1]"
      ]
    },
    {
      "cell_type": "markdown",
      "metadata": {
        "id": "fCmyaOaWt9uE"
      },
      "source": [
        "Подробнее, как это работает:\n",
        "\n",
        "1. На первом ходу мы берем 2 наиболее вероятных перехода: перейти в $1$, перейти в $4$.\n",
        "\n",
        "2. На следующих ходах мы рассматриваем для каждого \"луча\" 2 наиболее вероятных перехода (всего 4 случаев), из которых выбираем две наиболее вероятные гипотезы.\n",
        "\n",
        "- 1. Для случая, который перешел в $1$, мы рассматриваем 2 альтернативы: перейти в $2$ с вероятностью $0.367$, остаться в $1$ с вероятностью $0.332$)\n",
        "- 2. Для случая, который перешел в $4$, мы рассматриваем 2 альтернативы: остаться в $4$ с вероятностью 1, или перейти в любое другое состояние с вероятностью $\\approx$ 0)\n",
        "- 3. Из всех вариантов вероятней всего перейти из $1$ в $2$ и перейти из $4$ в $4$, то есть обновляем \"лучи\"\n",
        "\n",
        "3. Повторить пункт 2.\n",
        "\n",
        "**Важно:** Обратите внимание, что Beam Search детерминированный алгоритм"
      ]
    },
    {
      "cell_type": "code",
      "execution_count": null,
      "metadata": {
        "ExecuteTime": {
          "end_time": "2024-03-30T22:46:30.504262Z",
          "start_time": "2024-03-30T22:46:30.501331Z"
        },
        "id": "HQDE3fBmt9uE"
      },
      "outputs": [],
      "source": [
        "start_tokens = torch.tensor([\n",
        "    lm_model.tokenizer.encode(['<sos>', '<pad>', '<pad>', '<pad>'], is_pretokenized=True).ids,\n",
        "    lm_model.tokenizer.encode(['<sos>', 'my', 'favorite', 'movie'], is_pretokenized=True).ids,\n",
        "    lm_model.tokenizer.encode(['<sos>', 'the', 'best', 'movie'],    is_pretokenized=True).ids,\n",
        "    lm_model.tokenizer.encode(['<sos>', 'the', 'worst', 'movie'],   is_pretokenized=True).ids,\n",
        "]).T\n",
        "\n",
        "start_tokens_lens = torch.tensor([1, 4, 4, 4])"
      ]
    },
    {
      "cell_type": "code",
      "execution_count": null,
      "metadata": {
        "ExecuteTime": {
          "end_time": "2024-03-30T22:46:31.081687Z",
          "start_time": "2024-03-30T22:46:30.966597Z"
        },
        "id": "6t8RfU8Rt9uE"
      },
      "outputs": [],
      "source": [
        "lm_model.to(device).eval()\n",
        "start_tokens = start_tokens.to(device)\n",
        "start_tokens_lens = start_tokens_lens.to(device)"
      ]
    },
    {
      "cell_type": "code",
      "execution_count": null,
      "metadata": {
        "ExecuteTime": {
          "end_time": "2024-03-30T22:46:31.910807Z",
          "start_time": "2024-03-30T22:46:31.646253Z"
        },
        "id": "IYIMj8nqt9uE"
      },
      "outputs": [],
      "source": [
        "beam_size = 100\n",
        "decoded_tokens, decoded_lens, log_probas = decode_beam_search(\n",
        "    lm_model, start_tokens, start_tokens_lens, max_generated_len=10, beam_size=beam_size\n",
        ")"
      ]
    },
    {
      "cell_type": "code",
      "execution_count": null,
      "metadata": {
        "ExecuteTime": {
          "end_time": "2024-03-30T22:46:32.320606Z",
          "start_time": "2024-03-30T22:46:32.169949Z"
        },
        "scrolled": false,
        "id": "4QiFInnWt9uF"
      },
      "outputs": [],
      "source": [
        "for start_tokens_elem, start_tokens_lens_elem, decoded_tokens_elem, decoded_lens_elem, log_probas_elem in zip(\n",
        "    start_tokens.T, start_tokens_lens,\n",
        "    decoded_tokens.permute(1, 2, 0), decoded_lens.permute(0, 1), log_probas.permute(0, 1)\n",
        "):\n",
        "    start_tokens_elem = start_tokens_elem[:start_tokens_lens_elem].tolist()\n",
        "    start_words = lm_model.tokenizer.decode(start_tokens_elem, skip_special_tokens=False).split(' ')\n",
        "\n",
        "    start_text = ' '.join(start_words).replace('<', '&lt;').replace('>', '&gt;')\n",
        "    display(Markdown(f'<div class=\"alert alert-block alert-info\"> <b>{start_text}</b></div>'))\n",
        "\n",
        "    for idx, (hyp, hyp_len, hyp_log_prob) in enumerate(zip(decoded_tokens_elem, decoded_lens_elem, log_probas_elem)):\n",
        "        if idx >= 3:\n",
        "            break\n",
        "\n",
        "        hyp = hyp[:hyp_len].tolist()\n",
        "        hyp_words = lm_model.tokenizer.decode(hyp, skip_special_tokens=False).split(' ')\n",
        "        hyp_text = ' '.join(hyp_words).replace('<', '&lt;').replace('>', '&gt;')\n",
        "        display(Markdown(\n",
        "            f'<div class=\"alert alert-block alert-success\"> <b>{hyp_log_prob:.3f}: {hyp_text}</b></div>'\n",
        "        ))"
      ]
    },
    {
      "cell_type": "markdown",
      "metadata": {
        "id": "8FvWN9uMt9uF"
      },
      "source": [
        "Попробуйте выполнить декодинг для разных `beam_size`. Убедитесь, что при `beam_search=1` семплирование совпадает с top-1 (greedy decoding) подходом.\n",
        "\n",
        "Сравните результаты Beam Search с top-k семплированием и жадным декодированием. Опишите ваши наблюдения."
      ]
    },
    {
      "cell_type": "code",
      "execution_count": null,
      "metadata": {
        "ExecuteTime": {
          "end_time": "2024-03-30T22:00:59.682820Z",
          "start_time": "2024-03-30T22:00:59.682812Z"
        },
        "id": "QQaPkveZt9uF"
      },
      "outputs": [],
      "source": [
        "# YOUR CODE HERE"
      ]
    },
    {
      "cell_type": "markdown",
      "metadata": {
        "ExecuteTime": {
          "end_time": "2021-04-02T15:04:51.678260Z",
          "start_time": "2021-04-02T15:04:51.673587Z"
        },
        "id": "T7vmdNT3t9uG"
      },
      "source": [
        "## `Бонус. Существенное улучшение качества (до 6 баллов)`"
      ]
    },
    {
      "cell_type": "markdown",
      "metadata": {
        "id": "i9n_s7gIt9uG"
      },
      "source": [
        "Та модель, которая использовалась в предыдущей части во многом заимствует улучшения LSTM из статьи [Regularizing and Optimizing LSTM Language Models](https://arxiv.org/pdf/1708.02182.pdf). Вы можете попробовать применить другие варианты регуляризации из данной статьи для существенного улучшения качества LM.\n",
        "\n",
        "Например:\n",
        "1. Dropout для эмбеддингов **(+0.25)**\n",
        "2. Dropout входов и выходов RNN **(+0.25)**\n",
        "3. Регуляризация активаций (AR/TAR) **(+1.0)**\n",
        "4. NT-ASGD **(+1.5)**\n",
        "5. Tied веса эмбеддингов и софтмакса **(+1.0)**\n",
        "6. Attention **(+2.0)**\n",
        "\n",
        "**Полные баллы ставятся только при наличии качественного и количественного сравнения с бейзлайном.**\n",
        "\n",
        "**Для эксперимента с Attention необходимо изобразить Attention Maps для нескольких примеров.**"
      ]
    },
    {
      "cell_type": "code",
      "execution_count": null,
      "metadata": {
        "id": "3UOcCvUKt9uG"
      },
      "outputs": [],
      "source": []
    }
  ],
  "metadata": {
    "kernelspec": {
      "display_name": "Python 3",
      "name": "python3"
    },
    "language_info": {
      "codemirror_mode": {
        "name": "ipython",
        "version": 3
      },
      "file_extension": ".py",
      "mimetype": "text/x-python",
      "name": "python",
      "nbconvert_exporter": "python",
      "pygments_lexer": "ipython3",
      "version": "3.9.16"
    },
    "toc": {
      "base_numbering": 1,
      "nav_menu": {},
      "number_sections": false,
      "sideBar": true,
      "skip_h1_title": false,
      "title_cell": "Table of Contents",
      "title_sidebar": "Contents",
      "toc_cell": false,
      "toc_position": {
        "height": "804px",
        "left": "148px",
        "top": "50px",
        "width": "555.391px"
      },
      "toc_section_display": true,
      "toc_window_display": false
    },
    "varInspector": {
      "cols": {
        "lenName": 16,
        "lenType": 16,
        "lenVar": 40
      },
      "kernels_config": {
        "python": {
          "delete_cmd_postfix": "",
          "delete_cmd_prefix": "del ",
          "library": "var_list.py",
          "varRefreshCmd": "print(var_dic_list())"
        },
        "r": {
          "delete_cmd_postfix": ") ",
          "delete_cmd_prefix": "rm(",
          "library": "var_list.r",
          "varRefreshCmd": "cat(var_dic_list()) "
        }
      },
      "position": {
        "height": "313px",
        "left": "926px",
        "right": "27px",
        "top": "120px",
        "width": "343px"
      },
      "types_to_exclude": [
        "module",
        "function",
        "builtin_function_or_method",
        "instance",
        "_Feature"
      ],
      "window_display": false
    },
    "colab": {
      "provenance": [],
      "gpuType": "T4"
    },
    "accelerator": "GPU"
  },
  "nbformat": 4,
  "nbformat_minor": 0
}