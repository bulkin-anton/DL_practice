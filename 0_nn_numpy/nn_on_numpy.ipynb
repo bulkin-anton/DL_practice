{
  "cells": [
    {
      "cell_type": "markdown",
      "metadata": {
        "id": "tBAIX6px0ZzI"
      },
      "source": [
        "# `Практикум по программированию на языке Python`\n",
        "\n",
        "## `Задание 01. Полносвязная нейронная сеть на numpy`.\n",
        "\n",
        "#### Фамилия, имя:\n",
        "\n",
        "Дата выдачи: <span style=\"color:red\">__13 февраля__</span>.\n",
        "\n",
        "Мягкий дедлайн: <span style=\"color:red\">__28 февраля 05:00__</span>.\n",
        "\n",
        "Стоимость: __10 баллов__ (основная часть заданий) + __3 балла__ (дополнительные задания).\n",
        "\n",
        "<span style=\"color:red\">__В ноутбуке все клетки должны выполняться без ошибок при последовательном их выполнении.__</span>\n",
        "\n",
        "#### `Москва, 2025`"
      ]
    },
    {
      "cell_type": "code",
      "execution_count": 1,
      "metadata": {
        "ExecuteTime": {
          "end_time": "2021-03-03T14:44:48.909044Z",
          "start_time": "2021-03-03T14:44:48.683650Z"
        },
        "id": "k8OKqbfx0ZzM"
      },
      "outputs": [],
      "source": [
        "import numpy as np"
      ]
    },
    {
      "cell_type": "markdown",
      "metadata": {
        "heading_collapsed": true,
        "id": "UD6VsxdE0ZzP"
      },
      "source": [
        "## `Теоретическая часть (3 балла)`"
      ]
    },
    {
      "cell_type": "markdown",
      "metadata": {
        "hidden": true,
        "id": "yFYQlzyb0ZzP"
      },
      "source": [
        "В этом блоке вам нужно решить 3 задания."
      ]
    },
    {
      "cell_type": "markdown",
      "metadata": {
        "heading_collapsed": true,
        "hidden": true,
        "id": "4zEx1Ld30ZzP"
      },
      "source": [
        "### `Задание 1. Градиенты для слоя Batch normalization (1.5 балла)`"
      ]
    },
    {
      "cell_type": "markdown",
      "metadata": {
        "hidden": true,
        "id": "0Q2Gnuf60ZzQ"
      },
      "source": [
        "Рассмотрим слой Batch normalization. Пусть на вход этого слоя был подан батч из $n$ объектов, при этом у всех объектов по 1 признаку. Представим вход BN слоя в виде $X \\in \\mathbb{R}^{n \\times 1}$.\n",
        "\n",
        "Тогда в этом слое производятся следующие вычисления:\n",
        "\n",
        "$$ \\mu = \\frac1n \\sum_{i=1}^{n} X_i $$\n",
        "\n",
        "$$ \\sigma^2 = \\frac1n \\sum_{i=1}^{n} \\left( X_i - \\mu \\right) ^2 $$\n",
        "\n",
        "$$ \\tilde{y_i} = \\frac{X_i - \\mu}{\\sqrt{\\sigma^2 + \\varepsilon}} $$\n",
        "\n",
        "$$ y_i = \\gamma \\tilde{y_i} + \\delta $$\n",
        "\n",
        "Выходом BN слоя является $y_i$, а $\\gamma,\\delta\\in\\mathbb{R}$ — параметры, которые подбираются во время обучения вместе с другими параметрами нейронной сети (наряду, например, с весами линейного слоя).\n",
        "\n",
        "Рассмотрим нейронную сеть, в которой есть BN слой. Предположим, что вычисления в нейронной сети завершаются подсчетом функции потерь $\\mathcal{L}$. Пусть мы выполнили прямой проход по нейронной сети и сейчас делаем обратный проход с помощью метода обратного распространения ошибки. Пусть BN слою пришел градиент функции потерь по выходу BN слоя ($\\nabla_{y} \\mathcal{L}$).\n",
        "\n",
        "В этом задании вам нужно записать вычисление градиента функции потерь по параметрам слоя BN $\\gamma$ и $\\delta$ ($\\nabla_{\\gamma} \\mathcal{L}$, $\\nabla_{\\delta} \\mathcal{L}$) через $\\nabla_{y} \\mathcal{L}$, а также вам нужно записать вычисление градиента функции потерь по входу слоя BN $X$ ($\\nabla_{X} \\mathcal{L}$) через $\\nabla_{y} \\mathcal{L}$.\n",
        "\n",
        "Хочу заметить, в данном задании мы рассматриваем объекты всего с 1 признаком, чтобы упростить выкладки."
      ]
    },
    {
      "cell_type": "markdown",
      "metadata": {
        "hidden": true,
        "id": "C-UD1Lut0ZzQ"
      },
      "source": [
        "__Ваше решение:__\n",
        "\n",
        "$$\n",
        "\\nabla_{\\gamma}L=\\sum_{i=1}^n\\frac{\\partial L}{\\partial y_i}\\frac{\\partial y_i}{\\partial\\gamma}=\\sum_{i=1}^n\\nabla_{y_i}L\\cdot\\tilde{y}_i\n",
        "$$\n",
        "$$\n",
        "\\quad \\nabla_{\\delta}L=\\sum_{i=1}^n\\frac{\\partial L}{\\partial y_i}\\frac{\\partial y_i}{\\partial\\delta}=\\sum_{i=1}^n\\nabla_{y_i}L\n",
        "$$\n",
        "$$\\quad \\nabla_{X_i}L=\\frac{\\gamma}{\\sqrt{\\sigma^2+\\epsilon}}\\Bigl(\\nabla_{y_i}L-\\frac{1}{n}\\sum_{j=1}^n\\nabla_{y_j}L\\Bigr)-\\frac{\\gamma(X_i-\\mu)}{n(\\sigma^2+\\epsilon)^{3/2}}\\sum_{j=1}^n\\nabla_{y_j}L\\,(X_j-\\mu)\n",
        "$$"
      ]
    },
    {
      "cell_type": "markdown",
      "metadata": {
        "heading_collapsed": true,
        "hidden": true,
        "id": "o3iAw3Te0ZzR"
      },
      "source": [
        "### `Задание 2. Вывод инициализации весов линейного слоя при использовании ReLU в качестве функции активации (1 балл)`"
      ]
    },
    {
      "cell_type": "markdown",
      "metadata": {
        "hidden": true,
        "id": "WqQt0nhX0ZzR"
      },
      "source": [
        "Рассмотрим полносвязную нейронную сеть с функцией активации $g(y)$. Пусть сеть состоит из $L$ слоев и размер входа слоя $l$ равен $n_l\\ \\ (l = \\overline{1, L})$.\n",
        "\n",
        "Обозначим за $x^l \\in \\mathbb{R}^{n_{l}}$ вход слоя $l$, за $y^l \\in \\mathbb{R}^{n_{l+1}}$ — выход слоя $l$, за $W^l \\in \\mathbb{R}^{n_{l+1} \\times n_{l}}$ — веса слоя $l$, за $b^l \\in \\mathbb{R}^{n_{l+1}}$ — вектор сдвига слоя $l$.\n",
        "\n",
        "Тогда\n",
        "$$y^l = W^l x^l + b^l,$$\n",
        "$$x^{l+1} = g(y^l).$$\n",
        "\n",
        "На паре вы выводили хорошую инициализацию для линейного слоя в случае, когда в качестве функции активации $g(y)$ в нейронной сети используется гиперболический тангенс $g(y) = \\tanh(y)$. Сейчас вам нужно сделать подобный вывод для случая, когда в сети в качестве функций активации используется $g(y) = ReLU(y) = \\max(0, y)$.\n",
        "\n",
        "Сделаем следующие предположения насчет того, как распределены веса $W^l$, вектор сдвига $b^l$, входной вектор $x^l$, выходной вектор $y^l$ линейного слоя и градиенты функции потерь $\\frac{\\partial L}{\\partial y^{l}}$ $(l = \\overline{1, L}$):\n",
        "\n",
        "1. Все компоненты в $W^l$ распределены одинаково и независимо друг от друга;\n",
        "2. Все компоненты в $y^l$ распределены одинаково и независимо друг от друга;\n",
        "3. Все компоненты в $x^l$ распределены одинаково и независимо друг от друга;\n",
        "4. Все компоненты в $\\frac{\\partial L}{\\partial y^{l}}$ распределены одинаково и независимо друг от друга;\n",
        "5. Все компоненты в $W^l$ и все компоненты в $x^l$ независимы друг от друга;\n",
        "6. Все компоненты в $W^l$ имеют четную плотность распределения (то есть симметричную относительно нуля: $p_{W^l}(-x) = p_{W^l}(x)$);\n",
        "7. Все компоненты в $W^l$ имеют конечное матожидание;\n",
        "8. Вектор $b^l$ инициализирован нулями.\n",
        "\n",
        "\n",
        "Подсказки:\n",
        "1. Из пунктов 6 и 7 следует, что все компоненты в $W^l$ имеют нулевое среднее ($\\mathbb{E} W^l_{ij} = 0\\ \\ \\forall i = \\overline{1, n_{l+1}}, j = \\overline{1, n_{l}}$) (докажите);\n",
        "2. Из пунктов 6 и 7 следует, что все компоненты в $y^l$ имеют нулевое среднее и четную плотность распределения (докажите)."
      ]
    },
    {
      "cell_type": "markdown",
      "metadata": {
        "hidden": true,
        "id": "TQrhezfv0ZzS"
      },
      "source": [
        "__Ваше решение:__\n",
        "\n",
        "..."
      ]
    },
    {
      "cell_type": "markdown",
      "metadata": {
        "heading_collapsed": true,
        "hidden": true,
        "id": "BWOWt0Xc0ZzS"
      },
      "source": [
        "### `Задание 3. Почему функция активации` $ReLU(y) = \\max(0, y)$ `предпочтительней сигмоиды` $\\sigma(y) = \\frac{1}{1 + \\exp(-y)}$ `в нейронных сетях? (0.5 балла)`"
      ]
    },
    {
      "cell_type": "markdown",
      "metadata": {
        "hidden": true,
        "id": "lbutXMbA0ZzS"
      },
      "source": [
        "Дайте развернутый ответ на вопрос \"Почему функция активации $ReLU(y) = \\max(0, y)$ предпочтительней сигмоиды $\\sigma(y) = \\frac{1}{1 + \\exp(-y)}$ в нейронных сетях?\""
      ]
    },
    {
      "cell_type": "markdown",
      "metadata": {
        "hidden": true,
        "id": "3y-zKl8y0ZzS"
      },
      "source": [
        "__Ваш ответ:__\n",
        "\n",
        "* градиентный взрыв - при использовании сигмоиды может возникать ситуация, когда градиенты значительно увеличиваются, что приводит к проблемам при обновлении весов. ReLU же помогает избежать этого эффекта.\n",
        "\n",
        "* затухание градиента - сигмоида способна вызывать исчезновение градиентов, поскольку её производная может быть крайне мала, что затрудняет корректное обновление весов в ранних слоях сети. В отличие от неё, ReLU сохраняет стабильный градиент для положительных значений входа, предотвращая затухание.\n",
        "\n",
        "* вычислительная эффективность и стабильность - ReLU проще в реализации, поскольку представляет собой пороговую функцию, тогда как сигмоида требует вычисления экспоненты, что является более затратной и менее стабильной операцией.\n",
        "\n",
        "* более быстрая сходимость - Благодаря описанным свойствам — стабильному градиенту, отсутствию градиентного взрыва и меньшим вычислительным затратам — нейронные сети с активацией ReLU, как правило, обучаются быстрее по сравнению с сетями, использующими сигмоиду."
      ]
    },
    {
      "cell_type": "markdown",
      "metadata": {
        "hidden": true,
        "id": "3fCggpYj0ZzT"
      },
      "source": [
        "---"
      ]
    },
    {
      "cell_type": "markdown",
      "metadata": {
        "heading_collapsed": true,
        "id": "129JT3qN0ZzT"
      },
      "source": [
        "## `Практическая часть (7 баллов)`"
      ]
    },
    {
      "cell_type": "markdown",
      "metadata": {
        "heading_collapsed": true,
        "hidden": true,
        "id": "b5ZQviQz0ZzT"
      },
      "source": [
        "### `Реализация нейронной сети (3 балла)`"
      ]
    },
    {
      "cell_type": "markdown",
      "metadata": {
        "hidden": true,
        "id": "9olpRpon0ZzT"
      },
      "source": [
        "В этом задании вы обучите полносвязную нейронную сеть распознавать рукописные цифры (а что же еще, если не их :), [почти] самостоятельно реализовав все составляющие алгоритма обучения и предсказания.\n",
        "\n",
        "Для начала нам понадобится реализовать прямой и обратный проход через слои. Наши слои будут соответствовать следующему интерфейсу (на примере \"тождественного\" слоя):"
      ]
    },
    {
      "cell_type": "code",
      "execution_count": 2,
      "metadata": {
        "ExecuteTime": {
          "end_time": "2021-03-03T14:44:48.924967Z",
          "start_time": "2021-03-03T14:44:48.912996Z"
        },
        "hidden": true,
        "id": "xnvIcxaW0ZzT"
      },
      "outputs": [],
      "source": [
        "class IdentityLayer:\n",
        "    \"\"\"\n",
        "    A building block. Each layer is capable of performing two things:\n",
        "\n",
        "    - Process input to get output:\n",
        "    output = layer.forward(input)\n",
        "\n",
        "    - Propagate gradients through itself:\n",
        "    grad_input = layer.backward(input, grad_output)\n",
        "\n",
        "    Some layers also have learnable parameters.\n",
        "\n",
        "    Modified code from cs.hse DL course *\n",
        "    \"\"\"\n",
        "    def __init__(self):\n",
        "        \"\"\"\n",
        "        Here you can initialize layer parameters (if any)\n",
        "        and auxiliary stuff. You should enumerate all parameters\n",
        "        in self.params\n",
        "        \"\"\"\n",
        "        # An identity layer does nothing\n",
        "        self.params = []\n",
        "        pass\n",
        "\n",
        "    def forward(self, input):\n",
        "        \"\"\"\n",
        "        Takes input data of shape [batch, input_units],\n",
        "        returns output data [batch, output_units]\n",
        "        \"\"\"\n",
        "        # An identity layer just returns whatever it gets as input.\n",
        "        self.input = input\n",
        "        return input\n",
        "\n",
        "    def backward(self, grad_output):\n",
        "        \"\"\"\n",
        "        Performs a backpropagation step through the layer,\n",
        "        with respect to the given input.\n",
        "\n",
        "        To compute loss gradients w.r.t input,\n",
        "        you need to apply chain rule (backprop):\n",
        "\n",
        "        d `loss` / d `input` = (d `loss` / d `layer`) * (d `layer` / d `input`)\n",
        "\n",
        "        Luckily, you already receive d `loss` / d `layer` in argument,\n",
        "        so you only need to multiply it by d `layer` / d `input`.\n",
        "\n",
        "        NB: Sometimes d `layer` / d `input` can be a 3D or even 4D tensor.\n",
        "        So it's better to write down the `loss` differential and extract\n",
        "        d `layer` / d `input` from it so that only 2D tensors were present.\n",
        "\n",
        "        The method returns:\n",
        "        * gradient w.r.t input (will be passed to\n",
        "          previous layer's backward method)\n",
        "        * flattened gradient w.r.t. parameters (with .ravel()\n",
        "          applied to each gradient).\n",
        "          If there are no params, return []\n",
        "        \"\"\"\n",
        "        # The gradient of an identity layer is precisely grad_output\n",
        "        input_dim = self.input.shape[1]\n",
        "\n",
        "        d_layer_d_input = np.eye(input_dim)\n",
        "\n",
        "        return np.dot(grad_output, d_layer_d_input), [] # chain rule"
      ]
    },
    {
      "cell_type": "markdown",
      "metadata": {
        "heading_collapsed": true,
        "hidden": true,
        "id": "LCY4CdH50ZzU"
      },
      "source": [
        "#### `Слой нелинейности ReLU`"
      ]
    },
    {
      "cell_type": "markdown",
      "metadata": {
        "hidden": true,
        "id": "2GqHC7IR0ZzU"
      },
      "source": [
        "Для начала реализуем слой нелинейности $ReLU(y) = \\max(0, y)$. Параметров у слоя нет. Метод `forward` должен вернуть результат поэлементного применения $ReLU$ к входному массиву, метод `backward` — градиент функции потерь по входу слоя. В нуле будем считать производную равной 0. Обратите внимание, что при обратном проходе могут понадобиться величины, посчитанные во время прямого прохода, поэтому их стоит сохранить как атрибут класса."
      ]
    },
    {
      "cell_type": "code",
      "execution_count": 3,
      "metadata": {
        "ExecuteTime": {
          "end_time": "2021-03-03T14:44:48.939926Z",
          "start_time": "2021-03-03T14:44:48.928957Z"
        },
        "hidden": true,
        "id": "YGzr6htW0ZzV"
      },
      "outputs": [],
      "source": [
        "class ReLU:\n",
        "    \"\"\"\n",
        "    Modified code from cs.hse DL course *\n",
        "    \"\"\"\n",
        "    def __init__(self):\n",
        "        \"\"\"ReLU layer simply applies elementwise rectified linear unit to all inputs\"\"\"\n",
        "        self.params = [] # ReLU has no parameters\n",
        "\n",
        "    def forward(self, input):\n",
        "        \"\"\"Apply elementwise ReLU to [batch, num_units] matrix\"\"\"\n",
        "        self.input = input\n",
        "        return np.maximum(0, input)\n",
        "\n",
        "    def backward(self, grad_output):\n",
        "        \"\"\"Compute gradient of loss w.r.t. ReLU input\n",
        "        grad_output shape: [batch, num_units]\n",
        "        output 1 shape: [batch, num_units]\n",
        "        output 2: []\n",
        "        \"\"\"\n",
        "        return grad_output * (self.input > 0), []\n",
        "\n",
        "    def __repr__(self):\n",
        "        return 'Relu()'"
      ]
    },
    {
      "cell_type": "markdown",
      "metadata": {
        "heading_collapsed": true,
        "hidden": true,
        "id": "OMQqLXwc0ZzV"
      },
      "source": [
        "#### `Полносвязный слой`"
      ]
    },
    {
      "cell_type": "markdown",
      "metadata": {
        "hidden": true,
        "id": "QTsDQQVW0ZzV"
      },
      "source": [
        "Далее реализуем полносвязный слой без нелинейности. У слоя два параметра: матрица весов и вектор сдвига.\n",
        "\n",
        "Обратите внимание на второй аргумент: в нем надо возвращать градиент по всем параметрам в одномерном виде. Для этого надо сначала применить `.ravel()` ко всем градиентам, а затем воспользоваться `np.r_`:"
      ]
    },
    {
      "cell_type": "code",
      "execution_count": 4,
      "metadata": {
        "ExecuteTime": {
          "end_time": "2021-03-03T14:44:48.971838Z",
          "start_time": "2021-03-03T14:44:48.943913Z"
        },
        "hidden": true,
        "colab": {
          "base_uri": "https://localhost:8080/"
        },
        "id": "pW01mOWw0ZzV",
        "outputId": "34e05592-ce09-4373-c325-12eeb198e3a8"
      },
      "outputs": [
        {
          "output_type": "execute_result",
          "data": {
            "text/plain": [
              "array([1., 0., 0., 0., 1., 0., 0., 0., 1., 0., 1., 2., 3.])"
            ]
          },
          "metadata": {},
          "execution_count": 4
        }
      ],
      "source": [
        "# example\n",
        "np.r_[np.eye(3).ravel(), np.arange(4)]"
      ]
    },
    {
      "cell_type": "code",
      "execution_count": 5,
      "metadata": {
        "ExecuteTime": {
          "end_time": "2021-03-03T14:44:48.987794Z",
          "start_time": "2021-03-03T14:44:48.975827Z"
        },
        "hidden": true,
        "id": "lYLCrG220ZzX"
      },
      "outputs": [],
      "source": [
        "class Dense:\n",
        "    \"\"\"\n",
        "    Modified code from cs.hse DL course *\n",
        "    \"\"\"\n",
        "    def __init__(self, input_units, output_units):\n",
        "        \"\"\"\n",
        "        A dense layer is a layer which performs a learned affine transformation:\n",
        "        f(x) = x W + b\n",
        "        \"\"\"\n",
        "        # initialize weights with small random numbers from normal distribution\n",
        "        self.weights = np.random.randn(input_units, output_units) * 0.01\n",
        "        self.biases = np.zeros(output_units)\n",
        "        self.params = [self.weights, self.biases]\n",
        "\n",
        "    def forward(self,input):\n",
        "        \"\"\"\n",
        "        Perform an affine transformation:\n",
        "        f(x) = x W + b\n",
        "\n",
        "        input shape: [batch, input_units]\n",
        "        output shape: [batch, output units]\n",
        "        \"\"\"\n",
        "        self.input = input\n",
        "        return np.dot(input, self.weights) + self.biases\n",
        "\n",
        "    def backward(self, grad_output):\n",
        "        \"\"\"\n",
        "        compute gradients\n",
        "        grad_output shape: [batch, output_units]\n",
        "        output shapes: [batch, input_units], [num_params]\n",
        "\n",
        "        hint: use function np.r_\n",
        "        np.r_[np.arange(3), np.arange(3)] = [0, 1, 2, 0, 1, 2]\n",
        "        \"\"\"\n",
        "        grad_input = np.dot(grad_output, self.weights.T)\n",
        "        grad_params = np.r_[np.dot(self.input.T, grad_output).ravel(), np.sum(grad_output, axis=0).ravel()]\n",
        "        return grad_input, grad_params\n",
        "\n",
        "    def __repr__(self):\n",
        "        return f'Dense({self.weights.shape[0]}, {self.weights.shape[1]})'"
      ]
    },
    {
      "cell_type": "markdown",
      "metadata": {
        "heading_collapsed": true,
        "hidden": true,
        "id": "1IyBeadO0ZzX"
      },
      "source": [
        "#### `Проверка градиента`"
      ]
    },
    {
      "cell_type": "markdown",
      "metadata": {
        "hidden": true,
        "id": "Y5EYjhJB0ZzX"
      },
      "source": [
        "Проверим правильность реализации с помощью функции численной проверки градиента. Функция `eval_numerical_gradient` принимает на вход callable объект `f` (функцию от одного аргумента-матрицы) и аргумент `x` и вычисляет приближенный градиент функции `f` в точке `x`."
      ]
    },
    {
      "cell_type": "code",
      "execution_count": 6,
      "metadata": {
        "ExecuteTime": {
          "end_time": "2021-03-03T14:44:49.003751Z",
          "start_time": "2021-03-03T14:44:48.990787Z"
        },
        "hidden": true,
        "id": "V39IAqNf0ZzY"
      },
      "outputs": [],
      "source": [
        "def eval_numerical_gradient(f, x, verbose=False, h=0.00001):\n",
        "    \"\"\"\n",
        "    Evaluates gradient df/dx via finite differences:\n",
        "    df/dx ~ (f(x+h) - f(x-h)) / 2h\n",
        "    Adopted from https://github.com/ddtm/dl-course/\n",
        "    \"\"\"\n",
        "    fx = f(x) # evaluate function value at original point\n",
        "    grad = np.zeros_like(x)\n",
        "    # iterate over all indexes in x\n",
        "    it = np.nditer(x, flags=['multi_index'], op_flags=['readwrite'])\n",
        "    while not it.finished:\n",
        "\n",
        "        # evaluate function at x+h\n",
        "        ix = it.multi_index\n",
        "        oldval = x[ix]\n",
        "        x[ix] = oldval + h # increment by h\n",
        "        fxph = f(x) # evalute f(x + h)\n",
        "        x[ix] = oldval - h\n",
        "        fxmh = f(x) # evaluate f(x - h)\n",
        "        x[ix] = oldval # restore\n",
        "\n",
        "        # compute the partial derivative with centered formula\n",
        "        grad[ix] = (fxph - fxmh) / (2 * h) # the slope\n",
        "        if verbose:\n",
        "            print (ix, grad[ix])\n",
        "        it.iternext() # step to next dimension\n",
        "\n",
        "    return grad"
      ]
    },
    {
      "cell_type": "markdown",
      "metadata": {
        "hidden": true,
        "id": "Zy0pCYhn0ZzY"
      },
      "source": [
        "Вычислите аналитический и численный градиенты по входу слоя ReLU от функции\n",
        "$$ f(y) = \\sum_i y_i, \\quad y = ReLU(x) $$\n",
        "\n",
        "Выпишите аналитический градиент в этой ячейке:\n",
        "\n",
        "$$\\frac{\\partial f}{\\partial x_i}=\\frac{\\partial f}{\\partial y_i}\\frac{\\partial\\,\\mathrm{ReLU}(x_i)}{\\partial x_i}=1\\cdot\\begin{cases}1,&x_i>0,\\\\0,&x_i<0,\\end{cases}\\quad $$\n"
      ]
    },
    {
      "cell_type": "markdown",
      "metadata": {
        "hidden": true,
        "id": "qLTNZ6Z-0ZzY"
      },
      "source": [
        "Следующая ячейка после заполнения должна не выдавать ошибку :)"
      ]
    },
    {
      "cell_type": "code",
      "execution_count": 7,
      "metadata": {
        "ExecuteTime": {
          "end_time": "2021-03-03T14:44:49.034673Z",
          "start_time": "2021-03-03T14:44:49.006744Z"
        },
        "hidden": true,
        "id": "CCpzgkwz0ZzY"
      },
      "outputs": [],
      "source": [
        "relu = ReLU()\n",
        "points = np.linspace(-1, 1, 10*12).reshape([10, 12])\n",
        "\n",
        "activations = relu.forward(points)\n",
        "grads = relu.backward(np.ones_like(activations))[0]\n",
        "numeric_grads = eval_numerical_gradient(lambda x: np.sum(relu.forward(x)), points)\n",
        "\n",
        "assert np.allclose(grads, numeric_grads, rtol=1e-3, atol=0)"
      ]
    },
    {
      "cell_type": "markdown",
      "metadata": {
        "hidden": true,
        "id": "FWWRJxc80ZzZ"
      },
      "source": [
        "Вычислите аналитический и численный градиенты по входу полносвязного слоя от функции\n",
        "$$ f(y) = \\sum_i y_i, \\quad y = W x + b $$\n",
        "\n",
        "Выпишите аналитический градиент в этой ячейке (советуем выписать градиент через дифференциал функции $f$):\n",
        "\n",
        "$$\\frac{\\partial f}{\\partial x_j}=\\frac{\\partial f}{\\partial y_i}\\frac{\\partial (Wx+b)_i}{\\partial x_j}=\\sum_i 1\\cdot W_{ij}=\\sum_i W_{ij}$$\n"
      ]
    },
    {
      "cell_type": "markdown",
      "metadata": {
        "hidden": true,
        "id": "_NDcQBBm0ZzZ"
      },
      "source": [
        "Следующая ячейка после заполнения должна не выдавать ошибку :)"
      ]
    },
    {
      "cell_type": "code",
      "execution_count": 8,
      "metadata": {
        "ExecuteTime": {
          "end_time": "2021-03-03T14:44:49.066624Z",
          "start_time": "2021-03-03T14:44:49.041651Z"
        },
        "hidden": true,
        "id": "wHP8lfKc0ZzZ"
      },
      "outputs": [],
      "source": [
        "linear = Dense(12, 32)\n",
        "points = np.linspace(-1, 1, 10*12).reshape([10, 12])\n",
        "\n",
        "grads = linear.backward(np.ones_like(linear.forward(points)))[0]\n",
        "numeric_grads = eval_numerical_gradient(lambda x: np.sum(linear.forward(x)), points)\n",
        "\n",
        "assert np.allclose(grads, numeric_grads, rtol=1e-3, atol=0)"
      ]
    },
    {
      "cell_type": "markdown",
      "metadata": {
        "heading_collapsed": true,
        "hidden": true,
        "id": "LLj9eNYW0Zza"
      },
      "source": [
        "#### `Реализация softmax-слоя и функции потерь`"
      ]
    },
    {
      "cell_type": "markdown",
      "metadata": {
        "hidden": true,
        "id": "3qLqZj390Zza"
      },
      "source": [
        "Для решения задачи многоклассовой классификации обычно используют $softmax$ в качестве нелинейности на последнем слое, чтобы получить вероятности классов для каждого объекта:\n",
        "$$\\hat y = softmax(x)  = \\left \\{\\frac {\\exp(x^i)}{\\sum_{j=1}^K \\exp(x^j)} \\right \\}_{i=1}^K, \\quad K - \\text{число классов.}$$\n",
        "\n",
        "Здесь за $x^i$ мы обозначаем $i$-ый признак объекта $x$.\n",
        "\n",
        "В качестве функции потерь выберем отрицательный логарифм правдоподобия (по английски: negative log likelihood или NLL)\n",
        "$$L(y, \\hat y) = -\\sum_{i=1}^K y^i \\log \\hat y^i,$$\n",
        "где $y^i = 1$, если объект принадлежит $i$-му классу, и $y^i = 0$ иначе.\n",
        "\n",
        "NLL совпадает с выражением для [кросс-энтропии](https://ru.wikipedia.org/wiki/Перекрёстная_энтропия) (в качестве первого распределения берем вырожденное распределение $y$, в качестве второго — предсказанное распределение $\\hat y$). Очевидно, что эту функцию потерь также можно переписать через индексацию, если через $y$ обозначить класс данного объекта:\n",
        "$$L(y, \\hat y) = - \\log \\hat y_{y}$$\n",
        "\n",
        "В таком виде ее удобно реализовывать."
      ]
    },
    {
      "cell_type": "markdown",
      "metadata": {
        "ExecuteTime": {
          "end_time": "2021-03-03T13:13:02.970075Z",
          "start_time": "2021-03-03T13:13:02.961134Z"
        },
        "hidden": true,
        "id": "hAZ1WJKX0Zza"
      },
      "source": [
        "Для обучения нейронной сети будем оптимизировать эту функцию потерь по параметрам нейронной сети:\n",
        "\n",
        "$$ \\frac1N \\sum_{i=1}^N L(y_i, \\hat y_i) = \\frac1N \\sum_{i=1}^N L(y_i, \\text{NN}(x_i)) \\rightarrow \\min_{w}\\,,$$\n",
        "где за $x_i$ и $y_i$ мы обозначили признаки и таргет $i$-ого объекта обучающей выборки, за $\\text{NN}$ мы обозначили нейронную сеть, которая по признакам объекта $x_i$ выдает распределение вероятностей $\\hat y_i$, за $w$ мы обозначили все веса нейронной сети, а $N$ — это число объектов в обучающей выборке."
      ]
    },
    {
      "cell_type": "markdown",
      "metadata": {
        "hidden": true,
        "id": "Ax49GKR_0Zzb"
      },
      "source": [
        "Реализуйте слой `LogSoftmax` (у этого слоя нет параметров). Метод `forward` должен вычислять логарифм от $softmax$, а метод `backward` — пропускать градиенты. В общем случае в промежуточных вычислениях `backward` получится трехмерный тензор, однако для нашей конкретной функции потерь все вычисления можно реализовать в матричном виде.  Поэтому мы будем предполагать, что аргумент `grad_output` — это матрица, у которой в каждой строке только одно ненулевое значение (не обязательно единица).\n",
        "\n",
        "**Пожелание.** Постарайтесь максимально упростить формулу градиентов, чтобы получился лаконичный и стабильный код. Большие и страшные реализации часто оказываются нестабильными."
      ]
    },
    {
      "cell_type": "code",
      "execution_count": 9,
      "metadata": {
        "ExecuteTime": {
          "end_time": "2021-03-03T14:44:49.272035Z",
          "start_time": "2021-03-03T14:44:49.070612Z"
        },
        "hidden": true,
        "id": "VhUMH3OK0Zzb"
      },
      "outputs": [],
      "source": [
        "from scipy.special import logsumexp\n",
        "# use this function instead of np.log(np.sum(np.exp(...))) because it is more stable"
      ]
    },
    {
      "cell_type": "code",
      "execution_count": 10,
      "metadata": {
        "ExecuteTime": {
          "end_time": "2021-03-03T14:44:49.288035Z",
          "start_time": "2021-03-03T14:44:49.275031Z"
        },
        "hidden": true,
        "id": "dZGA3tip0Zzl"
      },
      "outputs": [],
      "source": [
        "class LogSoftmax:\n",
        "    def __init__(self):\n",
        "        self.params = []\n",
        "\n",
        "    def forward(self, input):\n",
        "        \"\"\"\n",
        "        Applies softmax to each row and then applies component-wise log\n",
        "        Input shape: [batch, num_units]\n",
        "        Output shape: [batch, num_units]\n",
        "        \"\"\"\n",
        "        self.input = input\n",
        "        self.logsoftmax = input - logsumexp(input, axis=1, keepdims=True)\n",
        "        return self.logsoftmax\n",
        "\n",
        "    def backward(self, grad_output):\n",
        "        \"\"\"\n",
        "        Propagartes gradients.\n",
        "        Assumes that each row of grad_output contains only 1\n",
        "        non-zero element\n",
        "        Input shape: [batch, num_units]\n",
        "        Output shape: [batch, num_units]\n",
        "        Do not forget to return [] as second value (grad w.r.t. params)\n",
        "        \"\"\"\n",
        "        return grad_output - np.exp(self.logsoftmax) * np.sum(grad_output, axis=1, keepdims=True), []\n",
        "\n",
        "    def __repr__(self):\n",
        "        return 'LogSoftmax()'"
      ]
    },
    {
      "cell_type": "markdown",
      "metadata": {
        "hidden": true,
        "id": "_Tudvlb90Zzl"
      },
      "source": [
        "Реализуйте функцию потерь и градиенты функции потерь. Во время вычисления NLL усредняйте (а не суммируйте) значения функции потерь по батчу. Обычно так делают для того, чтобы при двух запусках обучения нейронной сети с разными размерами батча получаемые значения функции потерь у этих сетей были сравнимы."
      ]
    },
    {
      "cell_type": "code",
      "execution_count": 11,
      "metadata": {
        "ExecuteTime": {
          "end_time": "2021-03-03T14:44:49.302990Z",
          "start_time": "2021-03-03T14:44:49.290985Z"
        },
        "hidden": true,
        "id": "5_kuiP9B0Zzm"
      },
      "outputs": [],
      "source": [
        "def NLL(activations, target):\n",
        "    \"\"\"\n",
        "    Returns negative log-likelihood of target under model represented by\n",
        "    activations (log probabilities of classes, it's just output of LogSoftmax layer).\n",
        "    `activations` has shape [batch, num_classes], `target` has shape [batch]\n",
        "    Output shape: 1 (scalar).\n",
        "    \"\"\"\n",
        "    return -np.mean(activations[np.arange(activations.shape[0]), target])\n",
        "\n",
        "\n",
        "def grad_NLL(activations, target):\n",
        "    \"\"\"\n",
        "    Returns gradient of negative log-likelihood w.r.t. activations.\n",
        "    each arg has shape [batch, num_classes]\n",
        "    output shape: [batch, num-classes]\n",
        "    \"\"\"\n",
        "    grad = np.zeros_like(activations)\n",
        "    grad[np.arange(activations.shape[0]), target] = -1 / activations.shape[0]\n",
        "    return grad"
      ]
    },
    {
      "cell_type": "markdown",
      "metadata": {
        "hidden": true,
        "id": "mdu5NzOF0Zzm"
      },
      "source": [
        "Наконец, выполните проверку `LogSoftmax`-слоя, используя функцию потерь и ее градиент:"
      ]
    },
    {
      "cell_type": "code",
      "execution_count": 12,
      "metadata": {
        "ExecuteTime": {
          "end_time": "2021-03-03T14:44:49.350863Z",
          "start_time": "2021-03-03T14:44:49.305945Z"
        },
        "hidden": true,
        "id": "bYnPz1Z_0Zzm"
      },
      "outputs": [],
      "source": [
        "n = 50\n",
        "d = 10\n",
        "lsm = LogSoftmax()\n",
        "target = np.random.choice(d, size=n)\n",
        "points = np.random.uniform(-1, 1, n*d).reshape([n, d])\n",
        "\n",
        "activations = lsm.forward(points)\n",
        "\n",
        "grads = lsm.backward(grad_NLL(activations, target))[0]\n",
        "numeric_grads = eval_numerical_gradient(lambda x: NLL(lsm.forward(x.reshape(n, d)), target), points)\n",
        "\n",
        "assert np.allclose(grads, numeric_grads, rtol=1e-3, atol=0)"
      ]
    },
    {
      "cell_type": "markdown",
      "metadata": {
        "heading_collapsed": true,
        "hidden": true,
        "id": "3WVIHPtq0Zzn"
      },
      "source": [
        "### `Загрузка данных`"
      ]
    },
    {
      "cell_type": "markdown",
      "metadata": {
        "hidden": true,
        "id": "XSdimkVy0Zzn"
      },
      "source": [
        "Мы реализаовали все архитектурные составляющие нашей нейронной сети. Осталось загрузить данные и обучить модель. Мы будем работать с датасетом `digits`, каждый объект в котором — это 8x8 изображение рукописной цифры."
      ]
    },
    {
      "cell_type": "code",
      "execution_count": 13,
      "metadata": {
        "ExecuteTime": {
          "end_time": "2021-03-03T14:44:49.872521Z",
          "start_time": "2021-03-03T14:44:49.354818Z"
        },
        "hidden": true,
        "id": "PuyAzVP_0Zzn"
      },
      "outputs": [],
      "source": [
        "import matplotlib.pyplot as plt\n",
        "%matplotlib inline"
      ]
    },
    {
      "cell_type": "code",
      "execution_count": 14,
      "metadata": {
        "ExecuteTime": {
          "end_time": "2021-03-03T14:44:51.700670Z",
          "start_time": "2021-03-03T14:44:49.876510Z"
        },
        "hidden": true,
        "id": "icLYb7L80Zzn"
      },
      "outputs": [],
      "source": [
        "from sklearn.datasets import load_digits"
      ]
    },
    {
      "cell_type": "code",
      "execution_count": 15,
      "metadata": {
        "ExecuteTime": {
          "end_time": "2021-03-03T14:44:51.873771Z",
          "start_time": "2021-03-03T14:44:51.703667Z"
        },
        "hidden": true,
        "id": "CjGkiMZi0Zzo"
      },
      "outputs": [],
      "source": [
        "X, y = load_digits(return_X_y=True)"
      ]
    },
    {
      "cell_type": "code",
      "execution_count": 16,
      "metadata": {
        "ExecuteTime": {
          "end_time": "2021-03-03T14:44:51.889252Z",
          "start_time": "2021-03-03T14:44:51.877326Z"
        },
        "hidden": true,
        "colab": {
          "base_uri": "https://localhost:8080/"
        },
        "id": "rUojFgQX0Zzo",
        "outputId": "a4fa5bae-860d-410f-fe7c-59e020eac44c"
      },
      "outputs": [
        {
          "output_type": "execute_result",
          "data": {
            "text/plain": [
              "((1797, 64), (1797,))"
            ]
          },
          "metadata": {},
          "execution_count": 16
        }
      ],
      "source": [
        "X.shape, y.shape"
      ]
    },
    {
      "cell_type": "markdown",
      "metadata": {
        "hidden": true,
        "id": "rhGO3xYr0Zzo"
      },
      "source": [
        "Разделим данные на обучение и контроль:"
      ]
    },
    {
      "cell_type": "code",
      "execution_count": 17,
      "metadata": {
        "ExecuteTime": {
          "end_time": "2021-03-03T14:44:51.952606Z",
          "start_time": "2021-03-03T14:44:51.892280Z"
        },
        "hidden": true,
        "id": "rJTxvMQ70Zzp"
      },
      "outputs": [],
      "source": [
        "from sklearn.model_selection import train_test_split"
      ]
    },
    {
      "cell_type": "code",
      "execution_count": 18,
      "metadata": {
        "ExecuteTime": {
          "end_time": "2021-03-03T14:44:51.968609Z",
          "start_time": "2021-03-03T14:44:51.955642Z"
        },
        "hidden": true,
        "id": "1JjTTZvu0Zzp"
      },
      "outputs": [],
      "source": [
        "X_train, X_test, y_train, y_test = train_test_split(X, y, random_state=0)"
      ]
    },
    {
      "cell_type": "code",
      "execution_count": 19,
      "metadata": {
        "ExecuteTime": {
          "end_time": "2021-03-03T14:44:52.000485Z",
          "start_time": "2021-03-03T14:44:51.971599Z"
        },
        "hidden": true,
        "colab": {
          "base_uri": "https://localhost:8080/"
        },
        "id": "ZnakqdLV0Zzp",
        "outputId": "73cc4e95-822a-471e-da2f-4c9027bc4dd1"
      },
      "outputs": [
        {
          "output_type": "execute_result",
          "data": {
            "text/plain": [
              "((1347, 64), (450, 64))"
            ]
          },
          "metadata": {},
          "execution_count": 19
        }
      ],
      "source": [
        "X_train.shape, X_test.shape"
      ]
    },
    {
      "cell_type": "markdown",
      "metadata": {
        "heading_collapsed": true,
        "hidden": true,
        "id": "ekJLbV0A0Zzq"
      },
      "source": [
        "### `Сборка и обучение нейронной сети (0.8 балла)`"
      ]
    },
    {
      "cell_type": "markdown",
      "metadata": {
        "hidden": true,
        "id": "mIiKiMA20Zzq"
      },
      "source": [
        "В нашей реализации мы представляем нейронную сеть в виде списка ее слоев. Например, следующая функция конструирует нейронную сеть заданной ширины (то есть с заданным размером скрытых слоев) и глубины (то есть с заданным количеством слоев) с заданным размером входа и выхода, а также с заданной функцией активации между линейными слоями."
      ]
    },
    {
      "cell_type": "code",
      "execution_count": 20,
      "metadata": {
        "ExecuteTime": {
          "end_time": "2021-03-03T14:44:52.016442Z",
          "start_time": "2021-03-03T14:44:52.003513Z"
        },
        "hidden": true,
        "id": "ILZdvh-x0Zzr"
      },
      "outputs": [],
      "source": [
        "def make_network(input_size, hidden_layers_size, output_size, n_layers=3, activation_class=ReLU):\n",
        "    network = []\n",
        "\n",
        "    for layer_idx in range(n_layers):\n",
        "        # Compute sizes of current linear layer\n",
        "        layer_in = input_size if layer_idx == 0 else hidden_layers_size\n",
        "        layer_out = output_size if layer_idx == n_layers - 1 else hidden_layers_size\n",
        "\n",
        "        # Add linear layer to the network\n",
        "        network.append(Dense(layer_in, layer_out))\n",
        "\n",
        "        # Add activation after each layer except the last one\n",
        "        if layer_idx != n_layers - 1:\n",
        "            network.append(activation_class())\n",
        "\n",
        "    # Add LogSoftmax layer to the network\n",
        "    network.append(LogSoftmax())\n",
        "\n",
        "    return network"
      ]
    },
    {
      "cell_type": "code",
      "execution_count": 21,
      "metadata": {
        "ExecuteTime": {
          "end_time": "2021-03-03T14:44:52.048395Z",
          "start_time": "2021-03-03T14:44:52.020431Z"
        },
        "hidden": true,
        "colab": {
          "base_uri": "https://localhost:8080/"
        },
        "id": "AWQq99KE0Zzr",
        "outputId": "0e8b1b6e-719f-4b6b-e0a7-11a5dcc7f2f5"
      },
      "outputs": [
        {
          "output_type": "execute_result",
          "data": {
            "text/plain": [
              "[Dense(64, 32), Relu(), Dense(32, 32), Relu(), Dense(32, 10), LogSoftmax()]"
            ]
          },
          "metadata": {},
          "execution_count": 21
        }
      ],
      "source": [
        "input_size = X_train.shape[1]\n",
        "hidden_layers_size = 32\n",
        "output_size = 10\n",
        "\n",
        "network = make_network(input_size, hidden_layers_size, output_size, 3, ReLU)\n",
        "network"
      ]
    },
    {
      "cell_type": "markdown",
      "metadata": {
        "hidden": true,
        "id": "qBp1n1R70Zzr"
      },
      "source": [
        "Реализуйте функцию, которая выполнет прямой проход по нейронной сети:"
      ]
    },
    {
      "cell_type": "code",
      "execution_count": 22,
      "metadata": {
        "ExecuteTime": {
          "end_time": "2021-03-03T14:44:52.063319Z",
          "start_time": "2021-03-03T14:44:52.051386Z"
        },
        "hidden": true,
        "id": "_vRTRVzX0Zzs"
      },
      "outputs": [],
      "source": [
        "def forward(network, X):\n",
        "    \"\"\"\n",
        "    Perform forward pass through the network.\n",
        "\n",
        "    network: list of layers\n",
        "    X: raw data\n",
        "    X shape: [batch, features_num]\n",
        "\n",
        "    output:\n",
        "    output shape: [batch, out_features_num]\n",
        "    \"\"\"\n",
        "    output = X\n",
        "    for layer in network:\n",
        "        output = layer.forward(output)\n",
        "    return output"
      ]
    },
    {
      "cell_type": "markdown",
      "metadata": {
        "hidden": true,
        "id": "zDodGQL30Zzs"
      },
      "source": [
        "Для проверки, хорошо ли сеть обучилась, нам понадобится вычислять долю правильных ответов (accuracy) на данной выборке. Для этого реализуйте функцию, которая делает предсказания на каждом объекте (логично в качестве предсказания на очередном объекте выдавать тот класс, для которого предсказанный логарифм вероятности максимален):"
      ]
    },
    {
      "cell_type": "code",
      "execution_count": 23,
      "metadata": {
        "ExecuteTime": {
          "end_time": "2021-03-03T14:44:52.063319Z",
          "start_time": "2021-03-03T14:44:52.051386Z"
        },
        "hidden": true,
        "id": "zcPjbKH00Zzs"
      },
      "outputs": [],
      "source": [
        "def predict(network, X):\n",
        "    \"\"\"\n",
        "    Returns predictions for each object in X.\n",
        "\n",
        "    network: list of layers\n",
        "    X: raw data\n",
        "    X shape: [batch, features_num]\n",
        "\n",
        "    output: array of classes, each from 0 to 9\n",
        "    output shape: [batch]\n",
        "    \"\"\"\n",
        "    predictions = np.argmax(forward(network, X), axis=1)\n",
        "    return predictions"
      ]
    },
    {
      "cell_type": "markdown",
      "metadata": {
        "hidden": true,
        "id": "3M1RCY9z0Zzt"
      },
      "source": [
        "Мы будем обучать параметры нейросети с помощью готовой функции оптимизации из модуля `scipy`:"
      ]
    },
    {
      "cell_type": "code",
      "execution_count": 24,
      "metadata": {
        "ExecuteTime": {
          "end_time": "2021-03-03T14:44:52.079311Z",
          "start_time": "2021-03-03T14:44:52.070308Z"
        },
        "hidden": true,
        "id": "CFP1aYvp0Zzt"
      },
      "outputs": [],
      "source": [
        "from scipy.optimize import minimize"
      ]
    },
    {
      "cell_type": "code",
      "execution_count": 25,
      "metadata": {
        "ExecuteTime": {
          "end_time": "2021-03-03T14:44:52.111226Z",
          "start_time": "2021-03-03T14:44:52.085292Z"
        },
        "hidden": true,
        "scrolled": true,
        "colab": {
          "base_uri": "https://localhost:8080/"
        },
        "id": "X4tmx6iW0Zzt",
        "outputId": "52adc160-32d3-4f8e-ca4f-bb4f3f192c1a"
      },
      "outputs": [
        {
          "output_type": "stream",
          "name": "stdout",
          "text": [
            "Help on function minimize in module scipy.optimize._minimize:\n",
            "\n",
            "minimize(fun, x0, args=(), method=None, jac=None, hess=None, hessp=None, bounds=None, constraints=(), tol=None, callback=None, options=None)\n",
            "    Minimization of scalar function of one or more variables.\n",
            "    \n",
            "    Parameters\n",
            "    ----------\n",
            "    fun : callable\n",
            "        The objective function to be minimized.\n",
            "    \n",
            "            ``fun(x, *args) -> float``\n",
            "    \n",
            "        where ``x`` is a 1-D array with shape (n,) and ``args``\n",
            "        is a tuple of the fixed parameters needed to completely\n",
            "        specify the function.\n",
            "    x0 : ndarray, shape (n,)\n",
            "        Initial guess. Array of real elements of size (n,),\n",
            "        where ``n`` is the number of independent variables.\n",
            "    args : tuple, optional\n",
            "        Extra arguments passed to the objective function and its\n",
            "        derivatives (`fun`, `jac` and `hess` functions).\n",
            "    method : str or callable, optional\n",
            "        Type of solver.  Should be one of\n",
            "    \n",
            "            - 'Nelder-Mead' :ref:`(see here) <optimize.minimize-neldermead>`\n",
            "            - 'Powell'      :ref:`(see here) <optimize.minimize-powell>`\n",
            "            - 'CG'          :ref:`(see here) <optimize.minimize-cg>`\n",
            "            - 'BFGS'        :ref:`(see here) <optimize.minimize-bfgs>`\n",
            "            - 'Newton-CG'   :ref:`(see here) <optimize.minimize-newtoncg>`\n",
            "            - 'L-BFGS-B'    :ref:`(see here) <optimize.minimize-lbfgsb>`\n",
            "            - 'TNC'         :ref:`(see here) <optimize.minimize-tnc>`\n",
            "            - 'COBYLA'      :ref:`(see here) <optimize.minimize-cobyla>`\n",
            "            - 'SLSQP'       :ref:`(see here) <optimize.minimize-slsqp>`\n",
            "            - 'trust-constr':ref:`(see here) <optimize.minimize-trustconstr>`\n",
            "            - 'dogleg'      :ref:`(see here) <optimize.minimize-dogleg>`\n",
            "            - 'trust-ncg'   :ref:`(see here) <optimize.minimize-trustncg>`\n",
            "            - 'trust-exact' :ref:`(see here) <optimize.minimize-trustexact>`\n",
            "            - 'trust-krylov' :ref:`(see here) <optimize.minimize-trustkrylov>`\n",
            "            - custom - a callable object, see below for description.\n",
            "    \n",
            "        If not given, chosen to be one of ``BFGS``, ``L-BFGS-B``, ``SLSQP``,\n",
            "        depending on whether or not the problem has constraints or bounds.\n",
            "    jac : {callable,  '2-point', '3-point', 'cs', bool}, optional\n",
            "        Method for computing the gradient vector. Only for CG, BFGS,\n",
            "        Newton-CG, L-BFGS-B, TNC, SLSQP, dogleg, trust-ncg, trust-krylov,\n",
            "        trust-exact and trust-constr.\n",
            "        If it is a callable, it should be a function that returns the gradient\n",
            "        vector:\n",
            "    \n",
            "            ``jac(x, *args) -> array_like, shape (n,)``\n",
            "    \n",
            "        where ``x`` is an array with shape (n,) and ``args`` is a tuple with\n",
            "        the fixed parameters. If `jac` is a Boolean and is True, `fun` is\n",
            "        assumed to return a tuple ``(f, g)`` containing the objective\n",
            "        function and the gradient.\n",
            "        Methods 'Newton-CG', 'trust-ncg', 'dogleg', 'trust-exact', and\n",
            "        'trust-krylov' require that either a callable be supplied, or that\n",
            "        `fun` return the objective and gradient.\n",
            "        If None or False, the gradient will be estimated using 2-point finite\n",
            "        difference estimation with an absolute step size.\n",
            "        Alternatively, the keywords  {'2-point', '3-point', 'cs'} can be used\n",
            "        to select a finite difference scheme for numerical estimation of the\n",
            "        gradient with a relative step size. These finite difference schemes\n",
            "        obey any specified `bounds`.\n",
            "    hess : {callable, '2-point', '3-point', 'cs', HessianUpdateStrategy}, optional\n",
            "        Method for computing the Hessian matrix. Only for Newton-CG, dogleg,\n",
            "        trust-ncg, trust-krylov, trust-exact and trust-constr.\n",
            "        If it is callable, it should return the Hessian matrix:\n",
            "    \n",
            "            ``hess(x, *args) -> {LinearOperator, spmatrix, array}, (n, n)``\n",
            "    \n",
            "        where ``x`` is a (n,) ndarray and ``args`` is a tuple with the fixed\n",
            "        parameters.\n",
            "        The keywords {'2-point', '3-point', 'cs'} can also be used to select\n",
            "        a finite difference scheme for numerical estimation of the hessian.\n",
            "        Alternatively, objects implementing the `HessianUpdateStrategy`\n",
            "        interface can be used to approximate the Hessian. Available\n",
            "        quasi-Newton methods implementing this interface are:\n",
            "    \n",
            "            - `BFGS`;\n",
            "            - `SR1`.\n",
            "    \n",
            "        Not all of the options are available for each of the methods; for\n",
            "        availability refer to the notes.\n",
            "    hessp : callable, optional\n",
            "        Hessian of objective function times an arbitrary vector p. Only for\n",
            "        Newton-CG, trust-ncg, trust-krylov, trust-constr.\n",
            "        Only one of `hessp` or `hess` needs to be given. If `hess` is\n",
            "        provided, then `hessp` will be ignored. `hessp` must compute the\n",
            "        Hessian times an arbitrary vector:\n",
            "    \n",
            "            ``hessp(x, p, *args) ->  ndarray shape (n,)``\n",
            "    \n",
            "        where ``x`` is a (n,) ndarray, ``p`` is an arbitrary vector with\n",
            "        dimension (n,) and ``args`` is a tuple with the fixed\n",
            "        parameters.\n",
            "    bounds : sequence or `Bounds`, optional\n",
            "        Bounds on variables for Nelder-Mead, L-BFGS-B, TNC, SLSQP, Powell,\n",
            "        trust-constr, and COBYLA methods. There are two ways to specify the\n",
            "        bounds:\n",
            "    \n",
            "            1. Instance of `Bounds` class.\n",
            "            2. Sequence of ``(min, max)`` pairs for each element in `x`. None\n",
            "               is used to specify no bound.\n",
            "    \n",
            "    constraints : {Constraint, dict} or List of {Constraint, dict}, optional\n",
            "        Constraints definition. Only for COBYLA, SLSQP and trust-constr.\n",
            "    \n",
            "        Constraints for 'trust-constr' are defined as a single object or a\n",
            "        list of objects specifying constraints to the optimization problem.\n",
            "        Available constraints are:\n",
            "    \n",
            "            - `LinearConstraint`\n",
            "            - `NonlinearConstraint`\n",
            "    \n",
            "        Constraints for COBYLA, SLSQP are defined as a list of dictionaries.\n",
            "        Each dictionary with fields:\n",
            "    \n",
            "            type : str\n",
            "                Constraint type: 'eq' for equality, 'ineq' for inequality.\n",
            "            fun : callable\n",
            "                The function defining the constraint.\n",
            "            jac : callable, optional\n",
            "                The Jacobian of `fun` (only for SLSQP).\n",
            "            args : sequence, optional\n",
            "                Extra arguments to be passed to the function and Jacobian.\n",
            "    \n",
            "        Equality constraint means that the constraint function result is to\n",
            "        be zero whereas inequality means that it is to be non-negative.\n",
            "        Note that COBYLA only supports inequality constraints.\n",
            "    tol : float, optional\n",
            "        Tolerance for termination. When `tol` is specified, the selected\n",
            "        minimization algorithm sets some relevant solver-specific tolerance(s)\n",
            "        equal to `tol`. For detailed control, use solver-specific\n",
            "        options.\n",
            "    options : dict, optional\n",
            "        A dictionary of solver options. All methods except `TNC` accept the\n",
            "        following generic options:\n",
            "    \n",
            "            maxiter : int\n",
            "                Maximum number of iterations to perform. Depending on the\n",
            "                method each iteration may use several function evaluations.\n",
            "    \n",
            "                For `TNC` use `maxfun` instead of `maxiter`.\n",
            "            disp : bool\n",
            "                Set to True to print convergence messages.\n",
            "    \n",
            "        For method-specific options, see :func:`show_options()`.\n",
            "    callback : callable, optional\n",
            "        A callable called after each iteration.\n",
            "    \n",
            "        All methods except TNC, SLSQP, and COBYLA support a callable with\n",
            "        the signature:\n",
            "    \n",
            "            ``callback(intermediate_result: OptimizeResult)``\n",
            "    \n",
            "        where ``intermediate_result`` is a keyword parameter containing an\n",
            "        `OptimizeResult` with attributes ``x`` and ``fun``, the present values\n",
            "        of the parameter vector and objective function. Note that the name\n",
            "        of the parameter must be ``intermediate_result`` for the callback\n",
            "        to be passed an `OptimizeResult`. These methods will also terminate if\n",
            "        the callback raises ``StopIteration``.\n",
            "    \n",
            "        All methods except trust-constr (also) support a signature like:\n",
            "    \n",
            "            ``callback(xk)``\n",
            "    \n",
            "        where ``xk`` is the current parameter vector.\n",
            "    \n",
            "        Introspection is used to determine which of the signatures above to\n",
            "        invoke.\n",
            "    \n",
            "    Returns\n",
            "    -------\n",
            "    res : OptimizeResult\n",
            "        The optimization result represented as a ``OptimizeResult`` object.\n",
            "        Important attributes are: ``x`` the solution array, ``success`` a\n",
            "        Boolean flag indicating if the optimizer exited successfully and\n",
            "        ``message`` which describes the cause of the termination. See\n",
            "        `OptimizeResult` for a description of other attributes.\n",
            "    \n",
            "    See also\n",
            "    --------\n",
            "    minimize_scalar : Interface to minimization algorithms for scalar\n",
            "        univariate functions\n",
            "    show_options : Additional options accepted by the solvers\n",
            "    \n",
            "    Notes\n",
            "    -----\n",
            "    This section describes the available solvers that can be selected by the\n",
            "    'method' parameter. The default method is *BFGS*.\n",
            "    \n",
            "    **Unconstrained minimization**\n",
            "    \n",
            "    Method :ref:`CG <optimize.minimize-cg>` uses a nonlinear conjugate\n",
            "    gradient algorithm by Polak and Ribiere, a variant of the\n",
            "    Fletcher-Reeves method described in [5]_ pp.120-122. Only the\n",
            "    first derivatives are used.\n",
            "    \n",
            "    Method :ref:`BFGS <optimize.minimize-bfgs>` uses the quasi-Newton\n",
            "    method of Broyden, Fletcher, Goldfarb, and Shanno (BFGS) [5]_\n",
            "    pp. 136. It uses the first derivatives only. BFGS has proven good\n",
            "    performance even for non-smooth optimizations. This method also\n",
            "    returns an approximation of the Hessian inverse, stored as\n",
            "    `hess_inv` in the OptimizeResult object.\n",
            "    \n",
            "    Method :ref:`Newton-CG <optimize.minimize-newtoncg>` uses a\n",
            "    Newton-CG algorithm [5]_ pp. 168 (also known as the truncated\n",
            "    Newton method). It uses a CG method to the compute the search\n",
            "    direction. See also *TNC* method for a box-constrained\n",
            "    minimization with a similar algorithm. Suitable for large-scale\n",
            "    problems.\n",
            "    \n",
            "    Method :ref:`dogleg <optimize.minimize-dogleg>` uses the dog-leg\n",
            "    trust-region algorithm [5]_ for unconstrained minimization. This\n",
            "    algorithm requires the gradient and Hessian; furthermore the\n",
            "    Hessian is required to be positive definite.\n",
            "    \n",
            "    Method :ref:`trust-ncg <optimize.minimize-trustncg>` uses the\n",
            "    Newton conjugate gradient trust-region algorithm [5]_ for\n",
            "    unconstrained minimization. This algorithm requires the gradient\n",
            "    and either the Hessian or a function that computes the product of\n",
            "    the Hessian with a given vector. Suitable for large-scale problems.\n",
            "    \n",
            "    Method :ref:`trust-krylov <optimize.minimize-trustkrylov>` uses\n",
            "    the Newton GLTR trust-region algorithm [14]_, [15]_ for unconstrained\n",
            "    minimization. This algorithm requires the gradient\n",
            "    and either the Hessian or a function that computes the product of\n",
            "    the Hessian with a given vector. Suitable for large-scale problems.\n",
            "    On indefinite problems it requires usually less iterations than the\n",
            "    `trust-ncg` method and is recommended for medium and large-scale problems.\n",
            "    \n",
            "    Method :ref:`trust-exact <optimize.minimize-trustexact>`\n",
            "    is a trust-region method for unconstrained minimization in which\n",
            "    quadratic subproblems are solved almost exactly [13]_. This\n",
            "    algorithm requires the gradient and the Hessian (which is\n",
            "    *not* required to be positive definite). It is, in many\n",
            "    situations, the Newton method to converge in fewer iterations\n",
            "    and the most recommended for small and medium-size problems.\n",
            "    \n",
            "    **Bound-Constrained minimization**\n",
            "    \n",
            "    Method :ref:`Nelder-Mead <optimize.minimize-neldermead>` uses the\n",
            "    Simplex algorithm [1]_, [2]_. This algorithm is robust in many\n",
            "    applications. However, if numerical computation of derivative can be\n",
            "    trusted, other algorithms using the first and/or second derivatives\n",
            "    information might be preferred for their better performance in\n",
            "    general.\n",
            "    \n",
            "    Method :ref:`L-BFGS-B <optimize.minimize-lbfgsb>` uses the L-BFGS-B\n",
            "    algorithm [6]_, [7]_ for bound constrained minimization.\n",
            "    \n",
            "    Method :ref:`Powell <optimize.minimize-powell>` is a modification\n",
            "    of Powell's method [3]_, [4]_ which is a conjugate direction\n",
            "    method. It performs sequential one-dimensional minimizations along\n",
            "    each vector of the directions set (`direc` field in `options` and\n",
            "    `info`), which is updated at each iteration of the main\n",
            "    minimization loop. The function need not be differentiable, and no\n",
            "    derivatives are taken. If bounds are not provided, then an\n",
            "    unbounded line search will be used. If bounds are provided and\n",
            "    the initial guess is within the bounds, then every function\n",
            "    evaluation throughout the minimization procedure will be within\n",
            "    the bounds. If bounds are provided, the initial guess is outside\n",
            "    the bounds, and `direc` is full rank (default has full rank), then\n",
            "    some function evaluations during the first iteration may be\n",
            "    outside the bounds, but every function evaluation after the first\n",
            "    iteration will be within the bounds. If `direc` is not full rank,\n",
            "    then some parameters may not be optimized and the solution is not\n",
            "    guaranteed to be within the bounds.\n",
            "    \n",
            "    Method :ref:`TNC <optimize.minimize-tnc>` uses a truncated Newton\n",
            "    algorithm [5]_, [8]_ to minimize a function with variables subject\n",
            "    to bounds. This algorithm uses gradient information; it is also\n",
            "    called Newton Conjugate-Gradient. It differs from the *Newton-CG*\n",
            "    method described above as it wraps a C implementation and allows\n",
            "    each variable to be given upper and lower bounds.\n",
            "    \n",
            "    **Constrained Minimization**\n",
            "    \n",
            "    Method :ref:`COBYLA <optimize.minimize-cobyla>` uses the\n",
            "    Constrained Optimization BY Linear Approximation (COBYLA) method\n",
            "    [9]_, [10]_, [11]_. The algorithm is based on linear\n",
            "    approximations to the objective function and each constraint. The\n",
            "    method wraps a FORTRAN implementation of the algorithm. The\n",
            "    constraints functions 'fun' may return either a single number\n",
            "    or an array or list of numbers.\n",
            "    \n",
            "    Method :ref:`SLSQP <optimize.minimize-slsqp>` uses Sequential\n",
            "    Least SQuares Programming to minimize a function of several\n",
            "    variables with any combination of bounds, equality and inequality\n",
            "    constraints. The method wraps the SLSQP Optimization subroutine\n",
            "    originally implemented by Dieter Kraft [12]_. Note that the\n",
            "    wrapper handles infinite values in bounds by converting them into\n",
            "    large floating values.\n",
            "    \n",
            "    Method :ref:`trust-constr <optimize.minimize-trustconstr>` is a\n",
            "    trust-region algorithm for constrained optimization. It switches\n",
            "    between two implementations depending on the problem definition.\n",
            "    It is the most versatile constrained minimization algorithm\n",
            "    implemented in SciPy and the most appropriate for large-scale problems.\n",
            "    For equality constrained problems it is an implementation of Byrd-Omojokun\n",
            "    Trust-Region SQP method described in [17]_ and in [5]_, p. 549. When\n",
            "    inequality constraints are imposed as well, it switches to the trust-region\n",
            "    interior point method described in [16]_. This interior point algorithm,\n",
            "    in turn, solves inequality constraints by introducing slack variables\n",
            "    and solving a sequence of equality-constrained barrier problems\n",
            "    for progressively smaller values of the barrier parameter.\n",
            "    The previously described equality constrained SQP method is\n",
            "    used to solve the subproblems with increasing levels of accuracy\n",
            "    as the iterate gets closer to a solution.\n",
            "    \n",
            "    **Finite-Difference Options**\n",
            "    \n",
            "    For Method :ref:`trust-constr <optimize.minimize-trustconstr>`\n",
            "    the gradient and the Hessian may be approximated using\n",
            "    three finite-difference schemes: {'2-point', '3-point', 'cs'}.\n",
            "    The scheme 'cs' is, potentially, the most accurate but it\n",
            "    requires the function to correctly handle complex inputs and to\n",
            "    be differentiable in the complex plane. The scheme '3-point' is more\n",
            "    accurate than '2-point' but requires twice as many operations. If the\n",
            "    gradient is estimated via finite-differences the Hessian must be\n",
            "    estimated using one of the quasi-Newton strategies.\n",
            "    \n",
            "    **Method specific options for the** `hess` **keyword**\n",
            "    \n",
            "    +--------------+------+----------+-------------------------+-----+\n",
            "    | method/Hess  | None | callable | '2-point/'3-point'/'cs' | HUS |\n",
            "    +==============+======+==========+=========================+=====+\n",
            "    | Newton-CG    | x    | (n, n)   | x                       | x   |\n",
            "    |              |      | LO       |                         |     |\n",
            "    +--------------+------+----------+-------------------------+-----+\n",
            "    | dogleg       |      | (n, n)   |                         |     |\n",
            "    +--------------+------+----------+-------------------------+-----+\n",
            "    | trust-ncg    |      | (n, n)   | x                       | x   |\n",
            "    +--------------+------+----------+-------------------------+-----+\n",
            "    | trust-krylov |      | (n, n)   | x                       | x   |\n",
            "    +--------------+------+----------+-------------------------+-----+\n",
            "    | trust-exact  |      | (n, n)   |                         |     |\n",
            "    +--------------+------+----------+-------------------------+-----+\n",
            "    | trust-constr | x    | (n, n)   |  x                      | x   |\n",
            "    |              |      | LO       |                         |     |\n",
            "    |              |      | sp       |                         |     |\n",
            "    +--------------+------+----------+-------------------------+-----+\n",
            "    \n",
            "    where LO=LinearOperator, sp=Sparse matrix, HUS=HessianUpdateStrategy\n",
            "    \n",
            "    **Custom minimizers**\n",
            "    \n",
            "    It may be useful to pass a custom minimization method, for example\n",
            "    when using a frontend to this method such as `scipy.optimize.basinhopping`\n",
            "    or a different library.  You can simply pass a callable as the ``method``\n",
            "    parameter.\n",
            "    \n",
            "    The callable is called as ``method(fun, x0, args, **kwargs, **options)``\n",
            "    where ``kwargs`` corresponds to any other parameters passed to `minimize`\n",
            "    (such as `callback`, `hess`, etc.), except the `options` dict, which has\n",
            "    its contents also passed as `method` parameters pair by pair.  Also, if\n",
            "    `jac` has been passed as a bool type, `jac` and `fun` are mangled so that\n",
            "    `fun` returns just the function values and `jac` is converted to a function\n",
            "    returning the Jacobian.  The method shall return an `OptimizeResult`\n",
            "    object.\n",
            "    \n",
            "    The provided `method` callable must be able to accept (and possibly ignore)\n",
            "    arbitrary parameters; the set of parameters accepted by `minimize` may\n",
            "    expand in future versions and then these parameters will be passed to\n",
            "    the method.  You can find an example in the scipy.optimize tutorial.\n",
            "    \n",
            "    References\n",
            "    ----------\n",
            "    .. [1] Nelder, J A, and R Mead. 1965. A Simplex Method for Function\n",
            "        Minimization. The Computer Journal 7: 308-13.\n",
            "    .. [2] Wright M H. 1996. Direct search methods: Once scorned, now\n",
            "        respectable, in Numerical Analysis 1995: Proceedings of the 1995\n",
            "        Dundee Biennial Conference in Numerical Analysis (Eds. D F\n",
            "        Griffiths and G A Watson). Addison Wesley Longman, Harlow, UK.\n",
            "        191-208.\n",
            "    .. [3] Powell, M J D. 1964. An efficient method for finding the minimum of\n",
            "       a function of several variables without calculating derivatives. The\n",
            "       Computer Journal 7: 155-162.\n",
            "    .. [4] Press W, S A Teukolsky, W T Vetterling and B P Flannery.\n",
            "       Numerical Recipes (any edition), Cambridge University Press.\n",
            "    .. [5] Nocedal, J, and S J Wright. 2006. Numerical Optimization.\n",
            "       Springer New York.\n",
            "    .. [6] Byrd, R H and P Lu and J. Nocedal. 1995. A Limited Memory\n",
            "       Algorithm for Bound Constrained Optimization. SIAM Journal on\n",
            "       Scientific and Statistical Computing 16 (5): 1190-1208.\n",
            "    .. [7] Zhu, C and R H Byrd and J Nocedal. 1997. L-BFGS-B: Algorithm\n",
            "       778: L-BFGS-B, FORTRAN routines for large scale bound constrained\n",
            "       optimization. ACM Transactions on Mathematical Software 23 (4):\n",
            "       550-560.\n",
            "    .. [8] Nash, S G. Newton-Type Minimization Via the Lanczos Method.\n",
            "       1984. SIAM Journal of Numerical Analysis 21: 770-778.\n",
            "    .. [9] Powell, M J D. A direct search optimization method that models\n",
            "       the objective and constraint functions by linear interpolation.\n",
            "       1994. Advances in Optimization and Numerical Analysis, eds. S. Gomez\n",
            "       and J-P Hennart, Kluwer Academic (Dordrecht), 51-67.\n",
            "    .. [10] Powell M J D. Direct search algorithms for optimization\n",
            "       calculations. 1998. Acta Numerica 7: 287-336.\n",
            "    .. [11] Powell M J D. A view of algorithms for optimization without\n",
            "       derivatives. 2007.Cambridge University Technical Report DAMTP\n",
            "       2007/NA03\n",
            "    .. [12] Kraft, D. A software package for sequential quadratic\n",
            "       programming. 1988. Tech. Rep. DFVLR-FB 88-28, DLR German Aerospace\n",
            "       Center -- Institute for Flight Mechanics, Koln, Germany.\n",
            "    .. [13] Conn, A. R., Gould, N. I., and Toint, P. L.\n",
            "       Trust region methods. 2000. Siam. pp. 169-200.\n",
            "    .. [14] F. Lenders, C. Kirches, A. Potschka: \"trlib: A vector-free\n",
            "       implementation of the GLTR method for iterative solution of\n",
            "       the trust region problem\", :arxiv:`1611.04718`\n",
            "    .. [15] N. Gould, S. Lucidi, M. Roma, P. Toint: \"Solving the\n",
            "       Trust-Region Subproblem using the Lanczos Method\",\n",
            "       SIAM J. Optim., 9(2), 504--525, (1999).\n",
            "    .. [16] Byrd, Richard H., Mary E. Hribar, and Jorge Nocedal. 1999.\n",
            "        An interior point algorithm for large-scale nonlinear  programming.\n",
            "        SIAM Journal on Optimization 9.4: 877-900.\n",
            "    .. [17] Lalee, Marucha, Jorge Nocedal, and Todd Plantega. 1998. On the\n",
            "        implementation of an algorithm for large-scale equality constrained\n",
            "        optimization. SIAM Journal on Optimization 8.3: 682-706.\n",
            "    \n",
            "    Examples\n",
            "    --------\n",
            "    Let us consider the problem of minimizing the Rosenbrock function. This\n",
            "    function (and its respective derivatives) is implemented in `rosen`\n",
            "    (resp. `rosen_der`, `rosen_hess`) in the `scipy.optimize`.\n",
            "    \n",
            "    >>> from scipy.optimize import minimize, rosen, rosen_der\n",
            "    \n",
            "    A simple application of the *Nelder-Mead* method is:\n",
            "    \n",
            "    >>> x0 = [1.3, 0.7, 0.8, 1.9, 1.2]\n",
            "    >>> res = minimize(rosen, x0, method='Nelder-Mead', tol=1e-6)\n",
            "    >>> res.x\n",
            "    array([ 1.,  1.,  1.,  1.,  1.])\n",
            "    \n",
            "    Now using the *BFGS* algorithm, using the first derivative and a few\n",
            "    options:\n",
            "    \n",
            "    >>> res = minimize(rosen, x0, method='BFGS', jac=rosen_der,\n",
            "    ...                options={'gtol': 1e-6, 'disp': True})\n",
            "    Optimization terminated successfully.\n",
            "             Current function value: 0.000000\n",
            "             Iterations: 26\n",
            "             Function evaluations: 31\n",
            "             Gradient evaluations: 31\n",
            "    >>> res.x\n",
            "    array([ 1.,  1.,  1.,  1.,  1.])\n",
            "    >>> print(res.message)\n",
            "    Optimization terminated successfully.\n",
            "    >>> res.hess_inv\n",
            "    array([\n",
            "        [ 0.00749589,  0.01255155,  0.02396251,  0.04750988,  0.09495377],  # may vary\n",
            "        [ 0.01255155,  0.02510441,  0.04794055,  0.09502834,  0.18996269],\n",
            "        [ 0.02396251,  0.04794055,  0.09631614,  0.19092151,  0.38165151],\n",
            "        [ 0.04750988,  0.09502834,  0.19092151,  0.38341252,  0.7664427 ],\n",
            "        [ 0.09495377,  0.18996269,  0.38165151,  0.7664427,   1.53713523]\n",
            "    ])\n",
            "    \n",
            "    \n",
            "    Next, consider a minimization problem with several constraints (namely\n",
            "    Example 16.4 from [5]_). The objective function is:\n",
            "    \n",
            "    >>> fun = lambda x: (x[0] - 1)**2 + (x[1] - 2.5)**2\n",
            "    \n",
            "    There are three constraints defined as:\n",
            "    \n",
            "    >>> cons = ({'type': 'ineq', 'fun': lambda x:  x[0] - 2 * x[1] + 2},\n",
            "    ...         {'type': 'ineq', 'fun': lambda x: -x[0] - 2 * x[1] + 6},\n",
            "    ...         {'type': 'ineq', 'fun': lambda x: -x[0] + 2 * x[1] + 2})\n",
            "    \n",
            "    And variables must be positive, hence the following bounds:\n",
            "    \n",
            "    >>> bnds = ((0, None), (0, None))\n",
            "    \n",
            "    The optimization problem is solved using the SLSQP method as:\n",
            "    \n",
            "    >>> res = minimize(fun, (2, 0), method='SLSQP', bounds=bnds,\n",
            "    ...                constraints=cons)\n",
            "    \n",
            "    It should converge to the theoretical solution (1.4 ,1.7).\n",
            "\n"
          ]
        }
      ],
      "source": [
        "help(minimize)"
      ]
    },
    {
      "cell_type": "markdown",
      "metadata": {
        "hidden": true,
        "id": "T3wJFNoa0Zzu"
      },
      "source": [
        "Эта функция имеет стандартный интерфейс: нужно передать callable объект, который вычисляет значение и градиент целевой функции, а также точку старта оптимизации — начальное приближение (одномерный `numpy`-массив). Поэтому нам понадобятся функции для сбора и задания всех весов нашей нейросети (именно для них мы всегда записывали параметры слоя в список `layer.params`)"
      ]
    },
    {
      "cell_type": "code",
      "execution_count": 26,
      "metadata": {
        "ExecuteTime": {
          "end_time": "2021-03-03T14:44:52.127145Z",
          "start_time": "2021-03-03T14:44:52.114180Z"
        },
        "hidden": true,
        "id": "uu-wOgr70Zzu"
      },
      "outputs": [],
      "source": [
        "def get_weights(network):\n",
        "    weights = []\n",
        "    for layer in network:\n",
        "        for param in layer.params:\n",
        "            weights += param.ravel().tolist()\n",
        "    return np.array(weights)\n",
        "\n",
        "\n",
        "def set_weights(weights, network):\n",
        "    i = 0\n",
        "    for layer in network:\n",
        "        for param in layer.params:\n",
        "            l = param.size\n",
        "            param[:] = weights[i:i+l].reshape(param.shape)\n",
        "            i += l"
      ]
    },
    {
      "cell_type": "markdown",
      "metadata": {
        "hidden": true,
        "id": "yd7fdKRZ0Zzu"
      },
      "source": [
        "Вам нужно реализовать ту самую функцию, которую мы будем передавать в `minimize`. Эта функция должна брать на вход текущую точку (вектор всех параметров), а также список дополнительных параметров (мы будем передавать через них нашу сеть и обучающие данные) и возвращать значение критерия качества (NLL) и его градиент по параметрам модели."
      ]
    },
    {
      "cell_type": "code",
      "execution_count": 27,
      "metadata": {
        "ExecuteTime": {
          "end_time": "2021-03-03T14:44:52.143103Z",
          "start_time": "2021-03-03T14:44:52.131134Z"
        },
        "hidden": true,
        "id": "P2oFkwv60Zzv"
      },
      "outputs": [],
      "source": [
        "def compute_loss_grad(weights, args):\n",
        "    \"\"\"\n",
        "    takes current weights and computes cross-entropy and gradients\n",
        "    weights shape: [num_parameters]\n",
        "    output 1: loss (scalar)\n",
        "    output 2: gradint w.r.t. weights, shape: [num_parameters]\n",
        "\n",
        "    hint: firstly perform forward pass through the whole network\n",
        "    then compute loss and its gradients\n",
        "    then perform backward pass, transmitting first baskward output\n",
        "    to the previos layer and saving second baskward output in a list\n",
        "    finally flatten all the gradients in this list\n",
        "    (in the order from the first to the last layer)\n",
        "\n",
        "    Do not forget to set weights of the network!\n",
        "    \"\"\"\n",
        "    network, X, y = args\n",
        "    set_weights(weights, network)\n",
        "    out = forward(network, X)\n",
        "    loss = NLL(out, y)\n",
        "    grad_curr = grad_NLL(out, y)\n",
        "    grad_list = []\n",
        "    for layer in reversed(network):\n",
        "        grad_curr, params = layer.backward(grad_curr)\n",
        "        grad_list.insert(0, params)\n",
        "    flat_grad = np.concatenate(grad_list)\n",
        "    return loss, flat_grad"
      ]
    },
    {
      "cell_type": "markdown",
      "metadata": {
        "hidden": true,
        "id": "aCALjRsn0Zzv"
      },
      "source": [
        "Теперь мы готовы обучать нашу нейросеть."
      ]
    },
    {
      "cell_type": "code",
      "execution_count": 28,
      "metadata": {
        "ExecuteTime": {
          "end_time": "2021-03-03T14:44:52.175017Z",
          "start_time": "2021-03-03T14:44:52.148090Z"
        },
        "hidden": true,
        "id": "z5dDkXiN0Zzv"
      },
      "outputs": [],
      "source": [
        "weights = get_weights(network)"
      ]
    },
    {
      "cell_type": "code",
      "execution_count": 29,
      "metadata": {
        "ExecuteTime": {
          "end_time": "2021-03-03T14:44:53.078366Z",
          "start_time": "2021-03-03T14:44:52.179006Z"
        },
        "hidden": true,
        "id": "tmyW6_3g0Zzw"
      },
      "outputs": [],
      "source": [
        "res = minimize(\n",
        "    compute_loss_grad, weights,       # fun and start point\n",
        "    args=[network, X_train, y_train], # args passed to fun\n",
        "    method=\"L-BFGS-B\",                # optimization method\n",
        "    jac=True                          # says that gradient is computed in fun\n",
        ")"
      ]
    },
    {
      "cell_type": "code",
      "execution_count": 30,
      "metadata": {
        "ExecuteTime": {
          "end_time": "2021-03-03T14:44:53.093332Z",
          "start_time": "2021-03-03T14:44:53.081402Z"
        },
        "hidden": true,
        "colab": {
          "base_uri": "https://localhost:8080/"
        },
        "id": "FCG0CvAS0Zzw",
        "outputId": "c9f317d3-5b94-4131-b323-f628834059a6"
      },
      "outputs": [
        {
          "output_type": "execute_result",
          "data": {
            "text/plain": [
              "dict_keys(['fun', 'jac', 'nfev', 'njev', 'nit', 'status', 'message', 'x', 'success', 'hess_inv'])"
            ]
          },
          "metadata": {},
          "execution_count": 30
        }
      ],
      "source": [
        "res.keys()"
      ]
    },
    {
      "cell_type": "code",
      "execution_count": 31,
      "metadata": {
        "ExecuteTime": {
          "end_time": "2021-03-03T14:44:53.109290Z",
          "start_time": "2021-03-03T14:44:53.096325Z"
        },
        "hidden": true,
        "scrolled": true,
        "colab": {
          "base_uri": "https://localhost:8080/"
        },
        "id": "zuUXMo_-0Zzw",
        "outputId": "61a69b02-3596-460a-d2cf-ad501f869369"
      },
      "outputs": [
        {
          "output_type": "execute_result",
          "data": {
            "text/plain": [
              "89"
            ]
          },
          "metadata": {},
          "execution_count": 31
        }
      ],
      "source": [
        "res[\"nit\"] # number of iterations (should be >> 10)"
      ]
    },
    {
      "cell_type": "code",
      "execution_count": 32,
      "metadata": {
        "ExecuteTime": {
          "end_time": "2021-03-03T14:44:53.125246Z",
          "start_time": "2021-03-03T14:44:53.112286Z"
        },
        "hidden": true,
        "colab": {
          "base_uri": "https://localhost:8080/"
        },
        "id": "1N0pU0lx0Zzx",
        "outputId": "155d235a-5ee5-4838-c554-e4d96dd4a10d"
      },
      "outputs": [
        {
          "output_type": "execute_result",
          "data": {
            "text/plain": [
              "True"
            ]
          },
          "metadata": {},
          "execution_count": 32
        }
      ],
      "source": [
        "res[\"success\"] # should be True"
      ]
    },
    {
      "cell_type": "code",
      "execution_count": 33,
      "metadata": {
        "ExecuteTime": {
          "end_time": "2021-03-03T14:44:53.140244Z",
          "start_time": "2021-03-03T14:44:53.128239Z"
        },
        "hidden": true,
        "colab": {
          "base_uri": "https://localhost:8080/"
        },
        "id": "xKWbgV-k0Zzy",
        "outputId": "aa9fcf33-9530-4b06-af5f-e31d55d24359"
      },
      "outputs": [
        {
          "output_type": "execute_result",
          "data": {
            "text/plain": [
              "array([-3.07575500e-03,  3.57411966e-03, -7.08555228e-04, ...,\n",
              "       -1.01817053e+00, -2.28273781e+00, -2.45496956e-01])"
            ]
          },
          "metadata": {},
          "execution_count": 33
        }
      ],
      "source": [
        "res[\"x\"] # leraned weights"
      ]
    },
    {
      "cell_type": "markdown",
      "metadata": {
        "hidden": true,
        "id": "3EJtFux_0Zzy"
      },
      "source": [
        "Выведите качество на обучении (`X_train`, `y_train`) и на контроле (`X_test`, `y_test`). Не забудьте установить веса!"
      ]
    },
    {
      "cell_type": "code",
      "execution_count": 34,
      "metadata": {
        "ExecuteTime": {
          "end_time": "2021-03-03T14:44:53.172124Z",
          "start_time": "2021-03-03T14:44:53.144212Z"
        },
        "hidden": true,
        "colab": {
          "base_uri": "https://localhost:8080/"
        },
        "id": "bfox3T_g0Zzy",
        "outputId": "42c043cd-6759-455a-8b37-92ed09715336"
      },
      "outputs": [
        {
          "output_type": "stream",
          "name": "stdout",
          "text": [
            "NLL (Train / Test)     : 0.000 / 0.871\n",
            "Accuracy (Train / Test): 1.000 / 0.951\n"
          ]
        }
      ],
      "source": [
        "final_weights = res[\"x\"]\n",
        "set_weights(res[\"x\"], network)\n",
        "\n",
        "train_loss = NLL(forward(network, X_train), y_train)\n",
        "train_accuracy = np.mean(predict(network, X_train) == y_train)\n",
        "\n",
        "test_loss = NLL(forward(network, X_test), y_test)\n",
        "test_accuracy = np.mean(predict(network, X_test) == y_test)\n",
        "\n",
        "print(\"NLL (Train / Test)     : {:.3f} / {:.3f}\".format(train_loss, test_loss))\n",
        "print(\"Accuracy (Train / Test): {:.3f} / {:.3f}\".format(train_accuracy, test_accuracy))"
      ]
    },
    {
      "cell_type": "markdown",
      "metadata": {
        "hidden": true,
        "id": "9rZyS-Fo0Zzz"
      },
      "source": [
        "У `minimize` есть также аргумент `callback` — в нее можно передать функцию, которая будет вызываться после каждой итерации оптимизации. Такую функцию удобно оформить в виде метода класса, который будет сохранять качество на обучении контроле после каждой итерации. Реализуйте этот метод в классе `Callback`:"
      ]
    },
    {
      "cell_type": "code",
      "execution_count": 35,
      "metadata": {
        "ExecuteTime": {
          "end_time": "2021-03-03T14:44:53.188082Z",
          "start_time": "2021-03-03T14:44:53.175117Z"
        },
        "hidden": true,
        "id": "89g00uoW0Zzz"
      },
      "outputs": [],
      "source": [
        "class Callback:\n",
        "    def __init__(self, network, X_train, y_train, X_test, y_test, print=False):\n",
        "        self.network = network\n",
        "        self.X_train = X_train\n",
        "        self.X_test = X_test\n",
        "        self.y_train = y_train\n",
        "        self.y_test = y_test\n",
        "        self.print = print\n",
        "        self.train_acc = []\n",
        "        self.test_acc = []\n",
        "\n",
        "    def call(self, weights):\n",
        "        \"\"\"\n",
        "        Computes quality on train and test set with given weights\n",
        "        and saves to self.train_acc and self.test_acc.\n",
        "        If self.print is True, also prints these 2 values\n",
        "        \"\"\"\n",
        "        set_weights(weights, self.network)\n",
        "        train_accuracy = np.mean(predict(self.network, self.X_train) == self.y_train)\n",
        "        test_accuracy = np.mean(predict(self.network, self.X_test) == self.y_test)\n",
        "        self.train_acc.append(train_accuracy)\n",
        "        self.test_acc.append(test_accuracy)\n",
        "\n",
        "        if self.print:\n",
        "            print(\"Accuracy (Train / Test): {:.3f} / {:.3f}\".format(train_accuracy, test_accuracy))"
      ]
    },
    {
      "cell_type": "code",
      "execution_count": 36,
      "metadata": {
        "ExecuteTime": {
          "end_time": "2021-03-03T14:44:54.497924Z",
          "start_time": "2021-03-03T14:44:53.191074Z"
        },
        "hidden": true,
        "colab": {
          "base_uri": "https://localhost:8080/"
        },
        "id": "9rjT27qj0Zz0",
        "outputId": "df2e6cce-a20c-4e07-ab01-faa240ea0d5f"
      },
      "outputs": [
        {
          "output_type": "stream",
          "name": "stdout",
          "text": [
            "Accuracy (Train / Test): 0.106 / 0.084\n",
            "Accuracy (Train / Test): 0.192 / 0.173\n",
            "Accuracy (Train / Test): 0.189 / 0.191\n",
            "Accuracy (Train / Test): 0.173 / 0.160\n",
            "Accuracy (Train / Test): 0.237 / 0.218\n",
            "Accuracy (Train / Test): 0.246 / 0.233\n",
            "Accuracy (Train / Test): 0.345 / 0.302\n",
            "Accuracy (Train / Test): 0.572 / 0.560\n",
            "Accuracy (Train / Test): 0.601 / 0.578\n",
            "Accuracy (Train / Test): 0.679 / 0.651\n",
            "Accuracy (Train / Test): 0.696 / 0.669\n",
            "Accuracy (Train / Test): 0.739 / 0.720\n",
            "Accuracy (Train / Test): 0.745 / 0.729\n",
            "Accuracy (Train / Test): 0.776 / 0.740\n",
            "Accuracy (Train / Test): 0.780 / 0.740\n",
            "Accuracy (Train / Test): 0.815 / 0.791\n",
            "Accuracy (Train / Test): 0.837 / 0.813\n",
            "Accuracy (Train / Test): 0.861 / 0.856\n",
            "Accuracy (Train / Test): 0.870 / 0.853\n",
            "Accuracy (Train / Test): 0.880 / 0.871\n",
            "Accuracy (Train / Test): 0.889 / 0.867\n",
            "Accuracy (Train / Test): 0.895 / 0.873\n",
            "Accuracy (Train / Test): 0.907 / 0.889\n",
            "Accuracy (Train / Test): 0.912 / 0.893\n",
            "Accuracy (Train / Test): 0.919 / 0.902\n",
            "Accuracy (Train / Test): 0.927 / 0.909\n",
            "Accuracy (Train / Test): 0.934 / 0.922\n",
            "Accuracy (Train / Test): 0.938 / 0.920\n",
            "Accuracy (Train / Test): 0.947 / 0.918\n",
            "Accuracy (Train / Test): 0.949 / 0.922\n",
            "Accuracy (Train / Test): 0.951 / 0.920\n",
            "Accuracy (Train / Test): 0.959 / 0.929\n",
            "Accuracy (Train / Test): 0.964 / 0.924\n",
            "Accuracy (Train / Test): 0.971 / 0.929\n",
            "Accuracy (Train / Test): 0.972 / 0.931\n",
            "Accuracy (Train / Test): 0.973 / 0.933\n",
            "Accuracy (Train / Test): 0.981 / 0.936\n",
            "Accuracy (Train / Test): 0.981 / 0.947\n",
            "Accuracy (Train / Test): 0.984 / 0.942\n",
            "Accuracy (Train / Test): 0.985 / 0.944\n",
            "Accuracy (Train / Test): 0.985 / 0.942\n",
            "Accuracy (Train / Test): 0.992 / 0.944\n",
            "Accuracy (Train / Test): 0.993 / 0.944\n",
            "Accuracy (Train / Test): 0.995 / 0.944\n",
            "Accuracy (Train / Test): 0.994 / 0.944\n",
            "Accuracy (Train / Test): 0.995 / 0.947\n",
            "Accuracy (Train / Test): 0.993 / 0.956\n",
            "Accuracy (Train / Test): 0.996 / 0.949\n",
            "Accuracy (Train / Test): 0.996 / 0.947\n",
            "Accuracy (Train / Test): 0.996 / 0.944\n",
            "Accuracy (Train / Test): 0.996 / 0.953\n",
            "Accuracy (Train / Test): 0.998 / 0.956\n",
            "Accuracy (Train / Test): 0.999 / 0.956\n",
            "Accuracy (Train / Test): 0.999 / 0.951\n",
            "Accuracy (Train / Test): 0.999 / 0.956\n",
            "Accuracy (Train / Test): 0.999 / 0.960\n",
            "Accuracy (Train / Test): 0.999 / 0.960\n",
            "Accuracy (Train / Test): 1.000 / 0.958\n",
            "Accuracy (Train / Test): 1.000 / 0.964\n",
            "Accuracy (Train / Test): 1.000 / 0.964\n",
            "Accuracy (Train / Test): 1.000 / 0.967\n",
            "Accuracy (Train / Test): 1.000 / 0.967\n",
            "Accuracy (Train / Test): 1.000 / 0.967\n",
            "Accuracy (Train / Test): 1.000 / 0.956\n",
            "Accuracy (Train / Test): 1.000 / 0.956\n",
            "Accuracy (Train / Test): 1.000 / 0.956\n",
            "Accuracy (Train / Test): 1.000 / 0.956\n",
            "Accuracy (Train / Test): 1.000 / 0.956\n",
            "Accuracy (Train / Test): 1.000 / 0.953\n",
            "Accuracy (Train / Test): 1.000 / 0.953\n",
            "Accuracy (Train / Test): 1.000 / 0.956\n",
            "Accuracy (Train / Test): 1.000 / 0.953\n",
            "Accuracy (Train / Test): 1.000 / 0.953\n",
            "Accuracy (Train / Test): 1.000 / 0.953\n",
            "Accuracy (Train / Test): 1.000 / 0.953\n",
            "Accuracy (Train / Test): 1.000 / 0.953\n",
            "Accuracy (Train / Test): 1.000 / 0.956\n",
            "Accuracy (Train / Test): 1.000 / 0.953\n",
            "Accuracy (Train / Test): 1.000 / 0.951\n",
            "Accuracy (Train / Test): 1.000 / 0.949\n",
            "Accuracy (Train / Test): 1.000 / 0.949\n",
            "Accuracy (Train / Test): 1.000 / 0.951\n",
            "Accuracy (Train / Test): 1.000 / 0.951\n",
            "Accuracy (Train / Test): 1.000 / 0.949\n",
            "Accuracy (Train / Test): 1.000 / 0.949\n",
            "Accuracy (Train / Test): 1.000 / 0.949\n",
            "Accuracy (Train / Test): 1.000 / 0.951\n",
            "Accuracy (Train / Test): 1.000 / 0.951\n",
            "Accuracy (Train / Test): 1.000 / 0.951\n"
          ]
        }
      ],
      "source": [
        "cb = Callback(network, X_train, y_train, X_test, y_test, print=True)\n",
        "\n",
        "res = minimize(\n",
        "    compute_loss_grad, weights,\n",
        "    args=[network, X_train, y_train],\n",
        "    method=\"L-BFGS-B\",\n",
        "    jac=True,\n",
        "    callback=cb.call\n",
        ")"
      ]
    },
    {
      "cell_type": "markdown",
      "metadata": {
        "hidden": true,
        "id": "3-m-uMSr0Zz0"
      },
      "source": [
        "Изобразите на графике кривую качества на обучени и контроле по итерациям:"
      ]
    },
    {
      "cell_type": "code",
      "execution_count": 37,
      "metadata": {
        "ExecuteTime": {
          "end_time": "2021-03-03T14:44:54.816117Z",
          "start_time": "2021-03-03T14:44:54.500922Z"
        },
        "hidden": true,
        "colab": {
          "base_uri": "https://localhost:8080/",
          "height": 507
        },
        "id": "ypqXmR9C0Zz0",
        "outputId": "574d5c5e-0c45-400a-c3bf-9ee3848da3f2"
      },
      "outputs": [
        {
          "output_type": "display_data",
          "data": {
            "text/plain": [
              "<Figure size 1000x500 with 1 Axes>"
            ],
            "image/png": "[encoded data removed]"
          },
          "metadata": {}
        }
      ],
      "source": [
        "fig, ax = plt.subplots(1, 1, figsize=(10, 5))\n",
        "ax.plot(cb.train_acc, label=\"train acc\")\n",
        "ax.plot(cb.test_acc, label=\"test acc\")\n",
        "ax.set_xlabel(\"Iteration\")\n",
        "ax.set_ylabel(\"Accuracy\")\n",
        "ax.grid(True)\n",
        "ax.legend()\n",
        "\n",
        "fig.tight_layout()\n",
        "plt.show()"
      ]
    },
    {
      "cell_type": "markdown",
      "metadata": {
        "heading_collapsed": true,
        "hidden": true,
        "id": "Fn7sKx4S0Zz1"
      },
      "source": [
        "### `Эксперименты с числом слоев (0.6 балла)`"
      ]
    },
    {
      "cell_type": "markdown",
      "metadata": {
        "hidden": true,
        "id": "TaSkR2Sr0Zz1"
      },
      "source": [
        "Ясно, что из-за случайного начального приближения с каждым запуском обучения мы будем получать различное качество. Попробуем обучить нашу нейросеть с разным числом слоев несколько раз.\n",
        "\n",
        "Заполните матрицы `accs_train` и `accs_test`. В позиции `[i, j]` должна стоять величина доли правильных ответов сети с $i+1$ полносвязными слоями при $j$-м запуске (все запуски идентичны)."
      ]
    },
    {
      "cell_type": "code",
      "execution_count": 38,
      "metadata": {
        "ExecuteTime": {
          "end_time": "2021-03-03T14:44:54.832074Z",
          "start_time": "2021-03-03T14:44:54.819071Z"
        },
        "hidden": true,
        "id": "xKxq5lzd0Zz2"
      },
      "outputs": [],
      "source": [
        "accs_train = np.zeros((5, 5))\n",
        "accs_test = np.zeros((5, 5))"
      ]
    },
    {
      "cell_type": "code",
      "execution_count": 39,
      "metadata": {
        "ExecuteTime": {
          "end_time": "2021-03-03T14:45:56.444624Z",
          "start_time": "2021-03-03T14:44:54.836024Z"
        },
        "hidden": true,
        "id": "8ASlOWeH0Zz2"
      },
      "outputs": [],
      "source": [
        "for i in range(5):\n",
        "    for j in range(5):\n",
        "        network = make_network(input_size, hidden_layers_size, output_size, n_layers=i+1)\n",
        "        weights = get_weights(network)\n",
        "        cb = Callback(network, X_train, y_train, X_test, y_test, print=False)\n",
        "        res = minimize(\n",
        "            compute_loss_grad, weights,\n",
        "            args=[network, X_train, y_train],\n",
        "            method=\"L-BFGS-B\",\n",
        "            jac=True,\n",
        "            callback=cb.call\n",
        "        )\n",
        "        accs_train[i, j] = cb.train_acc[-1]\n",
        "        accs_test[i, j]  = cb.test_acc[-1]"
      ]
    },
    {
      "cell_type": "markdown",
      "metadata": {
        "hidden": true,
        "id": "-ev-LSjW0Zz2"
      },
      "source": [
        "Построим боксплоты полученного качества (горизонтальная линия в каждом столбце — среднее, прямоугольник показывает разброс)."
      ]
    },
    {
      "cell_type": "code",
      "execution_count": 40,
      "metadata": {
        "ExecuteTime": {
          "end_time": "2021-03-03T14:45:57.060827Z",
          "start_time": "2021-03-03T14:45:56.447467Z"
        },
        "hidden": true,
        "colab": {
          "base_uri": "https://localhost:8080/",
          "height": 807
        },
        "id": "ywqTtPIp0Zz3",
        "outputId": "81dca282-f47e-4da9-e860-7f21e0fb6038"
      },
      "outputs": [
        {
          "output_type": "display_data",
          "data": {
            "text/plain": [
              "<Figure size 1000x800 with 2 Axes>"
            ],
            "image/png": "[encoded data removed]"
          },
          "metadata": {}
        }
      ],
      "source": [
        "fig, axes = plt.subplots(2, 1, figsize=(10, 8))\n",
        "\n",
        "axes[0].boxplot(accs_train.T, showfliers=False)\n",
        "axes[1].boxplot(accs_test.T, showfliers=False)\n",
        "\n",
        "axes[0].set_xlabel(\"Number of layers\")\n",
        "axes[1].set_xlabel(\"Number of layers\")\n",
        "\n",
        "axes[0].set_ylabel(\"Train accuracy\")\n",
        "axes[1].set_ylabel(\"Test accuracy\")\n",
        "\n",
        "axes[0].set_title(\"Train quality in 5 runs\")\n",
        "axes[1].set_title(\"Test quality in 5 runs\")\n",
        "\n",
        "axes[0].grid(True)\n",
        "axes[1].grid(True)\n",
        "\n",
        "fig.tight_layout()\n",
        "plt.show()"
      ]
    },
    {
      "cell_type": "markdown",
      "metadata": {
        "hidden": true,
        "id": "7f3QXRtE0Zz3"
      },
      "source": [
        "Дайте развёрнутый ответ на вопросы (в этой же ячейке):\n",
        "* Как изменяются качество на обучении и контроле и устойчивость процесса обучения при увеличении числа слоев?\n",
        "* Можно ли сказать, что логистическая регрессия (линейная модель) дает качество хуже, чем нелинейная модель?\n",
        "\n",
        "__Ответы:__\n",
        "\n",
        "* Вне зависимости от количества слоёв все модели получают качество в 1 по метрике accuracy на обучении, что говорит о том, что моедли идеально подстраиваются под обучающую выборку. При увелечении слоёв модели начинают показывать более высокое качество на контроле, но на 5 слоях качество уменьшается, что можно объяснить более частыми остановками модели в локальных экстремумах, а не глобальном.\n",
        "\n",
        "* Одназначно ответить на этот вопрос нельзя, т.к. модель с 5 слоями показывает себя хуже по accuracy чем линейная, а другие нелинейные - лучше"
      ]
    },
    {
      "cell_type": "markdown",
      "metadata": {
        "heading_collapsed": true,
        "hidden": true,
        "id": "JtQM1LqK0Zz3"
      },
      "source": [
        "### `Эксперименты c различными инициализациями весов (0.6 балла)`"
      ]
    },
    {
      "cell_type": "markdown",
      "metadata": {
        "hidden": true,
        "id": "eNw52K8h0Zz4"
      },
      "source": [
        "Как уже было сказано, начальная инициализация весов нейронной сети может сильно влиять на процесс ее обучения и, как следствие, на ее качество.\n",
        "\n",
        "В этом пункте вам предлагается попробовать обучить несколько нейронных сетей с различными инициализациями слоев.\n",
        "\n",
        "Для этого необходимо реализовать функцию, инициализирующую веса линейных слоёв нашей нейронной сети. Добавьте в функционал данного метода возможность инициализировать его веса с помощью инициализации Kaiming (используется, если в нейронной сети в качестве функций активации используется ReLU) и инициализации Xavier (используется, если в нейронной сети в качестве функций активации используется Tanh или Sigmoid):"
      ]
    },
    {
      "cell_type": "code",
      "execution_count": 41,
      "metadata": {
        "ExecuteTime": {
          "end_time": "2021-03-03T14:45:57.075786Z",
          "start_time": "2021-03-03T14:45:57.063819Z"
        },
        "code_folding": [],
        "hidden": true,
        "id": "SVWhXGYn0Zz4"
      },
      "outputs": [],
      "source": [
        "def initialize_network(network, initialization):\n",
        "    for layer in network:\n",
        "        if isinstance(layer, Dense):\n",
        "            input_units, output_units = layer.weights.shape\n",
        "            if initialization == 'Kaiming':\n",
        "                layer.weights = np.random.randn(input_units, output_units) * np.sqrt(2 / input_units)\n",
        "            elif initialization == 'Xavier':\n",
        "                layer.weights = np.random.randn(input_units, output_units) * np.sqrt(2 / (input_units + output_units))\n",
        "            else:\n",
        "                # Initialize weights with small random numbers from normal distribution.\n",
        "                # In this case `initialization` represents a standard deviation\n",
        "                # for normal distribution.\n",
        "                layer.weights = np.random.randn(input_units, output_units) * initialization\n",
        "            layer.biases = np.zeros_like(layer.biases)\n",
        "\n",
        "            layer.params = [layer.weights, layer.biases]"
      ]
    },
    {
      "cell_type": "markdown",
      "metadata": {
        "hidden": true,
        "id": "CIEW1Pzw0Zz4"
      },
      "source": [
        "Теперь попробуйте для каждой из 3 инициализаций обучить нейронную сеть несколько раз. Попробуйте проделать данную операцию при зафиксированном числе слоев равным 3, 4 и 5."
      ]
    },
    {
      "cell_type": "markdown",
      "metadata": {
        "heading_collapsed": true,
        "hidden": true,
        "id": "Ai_G1Ggk0Zz4"
      },
      "source": [
        "#### `3 слоя`\n",
        "\n",
        "Зафиксируйте в сети число слоев равное трем."
      ]
    },
    {
      "cell_type": "markdown",
      "metadata": {
        "hidden": true,
        "id": "-ccoO3PT0Zz5"
      },
      "source": [
        "Заполните матрицы `accs_train` и `accs_test`. В позиции `[i, j]` должна стоять величина доли правильных ответов сети при $j$-м запуске (все запуски идентичны) с инициализацией Kaiming при $i = 3$, с инициализацией Xavier при $i = 4$ и с инициализацией из нормального распределения с фиксированными параметрами при $0 \\leqslant i \\leqslant 2$ (попробуйте здесь 3 разных параметра для стандартного отклонения для нормального распределения, например: `1e-3`, `1e-2`, `1e-1`). Заметьте, что при большом числе слоев слишком низкое стандартное отклонение может не давать нейронной сети нормально обучиться."
      ]
    },
    {
      "cell_type": "code",
      "execution_count": 42,
      "metadata": {
        "ExecuteTime": {
          "end_time": "2021-03-03T14:45:57.091744Z",
          "start_time": "2021-03-03T14:45:57.079777Z"
        },
        "hidden": true,
        "id": "0RJp0EKq0Zz5"
      },
      "outputs": [],
      "source": [
        "init_vars = [1e-3, 1e-2, 1e-1, 'Kaiming', 'Xavier']"
      ]
    },
    {
      "cell_type": "code",
      "execution_count": 43,
      "metadata": {
        "ExecuteTime": {
          "end_time": "2021-03-03T14:45:57.107701Z",
          "start_time": "2021-03-03T14:45:57.094737Z"
        },
        "hidden": true,
        "id": "Xsua5d1o0Zz5"
      },
      "outputs": [],
      "source": [
        "accs_train = np.zeros((5, 5))\n",
        "accs_test = np.zeros((5, 5))"
      ]
    },
    {
      "cell_type": "code",
      "execution_count": 44,
      "metadata": {
        "ExecuteTime": {
          "end_time": "2021-03-03T14:46:27.904407Z",
          "start_time": "2021-03-03T14:45:57.111690Z"
        },
        "hidden": true,
        "id": "mrMcjYG30Zz5"
      },
      "outputs": [],
      "source": [
        "for i, init_val in enumerate(init_vars):\n",
        "    for j in range(5):\n",
        "        network = make_network(input_size, hidden_layers_size, output_size, n_layers=3)\n",
        "        initialize_network(network, init_val)\n",
        "        weights = get_weights(network)\n",
        "        cb = Callback(network, X_train, y_train, X_test, y_test, print=False)\n",
        "        res = minimize(\n",
        "            compute_loss_grad, weights,\n",
        "            args=[network, X_train, y_train],\n",
        "            method=\"L-BFGS-B\",\n",
        "            jac=True,\n",
        "            callback=cb.call\n",
        "        )\n",
        "        accs_train[i, j] = cb.train_acc[-1]\n",
        "        accs_test[i, j]  = cb.test_acc[-1]"
      ]
    },
    {
      "cell_type": "markdown",
      "metadata": {
        "hidden": true,
        "id": "iDmgNNIN0Zz6"
      },
      "source": [
        "Построим боксплоты полученного качества (горизонтальная линия в каждом столбце — среднее, прямоугольник показывает разброс)."
      ]
    },
    {
      "cell_type": "code",
      "execution_count": 45,
      "metadata": {
        "ExecuteTime": {
          "end_time": "2021-03-03T14:46:28.632502Z",
          "start_time": "2021-03-03T14:46:27.907401Z"
        },
        "hidden": true,
        "scrolled": false,
        "colab": {
          "base_uri": "https://localhost:8080/",
          "height": 563
        },
        "id": "BGzaSmft0Zz6",
        "outputId": "5e86e782-4df7-4e42-d637-7419001a8ddd"
      },
      "outputs": [
        {
          "output_type": "stream",
          "name": "stderr",
          "text": [
            "<ipython-input-45-f24671efa300>:5: MatplotlibDeprecationWarning: The 'labels' parameter of boxplot() has been renamed 'tick_labels' since Matplotlib 3.9; support for the old name will be dropped in 3.11.\n",
            "  ax.boxplot(accs_test.T, labels=init_vars_for_plot, showfliers=False)\n"
          ]
        },
        {
          "output_type": "display_data",
          "data": {
            "text/plain": [
              "<Figure size 1000x500 with 1 Axes>"
            ],
            "image/png": "[encoded data removed]"
          },
          "metadata": {}
        }
      ],
      "source": [
        "init_vars_for_plot = [(x if isinstance(x, str) else fr\"$\\sigma = {x}$\") for x in init_vars]\n",
        "\n",
        "fig, ax = plt.subplots(1, 1, figsize=(10, 5))\n",
        "\n",
        "ax.boxplot(accs_test.T, labels=init_vars_for_plot, showfliers=False)\n",
        "\n",
        "ax.set_title(\"Test quality in 5 runs\")\n",
        "ax.set_xlabel(\"Initialization\")\n",
        "ax.set_ylabel(\"Test accuracy\")\n",
        "ax.grid(True)\n",
        "\n",
        "fig.tight_layout()\n",
        "plt.show()"
      ]
    },
    {
      "cell_type": "markdown",
      "metadata": {
        "heading_collapsed": true,
        "hidden": true,
        "id": "BTpnIvhV0Zz6"
      },
      "source": [
        "#### `4 слоя`\n",
        "\n",
        "Выполните тут тот же код, что и в предыдущем пункте, но только уже с 4 слоями в сети."
      ]
    },
    {
      "cell_type": "code",
      "execution_count": 46,
      "metadata": {
        "ExecuteTime": {
          "end_time": "2021-03-03T14:45:57.091744Z",
          "start_time": "2021-03-03T14:45:57.079777Z"
        },
        "hidden": true,
        "id": "Acm9SZpO0Zz6"
      },
      "outputs": [],
      "source": [
        "init_vars = [5e-3, 1e-2, 1e-1, 'Kaiming', 'Xavier']"
      ]
    },
    {
      "cell_type": "code",
      "execution_count": 47,
      "metadata": {
        "ExecuteTime": {
          "end_time": "2021-03-03T14:45:57.107701Z",
          "start_time": "2021-03-03T14:45:57.094737Z"
        },
        "hidden": true,
        "id": "uuwnjZaB0Zz7"
      },
      "outputs": [],
      "source": [
        "accs_train = np.zeros((5, 5))\n",
        "accs_test = np.zeros((5, 5))"
      ]
    },
    {
      "cell_type": "code",
      "execution_count": 48,
      "metadata": {
        "ExecuteTime": {
          "end_time": "2021-03-03T14:46:27.904407Z",
          "start_time": "2021-03-03T14:45:57.111690Z"
        },
        "hidden": true,
        "id": "Fwlgw-OI0Zz7"
      },
      "outputs": [],
      "source": [
        "for i, init_val in enumerate(init_vars):\n",
        "    for j in range(5):\n",
        "        network = make_network(input_size, hidden_layers_size, output_size, n_layers=4)\n",
        "        initialize_network(network, init_val)\n",
        "        weights = get_weights(network)\n",
        "        cb = Callback(network, X_train, y_train, X_test, y_test, print=False)\n",
        "        res = minimize(\n",
        "            compute_loss_grad, weights,\n",
        "            args=[network, X_train, y_train],\n",
        "            method=\"L-BFGS-B\",\n",
        "            jac=True,\n",
        "            callback=cb.call\n",
        "        )\n",
        "        accs_train[i, j] = cb.train_acc[-1]\n",
        "        accs_test[i, j]  = cb.test_acc[-1]"
      ]
    },
    {
      "cell_type": "markdown",
      "metadata": {
        "hidden": true,
        "id": "wjTe7QS_0Zz7"
      },
      "source": [
        "Построим боксплоты полученного качества (горизонтальная линия в каждом столбце — среднее, прямоугольник показывает разброс)."
      ]
    },
    {
      "cell_type": "code",
      "execution_count": 49,
      "metadata": {
        "ExecuteTime": {
          "end_time": "2021-03-03T14:46:28.632502Z",
          "start_time": "2021-03-03T14:46:27.907401Z"
        },
        "hidden": true,
        "scrolled": false,
        "colab": {
          "base_uri": "https://localhost:8080/",
          "height": 563
        },
        "id": "PYy8SXJ40Zz7",
        "outputId": "7c3676cf-49f1-44d0-a3d6-6c2f06c4af36"
      },
      "outputs": [
        {
          "output_type": "stream",
          "name": "stderr",
          "text": [
            "<ipython-input-49-f24671efa300>:5: MatplotlibDeprecationWarning: The 'labels' parameter of boxplot() has been renamed 'tick_labels' since Matplotlib 3.9; support for the old name will be dropped in 3.11.\n",
            "  ax.boxplot(accs_test.T, labels=init_vars_for_plot, showfliers=False)\n"
          ]
        },
        {
          "output_type": "display_data",
          "data": {
            "text/plain": [
              "<Figure size 1000x500 with 1 Axes>"
            ],
            "image/png": "[encoded data removed]"
          },
          "metadata": {}
        }
      ],
      "source": [
        "init_vars_for_plot = [(x if isinstance(x, str) else fr\"$\\sigma = {x}$\") for x in init_vars]\n",
        "\n",
        "fig, ax = plt.subplots(1, 1, figsize=(10, 5))\n",
        "\n",
        "ax.boxplot(accs_test.T, labels=init_vars_for_plot, showfliers=False)\n",
        "\n",
        "ax.set_title(\"Test quality in 5 runs\")\n",
        "ax.set_xlabel(\"Initialization\")\n",
        "ax.set_ylabel(\"Test accuracy\")\n",
        "ax.grid(True)\n",
        "\n",
        "fig.tight_layout()\n",
        "plt.show()"
      ]
    },
    {
      "cell_type": "markdown",
      "metadata": {
        "heading_collapsed": true,
        "hidden": true,
        "id": "A5dL3qW20Zz8"
      },
      "source": [
        "#### `5 слоев`\n",
        "\n",
        "Выполните тут тот же код, что и в предыдущем пункте, но только уже с 5 слоями в сети."
      ]
    },
    {
      "cell_type": "code",
      "execution_count": 50,
      "metadata": {
        "ExecuteTime": {
          "end_time": "2021-03-03T14:45:57.091744Z",
          "start_time": "2021-03-03T14:45:57.079777Z"
        },
        "hidden": true,
        "id": "cnKPrXOg0Zz8"
      },
      "outputs": [],
      "source": [
        "init_vars = [1e-2, 1e-1, 1e0, 'Kaiming', 'Xavier']"
      ]
    },
    {
      "cell_type": "code",
      "execution_count": 51,
      "metadata": {
        "ExecuteTime": {
          "end_time": "2021-03-03T14:45:57.107701Z",
          "start_time": "2021-03-03T14:45:57.094737Z"
        },
        "hidden": true,
        "id": "53saTAfX0Zz8"
      },
      "outputs": [],
      "source": [
        "accs_train = np.zeros((5, 5))\n",
        "accs_test = np.zeros((5, 5))"
      ]
    },
    {
      "cell_type": "code",
      "execution_count": 52,
      "metadata": {
        "ExecuteTime": {
          "end_time": "2021-03-03T14:46:27.904407Z",
          "start_time": "2021-03-03T14:45:57.111690Z"
        },
        "hidden": true,
        "id": "MH9B3OaJ0Zz8"
      },
      "outputs": [],
      "source": [
        "for i, init_val in enumerate(init_vars):\n",
        "    for j in range(5):\n",
        "        network = make_network(input_size, hidden_layers_size, output_size, n_layers=5)\n",
        "        initialize_network(network, init_val)\n",
        "        weights = get_weights(network)\n",
        "        cb = Callback(network, X_train, y_train, X_test, y_test, print=False)\n",
        "        res = minimize(\n",
        "            compute_loss_grad, weights,\n",
        "            args=[network, X_train, y_train],\n",
        "            method=\"L-BFGS-B\",\n",
        "            jac=True,\n",
        "            callback=cb.call\n",
        "        )\n",
        "        accs_train[i, j] = cb.train_acc[-1]\n",
        "        accs_test[i, j]  = cb.test_acc[-1]"
      ]
    },
    {
      "cell_type": "markdown",
      "metadata": {
        "hidden": true,
        "id": "2voqaud30Zz9"
      },
      "source": [
        "Построим боксплоты полученного качества (горизонтальная линия в каждом столбце — среднее, прямоугольник показывает разброс)."
      ]
    },
    {
      "cell_type": "code",
      "execution_count": 53,
      "metadata": {
        "ExecuteTime": {
          "end_time": "2021-03-03T14:46:28.632502Z",
          "start_time": "2021-03-03T14:46:27.907401Z"
        },
        "hidden": true,
        "scrolled": false,
        "id": "L5aNzN7H0Zz9",
        "colab": {
          "base_uri": "https://localhost:8080/",
          "height": 563
        },
        "outputId": "35ccfaa8-a98a-4ff5-9ff6-266344709a58"
      },
      "outputs": [
        {
          "output_type": "stream",
          "name": "stderr",
          "text": [
            "<ipython-input-53-f24671efa300>:5: MatplotlibDeprecationWarning: The 'labels' parameter of boxplot() has been renamed 'tick_labels' since Matplotlib 3.9; support for the old name will be dropped in 3.11.\n",
            "  ax.boxplot(accs_test.T, labels=init_vars_for_plot, showfliers=False)\n"
          ]
        },
        {
          "output_type": "display_data",
          "data": {
            "text/plain": [
              "<Figure size 1000x500 with 1 Axes>"
            ],
            "image/png": "[encoded data removed]"
          },
          "metadata": {}
        }
      ],
      "source": [
        "init_vars_for_plot = [(x if isinstance(x, str) else fr\"$\\sigma = {x}$\") for x in init_vars]\n",
        "\n",
        "fig, ax = plt.subplots(1, 1, figsize=(10, 5))\n",
        "\n",
        "ax.boxplot(accs_test.T, labels=init_vars_for_plot, showfliers=False)\n",
        "\n",
        "ax.set_title(\"Test quality in 5 runs\")\n",
        "ax.set_xlabel(\"Initialization\")\n",
        "ax.set_ylabel(\"Test accuracy\")\n",
        "ax.grid(True)\n",
        "\n",
        "fig.tight_layout()\n",
        "plt.show()"
      ]
    },
    {
      "cell_type": "markdown",
      "metadata": {
        "hidden": true,
        "id": "7y5MNQSI0Zz9"
      },
      "source": [
        "Дайте развёрнутый ответ на вопросы (в этой же ячейке):\n",
        "* Как отличаются качество на обучении и контроле и устойчивость процесса обучения при различных инициализациях?\n",
        "* Какие инициализации помогают обучать более глубокие сети?\n",
        "\n",
        "__Ответы:__\n",
        "Модели с инифиализацией с нормальным распределением и наименьшей дисперсией показывают чаще всего менее устойивыми относительно других. С увеличением дисперсии модели с 4 слоями на контроле показывают увеличение accuracy, а с 3 и 5 слоями - нельзя сказать однозначно. Наиболее стабильно себя показывают себя инициализации Kaiming и Xavier, которые помогают обучать более глубокие сети"
      ]
    },
    {
      "cell_type": "markdown",
      "metadata": {
        "hidden": true,
        "id": "mMqn1DLy0Zz9"
      },
      "source": [
        "Теперь сравним скорость обучения при различных инициализациях. Создайте два списка списков `accs_test_on_iterations`, `accs_train_on_iterations` в каждом из которых в позиции `[i]` (см. описание `i` в предыдущем пункте) будет лежать список из значений `accuracy` на тестовой и обучающей выборках соотвественно, полученных во время обучения модели. Количество слоев в сети зафиксируйте равным 4."
      ]
    },
    {
      "cell_type": "code",
      "execution_count": 54,
      "metadata": {
        "ExecuteTime": {
          "end_time": "2021-03-03T14:45:57.091744Z",
          "start_time": "2021-03-03T14:45:57.079777Z"
        },
        "hidden": true,
        "id": "KQOaq_I10Zz9"
      },
      "outputs": [],
      "source": [
        "init_vars = [1e-3, 1e-2, 1e-1, 'Kaiming', 'Xavier']"
      ]
    },
    {
      "cell_type": "code",
      "execution_count": 55,
      "metadata": {
        "ExecuteTime": {
          "end_time": "2021-03-03T14:46:28.647453Z",
          "start_time": "2021-03-03T14:46:28.635495Z"
        },
        "hidden": true,
        "id": "kmLPEefb0Zz-"
      },
      "outputs": [],
      "source": [
        "accs_test_on_iterations = []\n",
        "accs_train_on_iterations = []"
      ]
    },
    {
      "cell_type": "code",
      "source": [
        "for i, init_val in enumerate(init_vars):\n",
        "    network = make_network(input_size, hidden_layers_size, output_size, n_layers=4, activation_class=ReLU)\n",
        "    initialize_network(network, init_val)\n",
        "    weights = get_weights(network)\n",
        "    cb = Callback(network, X_train, y_train, X_test, y_test, print=False)\n",
        "    res = minimize(\n",
        "        compute_loss_grad,\n",
        "        weights,\n",
        "        args=[network, X_train, y_train],\n",
        "        method=\"L-BFGS-B\",\n",
        "        jac=True,\n",
        "        callback=cb.call\n",
        "    )\n",
        "    accs_train_on_iterations.append(cb.train_acc)\n",
        "    accs_test_on_iterations.append(cb.test_acc)"
      ],
      "metadata": {
        "id": "jahXocq7rvfc"
      },
      "execution_count": 56,
      "outputs": []
    },
    {
      "cell_type": "code",
      "execution_count": 57,
      "metadata": {
        "ExecuteTime": {
          "end_time": "2021-03-03T14:46:34.875348Z",
          "start_time": "2021-03-03T14:46:34.436663Z"
        },
        "hidden": true,
        "colab": {
          "base_uri": "https://localhost:8080/",
          "height": 807
        },
        "id": "x27JpEM40Zz-",
        "outputId": "7bef614c-151d-4221-f861-5a36161d65bc"
      },
      "outputs": [
        {
          "output_type": "display_data",
          "data": {
            "text/plain": [
              "<Figure size 1000x800 with 2 Axes>"
            ],
            "image/png": "[encoded data removed]"
          },
          "metadata": {}
        }
      ],
      "source": [
        "init_vars_for_plot = [(x if isinstance(x, str) else fr\"$\\sigma = {x}$\") for x in init_vars]\n",
        "\n",
        "fig, ax = plt.subplots(2, 1, sharex=True, sharey=True,  figsize=(10, 8))\n",
        "\n",
        "for idx, label in enumerate(init_vars_for_plot):\n",
        "    ax[0].plot(accs_train_on_iterations[idx], label=label)\n",
        "    ax[1].plot(accs_test_on_iterations[idx], label=label)\n",
        "\n",
        "for idx, key in enumerate([\"Train\", \"Test\"]):\n",
        "    ax[idx].set_title(f\"{key} quality for different initializations\")\n",
        "    ax[idx].set_xlabel(\"Epoch number\")\n",
        "    ax[idx].set_ylabel(f\"{key} accuracy\")\n",
        "    ax[idx].grid(True)\n",
        "    ax[idx].legend()\n",
        "\n",
        "\n",
        "\n",
        "fig.tight_layout()\n",
        "plt.show()"
      ]
    },
    {
      "cell_type": "markdown",
      "metadata": {
        "ExecuteTime": {
          "end_time": "2021-03-03T14:37:15.087902Z",
          "start_time": "2021-03-03T14:37:15.065996Z"
        },
        "hidden": true,
        "id": "G2OPCxLK0Zz_"
      },
      "source": [
        "Дайте развёрнутый ответ на вопросы (в этой же ячейке):\n",
        "* Как меняется скорость обучения в зависимости от выбранной инициализации?\n",
        "\n",
        "__Ответы:__\n",
        "\n",
        "Модели с инициализациями Kaiming и Xavier обучаются наиболее быстро. Модель с нормальным распределением и минимльной дисперсией заканчивает обучение буквально после пары итераций (из-за чего ее график не видно на графике), скорее всего заканчивая свое обучение в локальном минмуме NLL"
      ]
    },
    {
      "cell_type": "markdown",
      "metadata": {
        "heading_collapsed": true,
        "hidden": true,
        "id": "r_PTrIkF0Zz_"
      },
      "source": [
        "### `Эксперименты c различными функциями активации (0.6 балла)`"
      ]
    },
    {
      "cell_type": "markdown",
      "metadata": {
        "hidden": true,
        "id": "mwO0Er-e0Zz_"
      },
      "source": [
        "Проверим теперь, с какой функцией активации нейронная сеть будет обучаться лучше.\n",
        "\n",
        "В этом пункте вам предлагается попробовать обучить несколько нейронных сетей с различными функциями активации.\n",
        "\n",
        "Для этого нам нужно реализовать еще 2 слоя: для функций активации `Tanh` и `Sigmoid`."
      ]
    },
    {
      "cell_type": "code",
      "execution_count": 58,
      "metadata": {
        "ExecuteTime": {
          "end_time": "2021-03-03T14:46:34.891308Z",
          "start_time": "2021-03-03T14:46:34.878379Z"
        },
        "hidden": true,
        "id": "PtCcyy_A0Zz_"
      },
      "outputs": [],
      "source": [
        "class Tanh:\n",
        "    \"\"\"\n",
        "    tanh(y) = (e^y - e^(-y)) / (e^y + e^(-y))\n",
        "    Используйте функцию np.tanh для подсчета гиперболического тангенса.\n",
        "    Вы можете сами реализовать подсчет tanh, но тогда вам нужно устойчиво его вычислять.\n",
        "    \"\"\"\n",
        "    def __init__(self):\n",
        "        self.params = [] # Tanh has no parameters\n",
        "\n",
        "    def forward(self, input):\n",
        "        \"\"\"\n",
        "        Apply elementwise Tanh to [batch, num_units] matrix\n",
        "        \"\"\"\n",
        "        self.out = np.tanh(input)\n",
        "        return self.out\n",
        "\n",
        "    def backward(self, grad_output):\n",
        "        \"\"\"\n",
        "        Compute gradient of loss w.r.t. Tanh input\n",
        "        grad_output shape: [batch, num_units]\n",
        "        output 1 shape: [batch, num_units]\n",
        "        output 2: []\n",
        "        \"\"\"\n",
        "        return grad_output * (1 - self.out ** 2), []\n",
        "\n",
        "    def __repr__(self):\n",
        "        return 'Tanh()'"
      ]
    },
    {
      "cell_type": "code",
      "execution_count": 59,
      "metadata": {
        "ExecuteTime": {
          "end_time": "2021-03-03T14:46:34.907337Z",
          "start_time": "2021-03-03T14:46:34.894300Z"
        },
        "hidden": true,
        "id": "SnQAmVIK0Z0A"
      },
      "outputs": [],
      "source": [
        "from scipy.special import expit\n",
        "\n",
        "class Sigmoid:\n",
        "    \"\"\"\n",
        "    sigmoid(y) = 1 / (1 + e^(-y))\n",
        "    Используйте функцию expit для подсчета сигмоиды.\n",
        "    Вы можете сами реализовать подсчет сигмоиды, но тогда вам нужно устойчиво ее вычислять.\n",
        "    \"\"\"\n",
        "    def __init__(self):\n",
        "        self.params = [] # Sigmoid has no parameters\n",
        "\n",
        "    def forward(self, input):\n",
        "        \"\"\"\n",
        "        Apply elementwise Sigmoid to [batch, num_units] matrix\n",
        "        \"\"\"\n",
        "        self.expit = expit(input)\n",
        "        return self.expit\n",
        "\n",
        "    def backward(self, grad_output):\n",
        "        \"\"\"\n",
        "        Compute gradient of loss w.r.t. Sigmoid input\n",
        "        grad_output shape: [batch, num_units]\n",
        "        output 1 shape: [batch, num_units]\n",
        "        output 2: []\n",
        "        \"\"\"\n",
        "        return grad_output * (self.expit * (1 - self.expit)), []\n",
        "\n",
        "    def __repr__(self):\n",
        "        return 'Sigmoid()'"
      ]
    },
    {
      "cell_type": "markdown",
      "metadata": {
        "hidden": true,
        "id": "qhiKZ9U80Z0A"
      },
      "source": [
        "Теперь попробуйте для каждой из 3 функций активации обучить нейронную сеть несколько раз. Число слоев зафиксируйте равным 3. В случае `Tanh` и `Sigmoid` используйте инициализацию `Xavier`, а в случае `ReLU` используйте инициализацию `Kaiming`."
      ]
    },
    {
      "cell_type": "markdown",
      "metadata": {
        "hidden": true,
        "id": "HWUuP6aZ0Z0A"
      },
      "source": [
        "Заполните матрицы `accs_train` и `accs_test`. В позиции `[i, j]` должна стоять величина доли правильных ответов сети при $j$-м запуске (все запуски идентичны) с функцией активации $ReLU$ при $i = 0$, с функцией активации $Tanh$ при $i = 1$ и с функцией активации $Sigmoid$ при $i = 2$."
      ]
    },
    {
      "cell_type": "code",
      "execution_count": 72,
      "metadata": {
        "ExecuteTime": {
          "end_time": "2021-03-03T14:46:34.922732Z",
          "start_time": "2021-03-03T14:46:34.910271Z"
        },
        "hidden": true,
        "id": "UWFSnf1p0Z0A"
      },
      "outputs": [],
      "source": [
        "act_func_vars = ['Tanh', 'Sigmoid', 'ReLU']\n",
        "init_for_act_funcs = ['Xavier', 'Xavier', 'Kaiming']"
      ]
    },
    {
      "cell_type": "code",
      "execution_count": 73,
      "metadata": {
        "ExecuteTime": {
          "end_time": "2021-03-03T14:46:34.938935Z",
          "start_time": "2021-03-03T14:46:34.925724Z"
        },
        "hidden": true,
        "id": "J1fUpwH60Z0B"
      },
      "outputs": [],
      "source": [
        "accs_train = np.zeros((3, 5))\n",
        "accs_test = np.zeros((3, 5))"
      ]
    },
    {
      "cell_type": "code",
      "execution_count": 74,
      "metadata": {
        "ExecuteTime": {
          "end_time": "2021-03-03T14:47:04.514986Z",
          "start_time": "2021-03-03T14:46:34.941104Z"
        },
        "hidden": true,
        "id": "baZ40C_-0Z0B"
      },
      "outputs": [],
      "source": [
        "act_vars = [Tanh, Sigmoid, ReLU]\n",
        "\n",
        "for i in range(3):\n",
        "    for j in range(5):\n",
        "        network = make_network(input_size, hidden_layers_size, output_size, n_layers=3, activation_class=act_vars[i])\n",
        "        initialize_network(network, init_for_act_funcs[i])\n",
        "        weights = get_weights(network)\n",
        "        cb = Callback(network, X_train, y_train, X_test, y_test, print=False)\n",
        "        res = minimize(\n",
        "            compute_loss_grad, weights,\n",
        "            args=[network, X_train, y_train],\n",
        "            method=\"L-BFGS-B\",\n",
        "            jac=True,\n",
        "            callback=cb.call\n",
        "        )\n",
        "        accs_train[i, j] = cb.train_acc[-1]\n",
        "        accs_test[i, j] = cb.test_acc[-1]"
      ]
    },
    {
      "cell_type": "markdown",
      "metadata": {
        "hidden": true,
        "id": "MVhXXYP50Z0B"
      },
      "source": [
        "Построим боксплоты полученного качества (горизонтальная линия в каждом столбце — среднее, прямоугольник показывает разброс)."
      ]
    },
    {
      "cell_type": "code",
      "execution_count": 75,
      "metadata": {
        "ExecuteTime": {
          "end_time": "2021-03-03T14:47:04.783320Z",
          "start_time": "2021-03-03T14:47:04.517701Z"
        },
        "hidden": true,
        "id": "zUdyVm7q0Z0B",
        "outputId": "32e038fd-04ac-46b1-9b4e-bfb339072944",
        "colab": {
          "base_uri": "https://localhost:8080/",
          "height": 900
        }
      },
      "outputs": [
        {
          "output_type": "stream",
          "name": "stderr",
          "text": [
            "<ipython-input-75-22873b2015ea>:3: MatplotlibDeprecationWarning: The 'labels' parameter of boxplot() has been renamed 'tick_labels' since Matplotlib 3.9; support for the old name will be dropped in 3.11.\n",
            "  ax[0].boxplot(accs_train.T, labels=act_func_vars, showfliers=False)\n",
            "<ipython-input-75-22873b2015ea>:4: MatplotlibDeprecationWarning: The 'labels' parameter of boxplot() has been renamed 'tick_labels' since Matplotlib 3.9; support for the old name will be dropped in 3.11.\n",
            "  ax[1].boxplot(accs_test.T, labels=act_func_vars, showfliers=False)\n"
          ]
        },
        {
          "output_type": "display_data",
          "data": {
            "text/plain": [
              "<Figure size 1000x800 with 2 Axes>"
            ],
            "image/png": "[encoded data removed]"
          },
          "metadata": {}
        }
      ],
      "source": [
        "fig, ax = plt.subplots(2, 1, sharex=True, sharey=True,  figsize=(10, 8))\n",
        "\n",
        "ax[0].boxplot(accs_train.T, labels=act_func_vars, showfliers=False)\n",
        "ax[1].boxplot(accs_test.T, labels=act_func_vars, showfliers=False)\n",
        "\n",
        "ax[0].set_title(\"Train quality in 5 runs\")\n",
        "ax[1].set_title(\"Test quality in 5 runs\")\n",
        "\n",
        "ax[0].set_xlabel(\"Activation function\")\n",
        "ax[1].set_xlabel(\"Activation function\")\n",
        "\n",
        "ax[0].set_ylabel(\"Train accuracy\")\n",
        "ax[1].set_ylabel(\"Test accuracy\")\n",
        "\n",
        "ax[0].grid(True)\n",
        "ax[1].grid(True)\n",
        "\n",
        "fig.tight_layout()\n",
        "plt.show()"
      ]
    },
    {
      "cell_type": "markdown",
      "metadata": {
        "hidden": true,
        "id": "9SNo8dZ90Z0C"
      },
      "source": [
        "Дайте развёрнутый ответ на вопросы (в этой же ячейке):\n",
        "* Как отличаются качество на обучении и контроле и устойчивость процесса обучения при различных функциях активации?\n",
        "\n",
        "__Ответы:__\n",
        "\n",
        "На обучении качество моделей не отличается. На контроле лучше всего показывает себя ReLU с точки зрения целевой метрики (accuracy), а с точки зрения устойчивости - Sigmoid"
      ]
    },
    {
      "cell_type": "markdown",
      "metadata": {
        "hidden": true,
        "id": "hszwu3Ro0Z0C"
      },
      "source": [
        "\\* Несколько фрагментов кода в задании написаны на основе материалов [курса по глубинному обучению на ФКН НИУ ВШЭ](https://www.hse.ru/ba/ami/courses/205504078.html)"
      ]
    },
    {
      "cell_type": "markdown",
      "metadata": {
        "id": "0WKS0Zg-0Z0C"
      },
      "source": [
        "### `Реализация метода оптимизации (1.4 балла)`"
      ]
    },
    {
      "cell_type": "markdown",
      "metadata": {
        "id": "xemmvyca0Z0C"
      },
      "source": [
        "В этой части задания реализуйте метод оптимизации SGD + momentum. Упрощённая версия более общего алгоритма [отсюда](https://pytorch.org/docs/stable/generated/torch.optim.SGD.html):\n",
        "\n",
        "$$\n",
        "\\begin{aligned}\n",
        "    &\\rule{70mm}{0.4pt}                                                             \\\\\n",
        "    &\\textbf{input}      : \\gamma \\text{ (lr)}, \\: \\theta_0 \\text{ (params)}, \\: X \\text{ (data)},       \\\\\n",
        "    &\\hspace{13mm} \\: f(\\theta) \\text{ (objective)}, \\:\\mu \\text{ (momentum)}       \\\\[-1.ex]\n",
        "    &\\rule{70mm}{0.4pt}                                                             \\\\\n",
        "    &\\textbf{for} \\: t=1 \\: \\textbf{to} \\: \\ldots \\: \\textbf{do}                    \\\\\n",
        "    &\\hspace{5mm}\\mathcal{X} \\leftarrow \\texttt{list\\_of\\_random\\_batches}(X)\\\\\n",
        "    &\\hspace{5mm}\\textbf{for} \\: i=1 \\: \\textbf{to} \\: \\ldots \\: \\textbf{do}                    \\\\\n",
        "    &\\hspace{10mm}g_t\\leftarrow   \\nabla_{\\theta} f_t (\\theta_{t-1},\\mathcal{X}_i)      \\\\\n",
        "    &\\hspace{10mm}\\textbf{if} \\: \\mu \\neq 0                                          \\\\\n",
        "    &\\hspace{15mm}\\textbf{if} \\: t > 1                                              \\\\\n",
        "    &\\hspace{20mm} \\textbf{b}_t \\leftarrow \\mu \\textbf{b}_{t-1} + g_t               \\\\\n",
        "    &\\hspace{15mm}\\textbf{else}                                                     \\\\\n",
        "    &\\hspace{20mm} \\textbf{b}_t \\leftarrow g_t                                      \\\\\n",
        "    &\\hspace{15mm} g_t  \\leftarrow  \\textbf{b}_t                                     \\\\\n",
        "    &\\hspace{10mm}\\theta_t \\leftarrow \\theta_{t-1} - \\gamma g_t                      \\\\[-1.ex]\n",
        "    &\\rule{70mm}{0.4pt}                                                             \\\\[-1.ex]\n",
        "    &\\bf{return} \\:  \\theta_t                                                       \\\\[-1.ex]\n",
        "    &\\rule{70mm}{0.4pt}                                                             \\\\[-1.ex]\n",
        "\\end{aligned}\n",
        "$$\n",
        "\n",
        "Проще всего будет написать `custom minimizer` (смотри [документацию scipy](https://docs.scipy.org/doc/scipy/reference/generated/scipy.optimize.minimize.html))."
      ]
    },
    {
      "cell_type": "code",
      "execution_count": 76,
      "metadata": {
        "id": "XOJl8EoG0Z0D"
      },
      "outputs": [],
      "source": [
        "from scipy.optimize import OptimizeResult\n",
        "\n",
        "\n",
        "def SGD(fun, x0, args, **kwargs) -> OptimizeResult:\n",
        "    callback = kwargs['callback']   # feed weights from each iteration to update network and log metrics\n",
        "    mu = kwargs['momentum']\n",
        "    n_iter = kwargs['n_iter']\n",
        "    gamma = kwargs['lr']\n",
        "    jac = kwargs['jac']\n",
        "    batch_size = kwargs['batch_size']\n",
        "\n",
        "    net, X, y = args\n",
        "    weights = x0.copy()\n",
        "    n_samples = len(X)\n",
        "    for epoch in range(n_iter):\n",
        "        indices = np.arange(n_samples)\n",
        "        np.random.shuffle(indices)\n",
        "        for i in range(0, n_samples, batch_size):\n",
        "            batch_idx = indices[i:i + batch_size]\n",
        "            X_batch = X[batch_idx]\n",
        "            y_batch = y[batch_idx]\n",
        "            grad = jac(weights, (net, X_batch, y_batch))\n",
        "            if mu != 0:\n",
        "                b = mu * b + grad if epoch > 0 else grad\n",
        "                grad = b\n",
        "            weights = weights - gamma * grad\n",
        "        callback(weights)\n",
        "\n",
        "    result = OptimizeResult()\n",
        "    result.x = weights\n",
        "    result.nit = n_iter\n",
        "    result.success = True\n",
        "    return result"
      ]
    },
    {
      "cell_type": "markdown",
      "metadata": {
        "id": "sGk0Lez60Z0D"
      },
      "source": [
        "**Задание 1. (0.5 балла)** Продемонстрируйте правильную работу метода оптимизации, получив `test_accuracy>=0.9`."
      ]
    },
    {
      "cell_type": "code",
      "execution_count": 77,
      "metadata": {
        "id": "miQIPUTH0Z0D",
        "colab": {
          "base_uri": "https://localhost:8080/"
        },
        "outputId": "d83ae81e-7e21-4fe3-fb34-90be4b1bbf49"
      },
      "outputs": [
        {
          "output_type": "stream",
          "name": "stdout",
          "text": [
            "accuracy = 0.96\n"
          ]
        }
      ],
      "source": [
        "network = make_network(input_size, hidden_layers_size, output_size, n_layers=3, activation_class=Tanh)\n",
        "initialize_network(network, 'Xavier')\n",
        "cb = Callback(network, X_train, y_train, X_test, y_test, print=False)\n",
        "weights = get_weights(network)\n",
        "\n",
        "sgd_options = {'momentum': 0.9, 'n_iter': 1000, 'lr': 0.001, 'batch_size': 40}\n",
        "\n",
        "res = minimize(\n",
        "    compute_loss_grad, weights,\n",
        "    args=(network, X_train, y_train),\n",
        "    method=SGD,\n",
        "    options=sgd_options,\n",
        "    jac=True,\n",
        "    callback=cb.call\n",
        ")\n",
        "print('accuracy =', np.mean(predict(network, X_test) == y_test))"
      ]
    },
    {
      "cell_type": "markdown",
      "metadata": {
        "id": "-2fkYX3_0Z0D"
      },
      "source": [
        "**Задание 2. (0.8 балла)** Сравните три алгоритма:\n",
        "1. LBFGS-B\n",
        "2. SGD\n",
        "3. SGD + momentum\n",
        "\n",
        "Для этого одновременно переберите следующие гиперпараметры:\n",
        "- значения `lr` на отрезке `[1e-3, 1e-1]` по логарифмической сетке\n",
        "- два значения `momentum`: `0` и `0.9`\n",
        "- значения `batch_size`: `8` и `32`\n",
        "\n",
        "В каждом запуске сохраняйте три метрики: итоговое accuracy на тесте и на трейне и время обучения.\n",
        "\n",
        "Для каждого из трёх алгоритмов выберите лучшие `lr` и `batch_size` по `test_accuracy`. Постройте для них кривые обучения (пример ниже). Сделайте выводы.\n",
        "\n",
        "![](comparison.svg)"
      ]
    },
    {
      "cell_type": "code",
      "execution_count": 78,
      "metadata": {
        "id": "ESAEqaTu0Z0E",
        "colab": {
          "base_uri": "https://localhost:8080/"
        },
        "outputId": "8b73b88e-442a-4a25-ddea-1d9df83806a3"
      },
      "outputs": [
        {
          "output_type": "stream",
          "name": "stdout",
          "text": [
            "Train accuracy:  1.0\n",
            "Test accuracy:  0.9422222222222222\n"
          ]
        }
      ],
      "source": [
        "network = make_network(input_size, hidden_layers_size, output_size, n_layers=3, activation_class=Tanh)\n",
        "initialize_network(network, 'Xavier')\n",
        "cb = Callback(network, X_train, y_train, X_test, y_test, print=False)\n",
        "weights = get_weights(network)\n",
        "\n",
        "res = minimize(\n",
        "    compute_loss_grad, weights,\n",
        "    args=[network, X_train, y_train],\n",
        "    method=\"L-BFGS-B\",\n",
        "    jac=True,\n",
        "    callback=cb.call\n",
        ")\n",
        "print('Train accuracy: ', cb.train_acc[-1])\n",
        "print('Test accuracy: ', cb.test_acc[-1])"
      ]
    },
    {
      "cell_type": "code",
      "source": [
        "accuracy_train_SGD = []\n",
        "accuracy_test_SGD = []"
      ],
      "metadata": {
        "id": "VK09GviJWB8R"
      },
      "execution_count": 79,
      "outputs": []
    },
    {
      "cell_type": "code",
      "source": [
        "lr_arr = np.logspace(-3, -1, num=8)\n",
        "for lr_i in lr_arr:\n",
        "    for batch_size in [8, 32]:\n",
        "        network = make_network(input_size, hidden_layers_size, output_size, n_layers=3, activation_class=Tanh)\n",
        "        initialize_network(network, 'Xavier')\n",
        "        cb = Callback(network, X_train, y_train, X_test, y_test, print=False)\n",
        "        weights = get_weights(network)\n",
        "\n",
        "        sgd_options = {'momentum': 0, 'n_iter': 300, 'lr': lr_i, 'batch_size': batch_size}\n",
        "\n",
        "        res = minimize(\n",
        "            compute_loss_grad, weights,\n",
        "            args=(network, X_train, y_train),\n",
        "            method=SGD,\n",
        "            options=sgd_options,\n",
        "            jac=True,\n",
        "            callback=cb.call\n",
        "        )\n",
        "        accuracy_train_SGD.append(cb.train_acc[-1])\n",
        "        accuracy_test_SGD.append(cb.test_acc[-1])"
      ],
      "metadata": {
        "id": "Ml2AtkTdWvDX"
      },
      "execution_count": 80,
      "outputs": []
    },
    {
      "cell_type": "code",
      "source": [
        "print(np.argmax(accuracy_test_SGD))\n",
        "print('best accuracy: ', max(accuracy_test_SGD))"
      ],
      "metadata": {
        "colab": {
          "base_uri": "https://localhost:8080/"
        },
        "id": "uHmzbrs5XuXy",
        "outputId": "6566d57b-10fc-470f-a942-ef1dc9b940c1"
      },
      "execution_count": 81,
      "outputs": [
        {
          "output_type": "stream",
          "name": "stdout",
          "text": [
            "11\n",
            "best accuracy:  0.9711111111111111\n"
          ]
        }
      ]
    },
    {
      "cell_type": "code",
      "source": [
        "accuracy_train_SGD_momentum = []\n",
        "accuracy_test_SGD_momentum = []"
      ],
      "metadata": {
        "id": "8pm00kVvX--v"
      },
      "execution_count": 82,
      "outputs": []
    },
    {
      "cell_type": "code",
      "source": [
        "for lr_i in lr_arr:\n",
        "    for batch_size in [8, 32]:\n",
        "        network = make_network(input_size, hidden_layers_size, output_size, n_layers=3, activation_class=Tanh)\n",
        "        initialize_network(network, 'Xavier')\n",
        "        cb = Callback(network, X_train, y_train, X_test, y_test, print=False)\n",
        "        weights = get_weights(network)\n",
        "\n",
        "        sgd_options = {'momentum': 0.9, 'n_iter': 300, 'lr': lr_i, 'batch_size': batch_size}\n",
        "\n",
        "        res = minimize(\n",
        "            compute_loss_grad, weights,\n",
        "            args=(network, X_train, y_train),\n",
        "            method=SGD,\n",
        "            options=sgd_options,\n",
        "            jac=True,\n",
        "            callback=cb.call\n",
        "        )\n",
        "        accuracy_train_SGD_momentum.append(cb.train_acc[-1])\n",
        "        accuracy_test_SGD_momentum.append(cb.test_acc[-1])"
      ],
      "metadata": {
        "id": "9H18Y1LeYEbH"
      },
      "execution_count": 83,
      "outputs": []
    },
    {
      "cell_type": "code",
      "source": [
        "print(np.argmax(accuracy_test_SGD_momentum))\n",
        "print('best accuracy: ', max(accuracy_test_SGD_momentum))"
      ],
      "metadata": {
        "colab": {
          "base_uri": "https://localhost:8080/"
        },
        "id": "Yjq-6t5wYO46",
        "outputId": "9cf21673-302c-4928-bbce-1c4c6d06ec37"
      },
      "execution_count": 84,
      "outputs": [
        {
          "output_type": "stream",
          "name": "stdout",
          "text": [
            "7\n",
            "best accuracy:  0.9688888888888889\n"
          ]
        }
      ]
    },
    {
      "cell_type": "code",
      "source": [
        "import time\n",
        "best_accuracy_train_LBFGS = []\n",
        "best_accuracy_test_LBFGS = []\n",
        "\n",
        "network = make_network(input_size, hidden_layers_size, output_size, n_layers=3, activation_class=Tanh)\n",
        "initialize_network(network, 'Xavier')\n",
        "cb = Callback(network, X_train, y_train, X_test, y_test, print=False)\n",
        "weights = get_weights(network)\n",
        "start_time = time.time()\n",
        "res = minimize(\n",
        "    compute_loss_grad, weights,\n",
        "    args=[network, X_train, y_train],\n",
        "    method=\"L-BFGS-B\",\n",
        "    jac=True,\n",
        "    callback=cb.call\n",
        ")\n",
        "print('L-BFGS-B train time:', time.time() - start_time)\n",
        "best_accuracy_train_LBFGS = cb.train_acc\n",
        "best_accuracy_test_LBFGS = cb.test_acc"
      ],
      "metadata": {
        "colab": {
          "base_uri": "https://localhost:8080/"
        },
        "id": "BiGAMI9YYi-d",
        "outputId": "45face44-0418-4e1e-e1ce-90cb69e0e83e"
      },
      "execution_count": 85,
      "outputs": [
        {
          "output_type": "stream",
          "name": "stdout",
          "text": [
            "L-BFGS-B train time: 2.6008858680725098\n"
          ]
        }
      ]
    },
    {
      "cell_type": "code",
      "source": [
        "print(lr_arr)"
      ],
      "metadata": {
        "colab": {
          "base_uri": "https://localhost:8080/"
        },
        "id": "iUWuRNazaU_3",
        "outputId": "5dc647f7-7120-45cd-c41e-ea1721fc63d1"
      },
      "execution_count": 86,
      "outputs": [
        {
          "output_type": "stream",
          "name": "stdout",
          "text": [
            "[0.001      0.0019307  0.00372759 0.00719686 0.01389495 0.02682696\n",
            " 0.05179475 0.1       ]\n"
          ]
        }
      ]
    },
    {
      "cell_type": "code",
      "source": [
        "best_accuracy_train_SGD = []\n",
        "best_accuracy_test_SGD = []\n",
        "\n",
        "network = make_network(input_size, hidden_layers_size, output_size, n_layers=3, activation_class=Tanh)\n",
        "initialize_network(network, 'Xavier')\n",
        "cb = Callback(network, X_train, y_train, X_test, y_test, print=False)\n",
        "weights = get_weights(network)\n",
        "sgd_options = {'momentum': 0, 'n_iter': 300, 'lr': 0.01389495 , 'batch_size': 8}\n",
        "start_time = time.time()\n",
        "res = minimize(\n",
        "    compute_loss_grad, weights,\n",
        "    args=(network, X_train, y_train),\n",
        "    method=SGD,\n",
        "    options=sgd_options,\n",
        "    jac=True,\n",
        "    callback=cb.call\n",
        ")\n",
        "print('SGD train time:', time.time() - start_time)\n",
        "best_accuracy_train_SGD = cb.train_acc\n",
        "best_accuracy_test_SGD = cb.test_acc"
      ],
      "metadata": {
        "colab": {
          "base_uri": "https://localhost:8080/"
        },
        "id": "uhuNp7qBZjP_",
        "outputId": "b4a088d8-0ba9-442d-9c03-b036cb1bb201"
      },
      "execution_count": 87,
      "outputs": [
        {
          "output_type": "stream",
          "name": "stdout",
          "text": [
            "SGD train time: 31.489452600479126\n"
          ]
        }
      ]
    },
    {
      "cell_type": "code",
      "source": [
        "best_accuracy_train_SGD_momentum = []\n",
        "best_accuracy_test_SGD_momentum = []\n",
        "\n",
        "network = make_network(input_size, hidden_layers_size, output_size, n_layers=3, activation_class=Tanh)\n",
        "initialize_network(network, 'Xavier')\n",
        "cb = Callback(network, X_train, y_train, X_test, y_test, print=False)\n",
        "weights = get_weights(network)\n",
        "sgd_options = {'momentum': 0, 'n_iter': 300, 'lr': 0.001, 'batch_size': 8}\n",
        "start_time = time.time()\n",
        "res = minimize(\n",
        "    compute_loss_grad, weights,\n",
        "    args=(network, X_train, y_train),\n",
        "    method=SGD,\n",
        "    options=sgd_options,\n",
        "    jac=True,\n",
        "    callback=cb.call\n",
        ")\n",
        "print('SGD + momentum train time:', time.time() - start_time)\n",
        "best_accuracy_train_SGD_momentum = cb.train_acc\n",
        "best_accuracy_test_SGD_momentum = cb.test_acc"
      ],
      "metadata": {
        "colab": {
          "base_uri": "https://localhost:8080/"
        },
        "id": "6KH0VUmVc97z",
        "outputId": "3859863e-b6e1-4711-beed-1898d97ed63a"
      },
      "execution_count": 88,
      "outputs": [
        {
          "output_type": "stream",
          "name": "stdout",
          "text": [
            "SGD + momentum train time: 31.149417877197266\n"
          ]
        }
      ]
    },
    {
      "cell_type": "code",
      "source": [
        "acc_train = [best_accuracy_train_LBFGS, best_accuracy_train_SGD, best_accuracy_train_SGD_momentum]\n",
        "acc_test = [best_accuracy_test_LBFGS, best_accuracy_test_SGD, best_accuracy_test_SGD_momentum]\n",
        "vars = ['LBFGS', 'SGD', 'SGD + momentum']"
      ],
      "metadata": {
        "id": "qamqUAa9d6Qc"
      },
      "execution_count": 89,
      "outputs": []
    },
    {
      "cell_type": "code",
      "source": [
        "fig, ax = plt.subplots(2, 1, sharex=True, sharey=True,  figsize=(10, 8))\n",
        "\n",
        "for idx, label in enumerate(vars):\n",
        "    ax[0].plot(range(len(acc_train[idx])), acc_train[idx], label=label)\n",
        "    ax[1].plot(range(len(acc_train[idx])), acc_test[idx], label=label)\n",
        "\n",
        "for idx, key in enumerate([\"Train\", \"Test\"]):\n",
        "    ax[idx].set_title(f\"{key} quality for different initializations\")\n",
        "    ax[idx].set_xlabel(\"Epoch number\")\n",
        "    ax[idx].set_ylabel(f\"{key} accuracy\")\n",
        "    ax[idx].grid(True)\n",
        "    ax[idx].legend()\n",
        "\n",
        "\n",
        "\n",
        "fig.tight_layout()\n",
        "plt.show()"
      ],
      "metadata": {
        "colab": {
          "base_uri": "https://localhost:8080/",
          "height": 807
        },
        "id": "11sHo9RZdqcu",
        "outputId": "bea09ec5-2512-4503-f3c5-066409725bff"
      },
      "execution_count": 90,
      "outputs": [
        {
          "output_type": "display_data",
          "data": {
            "text/plain": [
              "<Figure size 1000x800 with 2 Axes>"
            ],
            "image/png": "[encoded data removed]"
          },
          "metadata": {}
        }
      ]
    },
    {
      "cell_type": "markdown",
      "metadata": {
        "id": "HIgYadzS0Z0E"
      },
      "source": [
        "**Выводы:** L-BFG-S сходится намного быстрее других методов при примерно одинаковом качестве на контроле, поэтому является более оптимальным"
      ]
    },
    {
      "cell_type": "markdown",
      "metadata": {
        "id": "WKT07m090Z0E"
      },
      "source": [
        "**Задание 3. (0.1 балла)** Для отобранных в прошлом задании трёх алгоритмов ответье на вопрос: как меняются запуски для двух значений `batch_size`."
      ]
    },
    {
      "cell_type": "markdown",
      "metadata": {
        "id": "5Ftzm1UR0Z0E"
      },
      "source": [
        "**Ответ:**"
      ]
    },
    {
      "cell_type": "markdown",
      "metadata": {
        "heading_collapsed": true,
        "id": "kbgarQn70Z0E"
      },
      "source": [
        "## `Бонусная часть`"
      ]
    },
    {
      "cell_type": "markdown",
      "metadata": {
        "hidden": true,
        "id": "8acOiF_o0Z0F"
      },
      "source": [
        "### `Реализация метода оптимизации (1 балл)`\n",
        "\n",
        "Реализуйте метод оптимизации Adam и сравните его работу с SGD + momentum, проведя эксперимент, как в задании 2 (перебор гиперпараметров + кривые обучения)."
      ]
    },
    {
      "cell_type": "markdown",
      "metadata": {
        "hidden": true,
        "id": "EA5phdfc0Z0F"
      },
      "source": [
        "### `Dropout (1 балл)`\n",
        "\n",
        "Реализуйте слой Dropout. Сравните обучение сети из большого числа слоёв при использовании Dropout и без его использования (предварительно подберите адекватный параметр $p$). Сделайте выводы."
      ]
    },
    {
      "cell_type": "markdown",
      "metadata": {
        "hidden": true,
        "id": "bvShK2cG0Z0F"
      },
      "source": [
        "### `BatchNormalization (1 балл)`\n",
        "\n",
        "Реализуйте слой `BatchNormalization`. Сравните обучение сети из большого числа слоёв при использовании `BatchNormalization` и без его использования. Сделайте выводы."
      ]
    }
  ],
  "metadata": {
    "kernelspec": {
      "display_name": "Python 3 (ipykernel)",
      "language": "python",
      "name": "python3"
    },
    "language_info": {
      "codemirror_mode": {
        "name": "ipython",
        "version": 3
      },
      "file_extension": ".py",
      "mimetype": "text/x-python",
      "name": "python",
      "nbconvert_exporter": "python",
      "pygments_lexer": "ipython3",
      "version": "3.9.16"
    },
    "colab": {
      "provenance": [],
      "collapsed_sections": [
        "kbgarQn70Z0E"
      ]
    }
  },
  "nbformat": 4,
  "nbformat_minor": 0
}